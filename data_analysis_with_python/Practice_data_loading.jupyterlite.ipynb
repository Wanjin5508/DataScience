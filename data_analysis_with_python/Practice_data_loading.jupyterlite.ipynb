{
  "metadata": {
    "kernelspec": {
      "name": "python",
      "display_name": "Python (Pyodide)",
      "language": "python"
    },
    "language_info": {
      "codemirror_mode": {
        "name": "python",
        "version": 3
      },
      "file_extension": ".py",
      "mimetype": "text/x-python",
      "name": "python",
      "nbconvert_exporter": "python",
      "pygments_lexer": "ipython3",
      "version": "3.8"
    }
  },
  "nbformat_minor": 4,
  "nbformat": 4,
  "cells": [
    {
      "cell_type": "markdown",
      "source": "<p style=\"text-align:center\">\n    <a href=\"https://skills.network\" target=\"_blank\">\n    <img src=\"https://cf-courses-data.s3.us.cloud-object-storage.appdomain.cloud/assets/logos/SN_web_lightmode.png\" width=\"300\" alt=\"Skills Network Logo\">\n    </a>\n</p>\n",
      "metadata": {}
    },
    {
      "cell_type": "markdown",
      "source": "# **Hands-on Practice Lab: Importing Dataset - Laptops Pricing**\n\nEstimated time needed: **20** minutes\n\nIn this lab, you will practice the process of loading and drawing basic insights on a dataset as learnt through the module. You are being provided with a fresh dataset on 'Laptop Pricing' which will be used for all the practice labs throughout the course.\n",
      "metadata": {}
    },
    {
      "cell_type": "markdown",
      "source": "# Objectives\n\nAfter completing this lab you will be able to:\n\n - Import a dataset from a CSV file to a Pandas dataframe\n - Develop some basic insights about the dataset\n",
      "metadata": {}
    },
    {
      "cell_type": "markdown",
      "source": "# Setup\n",
      "metadata": {}
    },
    {
      "cell_type": "markdown",
      "source": "For this lab, we will be using the following libraries:\n\n* `skillsnetwork` for downloading the daataset\n\n*   [`pandas`](https://pandas.pydata.org/?utm_medium=Exinfluencer&utm_source=Exinfluencer&utm_content=000026UJ&utm_term=10006555&utm_id=NA-SkillsNetwork-Channel-SkillsNetworkCoursesIBMML0187ENSkillsNetwork31430127-2021-01-01) for managing the data.\n*   [`numpy`](https://numpy.org/?utm_medium=Exinfluencer&utm_source=Exinfluencer&utm_content=000026UJ&utm_term=10006555&utm_id=NA-SkillsNetwork-Channel-SkillsNetworkCoursesIBMML0187ENSkillsNetwork31430127-2021-01-01) for mathematical operations.\n",
      "metadata": {}
    },
    {
      "cell_type": "markdown",
      "source": "### Importing Required Libraries\n",
      "metadata": {}
    },
    {
      "cell_type": "code",
      "source": "import pandas as pd\nimport numpy as np",
      "metadata": {
        "trusted": true
      },
      "outputs": [],
      "execution_count": 1
    },
    {
      "cell_type": "markdown",
      "source": "The data set to be used is available on the link below.\n",
      "metadata": {}
    },
    {
      "cell_type": "markdown",
      "source": "The functions below will download the dataset into your browser:\n",
      "metadata": {}
    },
    {
      "cell_type": "code",
      "source": "from pyodide.http import pyfetch\n\nasync def download(url, filename):\n    response = await pyfetch(url)\n    if response.status == 200:\n        with open(filename, \"wb\") as f:\n            f.write(await response.bytes())",
      "metadata": {
        "trusted": true
      },
      "outputs": [],
      "execution_count": 2
    },
    {
      "cell_type": "code",
      "source": "file_path = \"https://cf-courses-data.s3.us.cloud-object-storage.appdomain.cloud/IBMDeveloperSkillsNetwork-DA0101EN-Coursera/laptop_pricing_dataset_base.csv\"",
      "metadata": {
        "trusted": true
      },
      "outputs": [],
      "execution_count": 3
    },
    {
      "cell_type": "markdown",
      "source": "To obtain the dataset, utilize the download() function as defined above:\n",
      "metadata": {}
    },
    {
      "cell_type": "code",
      "source": "await download(file_path, \"laptops.csv\")\nfile_name=\"laptops.csv\"",
      "metadata": {
        "trusted": true
      },
      "outputs": [],
      "execution_count": 4
    },
    {
      "cell_type": "code",
      "source": "df = pd.read_csv(file_name)",
      "metadata": {
        "trusted": true
      },
      "outputs": [],
      "execution_count": 5
    },
    {
      "cell_type": "markdown",
      "source": "> Note: This version of the lab is working on JupyterLite, which requires the dataset to be downloaded to the interface. While working on the downloaded version of this notebook on their local machines, the learners can simply **skip the steps above**, and simply use the URL directly in the `pandas.read_csv()` function. You can uncomment and run the statements in the cell below.\n",
      "metadata": {}
    },
    {
      "cell_type": "code",
      "source": "#filepath = \"https://cf-courses-data.s3.us.cloud-object-storage.appdomain.cloud/IBMDeveloperSkillsNetwork-DA0101EN-Coursera/laptop_pricing_dataset_base.csv\"\n#df = pd.read_csv(filepath, header=None)",
      "metadata": {
        "trusted": true
      },
      "outputs": [],
      "execution_count": 6
    },
    {
      "cell_type": "markdown",
      "source": "<h1> Task #1: </h1>\n<h3>Load the dataset to a pandas dataframe named 'df'</h3>\nPrint the first 5 entries of the dataset to confirm loading.\n",
      "metadata": {}
    },
    {
      "cell_type": "code",
      "source": "# Write your code below and press Shift+Enter to execute.\nprint(df.head())",
      "metadata": {
        "trusted": true
      },
      "outputs": [
        {
          "name": "stdout",
          "text": "   Acer  4  IPS Panel  2  1  5   35.56  1.6  8  256 1.6.1   978\n0  Dell  3    Full HD  1  1  3  39.624  2.0  4  256   2.2   634\n1  Dell  3    Full HD  1  1  7  39.624  2.7  8  256   2.2   946\n2  Dell  4  IPS Panel  2  1  5  33.782  1.6  8  128  1.22  1244\n3    HP  4    Full HD  2  1  7  39.624  1.8  8  256  1.91   837\n4  Dell  3    Full HD  1  1  5  39.624  1.6  8  256   2.2  1016\n",
          "output_type": "stream"
        }
      ],
      "execution_count": 7
    },
    {
      "cell_type": "markdown",
      "source": "<details><summary>Click here for solution</summary>\n\n```python\ndf = pd.read_csv(path, header=None)\nprint(df.head())\n```\n</details>\n",
      "metadata": {}
    },
    {
      "cell_type": "markdown",
      "source": "<h1> Task #2: </h1>\n<h3>Add headers to the dataframe</h3>\nThe headers for the dataset, in sequence, are \"Manufacturer\", \"Category\", \"Screen\", \"GPU\", \"OS\", \"CPU_core\",\n\"Screen_Size_inch\", \"CPU_frequency\", \"RAM_GB\", \"Storage_GB_SSD\", \"Weight_kg\" and \"Price\".\n\nConfirm insertion by printing the first 10 rows of the dataset.\n",
      "metadata": {}
    },
    {
      "cell_type": "code",
      "source": "# Write your code below and press Shift+Enter to execute.\nheaders = [\"Manufacturer\", \"Category\", \"Screen\", \"GPU\", \"OS\", \"CPU_core\", \"Screen_Size_inch\", \"CPU_frequency\", \"RAM_GB\", \"Storage_GB_SSD\", \"Weight_kg\", \"Price\"]\ndf.columns = headers\nprint(df.head(10))",
      "metadata": {
        "trusted": true
      },
      "outputs": [
        {
          "name": "stdout",
          "text": "  Manufacturer  Category     Screen  GPU  OS  CPU_core Screen_Size_inch  \\\n0         Dell         3    Full HD    1   1         3           39.624   \n1         Dell         3    Full HD    1   1         7           39.624   \n2         Dell         4  IPS Panel    2   1         5           33.782   \n3           HP         4    Full HD    2   1         7           39.624   \n4         Dell         3    Full HD    1   1         5           39.624   \n5           HP         3    Full HD    3   1         5           39.624   \n6         Acer         3  IPS Panel    2   1         5             38.1   \n7         Dell         3    Full HD    1   1         5           39.624   \n8         Acer         3  IPS Panel    3   1         7             38.1   \n9         Dell         3    Full HD    1   1         7           39.624   \n\n   CPU_frequency  RAM_GB  Storage_GB_SSD Weight_kg  Price  \n0            2.0       4             256       2.2    634  \n1            2.7       8             256       2.2    946  \n2            1.6       8             128      1.22   1244  \n3            1.8       8             256      1.91    837  \n4            1.6       8             256       2.2   1016  \n5            1.6       8             256       2.1   1117  \n6            1.6       4             256       2.2    866  \n7            2.5       4             256       2.3    812  \n8            1.8       8             256       2.2   1068  \n9            1.8       8             256      2.13    975  \n",
          "output_type": "stream"
        }
      ],
      "execution_count": 8
    },
    {
      "cell_type": "markdown",
      "source": "<details><summary>Click here for solution</summary>\n\n```python\n# create headers list\nheaders = [\"Manufacturer\", \"Category\", \"Screen\", \"GPU\", \"OS\", \"CPU_core\", \"Screen_Size_inch\", \"CPU_frequency\", \"RAM_GB\", \"Storage_GB_SSD\", \"Weight_kg\", \"Price\"]\ndf.columns = headers\nprint(df.head(10))\n```\n</details>\n",
      "metadata": {}
    },
    {
      "cell_type": "markdown",
      "source": "<h1> Task #3: </h1>\n<h3>Replace '?' with 'NaN'</h3>\nReplace the '?' entries in the dataset with NaN value, recevied from the Numpy package.\n",
      "metadata": {}
    },
    {
      "cell_type": "code",
      "source": "# Write your code below and press Shift+Enter to execute.\ndf.replace('?', np.nan, inplace=True)",
      "metadata": {
        "trusted": true
      },
      "outputs": [],
      "execution_count": 9
    },
    {
      "cell_type": "markdown",
      "source": "<details><summary>Click here for solution</summary>\n\n```python\ndf.replace('?',np.nan, inplace = True)\n```\n</details>\n",
      "metadata": {}
    },
    {
      "cell_type": "markdown",
      "source": "<h1> Task #4: </h1>\n<h3>Print the data types of the dataframe columns</h3>\nMake a note of the data types of the different columns of the dataset.\n",
      "metadata": {}
    },
    {
      "cell_type": "code",
      "source": "# Write your code below and press Shift+Enter to execute.\nprint(df.dtypes)",
      "metadata": {
        "trusted": true
      },
      "outputs": [
        {
          "name": "stdout",
          "text": "Manufacturer         object\nCategory              int64\nScreen               object\nGPU                   int64\nOS                    int64\nCPU_core              int64\nScreen_Size_inch     object\nCPU_frequency       float64\nRAM_GB                int64\nStorage_GB_SSD        int64\nWeight_kg            object\nPrice                 int64\ndtype: object\n",
          "output_type": "stream"
        }
      ],
      "execution_count": 10
    },
    {
      "cell_type": "markdown",
      "source": "<details><summary>Click here for solution</summary>\n\n```python\nprint(df.dtypes)\n```\n</details>\n",
      "metadata": {}
    },
    {
      "cell_type": "markdown",
      "source": "<h1> Task #5: </h1>\n<h3>Print the statistical description of the dataset, including that of 'object' data types.</h3>\n",
      "metadata": {}
    },
    {
      "cell_type": "code",
      "source": "# Write your code below and press Shift+Enter to execute.\nprint(df.describe(include='all'))",
      "metadata": {
        "trusted": true
      },
      "outputs": [
        {
          "name": "stdout",
          "text": "       Manufacturer    Category   Screen         GPU          OS    CPU_core  \\\ncount           237  237.000000      237  237.000000  237.000000  237.000000   \nunique           11         NaN        2         NaN         NaN         NaN   \ntop            Dell         NaN  Full HD         NaN         NaN         NaN   \nfreq             71         NaN      161         NaN         NaN         NaN   \nmean            NaN    3.202532      NaN    2.151899    1.059072    5.632911   \nstd             NaN    0.776450      NaN    0.639556    0.236258    1.243736   \nmin             NaN    1.000000      NaN    1.000000    1.000000    3.000000   \n25%             NaN    3.000000      NaN    2.000000    1.000000    5.000000   \n50%             NaN    3.000000      NaN    2.000000    1.000000    5.000000   \n75%             NaN    4.000000      NaN    3.000000    1.000000    7.000000   \nmax             NaN    5.000000      NaN    3.000000    2.000000    7.000000   \n\n       Screen_Size_inch  CPU_frequency      RAM_GB  Storage_GB_SSD Weight_kg  \\\ncount               233     237.000000  237.000000      237.000000       232   \nunique                9            NaN         NaN             NaN        77   \ntop              39.624            NaN         NaN             NaN       2.2   \nfreq                 89            NaN         NaN             NaN        21   \nmean                NaN       2.363291    7.881857      245.738397       NaN   \nstd                 NaN       0.409271    2.487845       34.832516       NaN   \nmin                 NaN       1.200000    4.000000      128.000000       NaN   \n25%                 NaN       2.000000    8.000000      256.000000       NaN   \n50%                 NaN       2.500000    8.000000      256.000000       NaN   \n75%                 NaN       2.700000    8.000000      256.000000       NaN   \nmax                 NaN       2.900000   16.000000      256.000000       NaN   \n\n              Price  \ncount    237.000000  \nunique          NaN  \ntop             NaN  \nfreq            NaN  \nmean    1464.388186  \nstd      574.956374  \nmin      527.000000  \n25%     1068.000000  \n50%     1333.000000  \n75%     1777.000000  \nmax     3810.000000  \n",
          "output_type": "stream"
        }
      ],
      "execution_count": 11
    },
    {
      "cell_type": "markdown",
      "source": "<details><summary>Click here for solution</summary>\n\n```python\nprint(df.describe(include='all'))\n```\n</details>\n",
      "metadata": {}
    },
    {
      "cell_type": "markdown",
      "source": "<h1> Task #6: </h1>\n<h3>Print the summary information of the dataset.</h3>\n",
      "metadata": {}
    },
    {
      "cell_type": "code",
      "source": "# Write your code below and press Shift+Enter to execute.\nprint(df.info())",
      "metadata": {
        "trusted": true
      },
      "outputs": [
        {
          "name": "stdout",
          "text": "<class 'pandas.core.frame.DataFrame'>\nRangeIndex: 237 entries, 0 to 236\nData columns (total 12 columns):\n #   Column            Non-Null Count  Dtype  \n---  ------            --------------  -----  \n 0   Manufacturer      237 non-null    object \n 1   Category          237 non-null    int64  \n 2   Screen            237 non-null    object \n 3   GPU               237 non-null    int64  \n 4   OS                237 non-null    int64  \n 5   CPU_core          237 non-null    int64  \n 6   Screen_Size_inch  233 non-null    object \n 7   CPU_frequency     237 non-null    float64\n 8   RAM_GB            237 non-null    int64  \n 9   Storage_GB_SSD    237 non-null    int64  \n 10  Weight_kg         232 non-null    object \n 11  Price             237 non-null    int64  \ndtypes: float64(1), int64(7), object(4)\nmemory usage: 18.6+ KB\nNone\n",
          "output_type": "stream"
        }
      ],
      "execution_count": 12
    },
    {
      "cell_type": "markdown",
      "source": "<details><summary>Click here for solution</summary>\n\n```python\nprint(df.info())\n```\n</details>\n",
      "metadata": {}
    },
    {
      "cell_type": "markdown",
      "source": "---\n",
      "metadata": {}
    },
    {
      "cell_type": "markdown",
      "source": "# Congratulations! You have completed the lab\n",
      "metadata": {}
    },
    {
      "cell_type": "markdown",
      "source": "## Authors\n",
      "metadata": {}
    },
    {
      "cell_type": "markdown",
      "source": "[Abhishek Gagneja](https://www.coursera.org/instructor/~129186572)\n\n[Vicky Kuo](https://author.skills.network/instructors/vicky_kuo)\n",
      "metadata": {}
    },
    {
      "cell_type": "markdown",
      "source": "## Change Log\n",
      "metadata": {}
    },
    {
      "cell_type": "markdown",
      "source": "|Date (YYYY-MM-DD)|Version|Changed By|Change Description|\n|-|-|-|-|\n|2023-09-15|0.1|Abhishek Gagneja|Initial Version Created|\n|2023-09-18|0.2|Vicky Kuo|Reviewed and Revised|\n",
      "metadata": {}
    },
    {
      "cell_type": "markdown",
      "source": "Copyright © 2023 IBM Corporation. All rights reserved.\n",
      "metadata": {}
    }
  ]
}