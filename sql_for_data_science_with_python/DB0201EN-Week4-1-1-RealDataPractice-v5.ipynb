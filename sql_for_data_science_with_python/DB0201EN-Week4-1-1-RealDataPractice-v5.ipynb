version https://git-lfs.github.com/spec/v1
oid sha256:5ddc2d450162f9d7c86d26799bd6592e780add9fa91686680cc48faf1e01ca4c
size 21016
