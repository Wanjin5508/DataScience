version https://git-lfs.github.com/spec/v1
oid sha256:358d1ae385b4e088c3614042a72c9964eeabe005f9f377daf5c904d2b0a25a5b
size 546390
