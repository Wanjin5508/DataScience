{
 "cells": [
  {
   "cell_type": "markdown",
   "metadata": {},
   "source": [
    "---\n",
    "# Seminar 1 - Grundlagen\n",
    "---\n",
    "\n",
    "### Hinweis: Speichern eines Notebooks immer über: STRG+S/ CMD+S oder das Disketten-Symbol. Die Option File --> Save funktioniert bei Notebooks nicht!!\n",
    "\n",
    "\n",
    "## 1. Podcast-Sendezeit\n",
    "\n",
    "Sie haben es geschafft und konnten sich einen der begehrten Praktikumsplätze im Team des Podcast-Newcomers \"OR\" ergattern. Ihre erste Aufgabe besteht darin, herauszufinden, wie viele Sendeminuten der Podcast wöchentlich hat.\n",
    "\n",
    "1. Eine Podcastfolge dauert im Durchschnitt 70 Minuten. Dies soll aber variabel anpassbar sein. (Variable)\n",
    "2. Zusätzlich werden pro Folge 3 Werbeblöcke à 3 Minuten eingespielt.\n",
    "3. Wöchentlich werden 2 Podcasts veröffentlicht.\n",
    "4. Die Redaktionschefin bittet Sie, das Ergebnis in Stunden gerundet auf zwei Nachkommastellen auszugeben.\n",
    "5. Des Weiteren soll nicht nur einfach eine Zahl ausgegeben werden, sondern ein Satz: \"Bei einer Podcastlänge von XX Minuten ergeben sich Y.YY Stunden Sendezeit pro Woche.\"\n",
    "\n",
    "### a.)\n",
    "\n",
    "Schreiben Sie bitte ein Skript, welches die Berechnung übernimmt und geben Sie das Ergebnis aus.\n"
   ]
  },
  {
   "cell_type": "code",
   "execution_count": 4,
   "metadata": {},
   "outputs": [
    {
     "name": "stdout",
     "output_type": "stream",
     "text": [
      "Bei einer Podcastlänge von 70 Minuten ergeben sich 2.63 Stunden Sendezeit\n"
     ]
    }
   ],
   "source": [
    "duration = 70\n",
    "\n",
    "airTimeperWeek = round((duration + 3*3)*2/60, 2)\n",
    "\n",
    "print('Bei einer Podcastlänge von ' + str(duration) + ' Minuten ergeben sich ' + str(airTimeperWeek) + ' Stunden Sendezeit')"
   ]
  },
  {
   "cell_type": "code",
   "execution_count": 3,
   "metadata": {},
   "outputs": [
    {
     "name": "stdout",
     "output_type": "stream",
     "text": [
      "播客长度为70每周有2.63小时的广播时间。\n"
     ]
    }
   ],
   "source": [
    "print('播客长度为' + str(duration) + '每周有' + str(airTimeperWeek) + '小时的广播时间。')"
   ]
  },
  {
   "cell_type": "code",
   "execution_count": 2,
   "metadata": {},
   "outputs": [
    {
     "name": "stdout",
     "output_type": "stream",
     "text": [
      "播客长度为70分钟，每周有2.63小时的广播时间。\n"
     ]
    }
   ],
   "source": [
    "duration = 70\n",
    "airTimeperWeek = round((duration + 3*3) * 2 / 60, 2)\n",
    "\n",
    "print(f'播客长度为{duration}分钟，每周有{airTimeperWeek}小时的广播时间。')"
   ]
  },
  {
   "cell_type": "markdown",
   "metadata": {},
   "source": [
    "### b.)\n",
    "\n",
    "Informieren Sie sich bitte im Internet, welche weiteren Möglichkeiten es gibt, Zeichenketten für eine Ausgabe zu formatieren.\n",
    "\n",
    "**Tipp:**\n",
    "<details>\n",
    "\n",
    "Schreiben Sie den Ausgabebefehl von Aufgabe a) als \"\".format() und f\"\"-Ausgabe.\n",
    "</details>"
   ]
  },
  {
   "cell_type": "code",
   "execution_count": 6,
   "metadata": {},
   "outputs": [
    {
     "name": "stdout",
     "output_type": "stream",
     "text": [
      "Bei einer Podcastlänge von 70 Minuten ergeben sich 2.63 Stunden Sendezeit.\n"
     ]
    }
   ],
   "source": [
    "print(f'Bei einer Podcastlänge von {duration} Minuten ergeben sich {airTimeperWeek} Stunden Sendezeit.')"
   ]
  },
  {
   "cell_type": "markdown",
   "metadata": {},
   "source": [
    "Erwarteter Output:\n",
    "\n",
    "    Bei einer Podcastlänge von 70 Minuten ergeben sich ..."
   ]
  },
  {
   "cell_type": "markdown",
   "metadata": {},
   "source": [
    "## 2. Chaos in der Mailingliste\n",
    "\n",
    "Die Hörer des Podcasts haben die Möglichkeit, sich für einen Newsletter anzumelden. So erfahren sie schnellstmöglich, wann es eine neue Podcast-Folge gibt. Dabei ist aufgefallen, dass manche Mailadressen den Namen erst hinter dem @-Zeichen haben. \n",
    "\n",
    "### a.)\n",
    "\n",
    "Entwickeln Sie bitte einen Python-Ausdruck, der die Namen hinter dem @-Zeichen als Elemente einer Liste ausgibt. "
   ]
  },
  {
   "cell_type": "code",
   "execution_count": 7,
   "metadata": {},
   "outputs": [
    {
     "data": {
      "text/plain": [
       "['klara', 'Klarna']"
      ]
     },
     "execution_count": 7,
     "metadata": {},
     "output_type": "execute_result"
    }
   ],
   "source": [
    "mail = \"service@klara_Klarna.com\"\n",
    "\n",
    "name = mail.split('@')[1].split('.')[0]\n",
    "\n",
    "namen = name.split('_')\n",
    "\n",
    "namen\n"
   ]
  },
  {
   "cell_type": "markdown",
   "metadata": {},
   "source": [
    "Erwarteter Output:\n",
    "\n",
    "    ['klara', 'Klarna']"
   ]
  },
  {
   "cell_type": "markdown",
   "metadata": {},
   "source": [
    "### b.)\n",
    "\n",
    "Nachdem Sie nun die Namen der AbonnetInnen zu den jeweiligen E-Mail-Adressen zuordnen können, stellt die Chefredakteurin Ihnen eine neue Aufgabe. Überführen Sie bitte die folgende Tabelle in ein Dictionary bestehend aus den Namen als Keys und den E-Mail-Adressen als Values:\n",
    "\n",
    "| Name      \t|   \t| E-Mail                          \t|\n",
    "|:-----------\t|---\t|:---------------------------------\t|\n",
    "| Klara     \t|    \t| service@klara_Klarna.com        \t|\n",
    "| Sebastian \t|    \t| Sebastian_Duesentrieb@gmail.com \t|\n",
    "| Britta    \t|    \t| bwiebritta@yahoo.com            \t|\n",
    "| Klaus     \t|    \t| Klaus@peter.de                  \t|\n",
    "\n",
    "Legen Sie dazu zunächst zwei Listen an, die Sie dann zusammenführen können.\n",
    "\n",
    "**Tipp:**\n",
    "<details>\n",
    "\n",
    "Nutzen Sie die Funktion `enumerate()` um die Indizes und Elemente einer Liste zu verwenden.\n",
    "</details>"
   ]
  },
  {
   "cell_type": "code",
   "execution_count": 4,
   "metadata": {},
   "outputs": [
    {
     "data": {
      "text/plain": [
       "{'Klara': 'service@klara_Klarna.com',\n",
       " 'Sebastian': 'Sebastian_Duesentrieb@gmail.com',\n",
       " 'Britta': 'bwiebritte@yahoo.com',\n",
       " 'Klaus': 'Klaus@peter.com'}"
      ]
     },
     "execution_count": 4,
     "metadata": {},
     "output_type": "execute_result"
    }
   ],
   "source": [
    "tmpList1 = ['Klara', 'Sebastian', 'Britta', 'Klaus']\n",
    "tmpList2 =  [\"service@klara_Klarna.com\", \"Sebastian_Duesentrieb@gmail.com\", \"bwiebritte@yahoo.com\", \"Klaus@peter.com\"]\n",
    "\n",
    "result = {}\n",
    "for names, mails in zip(tmpList1, tmpList2):\n",
    "    result[names] = mails\n",
    "\n",
    "result\n",
    "\n"
   ]
  },
  {
   "cell_type": "code",
   "execution_count": 5,
   "metadata": {},
   "outputs": [
    {
     "name": "stdout",
     "output_type": "stream",
     "text": [
      "0\n",
      "Klara\n",
      "1\n",
      "Sebastian\n",
      "2\n",
      "Britta\n",
      "3\n",
      "Klaus\n"
     ]
    },
    {
     "data": {
      "text/plain": [
       "{'Klara': 'service@klara_Klarna.com',\n",
       " 'Sebastian': 'Sebastian_Duesentrieb@gmail.com',\n",
       " 'Britta': 'bwiebritte@yahoo.com',\n",
       " 'Klaus': 'Klaus@peter.com'}"
      ]
     },
     "execution_count": 5,
     "metadata": {},
     "output_type": "execute_result"
    }
   ],
   "source": [
    "result = {}\n",
    "for index, value in enumerate(tmpList1):\n",
    "    print(index)\n",
    "    print(value)\n",
    "    result[value] = tmpList2[index]\n",
    "\n",
    "result"
   ]
  },
  {
   "cell_type": "markdown",
   "metadata": {},
   "source": [
    "## 3. Anpassung der Werbeeinnahmen\n",
    "\n",
    "Die Freude im Podcast-Team ist rießig. Zuletzt kamen immer mehr interessierte ZuhörerInnen hinzu und so konnte die Zuhörerzahl in den letzten 3 Monaten um 400% gesteigert werden. Der kaufmännische Leiter des Teams will daher die Einnahmen durch die angebotenen Werbepakete \"optimieren\". \n",
    "\n",
    "Im Moment existieren vier Werbepakete für den Podcast. Bisher wurden immer kundenspezifische Preise bis zu einer Höchstgrenze für jedes Paket verhandelt.\n",
    "\n",
    "1. Paket \"Einleitung\", Kosten bis 350 €\n",
    "2. Paket \"Mitte\", Kosten bis 300 €\n",
    "3. Paket \"Komplett\", Kosten bis 600 €\n",
    "4. Paket \"Zwischendurch\", bis 800 €\n",
    "\n",
    "### a.)\n",
    "\n",
    "Der kaufmännische Leiter hat beschlossen, dass aufgrund der deutlich vergrößerten Reichweite folgende Preisanpassungen wohl gerechtfertigt sind:\n",
    "Die Pakete bis 400 € werden um 10% angehoben, die Pakete zwischen 400 und 600 € um 20% und die Pakete über 600 € um 25%.\n",
    "\n",
    "Bitte setzen Sie die Preisanpassung in einem Pythonskript um, sodass der neue Preis in Abhängigkeit eines variablen Eingabepreises ausgegeben wird."
   ]
  },
  {
   "cell_type": "code",
   "execution_count": 12,
   "metadata": {},
   "outputs": [
    {
     "name": "stdout",
     "output_type": "stream",
     "text": [
      "366.3\n"
     ]
    }
   ],
   "source": [
    "input_price = 333\n",
    "\n",
    "if input_price <= 400:\n",
    "    outputPrice = input_price*1.10\n",
    "elif input_price <= 600:\n",
    "    outputPrice =input_price*1.20\n",
    "else:\n",
    "    outputPrice = input_price*1.25\n",
    "\n",
    "print(outputPrice)"
   ]
  },
  {
   "cell_type": "code",
   "execution_count": 17,
   "metadata": {},
   "outputs": [
    {
     "data": {
      "text/plain": [
       "366"
      ]
     },
     "execution_count": 17,
     "metadata": {},
     "output_type": "execute_result"
    }
   ],
   "source": [
    "def changePrice(inputPrice):\n",
    "    if inputPrice <= 400:\n",
    "        outputPrice = inputPrice * 1.1\n",
    "    elif inputPrice <= 600:\n",
    "        outputPrice = inputPrice * 1.2\n",
    "    else:\n",
    "        outputPrice = inputPrice * 1.25\n",
    "    return int(outputPrice)    \n",
    "\n",
    "# 调用函数\n",
    "changePrice(333) "
   ]
  },
  {
   "cell_type": "markdown",
   "metadata": {},
   "source": [
    "Erwarteter Output:\n",
    "\n",
    "    366.3"
   ]
  },
  {
   "cell_type": "markdown",
   "metadata": {},
   "source": [
    "### b.)\n",
    "\n",
    "Durch den Erfolg des Podcasts sind nun auch die Zeiten der kundenspezifischen Preise und Verhandlungen vorbei. Jedes Paket hat ab jetzt den oben genannten Maximalpreis als Festpreis.\n",
    "\n",
    "Bitte speichern Sie die Paketpreise in eine Liste und generieren Sie mithilfe dieser Liste eine neue Liste, in der die neuen Preis zu finden sind."
   ]
  },
  {
   "cell_type": "code",
   "execution_count": 13,
   "metadata": {},
   "outputs": [
    {
     "name": "stdout",
     "output_type": "stream",
     "text": [
      "[385, 330, 720, 1000]\n"
     ]
    }
   ],
   "source": [
    "oldPrice = [350, 300, 600, 800]\n",
    "newPrice = []\n",
    "for price in oldPrice:\n",
    "    if price <= 400:\n",
    "        newPrice.append(int(price*1.10))\n",
    "    elif price <= 600:\n",
    "        newPrice.append(int(price*1.20))\n",
    "    else:\n",
    "        newPrice.append(int(price*1.25))\n",
    "\n",
    "print(newPrice)"
   ]
  },
  {
   "cell_type": "code",
   "execution_count": 18,
   "metadata": {},
   "outputs": [
    {
     "data": {
      "text/plain": [
       "[385, 330, 720, 1000]"
      ]
     },
     "execution_count": 18,
     "metadata": {},
     "output_type": "execute_result"
    }
   ],
   "source": [
    "oldPrice = [350, 300, 600, 800]\n",
    "newPrice = [changePrice(x) for x in oldPrice]\n",
    "newPrice"
   ]
  },
  {
   "cell_type": "markdown",
   "metadata": {},
   "source": [
    "Erwarteter Output:\n",
    "\n",
    "    [385, 330, 720, 1000]"
   ]
  },
  {
   "cell_type": "markdown",
   "metadata": {},
   "source": [
    "### c.) \n",
    "\n",
    "Nun ist Kassensturz angesagt! Ihr kaufmännischer Leiter will jetzt wissen, was die Preisanpassung in den vergangenen Wochen gebracht hat. \n",
    "\n",
    "Dafür soll eine Funktion geschrieben werden, welcher zwei Listen (Preise und Verkaufszahlen) als Parameter übergeben werden und diese Funktion, dann den **Umsatz** zurückgibt.\n",
    "\n",
    "\n",
    "Hinweis: Sie können annehmen, dass die Indizierung der beiden Listen identisch ist, d.h. der erste Eintrag in der Preisliste gehört zum ersten Eintrag in der Liste der Verkaufszahlen."
   ]
  },
  {
   "cell_type": "code",
   "execution_count": 14,
   "metadata": {},
   "outputs": [
    {
     "name": "stdout",
     "output_type": "stream",
     "text": [
      "1895\n"
     ]
    }
   ],
   "source": [
    "\n",
    "sales = [3, 5, 7, 4]\n",
    "oldPrice = [350, 300, 600, 800]\n",
    "newPrice = [385, 330, 720, 1000]\n",
    "\n",
    "def Umsatz(anzahl, preis):\n",
    "    umsatz = 0\n",
    "    for index in range(4):\n",
    "        umsatz = umsatz + anzahl[index] * preis[index]\n",
    "    return umsatz\n",
    "\n",
    "print(Umsatz(sales, newPrice) - Umsatz(sales, oldPrice))\n",
    "\n",
    "def Umsatz(sales, price):\n",
    "\n",
    "    umsatz = 0\n",
    "\n",
    "    for index, x in enumerate(sales):\n",
    "        umsatz = umsatz + x*price[index]\n",
    "    \n",
    "    return umsatz\n",
    "\n",
    "print(Umsatz(sales, newPrice) - Umsatz(sales, oldPrice))"
   ]
  },
  {
   "cell_type": "code",
   "execution_count": 22,
   "metadata": {},
   "outputs": [
    {
     "name": "stdout",
     "output_type": "stream",
     "text": [
      "涨价后的广告收入为： 11845\n",
      "涨价前的广告收入为： 9950\n",
      "涨价前后的差价为： 1895\n"
     ]
    }
   ],
   "source": [
    "sales = [3, 5, 7, 4]\n",
    "oldPrice = [350, 300, 600, 800]\n",
    "newPrice = [385, 330, 720, 1000]\n",
    "\n",
    "def Turnover(amount, price):\n",
    "    turnover = 0\n",
    "    for index in range(len(amount)):\n",
    "        turnover += price[index] * amount[index]\n",
    "    return turnover \n",
    "\n",
    "print(f'涨价后的广告收入为： {Turnover(sales, newPrice)}')\n",
    "print(f'涨价前的广告收入为： {Turnover(sales, oldPrice)}')\n",
    "print(f'涨价前后的差价为： {Turnover(sales, newPrice) - Turnover(sales, oldPrice)}')"
   ]
  },
  {
   "cell_type": "code",
   "execution_count": 24,
   "metadata": {},
   "outputs": [
    {
     "name": "stdout",
     "output_type": "stream",
     "text": [
      "涨价后的广告收入为： 11845\n",
      "涨价前的广告收入为： 9950\n",
      "涨价前后的差价为： 1895\n"
     ]
    }
   ],
   "source": [
    "sales = [3, 5, 7, 4]\n",
    "oldPrice = [350, 300, 600, 800]\n",
    "newPrice = [385, 330, 720, 1000]\n",
    "\n",
    "def Turnover_2(amount, price):\n",
    "    turnover = 0\n",
    "    for index, x in enumerate(amount):\n",
    "        turnover += price[index] * x\n",
    "    return turnover \n",
    "\n",
    "print(f'涨价后的广告收入为： {Turnover_2(sales, newPrice)}')\n",
    "print(f'涨价前的广告收入为： {Turnover_2(sales, oldPrice)}')\n",
    "print(f'涨价前后的差价为： {Turnover_2(sales, newPrice) - Turnover(sales, oldPrice)}')"
   ]
  },
  {
   "cell_type": "markdown",
   "metadata": {},
   "source": [
    "Erwarteter Output:\n",
    "\n",
    "    1895"
   ]
  },
  {
   "cell_type": "markdown",
   "metadata": {},
   "source": [
    "### d.)\n",
    "\n",
    "Informieren Sie sich bitte über die Möglichkeiten der lambda-Funktion. Setzen Sie bitte anschließend die Funktion **Umsatz** als lambda-Funktion um."
   ]
  },
  {
   "cell_type": "code",
   "execution_count": 18,
   "metadata": {},
   "outputs": [
    {
     "name": "stdout",
     "output_type": "stream",
     "text": [
      "1895\n"
     ]
    }
   ],
   "source": [
    "Umsatz = lambda preis, vkz: sum([preis[i]*vkz[i] for i in range(len(sales))])\n",
    "\n",
    "print(Umsatz(sales, newPrice) - Umsatz(sales, oldPrice))\n"
   ]
  },
  {
   "cell_type": "code",
   "execution_count": 26,
   "metadata": {},
   "outputs": [
    {
     "data": {
      "text/plain": [
       "1895"
      ]
     },
     "execution_count": 26,
     "metadata": {},
     "output_type": "execute_result"
    }
   ],
   "source": [
    "Turnover_lambda = lambda price, amount: sum([price[i] * amount[i] for i in range(len(price))])\n",
    "Turnover_lambda(newPrice, sales) - Turnover_lambda(oldPrice, sales)"
   ]
  },
  {
   "cell_type": "markdown",
   "metadata": {},
   "source": [
    "Wie können lambda-Funktionen noch eingesetzt werden?"
   ]
  },
  {
   "cell_type": "markdown",
   "metadata": {},
   "source": [
    "## 4. Expansionswahnsinn\n",
    "\n",
    "Vom neuerlichen Erfolg des Podcasts getrieben schlägt der kaufmännische Leiter nun vor, mit einem englischsprachigen Ableger des Podcasts in die USA zu expandieren. Die Chefredakteurin ist noch skeptisch und beauftragt Sie mit der Analyse des Marktpotenzials. In der Zielgruppe des Podcasts sind laut Studien die meisten Personen zwischen 25 und 35 Jahren alt.\n",
    "\n",
    "### a.)\n",
    "\n",
    "Finden Sie daher heraus, wie viele US-BürgerInnen derzeit in der relevanten Altergruppe sind (einschließlich der genannten Grenzen). Leider hat die Chefredakteurin nur eine Tabelle auftreiben können, die alle Geburten nach Bundesstaaten und Vornamen gliedert. Versuchen Sie die benötigten Informationen aus diesem Datensatz zu generieren(births.csv)!"
   ]
  },
  {
   "cell_type": "code",
   "execution_count": 29,
   "metadata": {},
   "outputs": [],
   "source": [
    "import pandas as pd\n",
    "data = pd.read_csv('births.csv')"
   ]
  },
  {
   "cell_type": "markdown",
   "metadata": {},
   "source": [
    "Erwarteter Output:\n",
    "\n",
    "    36976366"
   ]
  },
  {
   "cell_type": "code",
   "execution_count": 30,
   "metadata": {},
   "outputs": [
    {
     "data": {
      "text/plain": [
       "36976366"
      ]
     },
     "execution_count": 30,
     "metadata": {},
     "output_type": "execute_result"
    }
   ],
   "source": [
    "import pandas as pd\n",
    "\n",
    "df_births = pd.read_csv('births.csv')\n",
    "\n",
    "df_births.Count[(2021 - df_births.Year <= 35) & (2021 - df_births.Year >= 25)].sum()"
   ]
  },
  {
   "cell_type": "code",
   "execution_count": 50,
   "metadata": {},
   "outputs": [
    {
     "data": {
      "text/html": [
       "<div>\n",
       "<style scoped>\n",
       "    .dataframe tbody tr th:only-of-type {\n",
       "        vertical-align: middle;\n",
       "    }\n",
       "\n",
       "    .dataframe tbody tr th {\n",
       "        vertical-align: top;\n",
       "    }\n",
       "\n",
       "    .dataframe thead th {\n",
       "        text-align: right;\n",
       "    }\n",
       "</style>\n",
       "<table border=\"1\" class=\"dataframe\">\n",
       "  <thead>\n",
       "    <tr style=\"text-align: right;\">\n",
       "      <th></th>\n",
       "      <th>state</th>\n",
       "      <th>Gender</th>\n",
       "      <th>Year</th>\n",
       "      <th>Name</th>\n",
       "      <th>Count</th>\n",
       "      <th>Age</th>\n",
       "    </tr>\n",
       "  </thead>\n",
       "  <tbody>\n",
       "    <tr>\n",
       "      <th>0</th>\n",
       "      <td>IN</td>\n",
       "      <td>F</td>\n",
       "      <td>1961</td>\n",
       "      <td>Lisa</td>\n",
       "      <td>1469</td>\n",
       "      <td>60</td>\n",
       "    </tr>\n",
       "    <tr>\n",
       "      <th>1</th>\n",
       "      <td>IN</td>\n",
       "      <td>F</td>\n",
       "      <td>1961</td>\n",
       "      <td>Mary</td>\n",
       "      <td>1151</td>\n",
       "      <td>60</td>\n",
       "    </tr>\n",
       "    <tr>\n",
       "      <th>2</th>\n",
       "      <td>IN</td>\n",
       "      <td>F</td>\n",
       "      <td>1961</td>\n",
       "      <td>Karen</td>\n",
       "      <td>941</td>\n",
       "      <td>60</td>\n",
       "    </tr>\n",
       "    <tr>\n",
       "      <th>3</th>\n",
       "      <td>IN</td>\n",
       "      <td>F</td>\n",
       "      <td>1961</td>\n",
       "      <td>Susan</td>\n",
       "      <td>941</td>\n",
       "      <td>60</td>\n",
       "    </tr>\n",
       "    <tr>\n",
       "      <th>4</th>\n",
       "      <td>IN</td>\n",
       "      <td>F</td>\n",
       "      <td>1961</td>\n",
       "      <td>Linda</td>\n",
       "      <td>919</td>\n",
       "      <td>60</td>\n",
       "    </tr>\n",
       "  </tbody>\n",
       "</table>\n",
       "</div>"
      ],
      "text/plain": [
       "  state Gender  Year   Name  Count  Age\n",
       "0    IN      F  1961   Lisa   1469   60\n",
       "1    IN      F  1961   Mary   1151   60\n",
       "2    IN      F  1961  Karen    941   60\n",
       "3    IN      F  1961  Susan    941   60\n",
       "4    IN      F  1961  Linda    919   60"
      ]
     },
     "execution_count": 50,
     "metadata": {},
     "output_type": "execute_result"
    }
   ],
   "source": [
    "df_births.head()\n",
    "df_births['Age'] = 2021 - df_births['Year'] \n",
    "df_births.head()"
   ]
  },
  {
   "cell_type": "code",
   "execution_count": 53,
   "metadata": {},
   "outputs": [
    {
     "name": "stdout",
     "output_type": "stream",
     "text": [
      "31\n",
      "3567577\n"
     ]
    },
    {
     "name": "stderr",
     "output_type": "stream",
     "text": [
      "C:\\Users\\Heinrich\\AppData\\Local\\Temp\\ipykernel_17288\\1110181520.py:2: SettingWithCopyWarning: \n",
      "A value is trying to be set on a copy of a slice from a DataFrame.\n",
      "Try using .loc[row_indexer,col_indexer] = value instead\n",
      "\n",
      "See the caveats in the documentation: https://pandas.pydata.org/pandas-docs/stable/user_guide/indexing.html#returning-a-view-versus-a-copy\n",
      "  df_births['Age'] = 2021 - df_births['Year']\n"
     ]
    }
   ],
   "source": [
    "# 增加年龄列\n",
    "df_births['Age'] = 2021 - df_births['Year'] \n",
    "df_births = df_births[(df_births['Age'] >= 25) & (df_births['Age'] <= 35)]\n",
    "\n",
    "# 按照年龄分组，并计算每个年龄段人数的总和\n",
    "age_count = df_births.groupby('Age')['Count'].sum()\n",
    "\n",
    "\n",
    "# 创建字典\n",
    "age_count_dict = dict(age_count)\n",
    "\n",
    "# 获取字典中对应最大的值的键\n",
    "max_key = max(age_count_dict, key = age_count_dict.get)\n",
    "print(max_key)\n",
    "print(age_count_dict[max_key])\n"
   ]
  },
  {
   "cell_type": "code",
   "execution_count": 37,
   "metadata": {},
   "outputs": [
    {
     "data": {
      "text/plain": [
       "Age\n",
       "2     2891772\n",
       "3     2949060\n",
       "4     3008598\n",
       "5     3098778\n",
       "6     3134011\n",
       "7     3141425\n",
       "8     3079348\n",
       "9     3083008\n",
       "10    3086059\n",
       "11    3122128\n",
       "12    3236955\n",
       "13    3344482\n",
       "14    3416158\n",
       "15    3390724\n",
       "16    3307852\n",
       "17    3296174\n",
       "18    3290969\n",
       "19    3239855\n",
       "20    3252723\n",
       "21    3298520\n",
       "22    3234596\n",
       "23    3230662\n",
       "24    3194233\n",
       "25    3225793\n",
       "26    3249949\n",
       "27    3307859\n",
       "28    3364630\n",
       "29    3442904\n",
       "30    3503407\n",
       "31    3567577\n",
       "32    3475994\n",
       "33    3342082\n",
       "34    3267158\n",
       "35    3229013\n",
       "36    3246990\n",
       "37    3177582\n",
       "38    3154303\n",
       "39    3193594\n",
       "40    3146595\n",
       "41    3130961\n",
       "42    3019120\n",
       "43    2877643\n",
       "44    2882873\n",
       "45    2753960\n",
       "46    2744584\n",
       "47    2773958\n",
       "48    2759369\n",
       "49    2890095\n",
       "50    3177630\n",
       "51    3359449\n",
       "52    3244912\n",
       "53    3159689\n",
       "54    3184310\n",
       "55    3267847\n",
       "56    3419530\n",
       "57    3674740\n",
       "58    3747748\n",
       "59    3825785\n",
       "60    3930597\n",
       "Name: Count, dtype: int64"
      ]
     },
     "execution_count": 37,
     "metadata": {},
     "output_type": "execute_result"
    }
   ],
   "source": [
    "age_count"
   ]
  },
  {
   "cell_type": "markdown",
   "metadata": {},
   "source": [
    "#### b.)\n",
    "\n",
    "Die Chef-Redakteurin ist von Ihrem Ergebnis angetan. Um das Programm passgenau auf die meisten potenziellen ZuhörerInnen abzustimmen, bittet sie Sie um eine weitere Analyse. \n",
    "\n",
    "Bitte finden Sie heraus, welches Alter die meisten Personen innerhalb der relevanten Altersgruppe haben. Nutzen Sie dabei ein Dictionary, welches als Schlüssel das Alter und als Wert die jeweilige Personenanzahl beinhaltet."
   ]
  },
  {
   "cell_type": "code",
   "execution_count": null,
   "metadata": {},
   "outputs": [],
   "source": [
    "with open('births.csv', \"r\") as csvFile:\n",
    "    myDict = {}\n",
    "\n",
    "    for line in csvFile:\n",
    "        split_line = line.strip().split(',') # strip用于移除每行首位的空格\n",
    "\n",
    "        if split_line[2] =='Year': # 这个if语句只有第一行符合，然后执行continue，跳过第一轮循环进入第二轮\n",
    "            continue\n",
    "\n",
    "        year_lb = 2021 - 35     # 规定年龄组的上下限\n",
    "        year_ub = 2021 - 25\n",
    "\n",
    "        if int(split_line[2]) >= year_lb and int(split_line[2]) <= year_ub:\n",
    "\n",
    "            age = 2021 - int(split_line[2])\n",
    "\n",
    "            counter = int(split_line[4])\n",
    "\n",
    "            if str(age) in myDict.keys():  # 这个结构很普遍，记住！适用于在字典里设置计数器\n",
    "                myDict[str(age)] += counter\n",
    "            \n",
    "            else:\n",
    "                myDict[str(age)] = counter\n",
    "\n",
    "max_ag = 0\n",
    "age = \"\"\n",
    "for key, value in myDict.items():\n",
    "    if max_ag < value:\n",
    "        max_ag = value\n",
    "        age = key\n",
    "\n",
    "print(age)\n",
    "print(max_ag)"
   ]
  },
  {
   "cell_type": "markdown",
   "metadata": {},
   "source": [
    "Erwarteter Output:\n",
    "\n",
    "    31\n",
    "    3567577"
   ]
  }
 ],
 "metadata": {
  "interpreter": {
   "hash": "e42634819b8c191a5d07eaf23810ff32516dd8d3875f28ec3e488928fbd3c187"
  },
  "kernelspec": {
   "display_name": "Python 3.8.8 ('base')",
   "language": "python",
   "name": "python3"
  },
  "language_info": {
   "codemirror_mode": {
    "name": "ipython",
    "version": 3
   },
   "file_extension": ".py",
   "mimetype": "text/x-python",
   "name": "python",
   "nbconvert_exporter": "python",
   "pygments_lexer": "ipython3",
   "version": "3.8.8"
  },
  "orig_nbformat": 2
 },
 "nbformat": 4,
 "nbformat_minor": 2
}
