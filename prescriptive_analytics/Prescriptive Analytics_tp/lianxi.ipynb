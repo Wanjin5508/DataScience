{
 "cells": [
  {
   "cell_type": "code",
   "execution_count": 1,
   "metadata": {},
   "outputs": [
    {
     "name": "stdout",
     "output_type": "stream",
     "text": [
      "<class '__main__.Human'>\n"
     ]
    }
   ],
   "source": [
    "class Human:\n",
    "    pass\n",
    "\n",
    "me = Human()\n",
    "\n",
    "print(type(me))"
   ]
  },
  {
   "cell_type": "code",
   "execution_count": 3,
   "metadata": {},
   "outputs": [
    {
     "name": "stdout",
     "output_type": "stream",
     "text": [
      "<__main__.Human object at 0x000001742DFC8340>\n"
     ]
    }
   ],
   "source": [
    "me.age = 23\n",
    "me.height = 190\n",
    "print(me)"
   ]
  },
  {
   "cell_type": "code",
   "execution_count": 8,
   "metadata": {},
   "outputs": [
    {
     "name": "stdout",
     "output_type": "stream",
     "text": [
      "Mein Name ist Karl\n"
     ]
    }
   ],
   "source": [
    "class Human:\n",
    "\n",
    "    def getName(self):\n",
    "        print(f'Mein Name ist {self.Name}')\n",
    "\n",
    "me =  Human()\n",
    "me.Name = \"Karl\"\n",
    "\n",
    "me.getName()\n"
   ]
  },
  {
   "cell_type": "code",
   "execution_count": 5,
   "metadata": {},
   "outputs": [
    {
     "ename": "AttributeError",
     "evalue": "'Human' object has no attribute 'Name'",
     "output_type": "error",
     "traceback": [
      "\u001b[1;31m---------------------------------------------------------------------------\u001b[0m",
      "\u001b[1;31mAttributeError\u001b[0m                            Traceback (most recent call last)",
      "\u001b[1;32m<ipython-input-5-ebfd6a39ed92>\u001b[0m in \u001b[0;36m<module>\u001b[1;34m\u001b[0m\n\u001b[0;32m      1\u001b[0m \u001b[0myou\u001b[0m \u001b[1;33m=\u001b[0m \u001b[0mHuman\u001b[0m\u001b[1;33m(\u001b[0m\u001b[1;33m)\u001b[0m\u001b[1;33m\u001b[0m\u001b[1;33m\u001b[0m\u001b[0m\n\u001b[0;32m      2\u001b[0m \u001b[1;33m\u001b[0m\u001b[0m\n\u001b[1;32m----> 3\u001b[1;33m \u001b[0myou\u001b[0m\u001b[1;33m.\u001b[0m\u001b[0mgetName\u001b[0m\u001b[1;33m(\u001b[0m\u001b[1;33m)\u001b[0m\u001b[1;33m\u001b[0m\u001b[1;33m\u001b[0m\u001b[0m\n\u001b[0m",
      "\u001b[1;32m<ipython-input-4-ef62dc12cd48>\u001b[0m in \u001b[0;36mgetName\u001b[1;34m(self)\u001b[0m\n\u001b[0;32m      2\u001b[0m \u001b[1;33m\u001b[0m\u001b[0m\n\u001b[0;32m      3\u001b[0m     \u001b[1;32mdef\u001b[0m \u001b[0mgetName\u001b[0m\u001b[1;33m(\u001b[0m\u001b[0mself\u001b[0m\u001b[1;33m)\u001b[0m\u001b[1;33m:\u001b[0m\u001b[1;33m\u001b[0m\u001b[1;33m\u001b[0m\u001b[0m\n\u001b[1;32m----> 4\u001b[1;33m         \u001b[0mprint\u001b[0m\u001b[1;33m(\u001b[0m\u001b[1;34mf'Mein Name ist {self.Name}'\u001b[0m\u001b[1;33m)\u001b[0m\u001b[1;33m\u001b[0m\u001b[1;33m\u001b[0m\u001b[0m\n\u001b[0m\u001b[0;32m      5\u001b[0m \u001b[1;33m\u001b[0m\u001b[0m\n\u001b[0;32m      6\u001b[0m \u001b[0mme\u001b[0m \u001b[1;33m=\u001b[0m  \u001b[0mHuman\u001b[0m\u001b[1;33m(\u001b[0m\u001b[1;33m)\u001b[0m\u001b[1;33m\u001b[0m\u001b[1;33m\u001b[0m\u001b[0m\n",
      "\u001b[1;31mAttributeError\u001b[0m: 'Human' object has no attribute 'Name'"
     ]
    }
   ],
   "source": [
    "you = Human() # you besitzt keinen Name\n",
    "\n",
    "you.getName()"
   ]
  },
  {
   "cell_type": "code",
   "execution_count": 22,
   "metadata": {},
   "outputs": [
    {
     "name": "stdout",
     "output_type": "stream",
     "text": [
      "Mein Name ist f\n"
     ]
    }
   ],
   "source": [
    "class Human():\n",
    "\n",
    "    def __init__(self, name, age, mood = 'good'):\n",
    "        self.name = name\n",
    "        self.age = age\n",
    "        self.mood =  mood\n",
    "    \n",
    "    def getName(self):\n",
    "        print(f'Mein Name ist {self.name}')\n",
    "\n",
    "you = Human('f', 24, 'sad')   # 排版很重要\n",
    "you.getName()\n",
    "\n"
   ]
  },
  {
   "cell_type": "code",
   "execution_count": null,
   "metadata": {},
   "outputs": [],
   "source": [
    "class Human():\n",
    "    def __init__(self, name, age, mood = 'good'):\n",
    "        self.__name = name"
   ]
  },
  {
   "cell_type": "code",
   "execution_count": 13,
   "metadata": {},
   "outputs": [
    {
     "name": "stdout",
     "output_type": "stream",
     "text": [
      "<__main__.Human object at 0x000001742EC53670>\n"
     ]
    }
   ],
   "source": [
    "class Human:\n",
    "    pass\n",
    "\n",
    "me = Human()\n",
    "\n",
    "print(me)  #需要str函数，写在类的定义中"
   ]
  },
  {
   "cell_type": "code",
   "execution_count": 18,
   "metadata": {},
   "outputs": [
    {
     "name": "stdout",
     "output_type": "stream",
     "text": [
      "Phonebook ({})\n",
      "0\n"
     ]
    }
   ],
   "source": [
    "# telefon buch erstellen\n",
    "class PhoneBook():\n",
    "\n",
    "    def __init__(self):\n",
    "        self.Entries = {}\n",
    "\n",
    "    def __str__(self):\n",
    "        return f'Phonebook ({self.Entries})'\n",
    "\n",
    "    def __len__(self):\n",
    "        return len(self.Entries)\n",
    "\n",
    "newBook = PhoneBook()\n",
    "\n",
    "print(newBook) #kryptische Ausgabe ohne str funk\n",
    "\n",
    "print(len(newBook))  #还没给电话本定义len"
   ]
  },
  {
   "cell_type": "code",
   "execution_count": 24,
   "metadata": {},
   "outputs": [
    {
     "name": "stdout",
     "output_type": "stream",
     "text": [
      "Mein Name ist ken\n"
     ]
    }
   ],
   "source": [
    "class Mutant(Human):\n",
    "\n",
    "    def __init__(self, name, age, superpower, mood = 'good'):  # 这里默认值后面只能放同样有默认值的参数，否则会报错\n",
    "        super().__init__(name, age, mood)\n",
    "        self.superpower = superpower\n",
    "\n",
    "ken = Mutant('ken', 30, 'magic', 'happy')\n",
    "ken.getName()"
   ]
  }
 ],
 "metadata": {
  "interpreter": {
   "hash": "73e03da126b73bfff3642ec5261d56fa25c444ea595de51041687efaa60dda41"
  },
  "kernelspec": {
   "display_name": "Python 3.8.8 ('base')",
   "language": "python",
   "name": "python3"
  },
  "language_info": {
   "codemirror_mode": {
    "name": "ipython",
    "version": 3
   },
   "file_extension": ".py",
   "mimetype": "text/x-python",
   "name": "python",
   "nbconvert_exporter": "python",
   "pygments_lexer": "ipython3",
   "version": "3.8.8"
  },
  "orig_nbformat": 4
 },
 "nbformat": 4,
 "nbformat_minor": 2
}
