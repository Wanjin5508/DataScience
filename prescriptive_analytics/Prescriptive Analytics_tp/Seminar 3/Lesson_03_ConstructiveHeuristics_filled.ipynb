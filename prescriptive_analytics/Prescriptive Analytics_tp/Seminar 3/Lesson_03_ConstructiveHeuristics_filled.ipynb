{
 "cells": [
  {
   "cell_type": "markdown",
   "metadata": {},
   "source": [
    "---\n",
    "# Seminar 3 - Grundlagen Ablaufplanung\n",
    "---\n",
    "\n",
    "\n",
    "\n"
   ]
  },
  {
   "cell_type": "markdown",
   "metadata": {},
   "source": [
    "---\n",
    "### Einlesen der Klassen aus erster Veranstaltung \n",
    "---"
   ]
  },
  {
   "cell_type": "code",
   "execution_count": 2,
   "metadata": {},
   "outputs": [],
   "source": [
    "# files from first session\n",
    "from InputData import InputData\n",
    "from OutputData import OutputJob  # 从名为OutputData的文件中导入OutputJob\n",
    "# Additionally\n",
    "import numpy\n"
   ]
  },
  {
   "cell_type": "markdown",
   "metadata": {},
   "source": [
    "---\n",
    "### 1. Codierung und Bewertung einer Lösung\n",
    "---\n",
    "Im Rahmen Ihrer Werkstudententätigkeit bei Dr. Best sollen Sie die Produktionsleiterin Traudel Teufel bei der Ablaufplanung unterstützen. Aktuell wird die Fertigungsreihenfolge für die nächste Woche immer freitags festgelegt. Aufgrund der zunehmenden Komplexität fällt es Frau Teufel immer schwerer, gute Ablaufpläne zu generieren. Derzeit nutzt sie Ihre lange Erfahrung im Bereich der Zahnpastafertigung und erzeugt manuell eine geeignete Bearbeitungsreihenfolge, welche Sie an die Schichtleiter weitergibt.\n",
    "\n",
    "In der nächsten Woche sollen 11 Aufträge abgearbeitet werden. Die Inputdaten sind Ihnen in der Datei \"InputFlowshopSIST.json\" gegeben. Traudel Teufel plant mit folgender Reihenfolge:\n",
    "**6-5-7-4-8-3-9-2-10-1-11**\n",
    "\n",
    "Diese Auftragsreihenfolge soll auf allen Maschinen eingehalten werden (Permutation Flow Shop). Leider kann die Produktionsleiterin nicht einschätzen, wie gut Ihre Lösung tatsächlich ist. Da sie von Ihren Programmierfähigkeiten gehört hat, bittet sie Sie, diese Lösung zu bewerten. Anschließend sollen Sie außerdem Auskunft darüber geben, wann welcher Auftrag auf welcher Maschine laut Plan bearbeitet wird.\n",
    "\n",
    "#### a.) \n",
    "Sie überlegen, dass es sinnvoll ist, eine eigene Klasse für Lösungen anzulegen, wenn Sie im folgenden verschiedene Lösungen erzeugen wollen. Deshalb schreiben Sie als erstes eine Klasse **Solution**, welche ein Dictionary mit allen Aufträge als **OutputJobs** sowie die Fertigungsreihenfolge als Liste **Permutation** enthält. Zudem sollen im Konstruktor die Attribute Makespan, TotalTardiness und TotalWeightedTardiness angelegt und zunächst auf -1 gesetzt werden. Nachdem Sie die Klasse definiert haben, bietet es sich an, als erstes Objekt dieser Klasse die von Frau Teufel vorgeschlagene Lösung mit Hilfe der Inputdaten in der Datei \"InputFlowshopSIST.json\" zu erzeugen. Nennen Sie diese erste Lösung **DevilSolution**.\n"
   ]
  },
  {
   "cell_type": "code",
   "execution_count": 3,
   "metadata": {},
   "outputs": [
    {
     "name": "stdout",
     "output_type": "stream",
     "text": [
      "The permutation [5, 4, 6, 3, 7, 2, 8, 1, 9, 0, 10] results in a Makespan of 8922\n"
     ]
    }
   ],
   "source": [
    "from EvaluationLogic import *\n",
    "class Solution:\n",
    "    \n",
    "    def __init__(self, joblist, permutation):\n",
    "        self.Makespan = -1\n",
    "        self.TotalTardiness = -1\n",
    "        self.TotalWeightedTardiness = -1\n",
    "        self.Permutation = permutation\n",
    "\n",
    "        self.OutputJobs = {}\n",
    "        for jobId, job in enumerate(joblist):\n",
    "            self.OutputJobs[jobId] = OutputJob(job)\n",
    "\n",
    "    def __str__(self):\n",
    "        return f'The permutation {self.Permutation} results in a Makespan of {self.Makespan}'\n",
    "    \n",
    "    def SetPermutation(self, permutation):\n",
    "        self.Permutation = permutation\n",
    "\n",
    "\n",
    "\n",
    "#### Führen Sie im Anschluss folgenden Code aus ####\n",
    "data = InputData(\"InputFlowshopSIST.json\")\n",
    "Permutation = [x-1 for x in [6,5,7,4,8,3,9,2,10,1,11]]\n",
    "DevilSolution = Solution(data.InputJobs, Permutation) \n",
    "\n",
    "EvaluationLogic(data).DefineStartEnd(DevilSolution)\n",
    "print(DevilSolution)"
   ]
  },
  {
   "cell_type": "markdown",
   "metadata": {},
   "source": []
  },
  {
   "cell_type": "markdown",
   "metadata": {},
   "source": [
    "#### b.) \n",
    "Um die Qualität einer Lösung einschätzen zu können, sollten Sie als nächstes eine Bewertungsfunktion für ein gegebenes Solution Objekt schreiben. Diese Methode sollte für eine gegebene Reihenfolge (Permutation) allen Aufträgen Start- und Endzeitpunkte zuweisen unter Beachtung, dass jede Maschine nur einen Auftrag zur selben Zeit bearbeiten kann und ein Auftrag nicht gleichzeitig auf mehreren Maschinen bearbeitet werden kann. Die Rüstzeiten können Sie dabei zunächst vernachlässigen. Am Ende der Einplanung können Sie für das Solution Objekt noch das Attribut Makespan festlegen.\n",
    "\n",
    "Da die erstellte Funktion zur Bewertung einer Lösung benötigt wird, erachten Sie es als sinnvoll, diese der Klasse EvaluationLogic anzuhängen.\n",
    "\n",
    "Abschließend können Sie Ihre neu entwickelten Methoden testen, indem Sie die von Frau Teufel vorgeschlagene Lösung **DevilSolution** bewerten."
   ]
  },
  {
   "cell_type": "code",
   "execution_count": 4,
   "metadata": {},
   "outputs": [
    {
     "name": "stdout",
     "output_type": "stream",
     "text": [
      "8922\n"
     ]
    }
   ],
   "source": [
    "class EvaluationLogic:    \n",
    "    def DefineStartEnd(self, currentSolution):    \n",
    "        #####\n",
    "        # schedule first job: starts when finished at previous stage\n",
    "        firstJob = currentSolution.OutputJobs[currentSolution.Permutation[0]]  #currentSolution.Permutation[0] 调用solution对象的permutation定语，然后选择排在第一位的job\n",
    "        firstJob.EndTimes = numpy.cumsum([firstJob.ProcessingTime(x) for x in range(len(firstJob.EndTimes))])\n",
    "        firstJob.StartTimes[1:] = firstJob.EndTimes[:-1]\n",
    "        #####\n",
    "        # schedule further jobs: starts when finished at previous stage and the predecessor is no longer on the considered machine\n",
    "        for j in range(1,len(currentSolution.Permutation)):\n",
    "            currentJob = currentSolution.OutputJobs[currentSolution.Permutation[j]]\n",
    "            previousJob = currentSolution.OutputJobs[currentSolution.Permutation[j-1]]\n",
    "            # first machine\n",
    "            currentJob.StartTimes[0] = previousJob.EndTimes[0]\n",
    "            currentJob.EndTimes[0] = currentJob.StartTimes[0] + currentJob.ProcessingTime(0)\n",
    "            # other machines\n",
    "            for i in range(1,len(currentJob.StartTimes)):\n",
    "                currentJob.StartTimes[i] = max(previousJob.EndTimes[i], currentJob.EndTimes[i-1])\n",
    "                currentJob.EndTimes[i] = currentJob.StartTimes[i] + currentJob.ProcessingTime(i)\n",
    "        #####\n",
    "        # Save Makespan and return Solution\n",
    "        currentSolution.Makespan = currentSolution.OutputJobs[currentSolution.Permutation[-1]].EndTimes[-1]\n",
    "\n",
    "EvaluationLogic().DefineStartEnd(DevilSolution)\n",
    "print(DevilSolution.Makespan)"
   ]
  },
  {
   "cell_type": "markdown",
   "metadata": {},
   "source": [
    "Erwarteter Output:\n",
    "\n",
    "    8922"
   ]
  },
  {
   "cell_type": "markdown",
   "metadata": {},
   "source": [
    "#### c.)\n",
    "Damit alle Mitarbeiter in der Fertigung detailiert über den Ablaufplan informiert werden können, soll in einer .csv Datei für alle Aufträge aufgelistet werden, wann diese bearbeitet werden sollen. Die Tabelle soll dabei die folgenden Spalten enthalten:\n",
    "\n",
    "|Machine  |Job      |Start_Setup |End_Setup  |Start    |End \t |\n",
    "|---------|---------|------------|-----------|---------|---------|\n",
    "| 1 \t  | 1 \t    | 0\t         | 0\t     | 132 \t   | 481 \t |\n",
    "| 1  \t  | 2 \t    | 0   \t     | 0\t     | 0 \t   | 132 \t |\n",
    "| ...\t  | ... \t| ...        | ... \t     | ... \t   | ...\t | \n",
    "\n",
    "Schreiben Sie eine Methode WriteSolToCsv(), welche eine gegebene Lösung (Instanz der Klasse Solution) in eine csv Datei schreibt. Nutzen Sie dabei das Modul **csv**. Erzeugen Sie anschließend eine Ausgabe von **DevilSolution**. Da die Ausgabe nur mit einem Solution Objekt erfolgen kann, sollten die Methode an die Klasse Solution angehangen werden.\n",
    "\n"
   ]
  },
  {
   "cell_type": "code",
   "execution_count": 5,
   "metadata": {},
   "outputs": [],
   "source": [
    "import csv\n",
    "\n",
    "def WriteSolToCsv(self, fileName):\n",
    "    with open(fileName, 'w') as csvFile:\n",
    "        csv_writer = csv.writer(csvFile)\n",
    "        csv_writer.writerow(['Machine', 'Job', 'Start_Setup', 'End_Setup', 'Start', 'End'])\n",
    "\n",
    "        for i in range(len(self.OutputJobs[0].Operations)):\n",
    "            for job in self.OutputJobs.values():\n",
    "                csv_writer.writerow([i + 1, job.JobId, job.StartSetups[i], job.EndSetups[i], job.StartTimes[i], job.EndTimes[i]])\n",
    "\n",
    "setattr(Solution, \"WriteSolToCsv\", WriteSolToCsv)  # setattr(object, name, value)\n",
    "DevilSolution.WriteSolToCsv(\"DevilSolution.csv\")\n"
   ]
  },
  {
   "cell_type": "markdown",
   "metadata": {},
   "source": [
    "#### d.)\n",
    "Nachdem Sie aus der Fertigung hören, dass einige Mitarbeiter Probleme beim Verständnis der csv Ausgabe haben, machen Sie sich auf die Suche nach geeigneten Grafikmodulen. Erfreulicherweise stoßen Sie schnell auf die Methode **timeline()** aus dem Modul **plotly.express**. Zudem hatte scheinbar schon eine anderer Programmierer das gleiche Problem, weshalb Ihnen jetzt ein Python Skript vorliegt, welches Sie direkt zur grafischen Darstellung nutzen können. \n",
    "\n",
    "Laden Sie das Skript **Gantt.py** und nutzen Sie die Methode **ganttChart**, um DevilSolution grafisch darzustellen. "
   ]
  },
  {
   "cell_type": "code",
   "execution_count": null,
   "metadata": {},
   "outputs": [],
   "source": []
  },
  {
   "cell_type": "markdown",
   "metadata": {},
   "source": [
    "---\n",
    "### 2. Dispatching Rules zur Erstellung von Lösungen\n",
    "---\n",
    "Trotz aller Erfahrung ist sich Traudel Teufel unsicher bezüglich der Qualität ihrer Lösung (DevilSolution). Immerhin gibt es 39916800 mögliche Permutationen für die 11 Aufträge. Aus diesem Grund überlegen Sie, wie sich konstruktiv weitere Lösungen erzeugen lassen, um die Güte der bisherigen Lösung einzuschätzen und eventuell eine bessere Lösung zu finden. \n",
    "\n",
    "#### a.)\n",
    "Um überhaupt ein Gefühl für die Verteilung möglicher Ablaufpläne zu erhalten, lassen sich mit der wohl einfachsten Entscheidungsregel **Random Order of Service** zunächst verschiedene Lösungen erzeugen. Das Vorgehen besteht darin, dass der nächste Auftrag immer zufällig gewählt wird. Schreiben Sie deshalb eine Methode **ROS()**, welche zufällig \"x\" Fertigungsreihenfolgen erzeugt und die beste zurückgibt. Der Parameter \"x\" soll dabei der Funktion ebenso wie ein Startwert und die Stammdaten der Aufträge übergeben werden. Bei der Generierung zufälliger Permutationen kann Ihnen das Modul Numpy sicher wieder behilflich sein."
   ]
  },
  {
   "cell_type": "code",
   "execution_count": 6,
   "metadata": {},
   "outputs": [
    {
     "name": "stdout",
     "output_type": "stream",
     "text": [
      "The permutation [ 3  0  4  2  5  1  7 10  9  6  8] results in a Makespan of 7812\n"
     ]
    }
   ],
   "source": [
    "import numpy as np\n",
    "\n",
    "def ROS(jobList, x, seed):\n",
    "    np.random.seed(seed)\n",
    "    tmpSolution = Solution(jobList, 0)\n",
    "    bestCmax = np.inf # unendless 无穷大的浮点数\n",
    "\n",
    "    for i in range(x):\n",
    "        tmpPermuation = np.random.permutation(len(jobList))\n",
    "        tmpSolution.SetPermutation(tmpPermuation)\n",
    "\n",
    "        EvaluationLogic().DefineStartEnd(tmpSolution)\n",
    "\n",
    "        if (tmpSolution.Makespan < bestCmax):\n",
    "            bestCmax = tmpSolution.Makespan\n",
    "            bestPerm = tmpPermuation\n",
    "    \n",
    "    bestSol = Solution(jobList, bestPerm)\n",
    "    EvaluationLogic().DefineStartEnd(bestSol)\n",
    "\n",
    "    return bestSol\n",
    "\n",
    "ROSSolution = ROS(data.InputJobs, 10, 2021)\n",
    "print(ROSSolution)     "
   ]
  },
  {
   "cell_type": "markdown",
   "metadata": {},
   "source": [
    "Erwarteter Output:\n",
    "\n",
    "Reihenfolge \\[3, 0, 4, 2, 5, 1, 7, 10, 9, 6, 8\\] resultiert in Makespan 7812"
   ]
  },
  {
   "cell_type": "markdown",
   "metadata": {},
   "source": [
    "#### b.)\n",
    "Ein Mitarbeiter aus der Fertigung weist Sie darauf hin, dass Sie bei 11 Aufträgen auch alle Permutationen berechnen könnten und anschließend die Beste bestimmen können. Sie wollen deshalb eine Funktion **checkAllPermutations()** schreiben, die Ihnen nach Überprüfung aller Reihenfolgen diejenige zurückgibt, die zum besten Makespan führt. Wie lange dauert diese Rechnung?"
   ]
  },
  {
   "cell_type": "code",
   "execution_count": 7,
   "metadata": {},
   "outputs": [
    {
     "name": "stdout",
     "output_type": "stream",
     "text": [
      "Calculation time is 41.01693323453267 Minutes\n"
     ]
    },
    {
     "ename": "AttributeError",
     "evalue": "'Solution' object has no attribute 'Cmax'",
     "output_type": "error",
     "traceback": [
      "\u001b[1;31m---------------------------------------------------------------------------\u001b[0m",
      "\u001b[1;31mAttributeError\u001b[0m                            Traceback (most recent call last)",
      "\u001b[1;32md:\\6.Semester\\Prescriptive Analytics_tp\\Seminar 3\\Lesson_03_ConstructiveHeuristics_filled.ipynb Cell 19'\u001b[0m in \u001b[0;36m<cell line: 32>\u001b[1;34m()\u001b[0m\n\u001b[0;32m     <a href='vscode-notebook-cell:/d%3A/6.Semester/Prescriptive%20Analytics_tp/Seminar%203/Lesson_03_ConstructiveHeuristics_filled.ipynb#ch0000018?line=29'>30</a>\u001b[0m \u001b[39m# Print Results\u001b[39;00m\n\u001b[0;32m     <a href='vscode-notebook-cell:/d%3A/6.Semester/Prescriptive%20Analytics_tp/Seminar%203/Lesson_03_ConstructiveHeuristics_filled.ipynb#ch0000018?line=30'>31</a>\u001b[0m \u001b[39mprint\u001b[39m(\u001b[39m\"\u001b[39m\u001b[39mCalculation time is \u001b[39m\u001b[39m\"\u001b[39m\u001b[39m+\u001b[39m \u001b[39mstr\u001b[39m((time2\u001b[39m-\u001b[39mtime1)\u001b[39m/\u001b[39m\u001b[39m60\u001b[39m) \u001b[39m+\u001b[39m \u001b[39m\"\u001b[39m\u001b[39m Minutes\u001b[39m\u001b[39m\"\u001b[39m)\n\u001b[1;32m---> <a href='vscode-notebook-cell:/d%3A/6.Semester/Prescriptive%20Analytics_tp/Seminar%203/Lesson_03_ConstructiveHeuristics_filled.ipynb#ch0000018?line=31'>32</a>\u001b[0m \u001b[39mprint\u001b[39m(\u001b[39m\"\u001b[39m\u001b[39mBest solution with Cmax \u001b[39m\u001b[39m\"\u001b[39m\u001b[39m+\u001b[39m \u001b[39mstr\u001b[39m(bestSolution\u001b[39m.\u001b[39;49mCmax))\n\u001b[0;32m     <a href='vscode-notebook-cell:/d%3A/6.Semester/Prescriptive%20Analytics_tp/Seminar%203/Lesson_03_ConstructiveHeuristics_filled.ipynb#ch0000018?line=32'>33</a>\u001b[0m \u001b[39mprint\u001b[39m(\u001b[39m\"\u001b[39m\u001b[39mBest order is: \u001b[39m\u001b[39m\"\u001b[39m, end\u001b[39m=\u001b[39m\u001b[39m\"\u001b[39m\u001b[39m\"\u001b[39m)\n\u001b[0;32m     <a href='vscode-notebook-cell:/d%3A/6.Semester/Prescriptive%20Analytics_tp/Seminar%203/Lesson_03_ConstructiveHeuristics_filled.ipynb#ch0000018?line=33'>34</a>\u001b[0m \u001b[39mfor\u001b[39;00m x \u001b[39min\u001b[39;00m bestSolution\u001b[39m.\u001b[39mPermutation:\n",
      "\u001b[1;31mAttributeError\u001b[0m: 'Solution' object has no attribute 'Cmax'"
     ]
    }
   ],
   "source": [
    "from itertools import permutations\n",
    "import time\n",
    "\n",
    "def CheckAllPermutations(jobList):\n",
    "    allPerms = set(permutations(range(len(jobList))))\n",
    "\n",
    "    tmpSolution = Solution(jobList, 0)\n",
    "    bestCmax = np.inf\n",
    "\n",
    "    for tmpPermutation in allPerms:\n",
    "\n",
    "        tmpSolution.SetPermutation(tmpPermutation)\n",
    "\n",
    "        EvaluationLogic().DefineStartEnd(tmpSolution)\n",
    "\n",
    "        if (tmpSolution.Makespan < bestCmax):\n",
    "            bestCmax = tmpSolution.Makespan\n",
    "            bestPerm = tmpPermutation\n",
    "    \n",
    "    bestSol = Solution(jobList, bestPerm)\n",
    "    EvaluationLogic().DefineStartEnd(bestSol)\n",
    "\n",
    "    return bestSol\n",
    "\n",
    "# Use function to get best Solution\n",
    "time1 = time.time() \n",
    "bestSolution = CheckAllPermutations(data.InputJobs)\n",
    "time2 = time.time() \n",
    "\n",
    "# Print Results\n",
    "print(\"Calculation time is \"+ str((time2-time1)/60) + \" Minutes\")\n",
    "print(\"Best solution with Cmax \"+ str(bestSolution.Cmax))\n",
    "print(\"Best order is: \", end=\"\")\n",
    "for x in bestSolution.Permutation:\n",
    "    print(x)"
   ]
  },
  {
   "cell_type": "markdown",
   "metadata": {},
   "source": [
    "Erwarteter Output:\n",
    "\n",
    "    Calculation time is 111.684 Minutes <br>\n",
    "    Beste Lösung mit Makespan 7038 <br>\n",
    "    Beste Reihenfolge ist: 7 2 0 4 6 10 3 5 8 1 9"
   ]
  },
  {
   "cell_type": "markdown",
   "metadata": {},
   "source": [
    "#### c.)\n",
    "Nachdem eine vollständige Enumeration selbst bei kleinen Problemen langfristig keine Alternative darstellt, schlagen Sie vor, das Problem mit statischen Einplanungsregeln zu lösen. Frau Teufel ist von dieser Idee begeistert und möchte gern, dass Sie die folgenden Regeln implementieren: <br>\n",
    "* FCFS (First Come First Serve)\n",
    "* SPT (Shortest Processing Time)\n",
    "* LPT (Longest Processing Time) \n",
    "\n",
    "Schreiben Sie für jede dieser Regeln eine Methode. Die Funktionen sollen jeweils ein Objekt der Klasse **Solution** ausgeben.\n",
    "\n"
   ]
  },
  {
   "cell_type": "code",
   "execution_count": 8,
   "metadata": {},
   "outputs": [
    {
     "name": "stdout",
     "output_type": "stream",
     "text": [
      "The permutation [0, 1, 2, 3, 4, 5, 6, 7, 8, 9, 10] results in a Makespan of 9298\n"
     ]
    }
   ],
   "source": [
    "def FirstComeFirstServe(jobList):\n",
    "    tmpPermutation = [x for x in range(len(jobList))] # 排列顺序就是jobList中的顺序，先到先得\n",
    "    tmpSolution = Solution(jobList, tmpPermutation)\n",
    "    EvaluationLogic().DefineStartEnd(tmpSolution)\n",
    "\n",
    "    return tmpSolution\n",
    "\n",
    "FCFSSol = FirstComeFirstServe(data.InputJobs)\n",
    "print(FCFSSol)"
   ]
  },
  {
   "cell_type": "markdown",
   "metadata": {},
   "source": [
    "Erwarteter Output:\n",
    "\n",
    "    The permutation [0, 1, 2, 3, 4, 5, 6, 7, 8, 9, 10] results in a Makespan of 9298"
   ]
  },
  {
   "cell_type": "code",
   "execution_count": 9,
   "metadata": {},
   "outputs": [
    {
     "name": "stdout",
     "output_type": "stream",
     "text": [
      "The permutation [2, 7, 8, 0, 3, 4, 6, 10, 1, 5, 9] results in a Makespan of 7718\n"
     ]
    }
   ],
   "source": [
    "def ShortestProcessingTime(jobList, allMachines = False):\n",
    "    jobPool = []\n",
    "    if allMachines:\n",
    "        for i in range(len(jobList)):\n",
    "            jobPool.append((i, sum(jobList[i].ProcessingTime(x) for x in range(len(jobList[i].Operations)))))\n",
    "    else:\n",
    "        for i in range(len(jobList)):\n",
    "            jobPool.append((i, jobList[i].ProcessingTime(0)))\n",
    "            \n",
    "    jobPool.sort(key= lambda t: t[1])\n",
    "    tmpPermutation = [x[0] for x in jobPool]\n",
    "\n",
    "    tmpSolution = Solution(jobList, tmpPermutation)\n",
    "    EvaluationLogic().DefineStartEnd(tmpSolution)\n",
    "\n",
    "    return tmpSolution\n",
    "\n",
    "SPTSol = ShortestProcessingTime(data.InputJobs)\n",
    "print(SPTSol)\n"
   ]
  },
  {
   "cell_type": "markdown",
   "metadata": {},
   "source": [
    "Erwarteter Output:\n",
    "\n",
    "    The permutation [2, 7, 8, 0, 3, 4, 6, 10, 1, 5, 9] results in a Makespan of 7718"
   ]
  },
  {
   "cell_type": "code",
   "execution_count": 10,
   "metadata": {},
   "outputs": [
    {
     "name": "stdout",
     "output_type": "stream",
     "text": [
      "The permutation [9, 5, 1, 6, 10, 4, 3, 0, 8, 7, 2] results in a Makespan of 10649\n"
     ]
    }
   ],
   "source": [
    "def LongestProcessingTime(jobList, allMachines = False):\n",
    "    jobPool = []\n",
    "    if allMachines:\n",
    "        for i in range(len(jobList)):\n",
    "            jobPool.append((i, sum(jobList[i].ProcessingTime(x) for x in range(len(jobList[i].Operations)))))\n",
    "    else:\n",
    "        for i in range(len(jobList)):\n",
    "            jobPool.append((i, jobList[i].ProcessingTime(0)))\n",
    "            \n",
    "    jobPool.sort(key= lambda t: -t[1])\n",
    "    tmpPermutation = [x[0] for x in jobPool]\n",
    "\n",
    "    tmpSolution = Solution(jobList, tmpPermutation)\n",
    "    EvaluationLogic().DefineStartEnd(tmpSolution)\n",
    "\n",
    "    return tmpSolution\n",
    "\n",
    "SPTSol = LongestProcessingTime(data.InputJobs)\n",
    "print(SPTSol)"
   ]
  },
  {
   "cell_type": "markdown",
   "metadata": {},
   "source": [
    "Erwarteter Output:\n",
    "\n",
    "    The permutation [9, 5, 1, 6, 10, 4, 3, 0, 8, 7, 2] results in a Makespan of 10649"
   ]
  },
  {
   "cell_type": "markdown",
   "metadata": {},
   "source": [
    "#### d.) NEH Heuristik\n",
    "Auch wenn Sie durch die Dispatching Rules sehr einfach und schnell Lösungen generieren können, sind Sie doch von der Lösungsgüte etwas enttäuscht. Selbst die SPT Regel führt zu fast 10% Abweichung von der optimalen Lösung. Aus diesem Grund erachten Sie es als sinnvoll, aufwendigere konstruktive Verfahren zu analysieren. Schnell stellen Sie fest, dass die NEH Heuristik zu den am meisten verwendeten Ansätzen gehört und häufig sehr gute Startlösungen liefert. Deshalb wollen Sie im Folgenden selbst eine Methode **NEH()** schreiben und das Verfahren implementieren."
   ]
  },
  {
   "cell_type": "code",
   "execution_count": 11,
   "metadata": {},
   "outputs": [
    {
     "name": "stdout",
     "output_type": "stream",
     "text": [
      "The permutation [7, 0, 4, 8, 2, 10, 3, 6, 5, 1, 9] results in a Makespan of 7038\n"
     ]
    }
   ],
   "source": [
    "from copy import deepcopy\n",
    "\n",
    "def DetermineBestInsertion(solution, jobToInsert):\n",
    "    ###\n",
    "    # insert job at front of permutation\n",
    "    solution.Permutation.insert(0, jobToInsert)  # insert函数，在索引位置插入数据，索引后面的往后顺移一位。初始肯定在第0位插入\n",
    "    bestPermutation = deepcopy(solution.Permutation)\n",
    "    \n",
    "    EvaluationLogic().DefineStartEnd(solution)\n",
    "    bestCmax = solution.Makespan\n",
    "\n",
    "    ###\n",
    "    # swap job i to each position and check for improvement\n",
    "    lengthPermutation = len(solution.Permutation) - 1 #减去1是为了得到使用insert时的索引号\n",
    "    for j in range(0, lengthPermutation):\n",
    "        solution.Permutation[j], solution.Permutation[j + 1] = solution.Permutation[j+1], solution.Permutation[j]\n",
    "        EvaluationLogic().DefineStartEnd(solution)\n",
    "        if(solution.Makespan < bestCmax):\n",
    "            bestCmax = solution.Makespan\n",
    "            bestPermutation = [x for x in solution.Permutation]\n",
    "\n",
    "    solution.Makespan = bestCmax\n",
    "    solution.Permutation = bestPermutation\n",
    "\n",
    "def NEH(jobList):\n",
    "    jobPool = []\n",
    "    tmpPerm = []\n",
    "    bestCmax = 0\n",
    "    # Calculate sum of processing times and sort\n",
    "    for i in range(len(jobList)):\n",
    "        jobPool.append((i,sum(jobList[i].ProcessingTime(x) for x in range(len(jobList[i].Operations)))))\n",
    "    jobPool.sort(key=lambda x: x[1], reverse=True)\n",
    "\n",
    "    # Initalize input\n",
    "    tmpNEHOrder = [x[0] for x in jobPool]\n",
    "    tmpPerm.append(tmpNEHOrder[0])\n",
    "    tmpSolution = Solution(jobList,tmpPerm)\n",
    "\n",
    "    # Add next jobs in a loop and check all permutations\n",
    "    for i in range(1,len(tmpNEHOrder)):\n",
    "        # add next job to end and calculate makespan\n",
    "        DetermineBestInsertion(tmpSolution, tmpNEHOrder[i])\n",
    "    \n",
    "    return tmpSolution\n",
    "\n",
    "NEHSol = NEH(data.InputJobs)    \n",
    "print(NEHSol)\n",
    "\n"
   ]
  },
  {
   "cell_type": "markdown",
   "metadata": {},
   "source": [
    "Erwarteter Output:\n",
    "\n",
    "    The permutation [7, 0, 4, 8, 2, 10, 3, 6, 5, 1, 9] results in a Makespan of 7038"
   ]
  },
  {
   "cell_type": "markdown",
   "metadata": {},
   "source": [
    "#### e.)\n",
    "\n",
    "Glücklich darüber, dass Sie mit Hilfe der NEH eine sehr gute Lösung gefunden haben. Wollen Sie Ihre implementierten konstruktiven Lösungsansätze abschließend in einer eigenen Klasse zusammenfassen. Nennen Sie die neue Klasse **ConstructiveHeuristic**. Damit Sie zukünftig einfach auf die einzelnen Methoden zugreifen können, entscheiden Sie sich, eine Hauptroutine zu schreiben, über welche Sie unter Angabe der jeweiligen konstruktiven Heuristik auf die Methoden zugreifen können."
   ]
  },
  {
   "cell_type": "code",
   "execution_count": 13,
   "metadata": {},
   "outputs": [
    {
     "name": "stdout",
     "output_type": "stream",
     "text": [
      "The permutation [7, 0, 4, 8, 2, 10, 3, 6, 5, 1, 9] results in a Makespan of 7038\n"
     ]
    }
   ],
   "source": [
    "class ConstructiveHeuristics:\n",
    "    def Run(self, inputData, solutionMethod):\n",
    "        if solutionMethod == 'FCFS':\n",
    "            solution = FirstComeFirstServe(inputData.InputJobs)\n",
    "        elif solutionMethod == 'SPT':\n",
    "            solution = ShortestProcessingTime(inputData.InputJobs)\n",
    "        elif solutionMethod == 'LPT':\n",
    "            solution = LongestProcessingTime(inputData.InputJobs)\n",
    "        elif solutionMethod == 'ROS':\n",
    "            solution = ROS(inputData.InputJobs, 323, 10)\n",
    "        elif solutionMethod == 'NEH':\n",
    "            solution = NEH(inputData.InputJobs)\n",
    "        else:\n",
    "            print('Unkown constructive solution method.')    \n",
    "        return solution\n",
    "\n",
    "print(ConstructiveHeuristics().Run(data,\"NEH\"))"
   ]
  },
  {
   "cell_type": "markdown",
   "metadata": {},
   "source": [
    "---\n",
    "### 3. Liefertreue \n",
    "--- \n",
    "Ihre bisherigen Lösungsversuchen konzentrieren sich auf eine möglichst effiziente Fertigung, indem die Kapazitäten möglichst gut ausgelastet werden. Allerdings stellt für Dr. Best auch die Liefertreue ein wichtiges Kriterium dar, damit die Kunden immer pünklich ihre Zähne putzen können. Deshalb soll im Folgenden **Total Tardiness** als alternatives Zielkriterium betrachtet werden.\n",
    "\n",
    "a) \n",
    "Welche gesamten Verspätungen ergeben sich mit den bisherigen konstruktiven Lösungsansätzen **NEH**, **SPT** und **FCFS**? Schreiben Sie zuvor zwei Methoden in der Klasse EvaluationLogic, welche Total Tardiness und Total Weighted Tardiness berechnen."
   ]
  },
  {
   "cell_type": "code",
   "execution_count": 14,
   "metadata": {},
   "outputs": [
    {
     "name": "stdout",
     "output_type": "stream",
     "text": [
      "NEH Regel führt zu gesamten Verspätungen von: 18152\n",
      "FCFS Regel führt zu gesamten Verspätungen von: 26812\n",
      "SPT Regel führt zu gesamten Verspätungen von: 40081\n"
     ]
    }
   ],
   "source": [
    "def CalculateTardiness(self, currentSolution):\n",
    "        totalTardiness = 0\n",
    "        for key in currentSolution.OutputJobs:\n",
    "            if(currentSolution.OutputJobs[key].EndTimes[-1] - currentSolution.OutputJobs[key].DueDate > 0):\n",
    "                currentSolution.OutputJobs[key].Tardiness = currentSolution.OutputJobs[key].EndTimes[-1] - currentSolution.OutputJobs[key].DueDate\n",
    "                totalTardiness += currentSolution.OutputJobs[key].EndTimes[-1] - currentSolution.OutputJobs[key].DueDate\n",
    "        currentSolution.TotalTardiness = totalTardiness       \n",
    "\n",
    "setattr(EvaluationLogic,\"CalculateTardiness\",CalculateTardiness)\n",
    "\n",
    "def CalculateWeightedTardiness(self, currentSolution):\n",
    "    totalWeightedTardiness = 0\n",
    "    for key in currentSolution.OutputJobs:\n",
    "        if(currentSolution.OutputJobs[key].EndTimes[-1] - currentSolution.OutputJobs[key].DueDate > 0):\n",
    "            currentSolution.OutputJobs[key].Tardiness = currentSolution.OutputJobs[key].EndTimes[-1] - currentSolution.OutputJobs[key].DueDate\n",
    "            totalWeightedTardiness += (currentSolution.OutputJobs[key].EndTimes[-1] - currentSolution.OutputJobs[key].DueDate) * currentSolution.OutputJobs[key].TardCost\n",
    "    currentSolution.TotalWeightedTardiness = totalWeightedTardiness\n",
    "\n",
    "setattr(EvaluationLogic,\"CalculateWeightedTardiness\",CalculateWeightedTardiness)\n",
    "\n",
    "\n",
    "EvaluationLogic().CalculateTardiness(NEHSol)\n",
    "print(\"NEH Regel führt zu gesamten Verspätungen von: \"+ str(NEHSol.TotalTardiness))\n",
    "EvaluationLogic().CalculateTardiness(FCFSSol)\n",
    "print(\"FCFS Regel führt zu gesamten Verspätungen von: \"+ str(FCFSSol.TotalTardiness))\n",
    "EvaluationLogic().CalculateTardiness(SPTSol)\n",
    "print(\"SPT Regel führt zu gesamten Verspätungen von: \"+ str(SPTSol.TotalTardiness))"
   ]
  },
  {
   "cell_type": "markdown",
   "metadata": {},
   "source": [
    "Erwarteter Output:\n",
    "\n",
    "    NEH Regel führt zu gesamten Verspätungen von: 18152\n",
    "    FCFS Regel führt zu gesamten Verspätungen von: 26812\n",
    "    SPT Regel führt zu gesamten Verspätungen von: 21866"
   ]
  },
  {
   "cell_type": "markdown",
   "metadata": {},
   "source": [
    "#### b)\n",
    "Da die bisherigen konstruktiven Lösungsansätze noch nicht auf Tardiness ausgerichtet sind, vermuten Sie, dass noch Potential zur Verbesserung besteht. Deshalb wollen Sie im Folgenden die Entscheidungsregel **Earliest Due Date** zur Lösungserzeugung nutzen. Schreiben Sie dafür eine entsprechende Funktion. Wie hoch sind hierbei die Verspätungen?"
   ]
  },
  {
   "cell_type": "code",
   "execution_count": 16,
   "metadata": {},
   "outputs": [
    {
     "name": "stdout",
     "output_type": "stream",
     "text": [
      "EDD Regel führt zu gesamten Verspätungen von: 15859\n"
     ]
    }
   ],
   "source": [
    "def EarliestDueDate(jobList):\n",
    "    tmpPermutation = sorted(range(len(jobList)), key=lambda x: jobList[x].DueDate)\n",
    "    tmpSolution = Solution(jobList, tmpPermutation)\n",
    "    EvaluationLogic().DefineStartEnd(tmpSolution)\n",
    "    EvaluationLogic().CalculateTardiness(tmpSolution)\n",
    "    return(tmpSolution) \n",
    "\n",
    "EDDSol = EarliestDueDate(data.InputJobs)    \n",
    "print(\"EDD Regel führt zu gesamten Verspätungen von: \"+ str(EDDSol.TotalTardiness))"
   ]
  },
  {
   "cell_type": "markdown",
   "metadata": {},
   "source": [
    "Erwarteter Output:\n",
    "   \n",
    "    EDD Regel führt zu gesamten Verspätungen von: 15859"
   ]
  }
 ],
 "metadata": {
  "interpreter": {
   "hash": "7758e92e9a61d7a3490898707f7eeb937c85e9d1e8d4e877cc6c187218f226d5"
  },
  "kernelspec": {
   "display_name": "Python 3.9.12 ('base')",
   "language": "python",
   "name": "python3"
  },
  "language_info": {
   "codemirror_mode": {
    "name": "ipython",
    "version": 3
   },
   "file_extension": ".py",
   "mimetype": "text/x-python",
   "name": "python",
   "nbconvert_exporter": "python",
   "pygments_lexer": "ipython3",
   "version": "3.10.9"
  },
  "orig_nbformat": 2
 },
 "nbformat": 4,
 "nbformat_minor": 2
}
