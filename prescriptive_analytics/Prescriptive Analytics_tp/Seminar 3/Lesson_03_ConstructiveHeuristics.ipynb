{
 "cells": [
  {
   "cell_type": "markdown",
   "metadata": {},
   "source": [
    "---\n",
    "# Seminar 3 - Grundlagen Ablaufplanung\n",
    "---\n",
    "\n",
    "\n",
    "\n"
   ]
  },
  {
   "cell_type": "markdown",
   "metadata": {},
   "source": [
    "---\n",
    "### Einlesen der Klassen aus erster Veranstaltung \n",
    "---"
   ]
  },
  {
   "cell_type": "code",
   "execution_count": 1,
   "metadata": {},
   "outputs": [
    {
     "name": "stdout",
     "output_type": "stream",
     "text": [
      "Requirement already satisfied: plotly in d:\\programdata\\anaconda3\\lib\\site-packages (5.1.0)\n",
      "Requirement already satisfied: tenacity>=6.2.0 in d:\\programdata\\anaconda3\\lib\\site-packages (from plotly) (8.0.1)\n",
      "Requirement already satisfied: six in d:\\programdata\\anaconda3\\lib\\site-packages (from plotly) (1.15.0)\n"
     ]
    }
   ],
   "source": [
    "!pip install plotly"
   ]
  },
  {
   "cell_type": "code",
   "execution_count": 2,
   "metadata": {},
   "outputs": [],
   "source": [
    "import plotly"
   ]
  },
  {
   "cell_type": "code",
   "execution_count": 3,
   "metadata": {},
   "outputs": [],
   "source": [
    "# files from first session\n",
    "from InputData import InputData\n",
    "from OutputData import OutputJob\n",
    "# Additionally\n",
    "import numpy\n"
   ]
  },
  {
   "cell_type": "markdown",
   "metadata": {},
   "source": [
    "---\n",
    "### 1. Codierung und Bewertung einer Lösung\n",
    "---\n",
    "Im Rahmen Ihrer Werkstudententätigkeit bei Dr. Best sollen Sie die Produktionsleiterin Traudel Teufel bei der Ablaufplanung unterstützen. Aktuell wird die Fertigungsreihenfolge für die nächste Woche immer freitags festgelegt. Aufgrund der zunehmenden Komplexität fällt es Frau Teufel immer schwerer, gute Ablaufpläne zu generieren. Derzeit nutzt sie Ihre lange Erfahrung im Bereich der Zahnpastafertigung und erzeugt manuell eine geeignete Bearbeitungsreihenfolge, welche Sie an die Schichtleiter weitergibt.\n",
    "\n",
    "In der nächsten Woche sollen 11 Aufträge abgearbeitet werden. Die Inputdaten sind Ihnen in der Datei \"InputFlowshopSIST.json\" gegeben. Traudel Teufel plant mit folgender Reihenfolge:\n",
    "**6-5-7-4-8-3-9-2-10-1-11**\n",
    "\n",
    "Diese Auftragsreihenfolge soll auf allen Maschinen eingehalten werden (Permutation Flow Shop). Leider kann die Produktionsleiterin nicht einschätzen, wie gut Ihre Lösung tatsächlich ist. Da sie von Ihren Programmierfähigkeiten gehört hat, bittet sie Sie, diese Lösung zu bewerten. Anschließend sollen Sie außerdem Auskunft darüber geben, wann welcher Auftrag auf welcher Maschine laut Plan bearbeitet wird.\n",
    "\n",
    "#### a.) \n",
    "Sie überlegen, dass es sinnvoll ist, eine eigene Klasse für Lösungen anzulegen, wenn Sie im folgenden verschiedene Lösungen erzeugen wollen. Deshalb schreiben Sie als erstes eine Klasse **Solution**, welche ein Dictionary mit allen Aufträge als **OutputJobs** sowie die Fertigungsreihenfolge als Liste **Permutation** enthält. Zudem sollen im Konstruktor die Attribute Makespan, TotalTardiness und TotalWeightedTardiness angelegt und zunächst auf -1 gesetzt werden. Nachdem Sie die Klasse definiert haben, bietet es sich an, als erstes Objekt dieser Klasse die von Frau Teufel vorgeschlagene Lösung mit Hilfe der Inputdaten in der Datei \"InputFlowshopSIST.json\" zu erzeugen. Nennen Sie diese erste Lösung **DevilSolution**.\n"
   ]
  },
  {
   "cell_type": "code",
   "execution_count": 4,
   "metadata": {},
   "outputs": [
    {
     "name": "stdout",
     "output_type": "stream",
     "text": [
      "The Permutation [5, 4, 6, 3, 7, 2, 8, 1, 9, 0, 10] results in a Makespan of -1\n"
     ]
    }
   ],
   "source": [
    "\n",
    "\n",
    "class Solution():\n",
    "    def __init__(self, joblist, permutation):\n",
    "        self.Makespan = -1\n",
    "        self.TotalTardiness = -1\n",
    "        self.TotalWeightedTardiness = -1\n",
    "        self.Permutation = permutation\n",
    "\n",
    "        self.OutputJobs = {}\n",
    "        for jobId, job in enumerate(joblist):\n",
    "            self.OutputJobs[jobId] = OutputJob(job)\n",
    "\n",
    "    def __str__(self):\n",
    "        return f'The Permutation {self.Permutation} results in a Makespan of {self.Makespan}'\n",
    "\n",
    "    def SetPermutation(self, permutation):\n",
    "        self.Permutation = permutation\n",
    "\n",
    "\n",
    "#### Führen Sie im Anschluss folgenden Code aus ####\n",
    "data = InputData(\"InputFlowshopSIST.json\")\n",
    "Permutation = [x-1 for x in [6,5,7,4,8,3,9,2,10,1,11]]\n",
    "DevilSolution = Solution(data.InputJobs, Permutation) \n",
    "print(DevilSolution)"
   ]
  },
  {
   "cell_type": "code",
   "execution_count": 5,
   "metadata": {},
   "outputs": [
    {
     "name": "stdout",
     "output_type": "stream",
     "text": [
      "The Permutation [5, 4, 6, 3, 7, 2, 8, 1, 9, 0, 10] results in a Makespan of -1\n"
     ]
    }
   ],
   "source": [
    "\n",
    "from InputData import *\n",
    "from OutputData import *\n",
    "\n",
    "class Solution:\n",
    "    def __init__(self, joblist, permutation):\n",
    "        # Solution 的属性\n",
    "        self.Makespan = -1\n",
    "        self.TotalTardiness = -1\n",
    "        self.TotalWeightedTardiness = -1\n",
    "        self.Permutation = permutation\n",
    "        self.OutputJobs = {}\n",
    "\n",
    "        for jobId, job in enumerate(joblist):\n",
    "            self.OutputJobs[jobId] = OutputJob(job)\n",
    "            # 注意看OutputJob类的属性，能用于计算Makespan\n",
    "            # OutputJob的用意在于，把输入数据中的订单信息进一步细化并计算\n",
    "            # 注意看OutputJob构造器的参数表，需要填入的是 InputData(\"....\").InputJobs这个列表的每一个元素\n",
    "    \n",
    "    def __str__(self):# 输出函数，用来展示当前permutation造成的总工作时长Makespan\n",
    "        return f'The Permutation {self.Permutation} results in a Makespan of {self.Makespan}'\n",
    "\n",
    "    def SetPermutation(self, permutation):\n",
    "        self.Permutation = permutation\n",
    "\n",
    "# 构造solution类需要哪些参数？joblist和permutation\n",
    "# 现在已经给出了订单生产顺序，只需要找出joblist即可\n",
    "# joblist 来源于InputData对象的InputJobs属性\n",
    "\n",
    "\n",
    "# 导入数据\n",
    "data = InputData(\"InputFlowshopSIST.json\")\n",
    "\n",
    "# 调整生产序列，每个元素 -1 才能得到python中的序列\n",
    "Permutation = [x - 1 for x in [6,5,7,4,8,3,9,2,10,1,11]]\n",
    "\n",
    "# 用现有的参数构造Solution对象\n",
    "DevilSolution = Solution(data.InputJobs, Permutation)\n",
    "print(DevilSolution)\n",
    "\n",
    "    \n"
   ]
  },
  {
   "cell_type": "markdown",
   "metadata": {},
   "source": [
    "#### b.) \n",
    "Um die Qualität einer Lösung einschätzen zu können, sollten Sie als nächstes eine Bewertungsfunktion für ein gegebenes Solution Objekt schreiben. Diese Methode sollte für eine gegebene Reihenfolge (Permutation) allen Aufträgen Start- und Endzeitpunkte zuweisen unter Beachtung, dass jede Maschine nur einen Auftrag zur selben Zeit bearbeiten kann und ein Auftrag nicht gleichzeitig auf mehreren Maschinen bearbeitet werden kann. Die Rüstzeiten können Sie dabei zunächst vernachlässigen. Am Ende der Einplanung können Sie für das Solution Objekt noch das Attribut Makespan festlegen.\n",
    "\n",
    "Da die erstellte Funktion zur Bewertung einer Lösung benötigt wird, erachten Sie es als sinnvoll, diese der Klasse EvaluationLogic anzuhängen.\n",
    "\n",
    "Abschließend können Sie Ihre neu entwickelten Methoden testen, indem Sie die von Frau Teufel vorgeschlagene Lösung **DevilSolution** bewerten."
   ]
  },
  {
   "cell_type": "code",
   "execution_count": 6,
   "metadata": {},
   "outputs": [
    {
     "name": "stdout",
     "output_type": "stream",
     "text": [
      "Requirement already satisfied: ipykernel in d:\\programdata\\anaconda3\\lib\\site-packages (6.13.0)\n",
      "Requirement already satisfied: tornado>=6.1 in d:\\programdata\\anaconda3\\lib\\site-packages (from ipykernel) (6.1)\n",
      "Requirement already satisfied: psutil in d:\\programdata\\anaconda3\\lib\\site-packages (from ipykernel) (5.8.0)\n",
      "Requirement already satisfied: debugpy>=1.0 in d:\\programdata\\anaconda3\\lib\\site-packages (from ipykernel) (1.6.0)\n",
      "Requirement already satisfied: packaging in d:\\programdata\\anaconda3\\lib\\site-packages (from ipykernel) (20.9)\n",
      "Requirement already satisfied: matplotlib-inline>=0.1 in d:\\programdata\\anaconda3\\lib\\site-packages (from ipykernel) (0.1.3)\n",
      "Requirement already satisfied: traitlets>=5.1.0 in d:\\programdata\\anaconda3\\lib\\site-packages (from ipykernel) (5.1.1)\n",
      "Requirement already satisfied: jupyter-client>=6.1.12 in d:\\programdata\\anaconda3\\lib\\site-packages (from ipykernel) (6.1.12)\n",
      "Requirement already satisfied: ipython>=7.23.1 in d:\\programdata\\anaconda3\\lib\\site-packages (from ipykernel) (8.3.0)\n",
      "Requirement already satisfied: nest-asyncio in d:\\programdata\\anaconda3\\lib\\site-packages (from ipykernel) (1.5.1)\n",
      "Requirement already satisfied: pickleshare in d:\\programdata\\anaconda3\\lib\\site-packages (from ipython>=7.23.1->ipykernel) (0.7.5)\n",
      "Requirement already satisfied: stack-data in d:\\programdata\\anaconda3\\lib\\site-packages (from ipython>=7.23.1->ipykernel) (0.2.0)\n",
      "Requirement already satisfied: decorator in d:\\programdata\\anaconda3\\lib\\site-packages (from ipython>=7.23.1->ipykernel) (5.0.6)\n",
      "Requirement already satisfied: pygments>=2.4.0 in d:\\programdata\\anaconda3\\lib\\site-packages (from ipython>=7.23.1->ipykernel) (2.8.1)\n",
      "Requirement already satisfied: jedi>=0.16 in d:\\programdata\\anaconda3\\lib\\site-packages (from ipython>=7.23.1->ipykernel) (0.17.2)\n",
      "Requirement already satisfied: backcall in d:\\programdata\\anaconda3\\lib\\site-packages (from ipython>=7.23.1->ipykernel) (0.2.0)\n",
      "Requirement already satisfied: setuptools>=18.5 in d:\\programdata\\anaconda3\\lib\\site-packages (from ipython>=7.23.1->ipykernel) (52.0.0.post20210125)\n",
      "Requirement already satisfied: prompt-toolkit!=3.0.0,!=3.0.1,<3.1.0,>=2.0.0 in d:\\programdata\\anaconda3\\lib\\site-packages (from ipython>=7.23.1->ipykernel) (3.0.17)\n",
      "Requirement already satisfied: colorama in d:\\programdata\\anaconda3\\lib\\site-packages (from ipython>=7.23.1->ipykernel) (0.4.4)\n",
      "Requirement already satisfied: parso<0.8.0,>=0.7.0 in d:\\programdata\\anaconda3\\lib\\site-packages (from jedi>=0.16->ipython>=7.23.1->ipykernel) (0.7.0)\n",
      "Requirement already satisfied: python-dateutil>=2.1 in d:\\programdata\\anaconda3\\lib\\site-packages (from jupyter-client>=6.1.12->ipykernel) (2.8.1)\n",
      "Requirement already satisfied: jupyter-core>=4.6.0 in d:\\programdata\\anaconda3\\lib\\site-packages (from jupyter-client>=6.1.12->ipykernel) (4.7.1)\n",
      "Requirement already satisfied: pyzmq>=13 in d:\\programdata\\anaconda3\\lib\\site-packages (from jupyter-client>=6.1.12->ipykernel) (20.0.0)\n",
      "Requirement already satisfied: pywin32>=1.0 in d:\\programdata\\anaconda3\\lib\\site-packages (from jupyter-core>=4.6.0->jupyter-client>=6.1.12->ipykernel) (227)\n",
      "Requirement already satisfied: wcwidth in d:\\programdata\\anaconda3\\lib\\site-packages (from prompt-toolkit!=3.0.0,!=3.0.1,<3.1.0,>=2.0.0->ipython>=7.23.1->ipykernel) (0.2.5)\n",
      "Requirement already satisfied: six>=1.5 in d:\\programdata\\anaconda3\\lib\\site-packages (from python-dateutil>=2.1->jupyter-client>=6.1.12->ipykernel) (1.15.0)\n",
      "Requirement already satisfied: pyparsing>=2.0.2 in d:\\programdata\\anaconda3\\lib\\site-packages (from packaging->ipykernel) (2.4.7)\n",
      "Requirement already satisfied: pure-eval in d:\\programdata\\anaconda3\\lib\\site-packages (from stack-data->ipython>=7.23.1->ipykernel) (0.2.2)\n",
      "Requirement already satisfied: asttokens in d:\\programdata\\anaconda3\\lib\\site-packages (from stack-data->ipython>=7.23.1->ipykernel) (2.0.5)\n",
      "Requirement already satisfied: executing in d:\\programdata\\anaconda3\\lib\\site-packages (from stack-data->ipython>=7.23.1->ipykernel) (0.8.3)\n"
     ]
    }
   ],
   "source": [
    "! pip install -U ipykernel"
   ]
  },
  {
   "cell_type": "code",
   "execution_count": 7,
   "metadata": {},
   "outputs": [
    {
     "name": "stdout",
     "output_type": "stream",
     "text": [
      "8922\n"
     ]
    }
   ],
   "source": [
    "class EvaluationLogic:    \n",
    "    def DefineStartEnd(self, currentSolution):    #把现有解决方案输入进函数中  \n",
    "        #####\n",
    "        # schedule first job: starts when finished at previous stage\n",
    "        firstJob = currentSolution.OutputJobs[currentSolution.Permutation[0]]\n",
    "        firstJob.EndTimes = numpy.cumsum([firstJob.ProcessingTime(x) for x in range(len(firstJob.EndTimes))])\n",
    "        firstJob.StartTimes[1:] = firstJob.EndTimes[:-1]\n",
    "        #####\n",
    "        # schedule further jobs: starts when finished at previous stage and the predecessor is no longer on the considered machine\n",
    "        for j in range(1,len(currentSolution.Permutation)):\n",
    "            currentJob = currentSolution.OutputJobs[currentSolution.Permutation[j]]\n",
    "            previousJob = currentSolution.OutputJobs[currentSolution.Permutation[j-1]]\n",
    "            # first machine\n",
    "            currentJob.StartTimes[0] = previousJob.EndTimes[0]\n",
    "            currentJob.EndTimes[0] = currentJob.StartTimes[0] + currentJob.ProcessingTime(0)\n",
    "            # other machines\n",
    "            for i in range(1,len(currentJob.StartTimes)):\n",
    "                currentJob.StartTimes[i] = max(previousJob.EndTimes[i], currentJob.EndTimes[i-1])\n",
    "                currentJob.EndTimes[i] = currentJob.StartTimes[i] + currentJob.ProcessingTime(i)\n",
    "        #####\n",
    "        # Save Makespan and return Solution\n",
    "        currentSolution.Makespan = currentSolution.OutputJobs[currentSolution.Permutation[-1]].EndTimes[-1]\n",
    "\n",
    "EvaluationLogic().DefineStartEnd(DevilSolution)\n",
    "print(DevilSolution.Makespan)"
   ]
  },
  {
   "cell_type": "code",
   "execution_count": 8,
   "metadata": {},
   "outputs": [
    {
     "name": "stdout",
     "output_type": "stream",
     "text": [
      "8922\n"
     ]
    }
   ],
   "source": [
    "import numpy\n",
    "\n",
    "class EvaluationLogic:\n",
    "    def DefineStartEnd(self, currentSolution):\n",
    "\n",
    "        ####\n",
    "        # 安排第一个订单：在前一阶段完成后开始。\n",
    "        firstJob = currentSolution.OutputJobs[currentSolution.Permutation[0]] #currentSolution.Permutation[0] 调用solution对象的permutation属性，然后选择排在第一位的job\n",
    "        firstJob.EndTimes = numpy.cumsum([firstJob.ProcessingTime(x) for x in range(len(firstJob.EndTimes))])\n",
    "        firstJob.StartTimes[1: ] = firstJob.EndTimes[ : -1]\n",
    "            # 第一个生产的订单由于前面没有订单，所有其EndTimes就是累积的加工时间。在第一台机器上的开始时间是初始值0，第二台机器的开始时间是第一台机器结束时间---无缝衔接\n",
    "\n",
    "        ####\n",
    "        # 安排其他的订单j: 在每台机器上的开始时间取决于两方面：1.上一个订单j-1是否已经被这个机器i加工完 2. 这个订单j是否在上一台机器i-1上加工完\n",
    "        for j in range(1, len(currentSolution.Permutation)):\n",
    "            currentJob = currentSolution.OutputJobs[currentSolution.Permutation[j]]\n",
    "            previousJob = currentSolution.OutputJobs[currentSolution.Permutation[j-1]]\n",
    "\n",
    "            # 第一台机器，第j个订单\n",
    "            currentJob.StartTimes[0] = previousJob.EndTimes[0]\n",
    "            currentJob.EndTimes[0] = currentJob.StartTimes[0] + currentJob.ProcessingTime(0)\n",
    "\n",
    "            # 其他机器上处理订单j的开始和结束时间\n",
    "            for i in range(1, len(currentJob.StartTimes)):\n",
    "                currentJob.StartTimes[i] = max(previousJob.EndTimes[i], currentJob.EndTimes[i-1])\n",
    "                currentJob.EndTimes[i] = currentJob.StartTimes[i] + currentJob.ProcessingTime(i)\n",
    "\n",
    "        ####\n",
    "        # 计算当前解决方案的总时长 --> 排在最后的那个订单在最后一台机器上的结束时间\n",
    "        currentSolution.Makespan = currentSolution.OutputJobs[currentSolution.Permutation[-1]].EndTimes[-1]\n",
    "\n",
    "\n",
    "EvaluationLogic().DefineStartEnd(DevilSolution)\n",
    "print(DevilSolution.Makespan)"
   ]
  },
  {
   "cell_type": "markdown",
   "metadata": {},
   "source": [
    "Erwarteter Output:\n",
    "\n",
    "    8922"
   ]
  },
  {
   "cell_type": "markdown",
   "metadata": {},
   "source": [
    "#### c.)\n",
    "Damit alle Mitarbeiter in der Fertigung detailiert über den Ablaufplan informiert werden können, soll in einer .csv Datei für alle Aufträge aufgelistet werden, wann diese bearbeitet werden sollen. Die Tabelle soll dabei die folgenden Spalten enthalten:\n",
    "\n",
    "|Machine  |Job      |Start_Setup |End_Setup  |Start    |End \t |\n",
    "|---------|---------|------------|-----------|---------|---------|\n",
    "| 1 \t  | 1 \t    | 0\t         | 0\t     | 132 \t   | 481 \t |\n",
    "| 1  \t  | 2 \t    | 0   \t     | 0\t     | 0 \t   | 132 \t |\n",
    "| ...\t  | ... \t| ...        | ... \t     | ... \t   | ...\t | \n",
    "\n",
    "Schreiben Sie eine Methode WriteSolToCsv(), welche eine gegebene Lösung (Instanz der Klasse Solution) in eine csv Datei schreibt. Nutzen Sie dabei das Modul **csv**. Erzeugen Sie anschließend eine Ausgabe von **DevilSolution**. Da die Ausgabe nur mit einem Solution Objekt erfolgen kann, sollten die Methode an die Klasse Solution angehangen werden.\n",
    "\n"
   ]
  },
  {
   "cell_type": "code",
   "execution_count": 9,
   "metadata": {},
   "outputs": [],
   "source": [
    "import csv\n",
    "\n",
    "def WriteSolToCsv(self, fileName):  #sollten die Methode an die Klasse Solution angehangen werden.\n",
    "    \n",
    "    with open( fileName, \"w\" ) as csvFile:\n",
    "        csv_writer = csv.writer(csvFile)\n",
    "\n",
    "        csv_head = ['Machine', 'Job', 'Start_Setup', 'End_Setup', 'Start', 'End']  #写入列名\n",
    "        csv_writer.writerow(csv_head)  # writerow 需要一个列表\n",
    "\n",
    "        for job in self.OutputJobs.values():\n",
    "            for i in range(len(job.Operations)):\n",
    "                csv_writer.writerow([i+1, job.JobId, job.StartSetups[i], job.EndSetups[i], job.StartTimes[i], job.EndTimes[i] ])\n",
    "\n",
    "\n",
    "setattr(Solution, \"WriteSolToCsv\", WriteSolToCsv)\n",
    "DevilSolution.WriteSolToCsv(\"DevilSolution.csv\")\n",
    "\n",
    "        \n",
    "    \n"
   ]
  },
  {
   "cell_type": "markdown",
   "metadata": {},
   "source": [
    "#### d.)\n",
    "Nachdem Sie aus der Fertigung hören, dass einige Mitarbeiter Probleme beim Verständnis der csv Ausgabe haben, machen Sie sich auf die Suche nach geeigneten Grafikmodulen. Erfreulicherweise stoßen Sie schnell auf die Methode **timeline()** aus dem Modul **plotly.express**. Zudem hatte scheinbar schon eine anderer Programmierer das gleiche Problem, weshalb Ihnen jetzt ein Python Skript vorliegt, welches Sie direkt zur grafischen Darstellung nutzen können. \n",
    "\n",
    "Laden Sie das Skript **Gantt.py** und nutzen Sie die Methode **ganttChart**, um DevilSolution grafisch darzustellen. "
   ]
  },
  {
   "cell_type": "code",
   "execution_count": null,
   "metadata": {},
   "outputs": [],
   "source": []
  },
  {
   "cell_type": "markdown",
   "metadata": {},
   "source": [
    "---\n",
    "### 2. Dispatching Rules zur Erstellung von Lösungen\n",
    "---\n",
    "Trotz aller Erfahrung ist sich Traudel Teufel unsicher bezüglich der Qualität ihrer Lösung (DevilSolution). Immerhin gibt es 39916800 mögliche Permutationen für die 11 Aufträge. Aus diesem Grund überlegen Sie, wie sich konstruktiv weitere Lösungen erzeugen lassen, um die Güte der bisherigen Lösung einzuschätzen und eventuell eine bessere Lösung zu finden. \n",
    "\n",
    "#### a.)\n",
    "Um überhaupt ein Gefühl für die Verteilung möglicher Ablaufpläne zu erhalten, lassen sich mit der wohl einfachsten Entscheidungsregel **Random Order of Service** zunächst verschiedene Lösungen erzeugen. Das Vorgehen besteht darin, dass der nächste Auftrag immer zufällig gewählt wird. Schreiben Sie deshalb eine Methode **ROS()**, welche zufällig \"x\" Fertigungsreihenfolgen erzeugt und die beste zurückgibt. Der Parameter \"x\" soll dabei der Funktion ebenso wie ein Startwert und die Stammdaten der Aufträge übergeben werden. Bei der Generierung zufälliger Permutationen kann Ihnen das Modul Numpy sicher wieder behilflich sein."
   ]
  },
  {
   "cell_type": "code",
   "execution_count": 10,
   "metadata": {},
   "outputs": [
    {
     "name": "stdout",
     "output_type": "stream",
     "text": [
      "The Permutation [ 3  0  4  2  5  1  7 10  9  6  8] results in a Makespan of 7812\n"
     ]
    }
   ],
   "source": [
    "import numpy as np\n",
    "from InputData import *\n",
    "\n",
    "def ROS(joblist, x, seed):  # stammdaten ueber geben: joblist\n",
    "\n",
    "    np.random.seed(seed)\n",
    "    tempSolution = Solution(joblist, 0) # 0 is initial\n",
    "    bestCmax = np.inf # unendless\n",
    "\n",
    "    for i in range(x):\n",
    "       tempPermutation = np.random.permutation(len(joblist))  # anzahl von jobs ubergeben\n",
    "       tempSolution.SetPermutation(tempPermutation)\n",
    "\n",
    "       EvaluationLogic().DefineStartEnd(tempSolution)\n",
    "\n",
    "       if (tempSolution.Makespan < bestCmax):\n",
    "           bestCmax = tempSolution.Makespan\n",
    "           bestPerm = tempPermutation\n",
    "\n",
    "    bestSol = Solution(joblist, bestPerm)\n",
    "    EvaluationLogic().DefineStartEnd(bestSol)\n",
    "\n",
    "    return bestSol\n",
    "\n",
    "data = InputData(\"InputFlowshopSIST.json\")\n",
    "ROSsolution = ROS(data.InputJobs, 10, 2021)\n",
    "print(ROSsolution)\n",
    "\n",
    "\n"
   ]
  },
  {
   "cell_type": "code",
   "execution_count": 11,
   "metadata": {},
   "outputs": [
    {
     "name": "stdout",
     "output_type": "stream",
     "text": [
      "The Permutation [ 7  8  4  3  9  6  5  0  2  1 10] results in a Makespan of 8210\n",
      "The Permutation [ 7  2 10  1  8  9  4  0  6  5  3] results in a Makespan of 7175\n"
     ]
    }
   ],
   "source": [
    "import numpy as np\n",
    "\n",
    "def ROS(jobList, x, seed):\n",
    "    np.random.seed(seed)\n",
    "\n",
    "    tmpSolution = Solution(jobList, 0)\n",
    "    bestCmax = np.inf # 无穷大的浮点数\n",
    "\n",
    "    for i in range(x): \n",
    "        tmpPermutation = np.random.permutation(len(jobList)) # 随机生成与订单数量对应的排列\n",
    "        tmpSolution.SetPermutation(tmpPermutation)\n",
    "\n",
    "        EvaluationLogic().DefineStartEnd(tmpSolution) # 这一步在得出Solution对象后一定要做，否则Makespan不会被计算\n",
    "\n",
    "        if (tmpSolution.Makespan < bestCmax):  # 典型的比较大小算法\n",
    "            bestCmax = tmpSolution.Makespan\n",
    "            bestPermutation = tmpPermutation\n",
    "\n",
    "    bestSolution = Solution(jobList, bestPermutation)  # 实例化最佳方案\n",
    "    EvaluationLogic().DefineStartEnd(bestSolution)  # 计算总时长\n",
    "\n",
    "    return bestSolution  # 返回最优解\n",
    "\n",
    "ROSSolution = ROS(data.InputJobs, 10, 2022)\n",
    "print(ROSSolution)\n",
    "\n",
    "\n",
    "ROS_1k = ROS(data.InputJobs, 1000, 2022)\n",
    "print(ROS_1k)\n"
   ]
  },
  {
   "cell_type": "code",
   "execution_count": 12,
   "metadata": {},
   "outputs": [
    {
     "name": "stdout",
     "output_type": "stream",
     "text": [
      "The Permutation [ 7  4  8  2  6  3  0 10  1  5  9] results in a Makespan of 7038\n"
     ]
    }
   ],
   "source": [
    "ROS_10k = ROS(data.InputJobs, 10000, 2022)\n",
    "print(ROS_10k)"
   ]
  },
  {
   "cell_type": "code",
   "execution_count": 13,
   "metadata": {},
   "outputs": [
    {
     "name": "stdout",
     "output_type": "stream",
     "text": [
      "The Permutation [ 7  4  8  2  6  3  0 10  1  5  9] results in a Makespan of 7038\n"
     ]
    }
   ],
   "source": [
    "ROS_100k = ROS(data.InputJobs, 100000, 2022)\n",
    "print(ROS_100k)"
   ]
  },
  {
   "cell_type": "markdown",
   "metadata": {},
   "source": [
    "Erwarteter Output:\n",
    "\n",
    "Reihenfolge \\[3, 0, 4, 2, 5, 1, 7, 10, 9, 6, 8\\] resultiert in Makespan 7812"
   ]
  },
  {
   "cell_type": "markdown",
   "metadata": {},
   "source": [
    "#### b.)\n",
    "Ein Mitarbeiter aus der Fertigung weist Sie darauf hin, dass Sie bei 11 Aufträgen auch alle Permutationen berechnen könnten und anschließend die Beste bestimmen können. Sie wollen deshalb eine Funktion **checkAllPermutations()** schreiben, die Ihnen nach Überprüfung aller Reihenfolgen diejenige zurückgibt, die zum besten Makespan führt. Wie lange dauert diese Rechnung?"
   ]
  },
  {
   "cell_type": "code",
   "execution_count": 14,
   "metadata": {},
   "outputs": [
    {
     "ename": "SyntaxError",
     "evalue": "unexpected EOF while parsing (4095751800.py, line 2)",
     "output_type": "error",
     "traceback": [
      "\u001b[1;36m  Input \u001b[1;32mIn [14]\u001b[1;36m\u001b[0m\n\u001b[1;33m    \u001b[0m\n\u001b[1;37m    ^\u001b[0m\n\u001b[1;31mSyntaxError\u001b[0m\u001b[1;31m:\u001b[0m unexpected EOF while parsing\n"
     ]
    }
   ],
   "source": [
    "def checkAllPermutations():\n",
    "    "
   ]
  },
  {
   "cell_type": "markdown",
   "metadata": {},
   "source": [
    "Erwarteter Output:\n",
    "\n",
    "    Rechenzeit beträgt 111.684 Minuten <br>\n",
    "    Beste Lösung mit Makespan 7038 <br>\n",
    "    Beste Reihenfolge ist: 7 2 0 4 6 10 3 5 8 1 9"
   ]
  },
  {
   "cell_type": "markdown",
   "metadata": {},
   "source": [
    "#### c.)\n",
    "Nachdem eine vollständige Enumeration selbst bei kleinen Problemen langfristig keine Alternative darstellt, schlagen Sie vor, das Problem mit statischen Einplanungsregeln zu lösen. Frau Teufel ist von dieser Idee begeistert und möchte gern, dass Sie die folgenden Regeln implementieren: <br>\n",
    "* FCFS (First Come First Serve)\n",
    "* SPT (Shortest Processing Time)\n",
    "* LPT (Longest Processing Time) \n",
    "\n",
    "Schreiben Sie für jede dieser Regeln eine Methode. Die Funktionen sollen jeweils ein Objekt der Klasse **Solution** ausgeben.\n",
    "\n"
   ]
  },
  {
   "cell_type": "code",
   "execution_count": 15,
   "metadata": {},
   "outputs": [
    {
     "name": "stdout",
     "output_type": "stream",
     "text": [
      "The Permutation [0, 1, 2, 3, 4, 5, 6, 7, 8, 9, 10] results in a Makespan of 9298\n"
     ]
    }
   ],
   "source": [
    "def FirstComeFirstServe(jobList):\n",
    "    tmpPermutation = [x for x in range(len(jobList))]\n",
    "    tmpSolution = Solution(jobList, tmpPermutation)\n",
    "    EvaluationLogic().DefineStartEnd(tmpSolution)\n",
    "\n",
    "    return tmpSolution\n",
    "\n",
    "FCFSSol = FirstComeFirstServe(data.InputJobs)\n",
    "print(FCFSSol)\n"
   ]
  },
  {
   "cell_type": "code",
   "execution_count": 16,
   "metadata": {},
   "outputs": [
    {
     "name": "stdout",
     "output_type": "stream",
     "text": [
      "The Permutation [0, 1, 2, 3, 4, 5, 6, 7, 8, 9, 10] results in a Makespan of 9298\n"
     ]
    }
   ],
   "source": [
    "def FirstComeFirstServe(jobList):\n",
    "    tmpPermutation = [x for x in range(len(jobList))]\n",
    "    tmpSolution = Solution(jobList, tmpPermutation)\n",
    "\n",
    "    EvaluationLogic().DefineStartEnd(tmpSolution)\n",
    "\n",
    "    return tmpSolution\n",
    "\n",
    "FCFSSolution = FirstComeFirstServe(data.InputJobs)\n",
    "print(FCFSSolution)\n",
    "\n"
   ]
  },
  {
   "cell_type": "markdown",
   "metadata": {},
   "source": [
    "Erwarteter Output:\n",
    "\n",
    "    The permutation [0, 1, 2, 3, 4, 5, 6, 7, 8, 9, 10] results in a Makespan of 9298"
   ]
  },
  {
   "cell_type": "code",
   "execution_count": 17,
   "metadata": {},
   "outputs": [
    {
     "name": "stdout",
     "output_type": "stream",
     "text": [
      "The Permutation [0, 7, 3, 5, 8, 2, 1, 9, 4, 6, 10] results in a Makespan of 8848\n"
     ]
    }
   ],
   "source": [
    "def ShortestProcessingTime(jobList):\n",
    "    jobPool = [] #存放sume der Processingtime, tuple\n",
    "    for i in range(len(jobList)):\n",
    "        jobPool.append((i, sum(jobList[i].ProcessingTime(x) for x in range(len(jobList[i].Operations)))))\n",
    "    jobPool.sort(key= lambda t: t[1])\n",
    "    tmpPermutation = [x[0] for x in jobPool]\n",
    "\n",
    "    tmpSolution = Solution(jobList, tmpPermutation)\n",
    "    EvaluationLogic().DefineStartEnd(tmpSolution)\n",
    "\n",
    "    return tmpSolution\n",
    "\n",
    "\n",
    "SPTSol = ShortestProcessingTime(data.InputJobs)\n",
    "print(SPTSol)"
   ]
  },
  {
   "cell_type": "code",
   "execution_count": 18,
   "metadata": {},
   "outputs": [
    {
     "name": "stdout",
     "output_type": "stream",
     "text": [
      "The Permutation [2, 7, 8, 0, 3, 4, 6, 10, 1, 5, 9] results in a Makespan of 7718\n"
     ]
    }
   ],
   "source": [
    "def ShortestProcessingTime(jobList, allMachines = False):\n",
    "    jobPool = [] #存放sume der Processingtime, tuple\n",
    "    if allMachines:\n",
    "        for i in range(len(jobList)):\n",
    "            jobPool.append((i, sum(jobList[i].ProcessingTime(x) for x in range(len(jobList[i].Operations)))))\n",
    "\n",
    "    else:\n",
    "        for i in range(len(jobList)):\n",
    "            jobPool.append((i, jobList[i].ProcessingTime(0)))\n",
    "\n",
    "\n",
    "    jobPool.sort(key= lambda t: t[1])\n",
    "    tmpPermutation = [x[0] for x in jobPool]\n",
    "\n",
    "    tmpSolution = Solution(jobList, tmpPermutation)\n",
    "    EvaluationLogic().DefineStartEnd(tmpSolution)\n",
    "\n",
    "    return tmpSolution\n",
    "\n",
    "\n",
    "SPTSol = ShortestProcessingTime(data.InputJobs)\n",
    "print(SPTSol)"
   ]
  },
  {
   "cell_type": "code",
   "execution_count": 19,
   "metadata": {},
   "outputs": [
    {
     "name": "stdout",
     "output_type": "stream",
     "text": [
      "The Permutation [2, 7, 8, 0, 3, 4, 6, 10, 1, 5, 9] results in a Makespan of 7718\n",
      "The Permutation [0, 7, 3, 5, 8, 2, 1, 9, 4, 6, 10] results in a Makespan of 8848\n"
     ]
    }
   ],
   "source": [
    "def ShortestProcessingTime(jobList, allMachines = False):\n",
    "\n",
    "    jobPool = []\n",
    "    if allMachines:\n",
    "        for i in range(len(jobList)):\n",
    "            jobPool.append((i, sum(jobList[i].ProcessingTime(x) for x in range(len(jobList[i].Operations)))))\n",
    "\n",
    "    else:\n",
    "        for i in range(len(jobList)):\n",
    "            jobPool.append((i, jobList[i].ProcessingTime(0)))\n",
    "\n",
    "    jobPool.sort(key = lambda t: t[1])\n",
    "\n",
    "    tmpPermutation = [x[0] for x in jobPool]\n",
    "    tmpSolution = Solution(jobList, tmpPermutation)\n",
    "\n",
    "    EvaluationLogic().DefineStartEnd(tmpSolution)\n",
    "\n",
    "    return tmpSolution\n",
    "\n",
    "# 只比较第一台机器的时间\n",
    "SPTSloution = ShortestProcessingTime(data.InputJobs)\n",
    "print(SPTSloution)\n",
    "\n",
    "# 比较所有机器的加工时间\n",
    "SPRSolutionAll = ShortestProcessingTime(data.InputJobs, True)\n",
    "print(SPRSolutionAll)\n",
    "\n",
    "\n"
   ]
  },
  {
   "cell_type": "code",
   "execution_count": 20,
   "metadata": {},
   "outputs": [
    {
     "name": "stdout",
     "output_type": "stream",
     "text": [
      "The Permutation [9, 5, 1, 6, 10, 4, 3, 0, 8, 7, 2] results in a Makespan of 10649\n"
     ]
    }
   ],
   "source": [
    "def LongestProcessingTime(jobList, allMachines = False):\n",
    "    jobPool = [] #存放sume der Processingtime, tuple\n",
    "    if allMachines:\n",
    "        for i in range(len(jobList)):\n",
    "            jobPool.append((i, sum(jobList[i].ProcessingTime(x) for x in range(len(jobList[i].Operations)))))\n",
    "\n",
    "    else:\n",
    "        for i in range(len(jobList)):\n",
    "            jobPool.append((i, jobList[i].ProcessingTime(0)))\n",
    "\n",
    "\n",
    "    jobPool.sort(key= lambda t: -t[1])\n",
    "    tmpPermutation = [x[0] for x in jobPool]\n",
    "\n",
    "    tmpSolution = Solution(jobList, tmpPermutation)\n",
    "    EvaluationLogic().DefineStartEnd(tmpSolution)\n",
    "\n",
    "    return tmpSolution\n",
    "\n",
    "\n",
    "SPTSol = LongestProcessingTime(data.InputJobs)\n",
    "print(SPTSol)"
   ]
  },
  {
   "cell_type": "markdown",
   "metadata": {},
   "source": [
    "Erwarteter Output:\n",
    "\n",
    "    The permutation [2, 7, 8, 0, 3, 4, 6, 10, 1, 5, 9] results in a Makespan of 7718"
   ]
  },
  {
   "cell_type": "markdown",
   "metadata": {},
   "source": [
    "Erwarteter Output:\n",
    "\n",
    "    The permutation [9, 5, 1, 6, 10, 4, 3, 0, 8, 7, 2] results in a Makespan of 10649"
   ]
  },
  {
   "cell_type": "markdown",
   "metadata": {},
   "source": [
    "#### d.) NEH Heuristik\n",
    "Auch wenn Sie durch die Dispatching Rules sehr einfach und schnell Lösungen generieren können, sind Sie doch von der Lösungsgüte etwas enttäuscht. Selbst die SPT Regel führt zu fast 10% Abweichung von der optimalen Lösung. Aus diesem Grund erachten Sie es als sinnvoll, aufwendigere konstruktive Verfahren zu analysieren. Schnell stellen Sie fest, dass die NEH Heuristik zu den am meisten verwendeten Ansätzen gehört und häufig sehr gute Startlösungen liefert. Deshalb wollen Sie im Folgenden selbst eine Methode **NEH()** schreiben und das Verfahren implementieren."
   ]
  },
  {
   "cell_type": "code",
   "execution_count": 21,
   "metadata": {},
   "outputs": [
    {
     "name": "stdout",
     "output_type": "stream",
     "text": [
      "The Permutation [7, 0, 4, 8, 2, 10, 3, 6, 5, 1, 9] results in a Makespan of 7038\n"
     ]
    }
   ],
   "source": [
    "from copy import deepcopy\n",
    "\n",
    "def DetermineBestInsertion(solution,   jobToInsert):\n",
    "    ###\n",
    "    # insert job at front of permutation\n",
    "    solution.Permutation.insert(0, jobToInsert)\n",
    "    bestPermutation = deepcopy(solution.Permutation)\n",
    "    \n",
    "    EvaluationLogic().DefineStartEnd(solution)\n",
    "    bestCmax = solution.Makespan\n",
    "\n",
    "    ###\n",
    "    # swap job i to each position and check for improvement\n",
    "    lengthPermutation = len(solution.Permutation) - 1\n",
    "    for j in range(0, lengthPermutation):\n",
    "        solution.Permutation[j], solution.Permutation[j + 1] = solution.Permutation[j+1], solution.Permutation[j]\n",
    "        EvaluationLogic().DefineStartEnd(solution)\n",
    "        if(solution.Makespan < bestCmax):\n",
    "            bestCmax = solution.Makespan\n",
    "            bestPermutation = [x for x in solution.Permutation]\n",
    "\n",
    "    solution.Makespan = bestCmax\n",
    "    solution.Permutation = bestPermutation\n",
    "\n",
    "def NEH(jobList):\n",
    "    jobPool = []\n",
    "    tmpPerm = []\n",
    "    bestCmax = 0\n",
    "    # Calculate sum of processing times and sort\n",
    "    for i in range(len(jobList)):\n",
    "        jobPool.append((i,sum(jobList[i].ProcessingTime(x) for x in range(len(jobList[i].Operations)))))\n",
    "    jobPool.sort(key=lambda x: x[1], reverse=True)\n",
    "\n",
    "    # Initalize input\n",
    "    tmpNEHOrder = [x[0] for x in jobPool]\n",
    "    tmpPerm.append(tmpNEHOrder[0])\n",
    "    tmpSolution = Solution(jobList,tmpPerm)\n",
    "\n",
    "    # Add next jobs in a loop and check all permutations\n",
    "    for i in range(1,len(tmpNEHOrder)):\n",
    "        # add next job to end and calculate makespan\n",
    "        DetermineBestInsertion(tmpSolution, tmpNEHOrder[i])\n",
    "    \n",
    "    return tmpSolution\n",
    "\n",
    "NEHSol = NEH(data.InputJobs)    \n",
    "print(NEHSol)\n",
    "\n"
   ]
  },
  {
   "cell_type": "code",
   "execution_count": 22,
   "metadata": {},
   "outputs": [
    {
     "name": "stdout",
     "output_type": "stream",
     "text": [
      "The Permutation [7, 0, 4, 8, 2, 10, 3, 6, 5, 1, 9] results in a Makespan of 7038\n"
     ]
    }
   ],
   "source": [
    "from copy import deepcopy\n",
    "\n",
    "\n",
    "def DetermineBestInsertion(solution, jobToInsert):\n",
    "\n",
    "    ###\n",
    "    # 把订单jobToInsert插入到当前Permutation的首位。（当前Permutation只有一个元素，即初始NEH排列的第一个元素）\n",
    "    solution.Permutation.insert(0, jobToInsert) # insert函数，在索引位置插入数据，索引后面的往后顺移一位。初始肯定在第0位插入\n",
    "    bestPermutation = deepcopy(solution.Permutation) #创建一个新的排列，不能修改原本的排列\n",
    "\n",
    "    EvaluationLogic().DefineStartEnd(solution)\n",
    "    bestCmax = solution.Makespan\n",
    "\n",
    "    ###\n",
    "    # 把位于首位的jobToInsert逐位右移，并比较Makespan\n",
    "    lengthPermutation = len(solution.Permutation) - 1\n",
    "    for j in range(0, lengthPermutation): # 只看这个函数的定义，现在只安排了两个订单。一个是输入的，另一个是插入的\n",
    "        solution.Permutation[j], solution.Permutation[j+1] = solution.Permutation[j+1], solution.Permutation[j]\n",
    "\n",
    "        EvaluationLogic().DefineStartEnd(solution)\n",
    "        if (solution.Makespan < bestCmax):\n",
    "            bestCmax = solution.Makespan\n",
    "            bestPermutation = [x for x in solution.Permutation] # 这里思考为什么不能把solution.Permutation 直接赋给bestPerm\n",
    "\n",
    "    solution.Makespan = bestCmax\n",
    "    solution.Permutation = bestPermutation\n",
    "\n",
    "def NEH(jobList):\n",
    "    jobPool = []\n",
    "    tmpPerm = []\n",
    "    bestCmax = 0\n",
    "\n",
    "    # 计算总加工时间并降序排列 --> 即生成NEH初始序列\n",
    "    for i in range(len(jobList)):\n",
    "        jobPool.append((i, sum(jobList[i].ProcessingTime(x) for x in range(len(jobList[i].Operations)))))\n",
    "\n",
    "        jobPool.sort(key = lambda x: x[1], reverse = True)\n",
    "\n",
    "    # 初始化输入， 从NEH的第一步开始执行\n",
    "    tmpNEHOrder = [x[0] for x in jobPool] # x是个元组，x[1]是元组的第二个元素，也就是订单总的加工时间。实际上总时长在这里没有意义,因为顺序会被打乱\n",
    "    tmpPerm.append(tmpNEHOrder[0]) # 在初始情况下，临时排列只有一个元素，跟DetermineBestInsertion的输入对上了\n",
    "    tmpSolution = Solution(jobList, tmpPerm)  # 这里存疑，Solution类能否接受一个不完整的tmpPerm？\n",
    "\n",
    "    # 借助循环，往当前的解决方案中插入后面的元素\n",
    "    for i in range(1, len(tmpNEHOrder)):\n",
    "        # 利用DetermineBestInsertion函数插入元素并计算时长\n",
    "        DetermineBestInsertion(tmpSolution, tmpNEHOrder[i])\n",
    "\n",
    "    return tmpSolution\n",
    "\n",
    "\n",
    "NEHSloution = NEH(data.InputJobs)\n",
    "print(NEHSloution)"
   ]
  },
  {
   "cell_type": "markdown",
   "metadata": {},
   "source": [
    "Erwarteter Output:\n",
    "\n",
    "    The permutation [7, 0, 4, 8, 2, 10, 3, 6, 5, 1, 9] results in a Makespan of 7038"
   ]
  },
  {
   "cell_type": "markdown",
   "metadata": {},
   "source": [
    "#### e.)\n",
    "\n",
    "Glücklich darüber, dass Sie mit Hilfe der NEH eine sehr gute Lösung gefunden haben. Wollen Sie Ihre implementierten konstruktiven Lösungsansätze abschließend in einer eigenen Klasse zusammenfassen. Nennen Sie die neue Klasse **ConstructiveHeuristic**. Damit Sie zukünftig einfach auf die einzelnen Methoden zugreifen können, entscheiden Sie sich, eine Hauptroutine zu schreiben, über welche Sie unter Angabe der jeweiligen konstruktiven Heuristik auf die Methoden zugreifen können."
   ]
  },
  {
   "cell_type": "code",
   "execution_count": 23,
   "metadata": {},
   "outputs": [
    {
     "name": "stdout",
     "output_type": "stream",
     "text": [
      "The Permutation [0, 1, 2, 3, 4, 5, 6, 7, 8, 9, 10] results in a Makespan of 9298\n",
      "The Permutation [2, 7, 8, 0, 3, 4, 6, 10, 1, 5, 9] results in a Makespan of 7718\n",
      "The Permutation [9, 5, 1, 6, 10, 4, 3, 0, 8, 7, 2] results in a Makespan of 10649\n",
      "The Permutation [ 7  0  8  2  4  9  6  3 10  5  1] results in a Makespan of 7190\n",
      "The Permutation [7, 0, 4, 8, 2, 10, 3, 6, 5, 1, 9] results in a Makespan of 7038\n"
     ]
    }
   ],
   "source": [
    "class ConstructiveHeuristic:\n",
    "    def Run(self, inputData, solutionMethod):\n",
    "        if solutionMethod == 'FCFS':\n",
    "            solution = FirstComeFirstServe(inputData.InputJobs)\n",
    "        elif solutionMethod == 'SPT':\n",
    "            solution = ShortestProcessingTime(inputData.InputJobs)\n",
    "        elif solutionMethod == 'LPT':\n",
    "            solution = LongestProcessingTime(inputData.InputJobs)\n",
    "        elif solutionMethod == 'ROS':\n",
    "            solution = ROS(inputData.InputJobs, 100, 2022)\n",
    "        elif solutionMethod == 'NEH':\n",
    "            solution = NEH(inputData.InputJobs)\n",
    "        else:\n",
    "            print('Unknown constructive solution method!')\n",
    "\n",
    "        return solution\n",
    "\n",
    "\n",
    "print(ConstructiveHeuristic().Run(data, 'FCFS'))\n",
    "print(ConstructiveHeuristic().Run(data, 'SPT'))\n",
    "print(ConstructiveHeuristic().Run(data, 'LPT'))\n",
    "print(ConstructiveHeuristic().Run(data, 'ROS'))\n",
    "print(ConstructiveHeuristic().Run(data, 'NEH'))\n",
    "\n"
   ]
  },
  {
   "cell_type": "code",
   "execution_count": null,
   "metadata": {},
   "outputs": [
    {
     "ename": "NameError",
     "evalue": "name 'Run' is not defined",
     "output_type": "error",
     "traceback": [
      "\u001b[1;31m---------------------------------------------------------------------------\u001b[0m",
      "\u001b[1;31mNameError\u001b[0m                                 Traceback (most recent call last)",
      "\u001b[1;32mg:\\6.Semester\\Prescriptive Analytics\\Seminar 3\\Lesson_03_ConstructiveHeuristics.ipynb Cell 43'\u001b[0m in \u001b[0;36m<cell line: 19>\u001b[1;34m()\u001b[0m\n\u001b[0;32m     <a href='vscode-notebook-cell:/g%3A/6.Semester/Prescriptive%20Analytics/Seminar%203/Lesson_03_ConstructiveHeuristics.ipynb#ch0000048?line=13'>14</a>\u001b[0m             \u001b[39mprint\u001b[39m(\u001b[39m'\u001b[39m\u001b[39mUnknown constructive solution method!\u001b[39m\u001b[39m'\u001b[39m)\n\u001b[0;32m     <a href='vscode-notebook-cell:/g%3A/6.Semester/Prescriptive%20Analytics/Seminar%203/Lesson_03_ConstructiveHeuristics.ipynb#ch0000048?line=15'>16</a>\u001b[0m         \u001b[39mreturn\u001b[39;00m solution\n\u001b[1;32m---> <a href='vscode-notebook-cell:/g%3A/6.Semester/Prescriptive%20Analytics/Seminar%203/Lesson_03_ConstructiveHeuristics.ipynb#ch0000048?line=18'>19</a>\u001b[0m \u001b[39mprint\u001b[39m(Run(data, \u001b[39m'\u001b[39m\u001b[39mFCFS\u001b[39m\u001b[39m'\u001b[39m))\n",
      "\u001b[1;31mNameError\u001b[0m: name 'Run' is not defined"
     ]
    }
   ],
   "source": [
    "\n",
    "    def Run(inputData, solutionMethod):\n",
    "        if solutionMethod == 'FCFS':\n",
    "            solution = FirstComeFirstServe(inputData.InputJobs)\n",
    "        elif solutionMethod == 'SPT':\n",
    "            solution = ShortestProcessingTime(inputData.InputJobs)\n",
    "        elif solutionMethod == 'LPT':\n",
    "            solution = LongestProcessingTime(inputData.InputJobs)\n",
    "        elif solutionMethod == 'ROS':\n",
    "            solution = ROS(inputData.InputJobs)\n",
    "        elif solutionMethod == 'NEH':\n",
    "            solution = NEH(inputData.InputJobs)\n",
    "        else:\n",
    "            print('Unknown constructive solution method!')\n",
    "\n",
    "        return solution\n",
    "\n",
    "\n",
    "print(Run(data, 'FCFS'))"
   ]
  },
  {
   "cell_type": "code",
   "execution_count": null,
   "metadata": {},
   "outputs": [],
   "source": [
    "def Run(inputData, solutionMethod):\n",
    "    if solutionMethod == 'FCFS':\n",
    "        solution = FirstComeFirstServe(inputData.InputJobs)\n",
    "        elif solutionMethod == 'SPT':\n",
    "            solution = ShortestProcessingTime(inputData.InputJobs)\n",
    "        elif solutionMethod == 'LPT':\n",
    "            solution = LongestProcessingTime(inputData.InputJobs)\n",
    "        elif solutionMethod == 'ROS':\n",
    "            solution = ROS(inputData.InputJobs)\n",
    "        elif solutionMethod == 'NEH':\n",
    "            solution = NEH(inputData.InputJobs)\n",
    "        else:\n",
    "            print('Unknown constructive solution method!')\n",
    "\n",
    "        return solution"
   ]
  },
  {
   "cell_type": "markdown",
   "metadata": {},
   "source": [
    "---\n",
    "### 3. Liefertreue \n",
    "--- \n",
    "Ihre bisherigen Lösungsversuchen konzentrieren sich auf eine möglichst effiziente Fertigung, indem die Kapazitäten möglichst gut ausgelastet werden. Allerdings stellt für Dr. Best auch die Liefertreue ein wichtiges Kriterium dar, damit die Kunden immer pünklich ihre Zähne putzen können. Deshalb soll im Folgenden **Total Tardiness** als alternatives Zielkriterium betrachtet werden.\n",
    "\n",
    "a) \n",
    "Welche gesamten Verspätungen ergeben sich mit den bisherigen konstruktiven Lösungsansätzen **NEH**, **SPT** und **FCFS**? Schreiben Sie zuvor zwei Methoden in der Klasse EvaluationLogic, welche Total Tardiness und Total Weighted Tardiness berechnen."
   ]
  },
  {
   "cell_type": "code",
   "execution_count": null,
   "metadata": {},
   "outputs": [
    {
     "name": "stdout",
     "output_type": "stream",
     "text": [
      "NEH Regel führt zu gesamten Verspätungen von: -1\n"
     ]
    },
    {
     "ename": "NameError",
     "evalue": "name 'FCFSSol' is not defined",
     "output_type": "error",
     "traceback": [
      "\u001b[1;31m---------------------------------------------------------------------------\u001b[0m",
      "\u001b[1;31mNameError\u001b[0m                                 Traceback (most recent call last)",
      "\u001b[1;32mg:\\6.Semester\\Prescriptive Analytics\\Seminar 3\\Lesson_03_ConstructiveHeuristics.ipynb Cell 46'\u001b[0m in \u001b[0;36m<cell line: 25>\u001b[1;34m()\u001b[0m\n\u001b[0;32m     <a href='vscode-notebook-cell:/g%3A/6.Semester/Prescriptive%20Analytics/Seminar%203/Lesson_03_ConstructiveHeuristics.ipynb#ch0000040?line=22'>23</a>\u001b[0m \u001b[39mprint\u001b[39m(\u001b[39m\"\u001b[39m\u001b[39mNEH Regel führt zu gesamten Verspätungen von: \u001b[39m\u001b[39m\"\u001b[39m\u001b[39m+\u001b[39m \u001b[39mstr\u001b[39m(NEHSol\u001b[39m.\u001b[39mTotalTardiness))\n\u001b[0;32m     <a href='vscode-notebook-cell:/g%3A/6.Semester/Prescriptive%20Analytics/Seminar%203/Lesson_03_ConstructiveHeuristics.ipynb#ch0000040?line=23'>24</a>\u001b[0m EvaluationLogic()\u001b[39m.\u001b[39mCalculateTardiness(FCFSSolution)\n\u001b[1;32m---> <a href='vscode-notebook-cell:/g%3A/6.Semester/Prescriptive%20Analytics/Seminar%203/Lesson_03_ConstructiveHeuristics.ipynb#ch0000040?line=24'>25</a>\u001b[0m \u001b[39mprint\u001b[39m(\u001b[39m\"\u001b[39m\u001b[39mFCFS Regel führt zu gesamten Verspätungen von: \u001b[39m\u001b[39m\"\u001b[39m\u001b[39m+\u001b[39m \u001b[39mstr\u001b[39m(FCFSSol\u001b[39m.\u001b[39mTotalTardiness))\n\u001b[0;32m     <a href='vscode-notebook-cell:/g%3A/6.Semester/Prescriptive%20Analytics/Seminar%203/Lesson_03_ConstructiveHeuristics.ipynb#ch0000040?line=25'>26</a>\u001b[0m EvaluationLogic()\u001b[39m.\u001b[39mCalculateTardiness(SPTSloution)\n\u001b[0;32m     <a href='vscode-notebook-cell:/g%3A/6.Semester/Prescriptive%20Analytics/Seminar%203/Lesson_03_ConstructiveHeuristics.ipynb#ch0000040?line=26'>27</a>\u001b[0m \u001b[39mprint\u001b[39m(\u001b[39m\"\u001b[39m\u001b[39mSPT Regel führt zu gesamten Verspätungen von: \u001b[39m\u001b[39m\"\u001b[39m\u001b[39m+\u001b[39m \u001b[39mstr\u001b[39m(SPTSloution\u001b[39m.\u001b[39mTotalTardiness))\n",
      "\u001b[1;31mNameError\u001b[0m: name 'FCFSSol' is not defined"
     ]
    }
   ],
   "source": [
    "def CalculateTardiness(self, currentSolution):\n",
    "        totalTardiness = 0\n",
    "        for key in currentSolution.OutputJobs:\n",
    "            if(currentSolution.OutputJobs[key].EndTimes[-1] - currentSolution.OutputJobs[key].DueDate > 0): # verspaetung\n",
    "                currentSolution.OutputJobs[key].Tardiness = currentSolution.OutputJobs[key].EndTimes[-1] - currentSolution.OutputJobs[key].DueDate\n",
    "                totalTardiness += currentSolution.OutputJobs[key].EndTimes[-1] - currentSolution.OutputJobs[key].DueDate\n",
    "        currentSolution.TotalTardiness = totalTardiness       \n",
    "\n",
    "setattr(EvaluationLogic,\"CalculateTardiness\",CalculateTardiness)\n",
    "\n",
    "def CalculateWeightedTardiness(self, currentSolution):\n",
    "    totalWeightedTardiness = 0\n",
    "    for key in currentSolution.OutputJobs:\n",
    "        if(currentSolution.OutputJobs[key].EndTimes[-1] - currentSolution.OutputJobs[key].DueDate > 0):\n",
    "            currentSolution.OutputJobs[key].Tardiness = currentSolution.OutputJobs[key].EndTimes[-1] - currentSolution.OutputJobs[key].DueDate\n",
    "            totalWeightedTardiness += (currentSolution.OutputJobs[key].EndTimes[-1] - currentSolution.OutputJobs[key].DueDate) * currentSolution.OutputJobs[key].TardCost\n",
    "    currentSolution.TotalWeightedTardiness = totalWeightedTardiness\n",
    "\n",
    "setattr(EvaluationLogic,\"CalculateWeightedTardiness\",CalculateWeightedTardiness)\n",
    "\n",
    "\n",
    "EvaluationLogic().CalculateTardiness(NEHSloution)\n",
    "print(\"NEH Regel führt zu gesamten Verspätungen von: \"+ str(NEHSol.TotalTardiness))\n",
    "EvaluationLogic().CalculateTardiness(FCFSSolution)\n",
    "print(\"FCFS Regel führt zu gesamten Verspätungen von: \"+ str(FCFSSol.TotalTardiness))\n",
    "EvaluationLogic().CalculateTardiness(SPTSloution)\n",
    "print(\"SPT Regel führt zu gesamten Verspätungen von: \"+ str(SPTSloution.TotalTardiness))"
   ]
  },
  {
   "cell_type": "markdown",
   "metadata": {},
   "source": [
    "Erwarteter Output:\n",
    "\n",
    "    NEH Regel führt zu gesamten Verspätungen von: 18152\n",
    "    FCFS Regel führt zu gesamten Verspätungen von: 26812\n",
    "    SPT Regel führt zu gesamten Verspätungen von: 21866"
   ]
  },
  {
   "cell_type": "code",
   "execution_count": 24,
   "metadata": {},
   "outputs": [
    {
     "name": "stdout",
     "output_type": "stream",
     "text": [
      "NEH rule leads to total delays of: 18152\n",
      "FCFS rule leads to total delays of: 26812\n",
      "SPT rule leads to total delays of: 21866\n",
      "NEH rule leads to total weighted delays of: 3630400\n",
      "FCFS rule leads to total weighted delays of: 5362400\n",
      "SPT rule leads to total weighted delays of: 4373200\n"
     ]
    }
   ],
   "source": [
    "def CalculateTardiness(self, currentSolution):\n",
    "\n",
    "    totalTardiness = 0\n",
    "    for key in currentSolution.OutputJobs: # 直接对字典进行遍历，遍历的是字典的key\n",
    "        if(currentSolution.OutputJobs[key].EndTimes[-1] > currentSolution.OutputJobs[key].DueDate):\n",
    "            currentSolution.OutputJobs[key].Tardiness = currentSolution.OutputJobs[key].EndTimes[-1] - currentSolution.OutputJobs[key].DueDate\n",
    "            totalTardiness += currentSolution.OutputJobs[key].EndTimes[-1] - currentSolution.OutputJobs[key].DueDate\n",
    "    currentSolution.TotalTardiness = totalTardiness\n",
    "\n",
    "setattr(EvaluationLogic, 'CalculateTardiness', CalculateTardiness)\n",
    "\n",
    "\n",
    "\n",
    "def CalculateWeightedTardiness(self, currentSolution):\n",
    "    \n",
    "    totalWeightedTardiness = 0\n",
    "    for key in currentSolution.OutputJobs:\n",
    "        if(currentSolution.OutputJobs[key].EndTimes[-1] > currentSolution.OutputJobs[key].DueDate):\n",
    "            currentSolution.OutputJobs[key].Tardiness = currentSolution.OutputJobs[key].EndTimes[-1] - currentSolution.OutputJobs[key].DueDate\n",
    "            totalWeightedTardiness += (currentSolution.OutputJobs[key].EndTimes[-1] - currentSolution.OutputJobs[key].DueDate) * currentSolution.OutputJobs[key].TardCost\n",
    "    currentSolution.TotalWeightedTardiness = totalWeightedTardiness\n",
    "\n",
    "setattr(EvaluationLogic, 'CalculateWeightedTardiness', CalculateWeightedTardiness)\n",
    "\n",
    "\n",
    "\n",
    "\n",
    "# 下面进行计算，记住，上面两个函数都被写在EvaluationLogic中，要想调用这两个函数必须先将EvaluationLogic实例化\n",
    "EvaluationLogic().CalculateTardiness(NEHSloution)\n",
    "print(f'NEH rule leads to total delays of: {NEHSloution.TotalTardiness}')\n",
    "EvaluationLogic().CalculateTardiness(FCFSSolution)\n",
    "print(f'FCFS rule leads to total delays of: {FCFSSolution.TotalTardiness}')\n",
    "EvaluationLogic().CalculateTardiness(SPTSloution)\n",
    "print(f'SPT rule leads to total delays of: {SPTSloution.TotalTardiness}')\n",
    "\n",
    "\n",
    "EvaluationLogic().CalculateWeightedTardiness(NEHSloution)\n",
    "print(f'NEH rule leads to total weighted delays of: {NEHSloution.TotalWeightedTardiness}')\n",
    "EvaluationLogic().CalculateWeightedTardiness(FCFSSolution)\n",
    "print(f'FCFS rule leads to total weighted delays of: {FCFSSolution.TotalWeightedTardiness}')\n",
    "EvaluationLogic().CalculateWeightedTardiness(SPTSloution)\n",
    "print(f'SPT rule leads to total weighted delays of: {SPTSloution.TotalWeightedTardiness}')\n",
    "\n"
   ]
  },
  {
   "cell_type": "markdown",
   "metadata": {},
   "source": [
    "#### b)\n",
    "Da die bisherigen konstruktiven Lösungsansätze noch nicht auf Tardiness ausgerichtet sind, vermuten Sie, dass noch Potential zur Verbesserung besteht. Deshalb wollen Sie im Folgenden die Entscheidungsregel **Earliest Due Date** zur Lösungserzeugung nutzen. Schreiben Sie dafür eine entsprechende Funktion. Wie hoch sind hierbei die Verspätungen?"
   ]
  },
  {
   "cell_type": "code",
   "execution_count": 30,
   "metadata": {},
   "outputs": [
    {
     "name": "stdout",
     "output_type": "stream",
     "text": [
      "EDD rule leads to total weighted delays of: 0\n"
     ]
    }
   ],
   "source": [
    "def EarliestDueDate(jobList):\n",
    "    tmpPermutation = sorted(range(len(jobList)), key = lambda x: jobList[x].DueDate)\n",
    "    tmpSolution = Solution(jobList, tmpPermutation)\n",
    "\n",
    "    # EvaluationLogic().DefineStartEnd(tmpSolution)\n",
    "    EvaluationLogic().CalculateTardiness(tmpSolution)\n",
    "\n",
    "    return (tmpSolution)\n",
    "\n",
    "\n",
    "EDDSol = EarliestDueDate(data.InputJobs)\n",
    "print(f'EDD rule leads to total weighted delays of: {EDDSol.TotalTardiness}')\n",
    "\n",
    "\n"
   ]
  },
  {
   "cell_type": "code",
   "execution_count": 35,
   "metadata": {},
   "outputs": [
    {
     "name": "stdout",
     "output_type": "stream",
     "text": [
      "EDD rule leads to total weighted delays of: 15859\n"
     ]
    }
   ],
   "source": [
    "from InputData import *\n",
    "def EarliestDueDate(jobList):\n",
    "    tmpPermutation = sorted(range(len(jobList)), key = lambda x: jobList[x].DueDate)\n",
    "    tmpSolution = Solution(jobList, tmpPermutation)\n",
    "\n",
    "    EvaluationLogic().DefineStartEnd(tmpSolution)\n",
    "    EvaluationLogic().CalculateTardiness(tmpSolution)\n",
    "\n",
    "    return tmpSolution\n",
    "\n",
    "\n",
    "EDDSol = EarliestDueDate(data.InputJobs)\n",
    "print(f'EDD rule leads to total weighted delays of: {EDDSol.TotalTardiness}')"
   ]
  },
  {
   "cell_type": "markdown",
   "metadata": {},
   "source": [
    "Erwarteter Output:\n",
    "   \n",
    "    EDD Regel führt zu gesamten Verspätungen von: 15859"
   ]
  }
 ],
 "metadata": {
  "interpreter": {
   "hash": "e42634819b8c191a5d07eaf23810ff32516dd8d3875f28ec3e488928fbd3c187"
  },
  "kernelspec": {
   "display_name": "Python 3.8.8 ('base')",
   "language": "python",
   "name": "python3"
  },
  "language_info": {
   "codemirror_mode": {
    "name": "ipython",
    "version": 3
   },
   "file_extension": ".py",
   "mimetype": "text/x-python",
   "name": "python",
   "nbconvert_exporter": "python",
   "pygments_lexer": "ipython3",
   "version": "3.8.8"
  },
  "orig_nbformat": 2
 },
 "nbformat": 4,
 "nbformat_minor": 2
}
