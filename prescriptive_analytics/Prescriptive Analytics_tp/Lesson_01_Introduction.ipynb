{
 "cells": [
  {
   "cell_type": "markdown",
   "metadata": {},
   "source": [
    "---\n",
    "# Seminar 1 - Grundlagen\n",
    "---\n",
    "\n",
    "### Hinweis: Speichern eines Notebooks immer über: STRG+S/ CMD+S oder das Disketten-Symbol. Die Option File --> Save funktioniert bei Notebooks nicht!!\n",
    "\n",
    "\n",
    "## 1. Podcast-Sendezeit\n",
    "\n",
    "Sie haben es geschafft und konnten sich einen der begehrten Praktikumsplätze im Team des Podcast-Newcomers \"OR\" ergattern. Ihre erste Aufgabe besteht darin, herauszufinden, wie viele Sendeminuten der Podcast wöchentlich hat.\n",
    "\n",
    "1. Eine Podcastfolge dauert im Durchschnitt 70 Minuten. Dies soll aber variabel anpassbar sein. (Variable)\n",
    "2. Zusätzlich werden pro Folge 3 Werbeblöcke à 3 Minuten eingespielt.\n",
    "3. Wöchentlich werden 2 Podcasts veröffentlicht.\n",
    "4. Die Redaktionschefin bittet Sie, das Ergebnis in Stunden gerundet auf zwei Nachkommastellen auszugeben.\n",
    "5. Des Weiteren soll nicht nur einfach eine Zahl ausgegeben werden, sondern ein Satz: \"Bei einer Podcastlänge von XX Minuten ergeben sich Y.YY Stunden Sendezeit pro Woche.\"\n",
    "\n",
    "### a.)\n",
    "\n",
    "Schreiben Sie bitte ein Skript, welches die Berechnung übernimmt und geben Sie das Ergebnis aus.\n"
   ]
  },
  {
   "cell_type": "code",
   "execution_count": null,
   "metadata": {},
   "outputs": [],
   "source": []
  },
  {
   "cell_type": "markdown",
   "metadata": {},
   "source": [
    "### b.)\n",
    "\n",
    "Informieren Sie sich bitte im Internet, welche weiteren Möglichkeiten es gibt, Zeichenketten für eine Ausgabe zu formatieren.\n",
    "\n",
    "**Tipp:**\n",
    "<details>\n",
    "\n",
    "Schreiben Sie den Ausgabebefehl von Aufgabe a) als \"\".format() und f\"\"-Ausgabe.\n",
    "</details>"
   ]
  },
  {
   "cell_type": "code",
   "execution_count": null,
   "metadata": {},
   "outputs": [],
   "source": []
  },
  {
   "cell_type": "markdown",
   "metadata": {},
   "source": [
    "Erwarteter Output:\n",
    "\n",
    "    Bei einer Podcastlänge von 70 Minuten ergeben sich ..."
   ]
  },
  {
   "cell_type": "markdown",
   "metadata": {},
   "source": [
    "## 2. Chaos in der Mailingliste\n",
    "\n",
    "Die Hörer des Podcasts haben die Möglichkeit, sich für einen Newsletter anzumelden. So erfahren sie schnellstmöglich, wann es eine neue Podcast-Folge gibt. Dabei ist aufgefallen, dass manche Mailadressen den Namen erst hinter dem @-Zeichen haben. \n",
    "\n",
    "### a.)\n",
    "\n",
    "Entwickeln Sie bitte einen Python-Ausdruck, der die Namen hinter dem @-Zeichen als Elemente einer Liste ausgibt. "
   ]
  },
  {
   "cell_type": "code",
   "execution_count": null,
   "metadata": {},
   "outputs": [],
   "source": [
    "mail = \"service@klara_Klarna.com\"\n"
   ]
  },
  {
   "cell_type": "markdown",
   "metadata": {},
   "source": [
    "Erwarteter Output:\n",
    "\n",
    "    ['klara', 'Klarna']"
   ]
  },
  {
   "cell_type": "markdown",
   "metadata": {},
   "source": [
    "### b.)\n",
    "\n",
    "Nachdem Sie nun die Namen der AbonnetInnen zu den jeweiligen E-Mail-Adressen zuordnen können, stellt die Chefredakteurin Ihnen eine neue Aufgabe. Überführen Sie bitte die folgende Tabelle in ein Dictionary bestehend aus den Namen als Keys und den E-Mail-Adressen als Values:\n",
    "\n",
    "| Name      \t|   \t| E-Mail                          \t|\n",
    "|:-----------\t|---\t|:---------------------------------\t|\n",
    "| Klara     \t|    \t| service@klara_Klarna.com        \t|\n",
    "| Sebastian \t|    \t| Sebastian_Duesentrieb@gmail.com \t|\n",
    "| Britta    \t|    \t| bwiebritta@yahoo.com            \t|\n",
    "| Klaus     \t|    \t| Klaus@peter.de                  \t|\n",
    "\n",
    "Legen Sie dazu zunächst zwei Listen an, die Sie dann zusammenführen können.\n",
    "\n",
    "**Tipp:**\n",
    "<details>\n",
    "\n",
    "Nutzen Sie die Funktion `enumerate()` um die Indizes und Elemente einer Liste zu verwenden.\n",
    "</details>"
   ]
  },
  {
   "cell_type": "code",
   "execution_count": null,
   "metadata": {},
   "outputs": [],
   "source": []
  },
  {
   "cell_type": "markdown",
   "metadata": {},
   "source": [
    "## 3. Anpassung der Werbeeinnahmen\n",
    "\n",
    "Die Freude im Podcast-Team ist rießig. Zuletzt kamen immer mehr interessierte ZuhörerInnen hinzu und so konnte die Zuhörerzahl in den letzten 3 Monaten um 400% gesteigert werden. Der kaufmännische Leiter des Teams will daher die Einnahmen durch die angebotenen Werbepakete \"optimieren\". \n",
    "\n",
    "Im Moment existieren vier Werbepakete für den Podcast. Bisher wurden immer kundenspezifische Preise bis zu einer Höchstgrenze für jedes Paket verhandelt.\n",
    "\n",
    "1. Paket \"Einleitung\", Kosten bis 350 €\n",
    "2. Paket \"Mitte\", Kosten bis 300 €\n",
    "3. Paket \"Komplett\", Kosten bis 600 €\n",
    "4. Paket \"Zwischendurch\", bis 800 €\n",
    "\n",
    "### a.)\n",
    "\n",
    "Der kaufmännische Leiter hat beschlossen, dass aufgrund der deutlich vergrößerten Reichweite folgende Preisanpassungen wohl gerechtfertigt sind:\n",
    "Die Pakete bis 400 € werden um 10% angehoben, die Pakete zwischen 400 und 600 € um 20% und die Pakete über 600 € um 25%.\n",
    "\n",
    "Bitte setzen Sie die Preisanpassung in einem Pythonskript um, sodass der neue Preis in Abhängigkeit eines variablen Eingabepreises ausgegeben wird."
   ]
  },
  {
   "cell_type": "code",
   "execution_count": null,
   "metadata": {},
   "outputs": [],
   "source": [
    "input_price = 333"
   ]
  },
  {
   "cell_type": "markdown",
   "metadata": {},
   "source": [
    "Erwarteter Output:\n",
    "\n",
    "    366.3"
   ]
  },
  {
   "cell_type": "markdown",
   "metadata": {},
   "source": [
    "### b.)\n",
    "\n",
    "Durch den Erfolg des Podcasts sind nun auch die Zeiten der kundenspezifischen Preise und Verhandlungen vorbei. Jedes Paket hat ab jetzt den oben genannten Maximalpreis als Festpreis.\n",
    "\n",
    "Bitte speichern Sie die Paketpreise in eine Liste und generieren Sie mithilfe dieser Liste eine neue Liste, in der die neuen Preis zu finden sind."
   ]
  },
  {
   "cell_type": "code",
   "execution_count": null,
   "metadata": {},
   "outputs": [],
   "source": []
  },
  {
   "cell_type": "markdown",
   "metadata": {},
   "source": [
    "Erwarteter Output:\n",
    "\n",
    "    [385, 330, 720, 1000]"
   ]
  },
  {
   "cell_type": "markdown",
   "metadata": {},
   "source": [
    "### c.) \n",
    "\n",
    "Nun ist Kassensturz angesagt! Ihr kaufmännischer Leiter will jetzt wissen, was die Preisanpassung in den vergangenen Wochen gebracht hat. \n",
    "\n",
    "Dafür soll eine Funktion geschrieben werden, welcher zwei Listen (Preise und Verkaufszahlen) als Parameter übergeben werden und diese Funktion, dann den **Umsatz** zurückgibt.\n",
    "\n",
    "\n",
    "Hinweis: Sie können annehmen, dass die Indizierung der beiden Listen identisch ist, d.h. der erste Eintrag in der Preisliste gehört zum ersten Eintrag in der Liste der Verkaufszahlen."
   ]
  },
  {
   "cell_type": "code",
   "execution_count": null,
   "metadata": {},
   "outputs": [],
   "source": [
    "\n",
    "sales = [3, 5, 7, 4]\n",
    "oldPrice = [350, 300, 600, 800]\n",
    "newPrice = [385, 330, 720, 1000]"
   ]
  },
  {
   "cell_type": "markdown",
   "metadata": {},
   "source": [
    "Erwarteter Output:\n",
    "\n",
    "    1895"
   ]
  },
  {
   "cell_type": "markdown",
   "metadata": {},
   "source": [
    "### d.)\n",
    "\n",
    "Informieren Sie sich bitte über die Möglichkeiten der lambda-Funktion. Setzen Sie bitte anschließend die Funktion **Umsatz** als lambda-Funktion um."
   ]
  },
  {
   "cell_type": "code",
   "execution_count": null,
   "metadata": {},
   "outputs": [],
   "source": []
  },
  {
   "cell_type": "markdown",
   "metadata": {},
   "source": [
    "Wie können lambda-Funktionen noch eingesetzt werden?"
   ]
  },
  {
   "cell_type": "markdown",
   "metadata": {},
   "source": [
    "## 4. Expansionswahnsinn\n",
    "\n",
    "Vom neuerlichen Erfolg des Podcasts getrieben schlägt der kaufmännische Leiter nun vor, mit einem englischsprachigen Ableger des Podcasts in die USA zu expandieren. Die Chefredakteurin ist noch skeptisch und beauftragt Sie mit der Analyse des Marktpotenzials. In der Zielgruppe des Podcasts sind laut Studien die meisten Personen zwischen 25 und 35 Jahren alt.\n",
    "\n",
    "### a.)\n",
    "\n",
    "Finden Sie daher heraus, wie viele US-BürgerInnen derzeit in der relevanten Altergruppe sind (einschließlich der genannten Grenzen). Leider hat die Chefredakteurin nur eine Tabelle auftreiben können, die alle Geburten nach Bundesstaaten und Vornamen gliedert. Versuchen Sie die benötigten Informationen aus diesem Datensatz zu generieren(births.csv)!"
   ]
  },
  {
   "cell_type": "code",
   "execution_count": null,
   "metadata": {},
   "outputs": [],
   "source": []
  },
  {
   "cell_type": "markdown",
   "metadata": {},
   "source": [
    "Erwarteter Output:\n",
    "\n",
    "    36976366"
   ]
  },
  {
   "cell_type": "code",
   "execution_count": null,
   "metadata": {},
   "outputs": [],
   "source": []
  },
  {
   "cell_type": "markdown",
   "metadata": {},
   "source": [
    "#### b.)\n",
    "\n",
    "Die Chef-Redakteurin ist von Ihrem Ergebnis angetan. Um das Programm passgenau auf die meisten potenziellen ZuhörerInnen abzustimmen, bittet sie Sie um eine weitere Analyse. \n",
    "\n",
    "Bitte finden Sie heraus, welches Alter die meisten Personen innerhalb der relevanten Altersgruppe haben. Nutzen Sie dabei ein Dictionary, welches als Schlüssel das Alter und als Wert die jeweilige Personenanzahl beinhaltet."
   ]
  },
  {
   "cell_type": "code",
   "execution_count": null,
   "metadata": {},
   "outputs": [],
   "source": []
  },
  {
   "cell_type": "markdown",
   "metadata": {},
   "source": [
    "Erwarteter Output:\n",
    "\n",
    "    31\n",
    "    3567577"
   ]
  }
 ],
 "metadata": {
  "kernelspec": {
   "display_name": "Python 3",
   "language": "python",
   "name": "python3"
  },
  "language_info": {
   "codemirror_mode": {
    "name": "ipython",
    "version": 3
   },
   "file_extension": ".py",
   "mimetype": "text/x-python",
   "name": "python",
   "nbconvert_exporter": "python",
   "pygments_lexer": "ipython3",
   "version": "3.8.5-final"
  },
  "orig_nbformat": 2
 },
 "nbformat": 4,
 "nbformat_minor": 2
}
