{
 "cells": [
  {
   "cell_type": "markdown",
   "metadata": {},
   "source": [
    "---\n",
    "# Seminar 2 - Objektorientierung\n",
    "---\n",
    "\n",
    "\n",
    "\n",
    "## 1. Podcast-Management\n",
    "\n",
    "Nachdem die Expansion in die USA aufgrund Ihrer Analysen nun beschlossene Sache ist, steht das Team vor der Aufgabe die einzelnen Podcastfolgen besser zu managen. Als letzte Aufgabe Ihres Praktikums werden Sie somit gebeten, das Management der einzelnen Podcasts in Python zu systematisieren. \n",
    "\n",
    "1. Erstellen Sie bitte eine Klasse *Podcast* mit den Eigenschaften *length*, *moderator* und *adverts*.\n",
    "2. Die ersten beiden Eigenschaften werden bei der Erzeugung eines neuen Objekts initialisiert. Die Werbeblöcke werden standardmäßig mit 0 initialisiert.\n",
    "3. Neben den Eigenschaften soll es zunächst nur eine Methode geben:\n",
    "- Mit der Methode `display` soll eine Zusammenfassung aller Informationen zur Folge ausgegeben werden.\n",
    "\n",
    "\n",
    "### a.)\n",
    "\n",
    "Erstellen Sie bitte die Klasse mit den genannten Eigenschaften und führen Sie anschließend die unten stehenden Befehle aus.\n"
   ]
  },
  {
   "cell_type": "code",
   "execution_count": 1,
   "metadata": {},
   "outputs": [
    {
     "name": "stdout",
     "output_type": "stream",
     "text": [
      "Podcast Folge Nr.: 23 mit ModeratorIn: O. Peratio\n",
      "\n",
      "Thema der Podcastfolge: Traveling Salesman Problems\n",
      "\n",
      "Länge der Podcastfolge: 70\n",
      "\n",
      "Aktuell verkaufte Werbeblöcke: 0\n",
      "\n"
     ]
    }
   ],
   "source": [
    "class Podcast:\n",
    "\n",
    "    def __init__(self, episode, title, length, moderator):\n",
    "        self.Episode = episode\n",
    "        self.Title = title\n",
    "        self.Length = length\n",
    "        self.Moderator = moderator\n",
    "        self.Adverts = 0\n",
    "    \n",
    "    def display(self):\n",
    "        print(\"Podcast Folge Nr.: \" +str(self.Episode) + \" mit ModeratorIn: \" + str(self.Moderator) + \"\\n\")\n",
    "        print(\"Thema der Podcastfolge: \" +str(self.Title) + \"\\n\")\n",
    "        print(\"Länge der Podcastfolge: \" +str(self.Length) + \"\\n\")\n",
    "        print(\"Aktuell verkaufte Werbeblöcke: \" +str(self.Adverts) + \"\\n\")\n",
    "\n",
    "\n",
    "newpodcast = Podcast(23, \"Traveling Salesman Problems\", 70, \"O. Peratio\")\n",
    "\n",
    "newpodcast.display()"
   ]
  },
  {
   "cell_type": "code",
   "execution_count": 1,
   "metadata": {},
   "outputs": [],
   "source": [
    "class Podcast:\n",
    "    def __init__(self, episode, title, length, moderator):\n",
    "        # 属性的初始化，注意有默认值的属性不需要写在构造函数的参数表中，构造对象时默认值会自动生成\n",
    "        self.Episode = episode\n",
    "        self.Title = title\n",
    "        self.Length = length\n",
    "        self.Modetator = moderator\n",
    "        self.Adverts = 0\n",
    "\n",
    "    # 定义成员函数，参数表只有self，self表示Podcast对象，该对象拥有全部属性\n",
    "    def display(self):\n",
    "        print(f'Podcast episode Nr.: {self.Episode} with moderator {self.Modetator}\\n')\n",
    "        print(f'Theme of this podcast episode: {self.Title}\\n')\n",
    "        print(f'Length of this podcast episode: {self.Length}\\n')\n",
    "        print(f'Advertising blocks currently sold: {self.Adverts}')\n",
    "\n",
    "\n"
   ]
  },
  {
   "cell_type": "code",
   "execution_count": 3,
   "metadata": {},
   "outputs": [
    {
     "name": "stdout",
     "output_type": "stream",
     "text": [
      "Podcast episode Nr.: 23 with moderator Square Pants Bob\n",
      "\n",
      "Theme of this podcast episode: Traveling Salesman Problems\n",
      "\n",
      "Length of this podcast episode: 70\n",
      "\n",
      "Advertising blocks currently sold: 0\n"
     ]
    }
   ],
   "source": [
    "newPodcast = Podcast(23, 'Traveling Salesman Problems', 70, 'Square Pants Bob')\n",
    "newPodcast.display()"
   ]
  },
  {
   "cell_type": "markdown",
   "metadata": {},
   "source": [
    "Erwartete Ausgabe:\n",
    "\n",
    "    Podcast Folge Nr.: 23 mit ModeratorIn: O. Peratio.\n",
    "\n",
    "    Thema der Podcastfolge: Traveling Salesman Problems\n",
    "\n",
    "    Länge der Podcastfolge: 70\n",
    "\n",
    "    Aktuell verkaufte Werbeblöcke: 0"
   ]
  },
  {
   "cell_type": "markdown",
   "metadata": {},
   "source": [
    "### b.)\n",
    "\n",
    "Die Grundstruktur der Klasse steht. Nun sollen weitere Anpassungen vorgenommen werden:\n",
    "\n",
    "1. Die Attribute des Objekts sollen nach Initialisierung nicht mehr von außen angesteuert werden können.\n",
    "2. Neben der bestehenden Methode sollen noch weitere Methoden intergiert werden:\n",
    "- Die Methode `setAdverts` fügt der Länge des Podcasts die 3-minütigen Werbeblöcke hinzu. Wie viele Werbeblöcke hinzugefügt werden, hängt von der mit gelieferten Anzahl ab. Die Anzahl der Werbeblöcke wird im entsprechenden Attribut gespeichert. Es dürfen nicht mehr als drei Werbeblöcke in einer Podcastfolge eingespielt werden.\n",
    "- Die Methode `getAdverts` gibt die aktuelle Anzahl an Werbeblöcken aus.\n",
    "- Mit der Methode `cut` kann ein Podcast gekürzt werden. Wie viele Minuten herausgeschnitten werden, hängt wiederum vom übergebenen Parameter ab. Jedoch soll dabei ein Grenzwert von 30 Minuten nicht unterschritten werden. Bei Unterschreitung dieser Grenze soll eine entsprechende Meldung erscheinen.\n",
    "\n",
    "Bitte erweitern Sie die Klasse *Podcast* entsprechend der Angaben und führen Sie anschließend den entsprechenden Code aus."
   ]
  },
  {
   "cell_type": "code",
   "execution_count": 2,
   "metadata": {},
   "outputs": [
    {
     "name": "stdout",
     "output_type": "stream",
     "text": [
      "Podcast Folge Nr.: 23 mit ModeratorIn: O. Peratio\n",
      "\n",
      "Thema der Podcastfolge: Traveling Salesman Problems\n",
      "\n",
      "Länge der Podcastfolge: 70\n",
      "\n",
      "Aktuell verkaufte Werbeblöcke: 0\n",
      "\n",
      "Achtung: Es dürfen nur noch maximal 1 Werbeblöcke eingespielt werden.\n",
      "\n",
      "Achtung: Diese Folge kann nicht weiter gekürzt werden. Aktuell ist sie 31 Minuten lang.\n",
      "\n",
      "Podcast Folge Nr.: 23 mit ModeratorIn: O. Peratio\n",
      "\n",
      "Thema der Podcastfolge: Traveling Salesman Problems\n",
      "\n",
      "Länge der Podcastfolge: 31\n",
      "\n",
      "Aktuell verkaufte Werbeblöcke: 2\n",
      "\n"
     ]
    }
   ],
   "source": [
    "class Podcast:\n",
    "\n",
    "    def __init__(self, episode, title, length, moderator):\n",
    "        self.__Episode = episode\n",
    "        self.__Title = title\n",
    "        self.__Length = length\n",
    "        self.__Moderator = moderator\n",
    "        self.__Adverts = 0\n",
    "\n",
    "    def display(self):\n",
    "        print(\"Podcast Folge Nr.: \" +str(self.__Episode) + \" mit ModeratorIn: \" + str(self.__Moderator) + \"\\n\")\n",
    "        print(\"Thema der Podcastfolge: \" +str(self.__Title) + \"\\n\")\n",
    "        print(\"Länge der Podcastfolge: \" +str(self.__Length) + \"\\n\")\n",
    "        print(\"Aktuell verkaufte Werbeblöcke: \" +str(self.__Adverts) + \"\\n\")\n",
    "    \n",
    "    def setAdverts(self, adverts):\n",
    "        if self.__Adverts + adverts > 3:\n",
    "            print(\"Achtung: Es dürfen nur noch maximal \" + str(3 - self.__Adverts) + \" Werbeblöcke eingespielt werden.\\n\")\n",
    "        else:\n",
    "            self.__Adverts = self.__Adverts + adverts\n",
    "            self.__Length = self.__Length + 3*adverts\n",
    "    \n",
    "    def getAdverts(self):\n",
    "        return self.__Adverts\n",
    "    \n",
    "    def cut(self, minutes):\n",
    "        if self.__Length - minutes >= 30:\n",
    "            self.__Length = self.__Length - minutes\n",
    "        \n",
    "        else:\n",
    "            print(\"Achtung: Diese Folge kann nicht weiter gekürzt werden. Aktuell ist sie \" +str(self.__Length) + \" Minuten lang.\\n\")\n",
    "    \n",
    "newpodcast = Podcast(23, \"Traveling Salesman Problems\", 70, \"O. Peratio\")\n",
    "\n",
    "newpodcast.display()\n",
    "\n",
    "newpodcast.setAdverts(2)\n",
    "newpodcast.setAdverts(2)\n",
    "\n",
    "newpodcast.cut(45)\n",
    "newpodcast.cut(10)\n",
    "\n",
    "newpodcast.display()"
   ]
  },
  {
   "cell_type": "code",
   "execution_count": 4,
   "metadata": {},
   "outputs": [],
   "source": [
    "class Podcast:\n",
    "    def __init__(self, episode, title, length, moderator):\n",
    "        # 属性名前面加两条下划线表示私有属性，后期调用这些私有属性的时候也要相应地加上下划线\n",
    "        self.__Episode = episode\n",
    "        self.__Title = title\n",
    "        self.__Length = length\n",
    "        self.__Modetator = moderator\n",
    "        self.__Adverts = 0\n",
    "\n",
    "    # 定义成员函数，参数表只有self，self表示Podcast对象，该对象拥有全部属性\n",
    "    def display(self):\n",
    "        print(f'Podcast episode Nr.: {self.__Episode} with moderator {self.__Modetator}\\n')\n",
    "        print(f'Theme of this podcast episode: {self.__Title}\\n')\n",
    "        print(f'Length of this podcast episode: {self.__Length}\\n')\n",
    "        print(f'Advertising blocks currently sold: {self.__Adverts}')\n",
    "\n",
    "\n",
    "    def setAdverts(self, adverts):\n",
    "        if self.__Adverts + adverts > 3:\n",
    "            print(f'Attention: Only a maximum of {3 - self.__Adverts} adverts may be added.\\n')\n",
    "        else:\n",
    "            self.__Adverts += adverts\n",
    "            self.__Length += 3 * adverts\n",
    "\n",
    "    def getAdverts(self):\n",
    "        return self.__Adverts\n",
    "\n",
    "    def cut(self, minutes):\n",
    "        if self.__Length - minutes >= 30:\n",
    "            self.__Length -= minutes\n",
    "        else:\n",
    "            print(\"Attention: This episode cannot be shortened any further. It is currently \" +str(self.__Length) + \" minutes long.\\n\")"
   ]
  },
  {
   "cell_type": "code",
   "execution_count": 10,
   "metadata": {},
   "outputs": [
    {
     "name": "stdout",
     "output_type": "stream",
     "text": [
      "Podcast episode Nr.: 23 with moderator Square Pants Bob\n",
      "\n",
      "Theme of this podcast episode: Traveling Salesman Problems\n",
      "\n",
      "Length of this podcast episode: 70\n",
      "\n",
      "Advertising blocks currently sold: 0\n",
      "Attention: Only a maximum of 1 adverts may be added.\n",
      "\n",
      "Attention: This episode cannot be shortened any further. It is currently 31 minutes long.\n",
      "\n"
     ]
    },
    {
     "data": {
      "text/plain": [
       "2"
      ]
     },
     "execution_count": 10,
     "metadata": {},
     "output_type": "execute_result"
    }
   ],
   "source": [
    "newPodcast = Podcast(23, 'Traveling Salesman Problems', 70, 'Square Pants Bob')\n",
    "newPodcast.display()\n",
    "\n",
    "newPodcast.setAdverts(2) # 这条语句执行之前，还没有加入广告，因此这个setAdverts无论如何都会执行\n",
    "newPodcast.setAdverts(2) # 这一行执行前已经有2条广告了，无法再插入两条，因此会输出一个提醒\n",
    "\n",
    "newPodcast.cut(45)\n",
    "newPodcast.cut(10)\n",
    "\n",
    "newPodcast.getAdverts()"
   ]
  },
  {
   "cell_type": "markdown",
   "metadata": {},
   "source": [
    "Erwarteter Output:\n",
    "\n",
    "    Podcast Folge Nr.: 23 mit ModeratorIn: O. Peratio\n",
    "\n",
    "    Thema der Podcastfolge: Traveling Salesman Problems\n",
    "\n",
    "    Länge der Podcastfolge: 70\n",
    "\n",
    "    Aktuell verkaufte Werbeblöcke: 0\n",
    "\n",
    "    Achtung: Es dürfen nur noch maximal 1 Werbeblöcke eingespielt werden.\n",
    "\n",
    "    Achtung: Diese Folge kann nicht weiter gekürzt werden. Aktuell ist sie 31 Minuten lang.\n",
    "\n",
    "    Podcast Folge Nr.: 23 mit ModeratorIn: O. Peratio\n",
    "\n",
    "    Thema der Podcastfolge: Traveling Salesman Problems\n",
    "\n",
    "    Länge der Podcastfolge: 31\n",
    "\n",
    "    Aktuell verkaufte Werbeblöcke: 2"
   ]
  },
  {
   "cell_type": "markdown",
   "metadata": {},
   "source": [
    "### c.)\n",
    "\n",
    "Als letzter Schritt soll nun eine Klasse *SpecialPodcast* eingeführt werden, die neben den bestehenden Eigenschaften auch noch einen *specialguest* beinhalten soll. Da die Bestätigung der Gäste jedoch immer relativ kurzfristig kommt, kann mittels der Methode `changeGuest` der *specialguest* nochmal verändert werden.\n",
    "\n",
    "Bitte erstellen Sie die Klasse mittels Vererbung und nehmen Sie die zusätzliche Eigenschaft sowie die neue Methode mit in die Klasse auf. Führen Sie anschließend die unten stehenden Befehle aus."
   ]
  },
  {
   "cell_type": "code",
   "execution_count": 19,
   "metadata": {},
   "outputs": [
    {
     "ename": "TypeError",
     "evalue": "'str' object is not callable",
     "output_type": "error",
     "traceback": [
      "\u001b[1;31m---------------------------------------------------------------------------\u001b[0m",
      "\u001b[1;31mTypeError\u001b[0m                                 Traceback (most recent call last)",
      "\u001b[1;32mg:\\6.Semester\\Prescriptive Analytics\\Seminar 2\\Lesson_02_ClassesAndObjects_filled.ipynb Cell 12'\u001b[0m in \u001b[0;36m<cell line: 29>\u001b[1;34m()\u001b[0m\n\u001b[0;32m     <a href='vscode-notebook-cell:/g%3A/6.Semester/Prescriptive%20Analytics/Seminar%202/Lesson_02_ClassesAndObjects_filled.ipynb#ch0000007?line=21'>22</a>\u001b[0m             \u001b[39mself\u001b[39m\u001b[39m.\u001b[39m__SpecialGuest \u001b[39m=\u001b[39m newGuest\n\u001b[0;32m     <a href='vscode-notebook-cell:/g%3A/6.Semester/Prescriptive%20Analytics/Seminar%202/Lesson_02_ClassesAndObjects_filled.ipynb#ch0000007?line=26'>27</a>\u001b[0m sp \u001b[39m=\u001b[39m SpecialPodcast(\u001b[39m1\u001b[39m, \u001b[39m\"\u001b[39m\u001b[39mVehicle Routing Problem\u001b[39m\u001b[39m\"\u001b[39m, \u001b[39m65\u001b[39m, \u001b[39m\"\u001b[39m\u001b[39mM. Ipler\u001b[39m\u001b[39m\"\u001b[39m, \u001b[39m\"\u001b[39m\u001b[39mDr. Best\u001b[39m\u001b[39m\"\u001b[39m)\n\u001b[1;32m---> <a href='vscode-notebook-cell:/g%3A/6.Semester/Prescriptive%20Analytics/Seminar%202/Lesson_02_ClassesAndObjects_filled.ipynb#ch0000007?line=28'>29</a>\u001b[0m sp\u001b[39m.\u001b[39;49mSpecialGuest(\u001b[39m\"\u001b[39;49m\u001b[39mDr. Secondbest\u001b[39;49m\u001b[39m\"\u001b[39;49m)\n\u001b[0;32m     <a href='vscode-notebook-cell:/g%3A/6.Semester/Prescriptive%20Analytics/Seminar%202/Lesson_02_ClassesAndObjects_filled.ipynb#ch0000007?line=30'>31</a>\u001b[0m sp\u001b[39m.\u001b[39mdisplay()\n\u001b[0;32m     <a href='vscode-notebook-cell:/g%3A/6.Semester/Prescriptive%20Analytics/Seminar%202/Lesson_02_ClassesAndObjects_filled.ipynb#ch0000007?line=32'>33</a>\u001b[0m \u001b[39m# sp.changeGuest(2)\u001b[39;00m\n",
      "\u001b[1;31mTypeError\u001b[0m: 'str' object is not callable"
     ]
    }
   ],
   "source": [
    "class SpecialPodcast(Podcast):\n",
    "\n",
    "    def __init__(self, episode, title, length, moderator, specialguest: str):\n",
    "        super().__init__(episode, title, length, moderator)\n",
    "        self.__SpecialGuest = specialguest\n",
    "    \n",
    "    def display(self):\n",
    "        super().display() # 调用父类display函数\n",
    "\n",
    "        # 父类并不能完全满足需求，则增加一条属于子类的输出语句\n",
    "        print(f\"Specialguest of this Podcast episode is: {self.SpecialGuest}\") \n",
    "    \n",
    "    @property  # 装饰器，decorator，用于将方法变成属性来调用\n",
    "    def SpecialGuest(self):\n",
    "        return self.__SpecialGuest\n",
    "    \n",
    "    @SpecialGuest.setter\n",
    "    def SpecialGuest(self, newGuest):\n",
    "        if type(newGuest) != str:\n",
    "            pass\n",
    "        else:\n",
    "            self.__SpecialGuest = newGuest\n",
    "    \n",
    "\n",
    "    \n",
    "\n",
    "sp = SpecialPodcast(1, \"Vehicle Routing Problem\", 65, \"M. Ipler\", \"Dr. Best\")\n",
    "\n",
    "sp.SpecialGuest(\"Dr. Secondbest\")\n",
    "\n",
    "sp.display()\n",
    "\n",
    "# sp.changeGuest(2)\n",
    "\n",
    "sp.display()"
   ]
  },
  {
   "cell_type": "code",
   "execution_count": 20,
   "metadata": {},
   "outputs": [
    {
     "name": "stdout",
     "output_type": "stream",
     "text": [
      "Podcast episode Nr.: 1 with moderator M. Ipler\n",
      "\n",
      "Theme of this podcast episode: Vehicle Routing Problem\n",
      "\n",
      "Length of this podcast episode: 65\n",
      "\n",
      "Advertising blocks currently sold: 0\n",
      "Specialguest der Podcastfolge ist: Dr. Secondbest\n"
     ]
    },
    {
     "data": {
      "text/plain": [
       "'Dr. Secondbest'"
      ]
     },
     "execution_count": 20,
     "metadata": {},
     "output_type": "execute_result"
    }
   ],
   "source": [
    "class SpecialPodcast(Podcast):\n",
    "\n",
    "    def __init__(self, episode, title, length, moderator, specialguest: str):\n",
    "        super().__init__(episode, title, length, moderator)\n",
    "        self.__SpecialGuest = specialguest\n",
    "    \n",
    "    def display(self):\n",
    "        # 调用父类display函数\n",
    "        super().display() \n",
    "\n",
    "        # 父类并不能完全满足需求，则增加一条属于子类的输出语句\n",
    "        print(f\"Specialguest der Podcastfolge ist: {self.SpecialGuest}\") \n",
    "    \n",
    "    @property  # 装饰器，decorator，用于将方法变成属性来调用\n",
    "    def SpecialGuest(self):\n",
    "        return self.__SpecialGuest\n",
    "\n",
    "    def changeGuest(self, newGuest):\n",
    "        if type(newGuest) != str:\n",
    "            pass\n",
    "        else:\n",
    "            self.__SpecialGuest = newGuest\n",
    "        return self.__SpecialGuest\n",
    "\n",
    "    # @SpecialGuest.setter\n",
    "    # def SpecialGuest(self, newGuest):\n",
    "    #     if type(newGuest) != str:\n",
    "    #         pass\n",
    "    #     else:\n",
    "    #         self.__SpecialGuest = newGuest\n",
    "    \n",
    "\n",
    "    \n",
    "\n",
    "sp = SpecialPodcast(1, \"Vehicle Routing Problem\", 65, \"M. Ipler\", \"Dr. Best\")\n",
    "\n",
    "sp.changeGuest(\"Dr. Secondbest\")\n",
    "\n",
    "sp.display()\n",
    "\n",
    "sp.changeGuest(2)\n",
    "\n"
   ]
  },
  {
   "cell_type": "markdown",
   "metadata": {},
   "source": [
    "Erwarteter Output:\n",
    "\n",
    "    Podcast Folge Nr.: 1 mit ModeratorIn: M. Ipler\n",
    "\n",
    "    Thema der Podcastfolge: Vehicle Routing Problem\n",
    "\n",
    "    Länge der Podcastfolge: 65\n",
    "\n",
    "    Aktuell verkaufte Werbeblöcke: 0\n",
    "\n",
    "    Specialguest der Podcastfolge ist: Dr. Secondbest"
   ]
  },
  {
   "cell_type": "code",
   "execution_count": null,
   "metadata": {},
   "outputs": [],
   "source": []
  },
  {
   "cell_type": "markdown",
   "metadata": {},
   "source": [
    "---\n",
    "## 2. Einführung des Planungsproblems\n",
    "---\n",
    "### Flow Shop Scheduling in der Zahnputzmittelherstellung\n",
    "\n",
    "Kurz vor Ende Ihres Praktikums im Team von \"OR\" unterhalten Sie sich mit dem Interviewgast Dr. Best, der eine Firma zur Produktion von Zahnputzmittel betreibt und die Produktionsplanung bisher immer mit exakten Verfahren vorgenommen hat. \n",
    "Aufgrund der gestiegenen Sortenvielfalt gelangen die bisherigen Planungsmethoden jedoch an ihre Grenzen. Dr. Best hat bereits vom Moderator des Podcasts von Ihren Python-Kenntnissen erfahren und fragt Sie nun, ob Sie ihm bei der Entwicklung geeigneter Näherungsverfahren im Rahmen einer Werkstudententätigkeit behilflich sein können.\n",
    "\n",
    "Nach der ersten Besichtigung der Fertigung können Sie das Planungsproblem als klassisches Flow Shop Problem mit Rüstzeiten identifizieren:\n",
    "\n",
    "Ein Set $N$ = {1, 2, . . . , $n$} aus $n$ Aufträgen soll sequenziell auf $m$ unterschiedlichen Stationen bearbeitet werden, wobei an jeder Station nur eine Maschine zur Verfügung steht. Die Reihenfolge der Arbeitsgänge ist für alle Aufträge identisch. Alle Maschinen sind durchgehend verfügbar und können jeweils einen Auftrag gleichzeitig bearbeiten. Die Puffermöglichkeit zwischen den Maschinen sind als unendlich anzunehmen. Bevor jedoch ein Auftrag auf einer Maschine bearbeitet werden kann, muss die Maschine vorbereitet bzw. gerüstet werden.\n",
    "\n",
    "Als kundenorientierter Unternehmer möchte Dr. Best am liebsten alle KundInnen mit möglichst pünktlichen Lieferungen zufrieden stellen. Allerdings sind manche KundInnen wichtiger als andere, da diese eine Verzögerung der Lieferungen mit hohen Strafkosten belegt haben.\n",
    "\n",
    "---\n",
    "### Exemplarische Inputdaten\n",
    "---\n",
    "\n",
    "Die Grundlage Ihrer Arbeit an einer geeigneten Heuristik bilden zum einen die Anzahl einzuplanender Aufträge $n$ sowie die notwendigen Stationen bzw. Maschinen $m$, auf denen jeder Auftrag bearbeitet werden muss. Zum anderen wird Ihnen von Dr. Best eine Übersicht der Rüst- und Bearbeitungszeiten für jeden Arbeitsgang eines Auftrags ausgehändigt. \n",
    "\n",
    "Die beispielhaften Inputdaten für Ihre ersten Tests werden Ihnen in einer .json-Datei bereitgestellt."
   ]
  },
  {
   "cell_type": "markdown",
   "metadata": {},
   "source": [
    "### a.)\n",
    "\n",
    "Machen Sie sich zunächst mit der Beispieldatei \"InputFlowshopSIST.json\" vertraut. Welche Struktur wird in der Datei nachgebildet? \n",
    "Finden Sie bitte heraus, mit welchem Modul json-Dateien eingelesen werden können. Wie könnten Sie die vorliegende json-Datei einlesen, um diese weiterzuverwenden?"
   ]
  },
  {
   "cell_type": "code",
   "execution_count": 4,
   "metadata": {},
   "outputs": [],
   "source": [
    "\n",
    "import json"
   ]
  },
  {
   "cell_type": "markdown",
   "metadata": {},
   "source": [
    "### b.)\n",
    "\n",
    "Welche Klassen benötigen Sie in Python, um das Planungsproblem grundsätzlich zu beschreiben? Denken Sie daran die `__init__()`- und `__str__()`-Funktion zu definieren. Die Inputdaten aus der json-Datei sollten sich in den Klassen wieder finden.\n",
    "\n",
    "Setzen Sie diese Klassen in Python um."
   ]
  },
  {
   "cell_type": "code",
   "execution_count": 6,
   "metadata": {},
   "outputs": [
    {
     "name": "stdout",
     "output_type": "stream",
     "text": [
      "Job 1 with 5 Operations.\n",
      "\n"
     ]
    },
    {
     "data": {
      "text/plain": [
       "3"
      ]
     },
     "execution_count": 6,
     "metadata": {},
     "output_type": "execute_result"
    }
   ],
   "source": [
    "class DataMachine:\n",
    "\n",
    "    def __init__(self, machineId):\n",
    "        self.MachineId = machineId\n",
    "    \n",
    "    def __str__(self):\n",
    "        return 'Machine ' + str(self.MachineId)\n",
    "\n",
    "class DataJob:\n",
    "\n",
    "    def __init__(self, idJob, processingTimes, setupTimes, dueDate, tardinessCost):\n",
    "        self.__JobId = idJob\n",
    "        self.__ProcessingTimes = processingTimes\n",
    "        self.__DueDate = dueDate\n",
    "        self.__SetupTimes = setupTimes\n",
    "        self.__TarcCost = tardinessCost\n",
    "    \n",
    "\n",
    "    def __str__(self):\n",
    "        return f'Job {self.__JobId} with {len(self.__ProcessingTimes)} Operations.\\n'\n",
    "    \n",
    "    @property\n",
    "    def JobId(self):\n",
    "        return self.__JobId\n",
    "\n",
    "    JobId.setter\n",
    "    def JobId(self, newId):\n",
    "        self.__JobId = newId\n",
    "\n",
    "    @property\n",
    "    def TardCost(self):\n",
    "        return self.__TarcCost\n",
    "        \n",
    "    @property\n",
    "    def DueDate(self):\n",
    "        return self.__DueDate\n",
    "\n",
    "    @property\n",
    "    def Operations(self):\n",
    "        return [(opId, processingTime) for opId, processingTime in enumerate(self.__ProcessingTimes)]\n",
    "    \n",
    "    @property\n",
    "    def SetupTime(self, position):\n",
    "        return self.__SetupTimes[position]\n",
    "\n",
    "    @property\n",
    "    def ProcessingTime(self, position):\n",
    "        return self.__ProcessingTimes[position]\n",
    "    \n",
    "\n",
    "newJob = DataJob(1, [22,33,44,55,66], [1,2,3,4,5],290, 50)\n",
    "# newJob.setJobId(3)\n",
    "# newJob.getJobId() \n",
    "print(newJob.__str__())\n",
    "newJob.JobId = 3\n",
    "newJob.JobId\n"
   ]
  },
  {
   "cell_type": "code",
   "execution_count": 14,
   "metadata": {},
   "outputs": [
    {
     "name": "stdout",
     "output_type": "stream",
     "text": [
      "<__main__.Student object at 0x0000023D2B9E9EB0>\n",
      "60\n"
     ]
    }
   ],
   "source": [
    "# 定义学生类\n",
    "class Student:\n",
    "    def __init__(self, name, score):\n",
    "        self.Name = name\n",
    "        self.__Score = score\n",
    "\n",
    "# 修改学生的分数属性：\n",
    "s = Student('Bob', 59)\n",
    "print(s)\n",
    "s.Score = 60\n",
    "print(s.Score)"
   ]
  },
  {
   "cell_type": "code",
   "execution_count": 19,
   "metadata": {},
   "outputs": [
    {
     "name": "stdout",
     "output_type": "stream",
     "text": [
      "99\n",
      "100\n"
     ]
    },
    {
     "ename": "ValueError",
     "evalue": "Invalid score",
     "output_type": "error",
     "traceback": [
      "\u001b[1;31m---------------------------------------------------------------------------\u001b[0m",
      "\u001b[1;31mValueError\u001b[0m                                Traceback (most recent call last)",
      "\u001b[1;32mg:\\6.Semester\\Prescriptive Analytics\\Seminar 2\\Lesson_02_ClassesAndObjects_filled.ipynb Cell 22'\u001b[0m in \u001b[0;36m<cell line: 21>\u001b[1;34m()\u001b[0m\n\u001b[0;32m     <a href='vscode-notebook-cell:/g%3A/6.Semester/Prescriptive%20Analytics/Seminar%202/Lesson_02_ClassesAndObjects_filled.ipynb#ch0000029?line=17'>18</a>\u001b[0m s2\u001b[39m.\u001b[39msetScore(\u001b[39m100\u001b[39m)\n\u001b[0;32m     <a href='vscode-notebook-cell:/g%3A/6.Semester/Prescriptive%20Analytics/Seminar%202/Lesson_02_ClassesAndObjects_filled.ipynb#ch0000029?line=18'>19</a>\u001b[0m \u001b[39mprint\u001b[39m(s2\u001b[39m.\u001b[39mgetScore())\n\u001b[1;32m---> <a href='vscode-notebook-cell:/g%3A/6.Semester/Prescriptive%20Analytics/Seminar%202/Lesson_02_ClassesAndObjects_filled.ipynb#ch0000029?line=20'>21</a>\u001b[0m s2\u001b[39m.\u001b[39;49msetScore(\u001b[39m120\u001b[39;49m)\n",
      "\u001b[1;32mg:\\6.Semester\\Prescriptive Analytics\\Seminar 2\\Lesson_02_ClassesAndObjects_filled.ipynb Cell 22'\u001b[0m in \u001b[0;36mStudent.setScore\u001b[1;34m(self, newScore)\u001b[0m\n\u001b[0;32m      <a href='vscode-notebook-cell:/g%3A/6.Semester/Prescriptive%20Analytics/Seminar%202/Lesson_02_ClassesAndObjects_filled.ipynb#ch0000029?line=8'>9</a>\u001b[0m \u001b[39mdef\u001b[39;00m \u001b[39msetScore\u001b[39m(\u001b[39mself\u001b[39m, newScore):\n\u001b[0;32m     <a href='vscode-notebook-cell:/g%3A/6.Semester/Prescriptive%20Analytics/Seminar%202/Lesson_02_ClassesAndObjects_filled.ipynb#ch0000029?line=9'>10</a>\u001b[0m     \u001b[39m# 在set方法中，如果newScore不满足条件，则会报错\u001b[39;00m\n\u001b[0;32m     <a href='vscode-notebook-cell:/g%3A/6.Semester/Prescriptive%20Analytics/Seminar%202/Lesson_02_ClassesAndObjects_filled.ipynb#ch0000029?line=10'>11</a>\u001b[0m     \u001b[39mif\u001b[39;00m newScore \u001b[39m<\u001b[39m \u001b[39m0\u001b[39m \u001b[39mor\u001b[39;00m newScore \u001b[39m>\u001b[39m \u001b[39m100\u001b[39m:\n\u001b[1;32m---> <a href='vscode-notebook-cell:/g%3A/6.Semester/Prescriptive%20Analytics/Seminar%202/Lesson_02_ClassesAndObjects_filled.ipynb#ch0000029?line=11'>12</a>\u001b[0m         \u001b[39mraise\u001b[39;00m \u001b[39mValueError\u001b[39;00m(\u001b[39m'\u001b[39m\u001b[39mInvalid score\u001b[39m\u001b[39m'\u001b[39m)\n\u001b[0;32m     <a href='vscode-notebook-cell:/g%3A/6.Semester/Prescriptive%20Analytics/Seminar%202/Lesson_02_ClassesAndObjects_filled.ipynb#ch0000029?line=12'>13</a>\u001b[0m     \u001b[39mself\u001b[39m\u001b[39m.\u001b[39m__Score \u001b[39m=\u001b[39m newScore\n",
      "\u001b[1;31mValueError\u001b[0m: Invalid score"
     ]
    }
   ],
   "source": [
    "class Student:\n",
    "    def __init__(self, name, score):\n",
    "        self.Name = name\n",
    "        self.__Score = score\n",
    "\n",
    "    def getScore(self):\n",
    "        return self.__Score\n",
    "\n",
    "    def setScore(self, newScore):\n",
    "        # 在set方法中，如果newScore不满足条件，则会报错\n",
    "        if newScore < 0 or newScore > 100:\n",
    "            raise ValueError('Invalid score')\n",
    "        self.__Score = newScore\n",
    "\n",
    "s2 = Student('Alice', 99)\n",
    "print(s2.getScore())\n",
    "\n",
    "s2.setScore(100)\n",
    "print(s2.getScore())\n",
    "\n",
    "s2.setScore(120)\n"
   ]
  },
  {
   "cell_type": "code",
   "execution_count": 22,
   "metadata": {},
   "outputs": [
    {
     "name": "stdout",
     "output_type": "stream",
     "text": [
      "88\n",
      "90\n"
     ]
    }
   ],
   "source": [
    "class Student:\n",
    "    def __init__(self, name, score):\n",
    "        self.Name = name\n",
    "        self.__Score = score\n",
    "\n",
    "    @property\n",
    "    def score(self):\n",
    "        # 这个score函数相当于get方法，没有参数\n",
    "        return self.__Score\n",
    "\n",
    "    @score.setter\n",
    "    def score(self, newScore):\n",
    "        # 这个score是set方法，用@score.setter来修饰，@score.setter是前面@property修饰后的副产品\n",
    "        if newScore < 0 or newScore > 100:\n",
    "            raise ValueError('Invalid score')\n",
    "        self.__Score = newScore\n",
    "\n",
    "\n",
    "s3 = Student('Cindy', 88)\n",
    "print(s3.score)\n",
    "\n",
    "s3.score = 90\n",
    "print(s3.score)"
   ]
  },
  {
   "cell_type": "code",
   "execution_count": 30,
   "metadata": {},
   "outputs": [
    {
     "name": "stdout",
     "output_type": "stream",
     "text": [
      "Job 1 with 5 operations.\n",
      "\n",
      "3\n",
      "290\n",
      "[(0, 1), (1, 2), (2, 3), (3, 4), (4, 5)]\n",
      "Job 3 with 5 operations.\n",
      "\n"
     ]
    },
    {
     "ename": "TypeError",
     "evalue": "ProcessdingTimes() missing 1 required positional argument: 'position'",
     "output_type": "error",
     "traceback": [
      "\u001b[1;31m---------------------------------------------------------------------------\u001b[0m",
      "\u001b[1;31mTypeError\u001b[0m                                 Traceback (most recent call last)",
      "\u001b[1;32mg:\\6.Semester\\Prescriptive Analytics\\Seminar 2\\Lesson_02_ClassesAndObjects_filled.ipynb Cell 24'\u001b[0m in \u001b[0;36m<cell line: 68>\u001b[1;34m()\u001b[0m\n\u001b[0;32m     <a href='vscode-notebook-cell:/g%3A/6.Semester/Prescriptive%20Analytics/Seminar%202/Lesson_02_ClassesAndObjects_filled.ipynb#ch0000025?line=63'>64</a>\u001b[0m \u001b[39mprint\u001b[39m(newJob\u001b[39m.\u001b[39mOperations)\n\u001b[0;32m     <a href='vscode-notebook-cell:/g%3A/6.Semester/Prescriptive%20Analytics/Seminar%202/Lesson_02_ClassesAndObjects_filled.ipynb#ch0000025?line=65'>66</a>\u001b[0m \u001b[39mprint\u001b[39m(newJob\u001b[39m.\u001b[39m\u001b[39m__str__\u001b[39m())\n\u001b[1;32m---> <a href='vscode-notebook-cell:/g%3A/6.Semester/Prescriptive%20Analytics/Seminar%202/Lesson_02_ClassesAndObjects_filled.ipynb#ch0000025?line=67'>68</a>\u001b[0m \u001b[39mprint\u001b[39m(newJob\u001b[39m.\u001b[39;49mProcessdingTimes[\u001b[39m2\u001b[39m])\n",
      "\u001b[1;31mTypeError\u001b[0m: ProcessdingTimes() missing 1 required positional argument: 'position'"
     ]
    }
   ],
   "source": [
    "class DataMachine:\n",
    "    def __init__(self, machineId):\n",
    "        self.MachineId = machineId\n",
    "\n",
    "    # 返回机器的序号\n",
    "    def __str__(self):\n",
    "        return f'Machine {self.MachineId}'\n",
    "\n",
    "class DataJob:\n",
    "    def __init__(self, idJob, setupTimes, processingTimes, dueDate, tardinessCost):\n",
    "        self.__JobId = idJob\n",
    "        self.__SetupTimes = setupTimes\n",
    "        self.__ProcessingTimes = processingTimes\n",
    "        self.__DueDate = dueDate\n",
    "        self.__TardCost = tardinessCost\n",
    "\n",
    "    # 返回订单job的序号和这个订单需要经过几步操作\n",
    "    def __str__(self):\n",
    "        return f'Job {self.__JobId} with {len(self.__ProcessingTimes)} operations.\\n'\n",
    "\n",
    "    # __str__函数只是返回一个泛泛的信息，如：订单1有5个操作\n",
    "    # 现在写几个函数，输出Job对象的特定信息，例如id， 某台机器的整备时间和处理时间\n",
    "    @property\n",
    "    def JobId(self):\n",
    "        # 这个函数的目的是可以用job对象.JobId()来直接获取订单号。因为类中定义的订单号是私有的，在别的类中没有访问权限\n",
    "        return self.__JobId\n",
    "\n",
    "    @JobId.setter\n",
    "    def JobId(self, newId):\n",
    "        self.__JobId = newId  # 通过这个函数我们可以修改订单的编号。跟上一个函数同名，但是参数表不同，编译器会根据参数表来区分同名函数\n",
    "    \n",
    "    @property\n",
    "    def TardCost(self):\n",
    "        return self.__TardCost\n",
    "\n",
    "    @property\n",
    "    def DueDate(self):\n",
    "        return self.__DueDate\n",
    "\n",
    "    @property\n",
    "    def Operations(self):\n",
    "        # 这个函数会输出一个元组的列表，元组第一个元素是加工订单的机器的编号，第二个元素是加工时长\n",
    "        # 注意这里的Operations和str函数里的不同，str中仅仅输出订单被处理几次，这里输出每次加工用到机器编号和时长\n",
    "        return [(optId, processingTime) for optId, processingTime in enumerate(self.__ProcessingTimes)]\n",
    "\n",
    "    # 下面这两个函数分别输出某个订单对象在某台机器上的整备时间和加工时间。注意看json截图，这两个时间保存在列表中\n",
    "    @property\n",
    "    def SetupTimes(self, position):\n",
    "        return self.__SetupTimes[position]\n",
    "\n",
    "    @property\n",
    "    def ProcessdingTimes(self, position):\n",
    "        return self.__ProcessingTimes[position]\n",
    "\n",
    "# 构造一个DataJob对象\n",
    "newJob = DataJob(1, [22,33,44,55,66], [1,2,3,4,5], 290, 50)\n",
    "print(newJob)\n",
    "\n",
    "newJob.JobId = 3\n",
    "print(newJob.JobId)\n",
    "\n",
    "# 用调用属性的方式调用函数\n",
    "print(newJob.DueDate)\n",
    "print(newJob.Operations)\n",
    "\n",
    "print(newJob.__str__())\n",
    "\n",
    "print(newJob.ProcessdingTimes[2]) #####??????????????????怎么调用？？？？\n"
   ]
  },
  {
   "cell_type": "code",
   "execution_count": 3,
   "metadata": {},
   "outputs": [
    {
     "name": "stdout",
     "output_type": "stream",
     "text": [
      "Job 1 with 5 operations.\n",
      "\n",
      "3\n",
      "Job 1 with 5 operations.\n",
      "\n",
      "50\n"
     ]
    }
   ],
   "source": [
    "# 构造一个DataJob对象\n",
    "newJob = DataJob(1, [22,33,44,55,66], [1,2,3,4,5], 290, 50)\n",
    "\n",
    "# 输出概况信息\n",
    "print(newJob.__str__())\n",
    "newJob.JobId = 3\n",
    "# newJob.JobId(4)\n",
    "print(newJob.JobId)\n",
    "\n",
    "# newJob.__str__()  这样调用会输出\\n，因为函数定义中，我们用的是return而非print\n",
    "print(newJob.__str__()) #  这才是正确的输出\n",
    "\n",
    "print(newJob.TardCost)\n"
   ]
  },
  {
   "cell_type": "code",
   "execution_count": 22,
   "metadata": {},
   "outputs": [
    {
     "ename": "TypeError",
     "evalue": "ProcessdingTimes() missing 1 required positional argument: 'position'",
     "output_type": "error",
     "traceback": [
      "\u001b[1;31m---------------------------------------------------------------------------\u001b[0m",
      "\u001b[1;31mTypeError\u001b[0m                                 Traceback (most recent call last)",
      "\u001b[1;32mg:\\6.Semester\\Prescriptive Analytics\\Seminar 2\\Lesson_02_ClassesAndObjects_filled.ipynb Cell 23'\u001b[0m in \u001b[0;36m<cell line: 1>\u001b[1;34m()\u001b[0m\n\u001b[1;32m----> <a href='vscode-notebook-cell:/g%3A/6.Semester/Prescriptive%20Analytics/Seminar%202/Lesson_02_ClassesAndObjects_filled.ipynb#ch0000027?line=0'>1</a>\u001b[0m newJob\u001b[39m.\u001b[39;49mProcessdingTimes(\u001b[39m1\u001b[39m,\u001b[39m1\u001b[39m)\n",
      "\u001b[1;31mTypeError\u001b[0m: ProcessdingTimes() missing 1 required positional argument: 'position'"
     ]
    }
   ],
   "source": [
    "newJob.ProcessdingTimes()"
   ]
  },
  {
   "cell_type": "markdown",
   "metadata": {},
   "source": [
    "### c.)\n",
    "\n",
    "Erstellen Sie eine Klasse *InputData*, welche die .json-Datei verarbeitet und entsprechende Objekte der Klassen aus b.) erzeugt."
   ]
  },
  {
   "cell_type": "code",
   "execution_count": null,
   "metadata": {},
   "outputs": [
    {
     "name": "stdout",
     "output_type": "stream",
     "text": [
      "Job 1 with 5 Operations.\n",
      "\n"
     ]
    }
   ],
   "source": [
    "import json\n",
    "\n",
    "class InputData:\n",
    "\n",
    "    def __init__(self, path):\n",
    "        self.__path = path\n",
    "        self.DataLoad()\n",
    "    \n",
    "    def DataLoad(self):\n",
    "        with open(self.__path, \"r\") as inputFile:\n",
    "            inputData = json.load(inputFile)\n",
    "        \n",
    "        self.n = inputData['nJobs']\n",
    "        self.m = inputData['nMachines']\n",
    "\n",
    "        self.InputJobs = []\n",
    "        for job in inputData['Jobs']:\n",
    "            self.InputJobs.append(DataJob(job['Id'], job['ProcessingTimes'], job['SetupTimes'], job['DueDate'], job['TardCosts']))\n",
    "        \n",
    "        self.InputMachines = []\n",
    "        for k in range(self.m):\n",
    "            self.InputMachines.append(DataMachine(k))\n",
    "\n",
    "\n",
    "\n",
    "\n",
    "data = InputData(\"./InputFlowshopSIST.json\")\n",
    "\n",
    "print(data.InputJobs[0])\n"
   ]
  },
  {
   "cell_type": "code",
   "execution_count": 41,
   "metadata": {},
   "outputs": [
    {
     "name": "stdout",
     "output_type": "stream",
     "text": [
      "Job 2 with 5 operations.\n",
      "\n",
      "[<__main__.DataJob object at 0x0000023D2D2E57C0>, <__main__.DataJob object at 0x0000023D2D2E5B50>, <__main__.DataJob object at 0x0000023D2D2E5F10>, <__main__.DataJob object at 0x0000023D2D2E5F70>, <__main__.DataJob object at 0x0000023D2D063220>, <__main__.DataJob object at 0x0000023D2D063E50>, <__main__.DataJob object at 0x0000023D2D063C40>, <__main__.DataJob object at 0x0000023D2D063BB0>, <__main__.DataJob object at 0x0000023D2D063D60>, <__main__.DataJob object at 0x0000023D2D0631F0>, <__main__.DataJob object at 0x0000023D2D063520>]\n",
      "Machine 1\n"
     ]
    }
   ],
   "source": [
    "import json\n",
    "class InputData:\n",
    "    def __init__(self, path):\n",
    "        self.__path = path\n",
    "\n",
    "        # 构造函数中调用这个类的成员函数，即：实例化的同时执行成员函数！！\n",
    "        self.DataLoad()\n",
    "\n",
    "    def DataLoad(self):\n",
    "        with open(self.__path, 'r') as inputFile:\n",
    "            inputData = json.load(inputFile)\n",
    "\n",
    "            self.m = inputData['nMachines']\n",
    "            self.n = inputData['nJobs']\n",
    "\n",
    "            self.InputJobs = []\n",
    "            for job in inputData['Jobs']:\n",
    "                # 这一步并不难，需要熟悉json文件的嵌套\n",
    "                self.InputJobs.append(DataJob(job['Id'], job['SetupTimes'], \n",
    "                job['ProcessingTimes'], job['DueDate'], job['TardCosts']))\n",
    "\n",
    "            # 注意：InputData的对象的属性是个列表，调用的时候需要写索引\n",
    "            self.InputMachines = []\n",
    "            for k in range(self.m):\n",
    "                self.InputMachines.append(DataMachine(k))\n",
    "\n",
    "# 构造一个InputData类的对象\n",
    "data = InputData(\"InputFlowshopSIST.json\")\n",
    "\n",
    "# 调用data的InputJobs属性，这个属性是个列表，列表元素是对象。\n",
    "# 由对象组成 的列表不能直接输出，而是要彻底实例化，即说清楚具体的那个元素\n",
    "print(data.InputJobs[1])\n",
    "\n",
    "print(data.InputJobs)\n",
    "\n",
    "print(data.InputMachines[1])"
   ]
  },
  {
   "cell_type": "markdown",
   "metadata": {},
   "source": [
    "### d.)\n",
    "\n",
    "Erstellen Sie eine Klasse *OutputJob*, die es ermöglicht, den eingeplanten Job zu beschreiben."
   ]
  },
  {
   "cell_type": "code",
   "execution_count": 42,
   "metadata": {},
   "outputs": [],
   "source": [
    "# from InputData import *\n",
    "\n",
    "class OutputJob(DataJob):\n",
    "    def __init__(self, dataJob):\n",
    "\n",
    "        # super().__init__是调用父类的def __init__()\n",
    "        super().__init__(dataJob.JobId, [dataJob.SetupTimes(i) for i in range(len(dataJob.Operations))], \n",
    "        [dataJob.ProcessingTimes(i) for i in range(len(dataJob.Operations))], dataJob.DueDate, dataJob.TardCost)\n",
    "\n",
    "        self.StartSetups = [0]*len(self.Operations)\n",
    "        self.EndSetups = [0]*len(self.Operations)\n",
    "        self.StartTimes = [0]*len(self.Operations)\n",
    "        self.EndTimes = [0]*len(self.Operations)\n",
    "        self.Tardiness = 0\n"
   ]
  },
  {
   "cell_type": "code",
   "execution_count": 43,
   "metadata": {},
   "outputs": [
    {
     "name": "stdout",
     "output_type": "stream",
     "text": [
      "实例化时执行\n",
      "这是方法\n"
     ]
    },
    {
     "ename": "AttributeError",
     "evalue": "'A' object has no attribute 'x'",
     "output_type": "error",
     "traceback": [
      "\u001b[1;31m---------------------------------------------------------------------------\u001b[0m",
      "\u001b[1;31mAttributeError\u001b[0m                            Traceback (most recent call last)",
      "\u001b[1;32mg:\\6.Semester\\Prescriptive Analytics\\Seminar 2\\Lesson_02_ClassesAndObjects_filled.ipynb Cell 32'\u001b[0m in \u001b[0;36m<cell line: 15>\u001b[1;34m()\u001b[0m\n\u001b[0;32m     <a href='vscode-notebook-cell:/g%3A/6.Semester/Prescriptive%20Analytics/Seminar%202/Lesson_02_ClassesAndObjects_filled.ipynb#ch0000032?line=12'>13</a>\u001b[0m test \u001b[39m=\u001b[39m A()\t\t\u001b[39m#实例化类\u001b[39;00m\n\u001b[0;32m     <a href='vscode-notebook-cell:/g%3A/6.Semester/Prescriptive%20Analytics/Seminar%202/Lesson_02_ClassesAndObjects_filled.ipynb#ch0000032?line=13'>14</a>\u001b[0m test\u001b[39m.\u001b[39mfun()\t\u001b[39m#调用方法\u001b[39;00m\n\u001b[1;32m---> <a href='vscode-notebook-cell:/g%3A/6.Semester/Prescriptive%20Analytics/Seminar%202/Lesson_02_ClassesAndObjects_filled.ipynb#ch0000032?line=14'>15</a>\u001b[0m test\u001b[39m.\u001b[39;49mx\n",
      "\u001b[1;31mAttributeError\u001b[0m: 'A' object has no attribute 'x'"
     ]
    }
   ],
   "source": [
    "class Root(object):\n",
    "    def __init__(self):\n",
    "        self.x= '这是属性'\n",
    "\n",
    "    def fun(self):\n",
    "    \t#print(self.x)\n",
    "        print('这是方法')\n",
    "        \n",
    "class A(Root):\n",
    "    def __init__(self):\n",
    "        print('实例化时执行')\n",
    "\n",
    "test = A()\t\t#实例化类\n",
    "test.fun()\t#调用方法\n",
    "test.x\t\t#调用属性\n",
    "\n"
   ]
  },
  {
   "cell_type": "code",
   "execution_count": 45,
   "metadata": {},
   "outputs": [
    {
     "name": "stdout",
     "output_type": "stream",
     "text": [
      "实例化时执行\n"
     ]
    },
    {
     "ename": "AttributeError",
     "evalue": "'A' object has no attribute 'x'",
     "output_type": "error",
     "traceback": [
      "\u001b[1;31m---------------------------------------------------------------------------\u001b[0m",
      "\u001b[1;31mAttributeError\u001b[0m                            Traceback (most recent call last)",
      "\u001b[1;32mg:\\6.Semester\\Prescriptive Analytics\\Seminar 2\\Lesson_02_ClassesAndObjects_filled.ipynb Cell 33'\u001b[0m in \u001b[0;36m<cell line: 14>\u001b[1;34m()\u001b[0m\n\u001b[0;32m     <a href='vscode-notebook-cell:/g%3A/6.Semester/Prescriptive%20Analytics/Seminar%202/Lesson_02_ClassesAndObjects_filled.ipynb#ch0000033?line=10'>11</a>\u001b[0m         \u001b[39mprint\u001b[39m(\u001b[39m'\u001b[39m\u001b[39m实例化时执行\u001b[39m\u001b[39m'\u001b[39m)\n\u001b[0;32m     <a href='vscode-notebook-cell:/g%3A/6.Semester/Prescriptive%20Analytics/Seminar%202/Lesson_02_ClassesAndObjects_filled.ipynb#ch0000033?line=12'>13</a>\u001b[0m test \u001b[39m=\u001b[39m A()\t\t\u001b[39m#实例化类\u001b[39;00m\n\u001b[1;32m---> <a href='vscode-notebook-cell:/g%3A/6.Semester/Prescriptive%20Analytics/Seminar%202/Lesson_02_ClassesAndObjects_filled.ipynb#ch0000033?line=13'>14</a>\u001b[0m test\u001b[39m.\u001b[39;49mfun()\t\u001b[39m#调用方法\u001b[39;00m\n\u001b[0;32m     <a href='vscode-notebook-cell:/g%3A/6.Semester/Prescriptive%20Analytics/Seminar%202/Lesson_02_ClassesAndObjects_filled.ipynb#ch0000033?line=14'>15</a>\u001b[0m test\u001b[39m.\u001b[39mx\n",
      "\u001b[1;32mg:\\6.Semester\\Prescriptive Analytics\\Seminar 2\\Lesson_02_ClassesAndObjects_filled.ipynb Cell 33'\u001b[0m in \u001b[0;36mRoot.fun\u001b[1;34m(self)\u001b[0m\n\u001b[0;32m      <a href='vscode-notebook-cell:/g%3A/6.Semester/Prescriptive%20Analytics/Seminar%202/Lesson_02_ClassesAndObjects_filled.ipynb#ch0000033?line=4'>5</a>\u001b[0m \u001b[39mdef\u001b[39;00m \u001b[39mfun\u001b[39m(\u001b[39mself\u001b[39m):\n\u001b[1;32m----> <a href='vscode-notebook-cell:/g%3A/6.Semester/Prescriptive%20Analytics/Seminar%202/Lesson_02_ClassesAndObjects_filled.ipynb#ch0000033?line=5'>6</a>\u001b[0m     \u001b[39mprint\u001b[39m(\u001b[39mself\u001b[39;49m\u001b[39m.\u001b[39;49mx)\n\u001b[0;32m      <a href='vscode-notebook-cell:/g%3A/6.Semester/Prescriptive%20Analytics/Seminar%202/Lesson_02_ClassesAndObjects_filled.ipynb#ch0000033?line=6'>7</a>\u001b[0m     \u001b[39mprint\u001b[39m(\u001b[39m'\u001b[39m\u001b[39m这是方法\u001b[39m\u001b[39m'\u001b[39m)\n",
      "\u001b[1;31mAttributeError\u001b[0m: 'A' object has no attribute 'x'"
     ]
    }
   ],
   "source": [
    "class Root(object):\n",
    "    def __init__(self):\n",
    "        self.x= '这是属性'\n",
    "\n",
    "    def fun(self):\n",
    "        print(self.x)\n",
    "        print('这是方法')\n",
    "        \n",
    "class A(Root):\n",
    "    def __init__(self):\n",
    "        print('实例化时执行')\n",
    "\n",
    "test = A()\t\t#实例化类\n",
    "test.fun()\t#调用方法\n",
    "test.x\t\t#调用属性\n",
    "\n"
   ]
  },
  {
   "cell_type": "code",
   "execution_count": 46,
   "metadata": {},
   "outputs": [
    {
     "name": "stdout",
     "output_type": "stream",
     "text": [
      "实例化时执行\n",
      "这是属性\n",
      "这是方法\n"
     ]
    },
    {
     "data": {
      "text/plain": [
       "'这是属性'"
      ]
     },
     "execution_count": 46,
     "metadata": {},
     "output_type": "execute_result"
    }
   ],
   "source": [
    "class Root(object):\n",
    "    def __init__(self):\n",
    "        self.x = '这是属性'\n",
    "\n",
    "    def fun(self):\n",
    "        print(self.x)\n",
    "        print('这是方法')\n",
    "\n",
    "\n",
    "class A(Root):\n",
    "    def __init__(self):\n",
    "        super(A,self).__init__()\n",
    "        print('实例化时执行')\n",
    "\n",
    "\n",
    "test = A()  # 实例化类\n",
    "test.fun()  # 调用方法\n",
    "test.x  # 调用属性\n",
    "\n"
   ]
  },
  {
   "cell_type": "markdown",
   "metadata": {},
   "source": [
    "## Das war's für heute! Vielen Dank für Ihre Aufmerksamkeit.\n",
    "\n",
    "## In Opal finden Sie eine kleine Hausaufgabe in Vorbereitung auf die kommende Woche."
   ]
  }
 ],
 "metadata": {
  "interpreter": {
   "hash": "e42634819b8c191a5d07eaf23810ff32516dd8d3875f28ec3e488928fbd3c187"
  },
  "kernelspec": {
   "display_name": "Python 3.8.8 ('base')",
   "language": "python",
   "name": "python3"
  },
  "language_info": {
   "codemirror_mode": {
    "name": "ipython",
    "version": 3
   },
   "file_extension": ".py",
   "mimetype": "text/x-python",
   "name": "python",
   "nbconvert_exporter": "python",
   "pygments_lexer": "ipython3",
   "version": "3.8.8"
  },
  "orig_nbformat": 2
 },
 "nbformat": 4,
 "nbformat_minor": 2
}
