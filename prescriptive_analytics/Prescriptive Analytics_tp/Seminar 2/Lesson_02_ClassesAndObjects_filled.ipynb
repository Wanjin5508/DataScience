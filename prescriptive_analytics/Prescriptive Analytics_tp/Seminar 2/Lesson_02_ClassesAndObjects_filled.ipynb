version https://git-lfs.github.com/spec/v1
oid sha256:002de20908d3beadae25fc054f5807f3bdadf6028406e03dcf8c42b6f8da16a7
size 49768
