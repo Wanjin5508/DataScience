{
 "cells": [
  {
   "cell_type": "markdown",
   "metadata": {},
   "source": [
    "---\n",
    "# Seminar 2 - Objektorientierung\n",
    "---\n",
    "\n",
    "\n",
    "\n",
    "## 1. Podcast-Management\n",
    "\n",
    "Nachdem die Expansion in die USA aufgrund Ihrer Analysen nun beschlossene Sache ist, steht das Team vor der Aufgabe die einzelnen Podcastfolgen besser zu managen. Als letzte Aufgabe Ihres Praktikums werden Sie somit gebeten, das Management der einzelnen Podcasts in Python zu systematisieren. \n",
    "\n",
    "1. Erstellen Sie bitte eine Klasse *Podcast* mit den Eigenschaften *length*, *moderator* und *adverts*.\n",
    "2. Die ersten beiden Eigenschaften werden bei der Erzeugung eines neuen Objekts initialisiert. Die Werbeblöcke werden standardmäßig mit 0 initialisiert.\n",
    "3. Neben den Eigenschaften soll es zunächst nur eine Methode geben:\n",
    "- Mit der Methode `display` soll eine Zusammenfassung aller Informationen zur Folge ausgegeben werden.\n",
    "\n",
    "\n",
    "### a.)\n",
    "\n",
    "Erstellen Sie bitte die Klasse mit den genannten Eigenschaften und führen Sie anschließend die unten stehenden Befehle aus.\n"
   ]
  },
  {
   "cell_type": "code",
   "execution_count": 1,
   "metadata": {},
   "outputs": [
    {
     "name": "stdout",
     "output_type": "stream",
     "text": [
      "Podcast Folge Nr.: 23 mit ModeratorIn: O. Peratio\n",
      "Thema der Podcastfolge: Traveling Salesman Problems\n",
      "Laenge der Podcastfolge: 70\n",
      "Aktuelle verkaufte Werbebloecke: 0\n"
     ]
    }
   ],
   "source": [
    "class Podcast():\n",
    "    'Pod'\n",
    "\n",
    "    def __init__(self, index, thema, length, moderator):\n",
    "        self.index = index\n",
    "        self.thema = thema\n",
    "        self.length = length\n",
    "        self.moderator = moderator\n",
    "        self.adverts = 0\n",
    "\n",
    "    def display(self): #kann auch mehr fach print sein\n",
    "        print('Podcast Folge Nr.: ' + str(self.index)+' mit ModeratorIn: ' + self.moderator + '\\n' + 'Thema der Podcastfolge: '\n",
    "        + self.thema + '\\n' + 'Laenge der Podcastfolge: ' + str(self.length) + '\\n' + \n",
    "        'Aktuelle verkaufte Werbebloecke: ' + str(self.adverts))\n",
    "\n",
    "newpodcast = Podcast(23, \"Traveling Salesman Problems\", 70, \"O. Peratio\")\n",
    "\n",
    "newpodcast.display()"
   ]
  },
  {
   "cell_type": "markdown",
   "metadata": {},
   "source": [
    "Erwartete Ausgabe:\n",
    "\n",
    "    Podcast Folge Nr.: 23 mit ModeratorIn: O. Peratio.\n",
    "\n",
    "    Thema der Podcastfolge: Traveling Salesman Problems\n",
    "\n",
    "    Länge der Podcastfolge: 70\n",
    "\n",
    "    Aktuell verkaufte Werbeblöcke: 0"
   ]
  },
  {
   "cell_type": "markdown",
   "metadata": {},
   "source": [
    "### b.)\n",
    "\n",
    "Die Grundstruktur der Klasse steht. Nun sollen weitere Anpassungen vorgenommen werden:\n",
    "\n",
    "1. Die Attribute des Objekts sollen nach Initialisierung nicht mehr von außen angesteuert werden können.\n",
    "2. Neben der bestehenden Methode sollen noch weitere Methoden intergiert werden:\n",
    "- Die Methode `setAdverts` fügt der Länge des Podcasts die 3-minütigen Werbeblöcke hinzu. Wie viele Werbeblöcke hinzugefügt werden, hängt von der mit gelieferten Anzahl ab. Die Anzahl der Werbeblöcke wird im entsprechenden Attribut gespeichert.\n",
    "- Die Methode `getAdverts` gibt die aktuelle Anzahl an Werbeblöcken aus.\n",
    "- Mit der Methode `cut` kann ein Podcast gekürzt werden. Wie viele Minuten herausgeschnitten werden, hängt wiederum vom übergebenen Parameter ab. Jedoch soll dabei ein Grenzwert von 30 Minuten nicht unterschritten werden. Bei Unterschreitung dieser Grenze soll eine entsprechende Meldung erscheinen.\n",
    "\n",
    "Bitte erweitern Sie die Klasse *Podcast* entsprechend der Angaben und führen Sie anschließend den entsprechenden Code aus."
   ]
  },
  {
   "cell_type": "code",
   "execution_count": 2,
   "metadata": {},
   "outputs": [
    {
     "name": "stdout",
     "output_type": "stream",
     "text": [
      "Podcast Folge Nr.: 23 mit ModeratorIn: O. Peratio\n",
      "Thema der Podcastfolge: Traveling Salesman Problems\n",
      "Laenge der Podcastfolge: 70\n",
      "Aktuelle verkaufte Werbebloecke: 0\n"
     ]
    }
   ],
   "source": [
    "class Podcast():\n",
    "    'Pod'\n",
    "\n",
    "    def __init__(self, index, thema, length, moderator):\n",
    "        self.__index = index\n",
    "        self.__thema = thema\n",
    "        self.__length = length\n",
    "        self.__moderator = moderator\n",
    "        self.__adverts = 0\n",
    "\n",
    "    def display(self):\n",
    "        print('Podcast Folge Nr.: ' + str(self.__index)+' mit ModeratorIn: ' + self.__moderator + '\\n' + 'Thema der Podcastfolge: '\n",
    "        + self.__thema + '\\n' + 'Laenge der Podcastfolge: ' + str(self.__length) + '\\n' + \n",
    "        'Aktuelle verkaufte Werbebloecke: ' + str(self.__adverts))\n",
    "\n",
    "    def setAdverts(self, n):\n",
    "        if self.__adverts+n <= 3:\n",
    "            self.__adverts += n\n",
    "            self.__length += 3*n\n",
    "        else:\n",
    "            print(' Achtung: Es dürfen nur noch maximal '+str(3-self.__adverts)+ ' Werbeblöcke eingespielt werden.')\n",
    "\n",
    "    def getAdverts(self):\n",
    "        return self.__adverts\n",
    "\n",
    "    def cut(self, m):\n",
    "        if (self.__length - m < 30):\n",
    "            print('Achtung: Diese Folge kann nicht weiter gekürzt werden. Aktuell ist sie '+ str(self.__length)+\n",
    "            ' Minuten lang.')\n",
    "        else:\n",
    "            self.__length -= m\n",
    "        return self.__length\n",
    "\n",
    "\n",
    "newpodcast = Podcast(23, \"Traveling Salesman Problems\", 70, \"O. Peratio\")\n",
    "\n",
    "newpodcast.display()"
   ]
  },
  {
   "cell_type": "code",
   "execution_count": 3,
   "metadata": {},
   "outputs": [
    {
     "name": "stdout",
     "output_type": "stream",
     "text": [
      "Podcast Folge Nr.: 23 mit ModeratorIn: O. Peratio\n",
      "Thema der Podcastfolge: Traveling Salesman Problems\n",
      "Laenge der Podcastfolge: 70\n",
      "Aktuelle verkaufte Werbebloecke: 0\n",
      " Achtung: Es dürfen nur noch maximal 1 Werbeblöcke eingespielt werden.\n",
      "Achtung: Diese Folge kann nicht weiter gekürzt werden. Aktuell ist sie 31 Minuten lang.\n",
      "Podcast Folge Nr.: 23 mit ModeratorIn: O. Peratio\n",
      "Thema der Podcastfolge: Traveling Salesman Problems\n",
      "Laenge der Podcastfolge: 31\n",
      "Aktuelle verkaufte Werbebloecke: 2\n"
     ]
    }
   ],
   "source": [
    "newpodcast = Podcast(23, \"Traveling Salesman Problems\", 70, \"O. Peratio\")  # setattri\n",
    "\n",
    "newpodcast.display()\n",
    "\n",
    "newpodcast.setAdverts(2)\n",
    "newpodcast.setAdverts(2)\n",
    "\n",
    "newpodcast.cut(45)\n",
    "newpodcast.cut(10)\n",
    "\n",
    "newpodcast.display()"
   ]
  },
  {
   "cell_type": "markdown",
   "metadata": {},
   "source": [
    "Erwarteter Output:\n",
    "\n",
    "    Podcast Folge Nr.: 23 mit ModeratorIn: O. Peratio\n",
    "\n",
    "    Thema der Podcastfolge: Traveling Salesman Problems\n",
    "\n",
    "    Länge der Podcastfolge: 70\n",
    "\n",
    "    Aktuell verkaufte Werbeblöcke: 0\n",
    "\n",
    "    Achtung: Es dürfen nur noch maximal 1 Werbeblöcke eingespielt werden.\n",
    "\n",
    "    Achtung: Diese Folge kann nicht weiter gekürzt werden. Aktuell ist sie 31 Minuten lang.\n",
    "\n",
    "    Podcast Folge Nr.: 23 mit ModeratorIn: O. Peratio\n",
    "\n",
    "    Thema der Podcastfolge: Traveling Salesman Problems\n",
    "\n",
    "    Länge der Podcastfolge: 31\n",
    "\n",
    "    Aktuell verkaufte Werbeblöcke: 2"
   ]
  },
  {
   "cell_type": "markdown",
   "metadata": {},
   "source": [
    "### c.)\n",
    "\n",
    "Als letzter Schritt soll nun eine Klasse *SpecialPodcast* eingeführt werden, die neben den bestehenden Eigenschaften auch noch einen *specialguest* beinhalten soll. Da die Bestätigung der Gäste jedoch immer relativ kurzfristig kommt, kann mittels der Methode `changeGuest` der *specialguest* nochmal verändert werden.\n",
    "\n",
    "Bitte erstellen Sie die Klasse mittels Vererbung und nehmen Sie die zusätzliche Eigenschaft sowie die neue Methode mit in die Klasse auf. Führen Sie anschließend die unten stehenden Befehle aus."
   ]
  },
  {
   "cell_type": "code",
   "execution_count": 2,
   "metadata": {},
   "outputs": [],
   "source": [
    "class SpecialPodcast(Podcast):\n",
    "    \n",
    "    def __init__(self, index, thema, length, moderator, specialguest:str):\n",
    "        super().__init__(index, thema, length, moderator)\n",
    "        self.__specialguest  = specialguest\n",
    "\n",
    "    def setGuest(self, newGuest):\n",
    "        if type(newGuest) != str:\n",
    "            pass\n",
    "        else:\n",
    "            self.__specialguest = newGuest\n",
    "\n",
    "    def getGuest(self):\n",
    "        return self.__specialguest\n",
    "\n",
    "\n",
    "    def changeGuest(self, newGuest:str):\n",
    "        self.__specialguest = newGuest\n",
    "        \n",
    "    def display(self): #overwrite \n",
    "        super().display()\n",
    "        print(f'Specialguest der Podcastfolge ist: {self.__specialguest}')"
   ]
  },
  {
   "cell_type": "code",
   "execution_count": 3,
   "metadata": {},
   "outputs": [
    {
     "name": "stdout",
     "output_type": "stream",
     "text": [
      "Podcast Folge Nr.: 1 mit ModeratorIn: M. Ipler\n",
      "Thema der Podcastfolge: Vehicle Routing Problem\n",
      "Laenge der Podcastfolge: 65\n",
      "Aktuelle verkaufte Werbebloecke: 0\n",
      "Specialguest der Podcastfolge ist: Dr. Secondbest\n"
     ]
    }
   ],
   "source": [
    "sp = SpecialPodcast(1, \"Vehicle Routing Problem\", 65, \"M. Ipler\", \"Dr. Best\")\n",
    "\n",
    "sp.changeGuest(\"Dr. Secondbest\")\n",
    "\n",
    "sp.display()"
   ]
  },
  {
   "cell_type": "markdown",
   "metadata": {},
   "source": [
    "Erwarteter Output:\n",
    "\n",
    "    Podcast Folge Nr.: 1 mit ModeratorIn: M. Ipler\n",
    "\n",
    "    Thema der Podcastfolge: Vehicle Routing Problem\n",
    "\n",
    "    Länge der Podcastfolge: 65\n",
    "\n",
    "    Aktuell verkaufte Werbeblöcke: 0\n",
    "\n",
    "    Specialguest der Podcastfolge ist: Dr. Secondbest"
   ]
  },
  {
   "cell_type": "markdown",
   "metadata": {},
   "source": [
    "---\n",
    "## 2. Einführung des Planungsproblems\n",
    "---\n",
    "### Flow Shop Scheduling in der Zahnputzmittelherstellung\n",
    "\n",
    "Kurz vor Ende Ihres Praktikums im Team von \"OR\" unterhalten Sie sich mit dem Interviewgast Dr. Best, der eine Firma zur Produktion von Zahnputzmittel betreibt und die Produktionsplanung bisher immer mit exakten Verfahren vorgenommen hat. \n",
    "Aufgrund der gestiegenen Sortenvielfalt gelangen die bisherigen Planungsmethoden jedoch an ihre Grenzen. Dr. Best hat bereits vom Moderator des Podcasts von Ihren Python-Kenntnissen erfahren und fragt Sie nun, ob Sie ihm bei der Entwicklung geeigneter Näherungsverfahren im Rahmen einer Werkstudententätigkeit behilflich sein können.\n",
    "\n",
    "Nach der ersten Besichtigung der Fertigung können Sie das Planungsproblem als klassisches Flow Shop Problem mit Rüstzeiten identifizieren:\n",
    "\n",
    "Ein Set $N$ = {1, 2, . . . , $n$} aus $n$ Aufträgen soll sequenziell auf $m$ unterschiedlichen Stationen bearbeitet werden, wobei an jeder Station nur eine Maschine zur Verfügung steht. Die Reihenfolge der Arbeitsgänge ist für alle Aufträge identisch. Alle Maschinen sind durchgehend verfügbar und können jeweils einen Auftrag gleichzeitig bearbeiten. Die Puffermöglichkeit zwischen den Maschinen sind als unendlich anzunehmen. Bevor jedoch ein Auftrag auf einer Maschine bearbeitet werden kann, muss die Maschine vorbereitet bzw. gerüstet werden.\n",
    "\n",
    "Als kundenorientierter Unternehmer möchte Dr. Best am liebsten alle KundInnen mit möglichst pünktlichen Lieferungen zufrieden stellen. Allerdings sind manche KundInnen wichtiger als andere, da diese eine Verzögerung der Lieferungen mit hohen Strafkosten belegt haben.\n",
    "\n",
    "---\n",
    "### Exemplarische Inputdaten\n",
    "---\n",
    "\n",
    "Die Grundlage Ihrer Arbeit an einer geeigneten Heuristik bilden zum einen die Anzahl einzuplanender Aufträge $n$ sowie die notwendigen Stationen bzw. Maschinen $m$, auf denen jeder Auftrag bearbeitet werden muss. Zum anderen wird Ihnen von Dr. Best eine Übersicht der Rüst- und Bearbeitungszeiten für jeden Arbeitsgang eines Auftrags ausgehändigt. \n",
    "\n",
    "Die beispielhaften Inputdaten für Ihre ersten Tests werden Ihnen in einer .json-Datei bereitgestellt."
   ]
  },
  {
   "cell_type": "markdown",
   "metadata": {},
   "source": [
    "### a.)\n",
    "\n",
    "Machen Sie sich zunächst mit der Beispieldatei \"InputFlowshopSIST.json\" vertraut. Welche Struktur wird in der Datei nachgebildet? \n",
    "Finden Sie bitte heraus, mit welchem Modul json-Dateien eingelesen werden können. Wie könnten Sie die vorliegende json-Datei einlesen, um diese weiterzuverwenden?"
   ]
  },
  {
   "cell_type": "code",
   "execution_count": 5,
   "metadata": {},
   "outputs": [
    {
     "name": "stdout",
     "output_type": "stream",
     "text": [
      "{'Name': 'InputFlowshopSIST', 'nMachines': 5, 'nJobs': 11, 'Jobs': [{'Id': 1, 'SetupTimes': [15, 18, 27, 22, 28], 'ProcessingTimes': [375, 12, 142, 245, 412], 'DueDate': 1779, 'TardCosts': 200}, {'Id': 2, 'SetupTimes': [45, 44, 27, 49, 37], 'ProcessingTimes': [632, 452, 758, 278, 398], 'DueDate': 3777, 'TardCosts': 200}, {'Id': 3, 'SetupTimes': [49, 51, 30, 23, 37], 'ProcessingTimes': [12, 876, 124, 534, 765], 'DueDate': 3466, 'TardCosts': 200}, {'Id': 4, 'SetupTimes': [17, 32, 47, 30, 45], 'ProcessingTimes': [460, 542, 523, 120, 499], 'DueDate': 3216, 'TardCosts': 200}, {'Id': 5, 'SetupTimes': [27, 46, 29, 15, 31], 'ProcessingTimes': [528, 101, 789, 124, 999], 'DueDate': 3812, 'TardCosts': 200}, {'Id': 6, 'SetupTimes': [55, 27, 48, 29, 20], 'ProcessingTimes': [796, 245, 632, 375, 123], 'DueDate': 3256, 'TardCosts': 200}, {'Id': 7, 'SetupTimes': [58, 48, 49, 44, 51], 'ProcessingTimes': [532, 230, 543, 896, 452], 'DueDate': 3980, 'TardCosts': 200}, {'Id': 8, 'SetupTimes': [22, 22, 29, 57, 56], 'ProcessingTimes': [14, 124, 214, 543, 785], 'DueDate': 2520, 'TardCosts': 200}, {'Id': 9, 'SetupTimes': [37, 49, 41, 56, 37], 'ProcessingTimes': [257, 527, 753, 210, 463], 'DueDate': 3315, 'TardCosts': 200}, {'Id': 10, 'SetupTimes': [58, 19, 19, 19, 24], 'ProcessingTimes': [896, 896, 214, 258, 259], 'DueDate': 3784, 'TardCosts': 200}, {'Id': 11, 'SetupTimes': [30, 52, 31, 32, 37], 'ProcessingTimes': [532, 302, 501, 765, 988], 'DueDate': 4632, 'TardCosts': 200}]}\n",
      "--------------------------------------------------------------------------------------------------------------------------------------------------------------------------------\n",
      "[{'Id': 1, 'SetupTimes': [15, 18, 27, 22, 28], 'ProcessingTimes': [375, 12, 142, 245, 412], 'DueDate': 1779, 'TardCosts': 200}, {'Id': 2, 'SetupTimes': [45, 44, 27, 49, 37], 'ProcessingTimes': [632, 452, 758, 278, 398], 'DueDate': 3777, 'TardCosts': 200}, {'Id': 3, 'SetupTimes': [49, 51, 30, 23, 37], 'ProcessingTimes': [12, 876, 124, 534, 765], 'DueDate': 3466, 'TardCosts': 200}, {'Id': 4, 'SetupTimes': [17, 32, 47, 30, 45], 'ProcessingTimes': [460, 542, 523, 120, 499], 'DueDate': 3216, 'TardCosts': 200}, {'Id': 5, 'SetupTimes': [27, 46, 29, 15, 31], 'ProcessingTimes': [528, 101, 789, 124, 999], 'DueDate': 3812, 'TardCosts': 200}, {'Id': 6, 'SetupTimes': [55, 27, 48, 29, 20], 'ProcessingTimes': [796, 245, 632, 375, 123], 'DueDate': 3256, 'TardCosts': 200}, {'Id': 7, 'SetupTimes': [58, 48, 49, 44, 51], 'ProcessingTimes': [532, 230, 543, 896, 452], 'DueDate': 3980, 'TardCosts': 200}, {'Id': 8, 'SetupTimes': [22, 22, 29, 57, 56], 'ProcessingTimes': [14, 124, 214, 543, 785], 'DueDate': 2520, 'TardCosts': 200}, {'Id': 9, 'SetupTimes': [37, 49, 41, 56, 37], 'ProcessingTimes': [257, 527, 753, 210, 463], 'DueDate': 3315, 'TardCosts': 200}, {'Id': 10, 'SetupTimes': [58, 19, 19, 19, 24], 'ProcessingTimes': [896, 896, 214, 258, 259], 'DueDate': 3784, 'TardCosts': 200}, {'Id': 11, 'SetupTimes': [30, 52, 31, 32, 37], 'ProcessingTimes': [532, 302, 501, 765, 988], 'DueDate': 4632, 'TardCosts': 200}]\n"
     ]
    }
   ],
   "source": [
    "import json\n",
    "\n",
    "with open('InputFlowshopSIST.json') as json_file:\n",
    "    data = json.load(json_file)  # As a dictionary\n",
    "\n",
    "print(data)\n",
    "print(\"--------------------------------------------------------------------------------------------------------------------------------------------------------------------------------\")\n",
    "\n",
    "dict_jobs = data['Jobs']\n",
    "print(dict_jobs) # 11 jobs und 5 maschinen, 11 jobs scheduled on 5 maschinen"
   ]
  },
  {
   "cell_type": "markdown",
   "metadata": {},
   "source": [
    "### b.)\n",
    "\n",
    "Welche Klassen benötigen Sie in Python, um das Planungsproblem grundsätzlich zu beschreiben? Denken Sie daran die `__init__()`- und `__str__()`-Funktion zu definieren. Die Inputdaten aus der json-Datei sollten sich in den Klassen wieder finden.\n",
    "\n",
    "Setzen Sie diese Klassen in Python um."
   ]
  },
  {
   "cell_type": "code",
   "execution_count": 1,
   "metadata": {},
   "outputs": [
    {
     "data": {
      "text/plain": [
       "\"Flowshop(self.name = 'aa', self.nMaschines = 5, self.nJobs = 6, self.jobList = [1, 2, 3])\""
      ]
     },
     "execution_count": 1,
     "metadata": {},
     "output_type": "execute_result"
    }
   ],
   "source": [
    "class Jobs(): # jobs muss auf alle 5 Maschinen laufen\n",
    "    def __init__(self, Id, SetupTimes, ProcessingTimes, DueDate, TardCosts):\n",
    "        self.Id = Id\n",
    "        self.SetupTimes = SetupTimes\n",
    "        self.ProcessingTimes = ProcessingTimes\n",
    "        self.DueDate = DueDate\n",
    "        self.TardCosts = TardCosts\n",
    "\n",
    "    def __str__(self): # 用于将类的实例转化成字符串，否则输出的是对象\n",
    "        # print(f'ID: {self.Id}\\n')\n",
    "        # print(f'SetupTimes: {self.SetupTimes}\\n')\n",
    "        # print(f'ProcessingTimes: {self.ProcessingTimes}\\n')\n",
    "        # print(f'DueDate: {self.DueDate}\\n')\n",
    "        # print(f'TardCosts: {self.TardCosts}\\n')\n",
    "\n",
    "        return f'Jobs({self.id = }, {self.SetupTimes = }, {self.ProcessingTimes = }, {self.DueDate = }, {self.TardCosts = })'\n",
    "        \n",
    "class DataMachine():\n",
    "\n",
    "    def __init__(self, machineId):\n",
    "        self.MachineId = machineId\n",
    "\n",
    "    def __str__(self):\n",
    "        return 'Machine ' + str(self.MachineId)\n",
    "\n",
    "\n",
    "class Flowshop():\n",
    "    name = None\n",
    "    nMaschines = None\n",
    "    nJobs = None\n",
    "    jobList=[]\n",
    "\n",
    "    def __init__(self, name, anzahlMaschinen, anzahlJobsProAuftrag, jobs):\n",
    "        self.name=name\n",
    "        self.nMaschines = anzahlMaschinen\n",
    "        self.nJobs = anzahlJobsProAuftrag\n",
    "        self.jobList = jobs\n",
    "\n",
    "    def __str__(self):\n",
    "        return f'Flowshop({self.name = }, {self.nMaschines = }, {self.nJobs = }, {self.jobList = })'\n",
    "\n",
    "fs = Flowshop('aa', 5, 6, [1,2,3])\n",
    "fs.__str__()\n",
    "\n",
    "#class DataJob:\n",
    "\n",
    " #   def __init__(self, idjob, processingTimes, setupTimes, dueDate, tardinessCost):\n",
    "  #      self.__JobId = idjob\n",
    "   #     self.__ProcessingTime = processingTimes\n",
    "  ##      self.__DueDate = dueDate\n",
    "  #      self.__SetupTime = setupTimes\n",
    "   #     self.__TardCost = tardinessCost\n",
    "\n",
    "   # def __str__(self):\n",
    "    #    return f'Job: {self.__JobId} with {len(self.__ProcessingTime)} Operations.\\n'"
   ]
  },
  {
   "cell_type": "markdown",
   "metadata": {},
   "source": [
    "### c.)\n",
    "\n",
    "Erstellen Sie eine Klasse *InputData*, welche die .json-Datei verarbeitet und entsprechende Objekte der Klassen aus b.) erzeugt."
   ]
  },
  {
   "cell_type": "code",
   "execution_count": 3,
   "metadata": {},
   "outputs": [
    {
     "data": {
      "text/plain": [
       "<__main__.Jobs at 0x1f8d55ab1c0>"
      ]
     },
     "execution_count": 3,
     "metadata": {},
     "output_type": "execute_result"
    }
   ],
   "source": [
    "import json\n",
    "\n",
    "class InputData:\n",
    "\n",
    "    def __init__(self, path): #wo liegt die Datei?\n",
    "        self.__path = path\n",
    "\n",
    "    def DataLoad(self):\n",
    "        with open(self.__path, \"r\") as inputFile:    ##############################################inputData\n",
    "            inputData = json.load(inputFile)  # 数据 = load（文件）\n",
    "        \n",
    "        #print(inputData)\n",
    "        self.n = inputData['nJobs']\n",
    "        self.m = inputData['nMachines']\n",
    "        \n",
    "        self.InputJobs = []\n",
    "        for job in inputData['Jobs']:\n",
    "            #print(job)\n",
    "            # 这一步用Job类来构造对象，然后放进列表中\n",
    "            self.InputJobs.append(Jobs(job['Id'], job['SetupTimes'], job['ProcessingTimes'],  job['DueDate'], job['TardCosts']))\n",
    "\n",
    "        self.flowshop = Flowshop(inputData['Name'], inputData['nMachines'], inputData['nJobs'], self.InputJobs)\n",
    "        #for job in self.InputJobs:\n",
    "          #  print(job)\n",
    "\n",
    "        self.InputMachines = []\n",
    "        for k in range(self.m):\n",
    "            self.InputMachines.append(DataMachine(k))\n",
    "\n",
    "\n",
    "data = InputData(\"./InputFlowshopSIST.json\")\n",
    "data.DataLoad()\n",
    "data\n",
    "data.InputJobs[0]\n",
    "\n"
   ]
  },
  {
   "cell_type": "markdown",
   "metadata": {},
   "source": [
    "### d.)\n",
    "\n",
    "Erstellen Sie eine Klasse *OutputJob*, die es ermöglicht, den eingeplanten Job zu beschreiben."
   ]
  },
  {
   "cell_type": "code",
   "execution_count": 5,
   "metadata": {},
   "outputs": [],
   "source": [
    "class OutputJob:\n",
    "    job = None\n",
    "\n",
    "    def __init__(self, j):\n",
    "        self.job = j\n",
    "\n",
    "    def display(self):\n",
    "        print( self.job)\n",
    "\n",
    "#OutputJob(data.flowshop.jobList[0]).display()"
   ]
  },
  {
   "cell_type": "markdown",
   "metadata": {},
   "source": [
    "## Das war's für heute! Vielen Dank für Ihre Aufmerksamkeit.\n",
    "\n",
    "## In Opal finden Sie eine kleine Hausaufgabe in Vorbereitung auf die kommende Woche."
   ]
  }
 ],
 "metadata": {
  "interpreter": {
   "hash": "e42634819b8c191a5d07eaf23810ff32516dd8d3875f28ec3e488928fbd3c187"
  },
  "kernelspec": {
   "display_name": "Python 3.8.8 ('base')",
   "language": "python",
   "name": "python3"
  },
  "language_info": {
   "codemirror_mode": {
    "name": "ipython",
    "version": 3
   },
   "file_extension": ".py",
   "mimetype": "text/x-python",
   "name": "python",
   "nbconvert_exporter": "python",
   "pygments_lexer": "ipython3",
   "version": "3.8.8"
  },
  "orig_nbformat": 2
 },
 "nbformat": 4,
 "nbformat_minor": 2
}
