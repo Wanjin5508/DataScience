{
 "cells": [
  {
   "cell_type": "markdown",
   "metadata": {},
   "source": [
    "1. a)"
   ]
  },
  {
   "cell_type": "code",
   "execution_count": 1,
   "metadata": {},
   "outputs": [
    {
     "name": "stdout",
     "output_type": "stream",
     "text": [
      "Podcast Folge Nr.: 23 mit ModeratorIn: O. Peratio\n",
      "Thema der Podcastfolge: Traveling Salesman Problems\n",
      "Laenge der Podcastfolge: 70\n",
      "Aktuelle verkaufte Werbebloecke: 0\n"
     ]
    }
   ],
   "source": [
    "class Podcast:\n",
    "    'Pod'\n",
    "\n",
    "    def __init__(self, index, thema, length, moderator, adverts = 0):\n",
    "        self.index = index\n",
    "        self.thema = thema\n",
    "        self.length = length\n",
    "        self.moderator = moderator\n",
    "        self.adverts = adverts\n",
    "\n",
    "    def display(self):\n",
    "        print('Podcast Folge Nr.: ' + str(self.index)+' mit ModeratorIn: ' + self.moderator + '\\n' + 'Thema der Podcastfolge: '\n",
    "        + self.thema + '\\n' + 'Laenge der Podcastfolge: ' + str(self.length) + '\\n' + \n",
    "        'Aktuelle verkaufte Werbebloecke: ' + str(self.adverts))\n",
    "\n",
    "newpodcast = Podcast(23, \"Traveling Salesman Problems\", 70, \"O. Peratio\")\n",
    "\n",
    "newpodcast.display()"
   ]
  },
  {
   "cell_type": "markdown",
   "metadata": {},
   "source": [
    "1. b)"
   ]
  },
  {
   "cell_type": "code",
   "execution_count": 2,
   "metadata": {},
   "outputs": [
    {
     "name": "stdout",
     "output_type": "stream",
     "text": [
      "Podcast Folge Nr.: 23 mit ModeratorIn: O. Peratio\n",
      "Thema der Podcastfolge: Traveling Salesman Problems\n",
      "Laenge der Podcastfolge: 70\n",
      "Aktuelle verkaufte Werbebloecke: 0\n"
     ]
    }
   ],
   "source": [
    "class Podcast:\n",
    "    'Pod'\n",
    "\n",
    "    def __init__(self, index, thema, length, moderator, adverts = 0):\n",
    "        self.__index = index\n",
    "        self.__thema = thema\n",
    "        self.__length = length\n",
    "        self.__moderator = moderator\n",
    "        self.__adverts = adverts\n",
    "\n",
    "    def display(self):\n",
    "        print('Podcast Folge Nr.: ' + str(self.__index)+' mit ModeratorIn: ' + self.__moderator + '\\n' + 'Thema der Podcastfolge: '\n",
    "        + self.__thema + '\\n' + 'Laenge der Podcastfolge: ' + str(self.__length) + '\\n' + \n",
    "        'Aktuelle verkaufte Werbebloecke: ' + str(self.__adverts))\n",
    "\n",
    "    def setAdverts(self, n):\n",
    "        if self.__adverts+n <= 3:\n",
    "            self.__adverts += n\n",
    "            self.__length += 3*n\n",
    "        else:\n",
    "            print(' Achtung: Es dürfen nur noch maximal '+str(3-self.__adverts)+ ' Werbeblöcke eingespielt werden.')\n",
    "\n",
    "    def getAdverts(self):\n",
    "        return self.__adverts\n",
    "\n",
    "    def cut(self, m):\n",
    "        if (self.__length - m < 30):\n",
    "            print('Achtung: Diese Folge kann nicht weiter gekürzt werden. Aktuell ist sie '+ str(self.__length)+\n",
    "            ' Minuten lang.')\n",
    "        else:\n",
    "            self.__length -= m\n",
    "        return self.__length\n",
    "\n",
    "\n",
    "newpodcast = Podcast(23, \"Traveling Salesman Problems\", 70, \"O. Peratio\")\n",
    "\n",
    "newpodcast.display()"
   ]
  },
  {
   "cell_type": "code",
   "execution_count": 3,
   "metadata": {},
   "outputs": [
    {
     "name": "stdout",
     "output_type": "stream",
     "text": [
      "Podcast Folge Nr.: 23 mit ModeratorIn: O. Peratio\n",
      "Thema der Podcastfolge: Traveling Salesman Problems\n",
      "Laenge der Podcastfolge: 70\n",
      "Aktuelle verkaufte Werbebloecke: 0\n",
      " Achtung: Es dürfen nur noch maximal 1 Werbeblöcke eingespielt werden.\n",
      "Achtung: Diese Folge kann nicht weiter gekürzt werden. Aktuell ist sie 31 Minuten lang.\n",
      "Podcast Folge Nr.: 23 mit ModeratorIn: O. Peratio\n",
      "Thema der Podcastfolge: Traveling Salesman Problems\n",
      "Laenge der Podcastfolge: 31\n",
      "Aktuelle verkaufte Werbebloecke: 2\n"
     ]
    }
   ],
   "source": [
    "newpodcast = Podcast(23, \"Traveling Salesman Problems\", 70, \"O. Peratio\")  \n",
    "\n",
    "newpodcast.display()\n",
    "\n",
    "newpodcast.setAdverts(2)\n",
    "newpodcast.setAdverts(2)\n",
    "\n",
    "newpodcast.cut(45)\n",
    "newpodcast.cut(10)\n",
    "\n",
    "newpodcast.display()"
   ]
  },
  {
   "cell_type": "markdown",
   "metadata": {},
   "source": [
    "1. c)"
   ]
  },
  {
   "cell_type": "code",
   "execution_count": 5,
   "metadata": {},
   "outputs": [
    {
     "name": "stdout",
     "output_type": "stream",
     "text": [
      "Podcast Folge Nr.: 1 mit ModeratorIn: M. Ipler\n",
      "Thema der Podcastfolge: Vehicle Routing Problem\n",
      "Laenge der Podcastfolge: 65\n",
      "Aktuelle verkaufte Werbebloecke: 0\n",
      "Specialguest der Podcastfolge ist: Dr. Secondbest\n"
     ]
    }
   ],
   "source": [
    "class SpecialPodcast(Podcast):\n",
    "    \n",
    "    def __init__(self, index, thema, length, moderator, specialguest:str):\n",
    "        super().__init__(index, thema, length, moderator)\n",
    "        self.__specialguest  = specialguest\n",
    "\n",
    "    def setGuest(self, newGuest):\n",
    "        if type(newGuest) != str:\n",
    "            pass\n",
    "        else:\n",
    "            self.__specialguest = newGuest\n",
    "\n",
    "    def getGuest(self):\n",
    "        return self.__specialguest\n",
    "\n",
    "\n",
    "    def changeGuest(self, newGuest:str):\n",
    "        self.__specialguest = newGuest\n",
    "        \n",
    "    def display(self): #overwrite \n",
    "        super().display()\n",
    "        print(f'Specialguest der Podcastfolge ist: {self.__specialguest}')\n",
    "\n",
    "    \n",
    "\n",
    "sp = SpecialPodcast(1, \"Vehicle Routing Problem\", 65, \"M. Ipler\", \"Dr. Best\")\n",
    "\n",
    "sp.changeGuest(\"Dr. Secondbest\")\n",
    "\n",
    "sp.display()"
   ]
  },
  {
   "cell_type": "markdown",
   "metadata": {},
   "source": [
    "2. a)"
   ]
  },
  {
   "cell_type": "code",
   "execution_count": 6,
   "metadata": {},
   "outputs": [
    {
     "name": "stdout",
     "output_type": "stream",
     "text": [
      "{'Name': 'InputFlowshopSIST', 'nMachines': 5, 'nJobs': 11, 'Jobs': [{'Id': 1, 'SetupTimes': [15, 18, 27, 22, 28], 'ProcessingTimes': [375, 12, 142, 245, 412], 'DueDate': 1779, 'TardCosts': 200}, {'Id': 2, 'SetupTimes': [45, 44, 27, 49, 37], 'ProcessingTimes': [632, 452, 758, 278, 398], 'DueDate': 3777, 'TardCosts': 200}, {'Id': 3, 'SetupTimes': [49, 51, 30, 23, 37], 'ProcessingTimes': [12, 876, 124, 534, 765], 'DueDate': 3466, 'TardCosts': 200}, {'Id': 4, 'SetupTimes': [17, 32, 47, 30, 45], 'ProcessingTimes': [460, 542, 523, 120, 499], 'DueDate': 3216, 'TardCosts': 200}, {'Id': 5, 'SetupTimes': [27, 46, 29, 15, 31], 'ProcessingTimes': [528, 101, 789, 124, 999], 'DueDate': 3812, 'TardCosts': 200}, {'Id': 6, 'SetupTimes': [55, 27, 48, 29, 20], 'ProcessingTimes': [796, 245, 632, 375, 123], 'DueDate': 3256, 'TardCosts': 200}, {'Id': 7, 'SetupTimes': [58, 48, 49, 44, 51], 'ProcessingTimes': [532, 230, 543, 896, 452], 'DueDate': 3980, 'TardCosts': 200}, {'Id': 8, 'SetupTimes': [22, 22, 29, 57, 56], 'ProcessingTimes': [14, 124, 214, 543, 785], 'DueDate': 2520, 'TardCosts': 200}, {'Id': 9, 'SetupTimes': [37, 49, 41, 56, 37], 'ProcessingTimes': [257, 527, 753, 210, 463], 'DueDate': 3315, 'TardCosts': 200}, {'Id': 10, 'SetupTimes': [58, 19, 19, 19, 24], 'ProcessingTimes': [896, 896, 214, 258, 259], 'DueDate': 3784, 'TardCosts': 200}, {'Id': 11, 'SetupTimes': [30, 52, 31, 32, 37], 'ProcessingTimes': [532, 302, 501, 765, 988], 'DueDate': 4632, 'TardCosts': 200}]}\n",
      "--------------------------------------------------------------------------------------------------------------------------------------------------------------------------------\n",
      "[{'Id': 1, 'SetupTimes': [15, 18, 27, 22, 28], 'ProcessingTimes': [375, 12, 142, 245, 412], 'DueDate': 1779, 'TardCosts': 200}, {'Id': 2, 'SetupTimes': [45, 44, 27, 49, 37], 'ProcessingTimes': [632, 452, 758, 278, 398], 'DueDate': 3777, 'TardCosts': 200}, {'Id': 3, 'SetupTimes': [49, 51, 30, 23, 37], 'ProcessingTimes': [12, 876, 124, 534, 765], 'DueDate': 3466, 'TardCosts': 200}, {'Id': 4, 'SetupTimes': [17, 32, 47, 30, 45], 'ProcessingTimes': [460, 542, 523, 120, 499], 'DueDate': 3216, 'TardCosts': 200}, {'Id': 5, 'SetupTimes': [27, 46, 29, 15, 31], 'ProcessingTimes': [528, 101, 789, 124, 999], 'DueDate': 3812, 'TardCosts': 200}, {'Id': 6, 'SetupTimes': [55, 27, 48, 29, 20], 'ProcessingTimes': [796, 245, 632, 375, 123], 'DueDate': 3256, 'TardCosts': 200}, {'Id': 7, 'SetupTimes': [58, 48, 49, 44, 51], 'ProcessingTimes': [532, 230, 543, 896, 452], 'DueDate': 3980, 'TardCosts': 200}, {'Id': 8, 'SetupTimes': [22, 22, 29, 57, 56], 'ProcessingTimes': [14, 124, 214, 543, 785], 'DueDate': 2520, 'TardCosts': 200}, {'Id': 9, 'SetupTimes': [37, 49, 41, 56, 37], 'ProcessingTimes': [257, 527, 753, 210, 463], 'DueDate': 3315, 'TardCosts': 200}, {'Id': 10, 'SetupTimes': [58, 19, 19, 19, 24], 'ProcessingTimes': [896, 896, 214, 258, 259], 'DueDate': 3784, 'TardCosts': 200}, {'Id': 11, 'SetupTimes': [30, 52, 31, 32, 37], 'ProcessingTimes': [532, 302, 501, 765, 988], 'DueDate': 4632, 'TardCosts': 200}]\n"
     ]
    }
   ],
   "source": [
    "import json\n",
    "\n",
    "f = open('InputFlowshopSIST.json')\n",
    "\n",
    "d = json.load(f)  \n",
    "\n",
    "print(d)\n",
    "print(\"--------------------------------------------------------------------------------------------------------------------------------------------------------------------------------\")\n",
    "\n",
    "dict_jobs = d['Jobs']\n",
    "print(dict_jobs) "
   ]
  },
  {
   "cell_type": "code",
   "execution_count": 7,
   "metadata": {},
   "outputs": [],
   "source": [
    "class DataMachine:\n",
    "\n",
    "    def __init__(self, machineId):\n",
    "        self.MachineId = machineId\n",
    "\n",
    "    def __str__(self):\n",
    "        return 'Machine ' + str(self.MachineId)\n",
    "\n",
    "\n",
    "class DataJob:\n",
    "\n",
    "    def __init__(self, idjob, processingTimes, setupTimes, dueDate, tardinessCost):\n",
    "        self.__JobId = idjob\n",
    "        self.__ProcessingTime = processingTimes\n",
    "        self.__DueDate = dueDate\n",
    "        self.__SetupTime = setupTimes\n",
    "        self.__TardCost = tardinessCost\n",
    "\n",
    "    def __str__(self):\n",
    "        return f'Job: {self.__JobId} with {len(self.__ProcessingTime)} Operations.\\n'"
   ]
  },
  {
   "cell_type": "code",
   "execution_count": 8,
   "metadata": {},
   "outputs": [],
   "source": [
    "class Jobs(): \n",
    "    def __init__(self, Id, SetupTimes, ProcessingTimes, DueDate, TardCosts=200):\n",
    "        self.Id = Id\n",
    "        self.SetupTimes = SetupTimes\n",
    "        self.ProcessingTimes = ProcessingTimes\n",
    "        self.DueDate = DueDate\n",
    "        self.TardCosts = TardCosts\n",
    "\n",
    "    def __str__(self): \n",
    "        print(f'ID: {self.Id}\\n')\n",
    "        print(f'SetupTimes: {self.SetupTimes}\\n')\n",
    "        print(f'ProcessingTimes: {self.ProcessingTimes}\\n')\n",
    "        print(f'DueDate: {self.DueDate}\\n')\n",
    "        print(f'TardCosts: {self.TardCosts}\\n')"
   ]
  }
 ],
 "metadata": {
  "interpreter": {
   "hash": "73e03da126b73bfff3642ec5261d56fa25c444ea595de51041687efaa60dda41"
  },
  "kernelspec": {
   "display_name": "Python 3.8.8 ('base')",
   "language": "python",
   "name": "python3"
  },
  "language_info": {
   "codemirror_mode": {
    "name": "ipython",
    "version": 3
   },
   "file_extension": ".py",
   "mimetype": "text/x-python",
   "name": "python",
   "nbconvert_exporter": "python",
   "pygments_lexer": "ipython3",
   "version": "3.8.8"
  },
  "orig_nbformat": 4
 },
 "nbformat": 4,
 "nbformat_minor": 2
}
