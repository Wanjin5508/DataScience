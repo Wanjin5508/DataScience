{
 "cells": [
  {
   "cell_type": "markdown",
   "metadata": {},
   "source": [
    "---\n",
    "## Hausaufgabe 2\n",
    "---\n",
    "\n",
    "### Achtung: Überprüfen Sie vor Abgabe der Hausaufgabe, ob das Notebook richtig gespeichert wurde. \n",
    "Die Speicherung von Notebooks funktioniert über das \"Disketten\"-Symbol im Notebook oder über die Shortcuts Strg + S (Win) und CMD + S (MAC)."
   ]
  },
  {
   "cell_type": "markdown",
   "metadata": {},
   "source": [
    "---\n",
    "## Bewertung\n",
    "---\n",
    "\n",
    "#### Erreichbare Punkte: 25\n",
    "---\n",
    "#### Erreichte Punkte:   25\n",
    "---\n",
    "---\n",
    "Aufgabe 1: 10 <br>\n",
    "<br>\n",
    "Aufgabe 2: 4 <br>\n",
    "<br>\n",
    "Aufgabe 3: 11 <br>"
   ]
  },
  {
   "cell_type": "markdown",
   "metadata": {},
   "source": [
    "#### Aufgabe 1 - First Things First (10 Punkte)\n",
    "\n",
    "##### a.) (3 Punkte)\n",
    "\n",
    "Importieren Sie zunächst alle Klassen und Objekte aus den mit gelieferten .py-Dateien. Diese kennen Sie bereits aus dem Seminar. Erzeugen Sie anschließend das Objekt **data** als Instanz der Klasse *InputData*. Als Inputdaten dienen Ihnen die Daten aus der mitgelieferten .json-Datei (VFR10_10_10_SIST.json). \n",
    "\n",
    "Für diese Beispieldaten wurde Ihnen aus der Fertigung die Reihenfolge 7-6-8-10-2-9-1-4-3-5 empfohlen. Erzeugen Sie hierfür ein Objekt der Klasse *Solution* und benennen Sie es **recommendedSolution**. Wie hoch ist der Makespan dieser Lösung, wenn Rüstzeiten vernachlässigt werden? Geben Sie *Solution* aus.\n"
   ]
  },
  {
   "cell_type": "code",
   "execution_count": 6,
   "metadata": {},
   "outputs": [
    {
     "name": "stdout",
     "output_type": "stream",
     "text": [
      "[0, 0, 0]\n"
     ]
    }
   ],
   "source": [
    "list1 = [0]*3\n",
    "print(list1)"
   ]
  },
  {
   "cell_type": "code",
   "execution_count": 1,
   "metadata": {},
   "outputs": [
    {
     "name": "stdout",
     "output_type": "stream",
     "text": [
      "The permutation [6, 5, 7, 9, 1, 8, 0, 3, 2, 4] results in a Makespan of 1261\n"
     ]
    }
   ],
   "source": [
    "# Schreiben Sie hier Ihren Programmcode\n",
    "## 1 Punkt für Import der Module \n",
    "from InputData import *\n",
    "from OutputData import *\n",
    "from EvaluationLogic import *\n",
    "\n",
    "## 2 Punkte für Einladen und Testen\n",
    "data = InputData('VFR10_10_10_SIST.json')\n",
    "perm_list = [7, 6, 8, 10, 2, 9, 1, 4, 3, 5]\n",
    "\n",
    "perm = [x - 1 for x in perm_list]\n",
    "\n",
    "recommendedSolution = Solution(data.InputJobs, perm)\n",
    "EvaluationLogic().DefineStartEnd(recommendedSolution)\n",
    "print(recommendedSolution)"
   ]
  },
  {
   "cell_type": "code",
   "execution_count": 7,
   "metadata": {},
   "outputs": [
    {
     "name": "stdout",
     "output_type": "stream",
     "text": [
      "The permutation [6, 5, 7, 9, 1, 8, 0, 3, 2, 4] results in a Makespan of -1\n",
      "The permutation [6, 5, 7, 9, 1, 8, 0, 3, 2, 4] results in a Makespan of 1261\n"
     ]
    }
   ],
   "source": [
    "from InputData import *\n",
    "from OutputData import *\n",
    "from EvaluationLogic import *\n",
    "\n",
    "data = InputData('VFR10_10_10_SIST.json')\n",
    "\n",
    "permList = [7,6,8,10,2,9,1,4,3,5]\n",
    "\n",
    "perm = [x-1 for x in permList]\n",
    "\n",
    "recommendedSolution = Solution(data.InputJobs, perm)\n",
    "print(recommendedSolution)\n",
    "\n",
    "EvaluationLogic().DefineStartEnd(recommendedSolution)\n",
    "\n",
    "print(recommendedSolution)\n"
   ]
  },
  {
   "cell_type": "markdown",
   "metadata": {},
   "source": [
    "Erwarteter Output:\n",
    "\n",
    "    The permutation [6, 5, 7, 9, 1, 8, 0, 3, 2, 4] results in a Makespan of 1261"
   ]
  },
  {
   "cell_type": "markdown",
   "metadata": {},
   "source": [
    "##### b.) (2 Punkte)\n",
    "\n",
    "Erstellen Sie ein weiteres Objekt **simpleSolution** der Klasse *Solution*, bei dem die Aufträge nach der FCFS-Regel eingeplant werden. Berechnen Sie das Delta zwischen den beiden Lösungen **recommendedSolution** and **simpleSolution** und geben Sie dieses aus.\n"
   ]
  },
  {
   "cell_type": "code",
   "execution_count": 2,
   "metadata": {},
   "outputs": [
    {
     "name": "stdout",
     "output_type": "stream",
     "text": [
      "The objective delta is -11\n"
     ]
    }
   ],
   "source": [
    "# Schreiben Sie hier Ihren Programmcode\n",
    "# 1 Punkt: Erstellung der Solution & Aufruf Evaluation\n",
    "simpleSolution = Solution(data.InputJobs, range(len(data.InputJobs)))\n",
    "EvaluationLogic().DefineStartEnd(simpleSolution)\n",
    "# 1 Punkt: Berechnung Delta und Ausgabe\n",
    "delta = recommendedSolution.Makespan - simpleSolution.Makespan\n",
    "print(f'The objective delta is {delta}')"
   ]
  },
  {
   "cell_type": "code",
   "execution_count": 8,
   "metadata": {},
   "outputs": [
    {
     "name": "stdout",
     "output_type": "stream",
     "text": [
      "The objective delta is 11\n"
     ]
    }
   ],
   "source": [
    "simpleSolution = Solution(data.InputJobs, [x for x in range(len(data.InputJobs))])\n",
    "EvaluationLogic().DefineStartEnd(simpleSolution)\n",
    "\n",
    "print(f'The objective delta is {simpleSolution.Makespan - recommendedSolution.Makespan}')"
   ]
  },
  {
   "cell_type": "markdown",
   "metadata": {},
   "source": [
    "Erwarteter Output:\n",
    "\n",
    "    The objective delta is -11."
   ]
  },
  {
   "cell_type": "markdown",
   "metadata": {},
   "source": [
    "##### c.) (5 Punkte)\n",
    "\n",
    "Schreiben Sie eine Methode *CalcuateTardyJobs*, welche die **Anzahl** der verspäteten Aufträge für eine Lösung errechnet. Fügen Sie diese Methode anschließend der Klasse *EvaluationLogic* hinzu und bestimmen Sie die Anzahl der verspäteten Aufträge für die beiden Lösungen **recommendedSolution** und **simpleSolution**. "
   ]
  },
  {
   "cell_type": "code",
   "execution_count": 3,
   "metadata": {},
   "outputs": [
    {
     "name": "stdout",
     "output_type": "stream",
     "text": [
      "Tardy jobs of simpleSolution: 7\n",
      "Tardy jobs of recommendedSolution: 8\n"
     ]
    }
   ],
   "source": [
    "# Schreiben Sie hier Ihren Programmcode\n",
    "# Schreiben der Funktion 2,5 Punkte\n",
    "def CalcuateTardyJobs(solution):\n",
    "    late_jobs = []\n",
    "    for job in solution.OutputJobs.values():\n",
    "        finish = job.EndTimes[-1]\n",
    "\n",
    "        if finish > job.DueDate:\n",
    "            late_jobs.append(job)\n",
    "    return len(late_jobs)\n",
    "\n",
    "# Hinzufügen zur Klasse 0,5 Punkte\n",
    "setattr(EvaluationLogic, 'CalculateTardyJobs', CalcuateTardyJobs)\n",
    "\n",
    "# Aufruf der neuen Funktion 1 Punkt\n",
    "# Erstellung der Ausgabe 1 Punkt\n",
    "print(f'Tardy jobs of simpleSolution: {CalcuateTardyJobs(simpleSolution)}')\n",
    "print(f'Tardy jobs of recommendedSolution: {CalcuateTardyJobs(recommendedSolution)}')\n"
   ]
  },
  {
   "cell_type": "code",
   "execution_count": 16,
   "metadata": {},
   "outputs": [
    {
     "name": "stdout",
     "output_type": "stream",
     "text": [
      "Tardy jobs of simpleSolution: 7\n",
      "Tardy jobs of recommendedSolution: 8\n"
     ]
    }
   ],
   "source": [
    "def CalculateTardyJobs(solution):\n",
    "    delayed = 0\n",
    "    for id in solution.OutputJobs:  ### 对字典的key进行遍历，比较麻烦\n",
    "        if solution.OutputJobs[id].EndTimes[-1] > solution.OutputJobs[id].DueDate:\n",
    "            delayed += 1\n",
    "\n",
    "    return delayed\n",
    "setattr(EvaluationLogic, 'CalculateTardyJobs', CalcuateTardyJobs)\n",
    "\n",
    "print(f'Tardy jobs of simpleSolution: {CalcuateTardyJobs(simpleSolution)}')\n",
    "print(f'Tardy jobs of recommendedSolution: {CalcuateTardyJobs(recommendedSolution)}')\n"
   ]
  },
  {
   "cell_type": "code",
   "execution_count": 13,
   "metadata": {},
   "outputs": [
    {
     "name": "stdout",
     "output_type": "stream",
     "text": [
      "Tardy jobs of simpleSolution: 7\n",
      "Tardy jobs of recommendedSolution: 8\n"
     ]
    }
   ],
   "source": [
    "def CalculateTardyJobs(solution):\n",
    "    delayed = 0\n",
    "    for job in solution.OutputJobs.values():\n",
    "        finish = job.EndTImes[-1]\n",
    "\n",
    "        if finish > job.DueDate:\n",
    "            delayed += 1\n",
    "    return delayed\n",
    "\n",
    "print(f'Tardy jobs of simpleSolution: {CalcuateTardyJobs(simpleSolution)}')\n",
    "print(f'Tardy jobs of recommendedSolution: {CalcuateTardyJobs(recommendedSolution)}')"
   ]
  },
  {
   "cell_type": "markdown",
   "metadata": {},
   "source": [
    "Erwarteter Output:\n",
    "\n",
    "    Tardy Jobs of simpleSolution: 7\n",
    "    Tardy Jobs of recommendedSolution: 8"
   ]
  },
  {
   "cell_type": "markdown",
   "metadata": {},
   "source": [
    "#### Aufgabe 2 - Zulässigkeitsprüfung (4 Punkte)\n",
    "\n",
    "Bislang hatten Sie keinen Grund, an der richtigen Lösung zu zweifeln. Doch gestern Nacht kam es in der Abteilungfertigungsplanung zu einem Hackerangriff. Es kann sein, dass einige Planungsdaten beschädigt bzw. zerstört wurden.\n",
    "\n",
    "Schreiben Sie eine Funktion *ValidateSolution*, die eine Lösung auf Ihre Zulässigkeit hin überprüft. Dabei sollten folgende Fälle betrachtet werden:\n",
    "- In einer Lösungsrepräsentation sind zu wenige/ zu viele Auftrags-Ids enthalten.\n",
    "- In einer Lösungsrepräsentation sind Auftrags-Ids doppelt enthalten.\n",
    "- Die Start- und Endzeiten eines Auftrags auf aufeinanderfolgenden Maschinen überschneiden sich.\n",
    "\n",
    "Erstellen Sie für jeden Fall geeignete Ausgaben. Die Funktion *ValidateSolution* sollte **alle** Fehler einer Lösung ausgeben. Wenn kein Fehler gefunden werden konnte, soll dies ebenfalls ausgegeben werden."
   ]
  },
  {
   "cell_type": "code",
   "execution_count": 4,
   "metadata": {},
   "outputs": [
    {
     "name": "stdout",
     "output_type": "stream",
     "text": [
      "Reported Corruptions: \n",
      "\t- No corruptions detected.\n",
      "\n",
      "Reported Corruptions: \n",
      "\t- Detected wrong number of IDs in solution representation.\n",
      "\t- Detected duplicate IDs in solution representation.\n",
      "\n",
      "Reported Corruptions: \n",
      "\t- Detected wrong number of IDs in solution representation.\n",
      "\n"
     ]
    }
   ],
   "source": [
    "# Schreiben Sie hier Ihren Programmcode\n",
    "def ValidateSolution(solution):\n",
    "    intersect = False\n",
    "    title = 'Reported Corruptions: \\n' ##\n",
    "    # Check für den ersten Corruption-Fall: 1 Punkt\n",
    "    ## Fehler anfällig, da nicht immer 10 Jobs!!\n",
    "    if len(solution.Permutation) != 10:\n",
    "        title += '\\t- Detected wrong number of IDs in solution representation.\\n'\n",
    "    # Check für den zweiten Corruption-Fall: 1 Punkt\n",
    "    if len(solution.Permutation) != len(set(solution.Permutation)):\n",
    "        title += '\\t- Detected duplicate IDs in solution representation.\\n'\n",
    "    # Check für den dritten Corruption-Fall: 1 Punkt\n",
    "    if intersect == False:\n",
    "        for job in solution.OutputJobs.values():\n",
    "             for i in range(1, len(job.EndTimes)):\n",
    "                if job.EndTimes[i] < job.StartTimes[i - 1]:\n",
    "                    title += '\\t- Die Start- und Endzeiten eines Auftrags auf aufeinanderfolgenden Maschinen überschneiden sich.\\n'\n",
    "                    intersect == True\n",
    "                    break\n",
    "\n",
    "    if (len(solution.Permutation) == 10) and (len(solution.Permutation) == len(set(solution.Permutation))) and intersect == False:\n",
    "        title += '\\t- No corruptions detected.\\n'\n",
    "\n",
    "    return title\n",
    "        \n",
    "\n",
    "\n",
    "\n",
    "# Führen Sie im Anschluss den folgenden Code aus\n",
    "print(ValidateSolution(simpleSolution))   \n",
    "print(ValidateSolution(Solution(data.InputJobs, [0, 3, 2, 3, 1, 4, 5, 8])))\n",
    "print(ValidateSolution(Solution(data.InputJobs, [0, 3, 2, 1, 4, 5, 8, 7, 10, 9, 11, 12])))"
   ]
  },
  {
   "cell_type": "code",
   "execution_count": 15,
   "metadata": {},
   "outputs": [
    {
     "name": "stdout",
     "output_type": "stream",
     "text": [
      "Reported Corruptions: \n",
      "\t- No corruptions detected.\n",
      "\n",
      "Reported Corruptions: \n",
      "\t- Detected wrong number of IDs in solution representation.\n",
      "\t- Detected duplicate IDs in solution representation.\n",
      "\n",
      "Reported Corruptions: \n",
      "\t- Detected wrong number of IDs in solution representation.\n",
      "\n"
     ]
    }
   ],
   "source": [
    "def ValidateSol(dataSet, solution):\n",
    "\n",
    "    title = 'Reported Corruptions: \\n'\n",
    "    if len(solution.Permutation) != len(dataSet.InputJobs):\n",
    "        title += '\\t - Detected wrong number of IDs in solution representation.\\n'\n",
    "    if len(set(solution.Permutation)) != len(solution.Permutation):\n",
    "        title += '\\t - Detected duplicate IDs in solution representation.\\n'\n",
    "    if True:\n",
    "        for job in solution.OutputJobs.values():\n",
    "            for i in range(len(job.EndTimes)):\n",
    "                if job.EndTimes[i] > job.StartTimes[i+1]:\n",
    "                    title += '\\t Detected intersected start- and endtimes. \\n'\n",
    "                    \n",
    "    if title == 'Reported Corruptions: \\n':\n",
    "        title += '\\t - No corruptions detected.\\n'\n",
    "\n",
    "print(ValidateSolution(simpleSolution))   \n",
    "print(ValidateSolution(Solution(data.InputJobs, [0, 3, 2, 3, 1, 4, 5, 8])))\n",
    "print(ValidateSolution(Solution(data.InputJobs, [0, 3, 2, 1, 4, 5, 8, 7, 10, 9, 11, 12])))\n"
   ]
  },
  {
   "cell_type": "code",
   "execution_count": null,
   "metadata": {},
   "outputs": [],
   "source": [
    "\n",
    "def ValidateSolution(solution):\n",
    "    intersect = False\n",
    "    title = 'Reported Corruptions: \\n' ##\n",
    "\n",
    "\n",
    "    if len(solution.Permutation) != 10:\n",
    "        title += '\\t- Detected wrong number of IDs in solution representation.\\n'\n",
    "\n",
    "    if len(solution.Permutation) != len(set(solution.Permutation)):\n",
    "        title += '\\t- Detected duplicate IDs in solution representation.\\n'\n",
    "\n",
    "    if intersect == False:\n",
    "        for job in solution.OutputJobs.values():\n",
    "             for i in range(1, len(job.EndTimes)):\n",
    "                if job.EndTimes[i] < job.StartTimes[i - 1]:\n",
    "                    title += '\\t- Die Start- und Endzeiten eines Auftrags auf aufeinanderfolgenden Maschinen überschneiden sich.\\n'\n",
    "                    intersect == True\n",
    "                    break\n",
    "\n",
    "    if (len(solution.Permutation) == 10) and (len(solution.Permutation) == len(set(solution.Permutation))) and intersect == False:\n",
    "        title += '\\t- No corruptions detected.\\n'\n",
    "\n",
    "    return title"
   ]
  },
  {
   "cell_type": "markdown",
   "metadata": {},
   "source": [
    "Erwarteter Output:\n",
    "\n",
    "\tReported Corruptions: \n",
    "\t\t- No corruptions detected.\n",
    "\tReported Corruptions: \n",
    "\t\t- Detected wrong number of IDs in solution representation.\n",
    "\t\t- Detected duplicate IDs in solution representation.\n",
    "\n",
    "\tReported Corruptions: \n",
    "\t\t- Detected wrong number of IDs in solution representation."
   ]
  },
  {
   "cell_type": "markdown",
   "metadata": {},
   "source": [
    "#### Aufgabe 3 - Die CDS Heuristik von Campell, Dudek & Smith (11 Punkte)\n",
    "\n",
    "Neben der NEH Heuristik zählt der Ansatz von Campbell, Dudek und Smith zu den bekanntesten und besten konstruktiven Lösungsansätzen für das Flow Shop Problem. Das Verfahren basiert dabei auf der Idee des Johnson-Algorithmus. Da der Praktikant in der Fertigungsplanung bereits einiges über den Johnson-Algorithmus weiß, hat er sich auch an einer Implementierung der CDS Heuristik versucht. Leider funktioniert der Algorithmus jedoch noch nicht so wie erwartet.\n",
    "\n",
    "Informieren Sie sich bitte über die CDS Heuristik mithilfe der beigefügten Literatur. Berichtigen Sie anschließend den Programmcode der Funktion **CampellDudekSmith()**, die der Praktikant bereits erstellt hat. Überprüfen Sie anschließend Ihre Korrektur durch den vergleich mit dem **erwarteten Output**. Bei der Umsetzung müssen **keine** Rüstzeiten beachtet werden.\n",
    "\n",
    "Kommentieren Sie den Programmcode und weisen Sie die Fehler, die Sie entdeckt haben, explizit aus!\n",
    "\n",
    "**Tipp:**\n",
    "<details>\n",
    "Nutzen Sie zur Kontrolle die Debug-Funktion in Python.\n",
    "</details>"
   ]
  },
  {
   "cell_type": "code",
   "execution_count": 5,
   "metadata": {},
   "outputs": [
    {
     "name": "stdout",
     "output_type": "stream",
     "text": [
      "The permutation [5, 8, 3, 0, 6, 9, 4, 2, 7, 1] results in a Makespan of 1159\n"
     ]
    }
   ],
   "source": [
    "# Hier soll es eine Funktion geben. nicht class: 1 Punkt\n",
    "def CampellDudekSmith(inputJobs):\n",
    "\n",
    "    solutionPool = {}\n",
    "    nMachines = len(inputJobs[0].Operations) \n",
    "\n",
    "    for i in range(nMachines-1): # i soll die Anzahl von Maschinen sein, hat nichts zu tun mit jobs. i muss < nMachines sein: 2 Punkte\n",
    "\n",
    "        minimumFirstMachine = []\n",
    "        notMinimumFirstMachine = []\n",
    "\n",
    "        for j, job in enumerate(inputJobs):\n",
    "            # Reihenfolge von theta sind korrigiert. : 1 Punkt\n",
    "            thetaFirst = sum(job.ProcessingTime(x) for x in range(0,i + 1))\n",
    "            thetaSecond = sum(job.ProcessingTime(x) for x in range(nMachines-i-1,nMachines)) # hier muss nMachines-i-1 sein, zB i == 0, gibt es kein x fuer thetasecond\n",
    "\n",
    "            if(thetaFirst < thetaSecond): #wenn Zeit anf M1 weniger als M2: 1 Punkt\n",
    "                minimumFirstMachine.append((j,thetaFirst))\n",
    "            else:\n",
    "                notMinimumFirstMachine.append((j,thetaSecond)) # thetaSecond gehoert zu notMinimumFirstMachine: 1 Punkt\n",
    "\n",
    "        minimumFirstMachine.sort(key=lambda x: x[1]) # sorted by x[1]: 1 Punkt\n",
    "        notMinimumFirstMachine.sort(key=lambda x: x[1], reverse = True)\n",
    "     \n",
    "        tmpPermutation = [x[0] for x in minimumFirstMachine]\n",
    "        tmpPermutation.extend([x[0] for x in notMinimumFirstMachine])\n",
    "  \n",
    "        tmpSolution = Solution(inputJobs, tmpPermutation)\n",
    "        EvaluationLogic().DefineStartEnd(tmpSolution)  # !!!!!!!: 1 Punkt\n",
    "        solutionPool[i] = tmpSolution\n",
    "\n",
    "\n",
    "    bestSolution = solutionPool[0]\n",
    "    for sol in solutionPool.values():\n",
    "        if bestSolution.Makespan > sol.Makespan:\n",
    "            bestSolution = sol\n",
    "\n",
    "    EvaluationLogic().DefineStartEnd(bestSolution) ## 2 Punkte\n",
    "    return bestSolution\n",
    "  \n",
    "\n",
    "# man muss richtigen Name von Methode benutzen\n",
    "# wir suchen nach Loesungen, dann InputJobs ist richtig: 1 Punkt\n",
    "CDSSol = CampellDudekSmith(data.InputJobs)\n",
    "print(CDSSol)\n"
   ]
  },
  {
   "cell_type": "code",
   "execution_count": 17,
   "metadata": {},
   "outputs": [
    {
     "name": "stdout",
     "output_type": "stream",
     "text": [
      "The permutation [5, 8, 3, 0, 6, 9, 4, 2, 7, 1] results in a Makespan of 1159\n"
     ]
    }
   ],
   "source": [
    "\n",
    "def CampellDudekSmith(inputJobs):\n",
    "\n",
    "    solutionPool = {}\n",
    "    nMachines = len(inputJobs[0].Operations) \n",
    "\n",
    "    for i in range(nMachines-1): \n",
    "\n",
    "        minimumFirstMachine = []\n",
    "        notMinimumFirstMachine = []\n",
    "\n",
    "        for j, job in enumerate(inputJobs):\n",
    "           \n",
    "            thetaFirst = sum(job.ProcessingTime(x) for x in range(0,i + 1))\n",
    "            thetaSecond = sum(job.ProcessingTime(x) for x in range(nMachines-i-1,nMachines)) \n",
    "\n",
    "            if(thetaFirst < thetaSecond): \n",
    "                minimumFirstMachine.append((j,thetaFirst))\n",
    "            else:\n",
    "                notMinimumFirstMachine.append((j,thetaSecond)) \n",
    "\n",
    "        minimumFirstMachine.sort(key=lambda x: x[1]) \n",
    "        notMinimumFirstMachine.sort(key=lambda x: x[1], reverse = True)\n",
    "     \n",
    "        tmpPermutation = [x[0] for x in minimumFirstMachine]\n",
    "        tmpPermutation.extend([x[0] for x in notMinimumFirstMachine])\n",
    "  \n",
    "        tmpSolution = Solution(inputJobs, tmpPermutation)\n",
    "        EvaluationLogic().DefineStartEnd(tmpSolution)  \n",
    "        solutionPool[i] = tmpSolution\n",
    "\n",
    "\n",
    "    bestSolution = solutionPool[0]\n",
    "    for sol in solutionPool.values():\n",
    "        if bestSolution.Makespan > sol.Makespan:\n",
    "            bestSolution = sol\n",
    "\n",
    "    EvaluationLogic().DefineStartEnd(bestSolution) \n",
    "    return bestSolution\n",
    "  \n",
    "\n",
    "CDSSol = CampellDudekSmith(data.InputJobs)\n",
    "print(CDSSol)"
   ]
  },
  {
   "cell_type": "markdown",
   "metadata": {},
   "source": [
    "Erwarteter Output:\n",
    "    \n",
    "    The permutation [5, 8, 3, 0, 6, 9, 4, 2, 7, 1] results in a Makespan of 1159"
   ]
  }
 ],
 "metadata": {
  "interpreter": {
   "hash": "7758e92e9a61d7a3490898707f7eeb937c85e9d1e8d4e877cc6c187218f226d5"
  },
  "kernelspec": {
   "display_name": "Python 3.9.12 ('base')",
   "language": "python",
   "name": "python3"
  },
  "language_info": {
   "codemirror_mode": {
    "name": "ipython",
    "version": 3
   },
   "file_extension": ".py",
   "mimetype": "text/x-python",
   "name": "python",
   "nbconvert_exporter": "python",
   "pygments_lexer": "ipython3",
   "version": "3.9.12"
  },
  "orig_nbformat": 2
 },
 "nbformat": 4,
 "nbformat_minor": 2
}
