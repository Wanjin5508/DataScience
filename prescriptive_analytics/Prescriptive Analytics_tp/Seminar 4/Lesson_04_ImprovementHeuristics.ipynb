{
 "cells": [
  {
   "cell_type": "markdown",
   "metadata": {},
   "source": [
    "---\n",
    "# Praxisteil 3 - Software Architektur des Heuristischen Solvers\n",
    "---"
   ]
  },
  {
   "cell_type": "markdown",
   "metadata": {},
   "source": [
    "---\n",
    "## 1. Zusammenführen der Klassen aus vorherigen Veranstaltungen \n",
    "---"
   ]
  },
  {
   "cell_type": "markdown",
   "metadata": {},
   "source": [
    "Angestrebte Solverarchitektur:\n",
    "diese Woche Verbesserung, next, meta\n",
    "\n",
    "![Solverarchitektur](SolverArchitektur.PNG)"
   ]
  },
  {
   "cell_type": "markdown",
   "metadata": {},
   "source": [
    "Speichern von allen gefundenen Lösungen in der Klasse `SolutionPool`:"
   ]
  },
  {
   "cell_type": "code",
   "execution_count": 21,
   "metadata": {},
   "outputs": [],
   "source": [
    "class SolutionPool:\n",
    "    def __init__(self):\n",
    "        self.Solutions = []  # SolutionPool 有一个定语叫做Solutions，是个list，列表中的元素是Solution\n",
    "\n",
    "    def AddSolution(self, newSolution): \n",
    "        self.Solutions.append(newSolution)\n",
    "\n",
    "    def GetLowestMakespanSolution(self):\n",
    "        self.Solutions.sort(key = lambda solution: solution.Makespan) # sort solutions according to makespan默认从小到大\n",
    "        return self.Solutions[0]  # 首个元素是时长最短的\n",
    "\n",
    "\n",
    "        # 存疑[已解决]：solution对象只有经过EvaluationLogic之后，solution的定语makespan才会被赋值！！！\n",
    "        # 参见OutputData和EvaluationLogic文件"
   ]
  },
  {
   "cell_type": "markdown",
   "metadata": {},
   "source": [
    "class SolutionPool:\n",
    "    def __init__(self):\n",
    "        self.Solutions = []\n",
    "\n",
    "    def AddSolution(self, newSolution):\n",
    "        self.Solutions.append(newSolution)\n",
    "\n",
    "    def GetLowestMakespanSolution(self):\n",
    "        self.Solutions.sort(key = lambda solution: solution.Makespan)\n",
    "        return self.Solutions[0]\n",
    "        \n",
    "\n"
   ]
  },
  {
   "cell_type": "markdown",
   "metadata": {},
   "source": [
    "Alle konstruktiven Verfahren werden in der Klasse `ConstructiveHeuristics` zusammengeführt:"
   ]
  },
  {
   "cell_type": "code",
   "execution_count": 22,
   "metadata": {},
   "outputs": [],
   "source": [
    "import numpy as np"
   ]
  },
  {
   "cell_type": "code",
   "execution_count": 23,
   "metadata": {},
   "outputs": [],
   "source": [
    "class ConstructiveHeuristics: # 由多个不同的启发式算法构成\n",
    "    def __init__(self, evaluationLogic, solutionPool):\n",
    "        self.RandomSeed = 2021\n",
    "        self.RandomRetries = 10\n",
    "        self.EvaluationLogic = evaluationLogic\n",
    "        self.SolutionPool = solutionPool\n",
    "# FCFS\n",
    "    def FirstComeFirstServe(self, jobList):\n",
    "        tmpPermutation = [*range(len(jobList))] # *的作用是将range创建的可迭代对象进行解包。如果省略星号，会创建一个列表，只包含一个元素，该元素就是range对象\n",
    "\n",
    "        tmpSolution = Solution(jobList, tmpPermutation) # 构造Solution对象。注意该构造方法的使用，参见OutputJobs中的必选参数（无默认值）\n",
    "        self.EvaluationLogic.DefineStartEnd(tmpSolution) # 此处的EvaluationL是个对象  ？？，所以才能调用EL类中的成员函数。这一步是为了计算该temSolution的总时间\n",
    "\n",
    "        return tmpSolution\n",
    "\n",
    "# SPT\n",
    "    def ShortestProcessingTime(self, jobList, allMachines = False): # 注意只有类的成员变量才需要self，函数的本地变量不需要\n",
    "        jobPool = []\n",
    "        if allMachines:\n",
    "            for i in range(len(jobList)):\n",
    "                jobPool.append((i, sum(jobList[i].ProcessingTime(x) for x in range(len(jobList[i].Operations)))))\n",
    "        else:\n",
    "            for i in range(len(jobList)):\n",
    "                jobPool.append((i, jobList[i].ProcessingTime(0)))\n",
    "            \n",
    "        jobPool.sort(key= lambda t: t[1])\n",
    "        tmpPermutation = [x[0] for x in jobPool]\n",
    "\n",
    "        tmpSolution = Solution(jobList, tmpPermutation)\n",
    "        self.EvaluationLogic.DefineStartEnd(tmpSolution)\n",
    "\n",
    "        return tmpSolution\n",
    "\n",
    "# LPT 最费时间的先做\n",
    "    def LongestProcessingTime(self, jobList, allMachines = False):\n",
    "        jobPool = []\n",
    "        if allMachines:\n",
    "            for i in range(len(jobList)):\n",
    "                jobPool.append((i, sum(jobList[i].ProcessingTime(x) for x in range(len(jobList[i].Operations)))))\n",
    "        else:\n",
    "            for i in range(len(jobList)):\n",
    "                jobPool.append((i, jobList[i].ProcessingTime(0)))\n",
    "            \n",
    "        jobPool.sort(key= lambda t: -t[1]) # 按照jobPool中，元组的第二个元素的相反数进行排列。排在前面的绝对值更大，也就是时间更长\n",
    "        tmpPermutation = [x[0] for x in jobPool] # 这一步是把jobPool中每个元组的首位元素，即jobid 放在列表中作为Permutation\n",
    "\n",
    "        tmpSolution = Solution(jobList, tmpPermutation)\n",
    "        self.EvaluationLogic.DefineStartEnd(tmpSolution) # 现在已经生成了solution，需要用EvaluationLogic类来调用EL类中的成员函数，以计算该solution的总时长\n",
    "\n",
    "        return tmpSolution\n",
    "\n",
    "# ROS 随机完成job\n",
    "    def ROS(self, jobList, x, seed):\n",
    "        np.random.seed(seed) ###\n",
    "        tmpSolution = Solution(jobList, 0)\n",
    "        bestCmax = np.inf # unendless 无穷大的浮点数\n",
    "\n",
    "        for i in range(x):\n",
    "            tmpPermuation = np.random.permutation(len(jobList)) #np.random.permutation生成随机数列，长度是len（）\n",
    "            # tmpSolution.SetPermutation(tmpPermuation) # SetPermutation是Solution类的成员函数\n",
    "            tmpSolution.Permutation = tmpPermuation # 这样比上一行更好\n",
    "\n",
    "            self.EvaluationLogic.DefineStartEnd(tmpSolution)\n",
    "\n",
    "            if (tmpSolution.Makespan < bestCmax):\n",
    "                bestCmax = tmpSolution.Makespan\n",
    "                bestPerm = tmpPermuation\n",
    "    \n",
    "        bestSol = Solution(jobList, bestPerm)  # ROS中还要筛选出最好的哪个随机数列\n",
    "        self.EvaluationLogic.DefineStartEnd(bestSol)\n",
    "\n",
    "        return bestSol    \n",
    "\n",
    "# NEH(要首先确定最佳插入顺序)  ### NEH的插入函数写在EvaluationLogic类中。这样EL类既可以确定起止时间也能提供最佳插入顺序\n",
    "    # def DetermineBestInsertion(solution, jobToInsert): #jobToInsert是指需要被插入的那个job\n",
    "    #     ###\n",
    "    #     # insert job at front of permutation\n",
    "    #     solution.Permutation.insert(0, jobToInsert)  # insert函数，在索引位置插入数据，索引后面的往后顺移一位。初始肯定在第0位插入\n",
    "    #     bestPermutation = deepcopy(solution.Permutation)\n",
    "    \n",
    "    #     EvaluationLogic().DefineStartEnd(solution)\n",
    "    #     bestCmax = solution.Makespan\n",
    "\n",
    "    #     ###\n",
    "    #     # swap job i to each position and check for improvement\n",
    "    #     lengthPermutation = len(solution.Permutation) - 1 #减去1是为了得到使用insert时的索引号\n",
    "    #     for j in range(0, lengthPermutation):\n",
    "    #         solution.Permutation[j], solution.Permutation[j + 1] = solution.Permutation[j+1], solution.Permutation[j]\n",
    "    #         EvaluationLogic().DefineStartEnd(solution)\n",
    "    #         if(solution.Makespan < bestCmax):\n",
    "    #             bestCmax = solution.Makespan\n",
    "    #             bestPermutation = [x for x in solution.Permutation]\n",
    "\n",
    "    #     solution.Makespan = bestCmax\n",
    "    #     solution.Permutation = bestPermutation\n",
    "\n",
    "    def NEH(self, jobList):\n",
    "        jobPool = []\n",
    "        tmpPerm = []\n",
    "        bestCmax = 0\n",
    "        # Calculate sum of processing times and sort\n",
    "        for i in range(len(jobList)):\n",
    "            jobPool.append((i,sum(jobList[i].ProcessingTime(x) for x in range(len(jobList[i].Operations)))))\n",
    "        jobPool.sort(key=lambda x: x[1], reverse=True)\n",
    "\n",
    "        # Initalize input\n",
    "        tmpNEHOrder = [x[0] for x in jobPool]\n",
    "        tmpPerm.append(tmpNEHOrder[0])\n",
    "        tmpSolution = Solution(jobList,tmpPerm)\n",
    "\n",
    "        # Add next jobs in a loop and check all permutations\n",
    "        for i in range(1,len(tmpNEHOrder)):\n",
    "            # add next job to end and calculate makespan\n",
    "            self.EvaluationLogic.DetermineBestInsertion(tmpSolution, tmpNEHOrder[i])\n",
    "    \n",
    "        return tmpSolution\n",
    "\n",
    "\n",
    "    def Run(self, inputData, solutionMethod):\n",
    "        print('Generating an initial solution according to ' + solutionMethod + '.') # 能直接用加号连结说明solutionMethod是字符串，即算法的名字\n",
    "\n",
    "        solution = None\n",
    "\n",
    "        if solutionMethod == 'FCFS':\n",
    "            solution = self.FirstComeFirstServe(inputData.InputJobs)\n",
    "        elif solutionMethod == 'SPT':\n",
    "            solution = self.ShortestProcessingTime(inputData.InputJobs)\n",
    "        elif solutionMethod == 'LPT':\n",
    "            solution = self.LeastProcessingTime(inputData.InputJobs)\n",
    "        elif solutionMethod == 'ROS':\n",
    "            solution = self.ROS(inputData.InputJobs, self.RandomRetries, self.RandomSeed)\n",
    "        elif solutionMethod == 'NEH':\n",
    "            solution = self.NEH(inputData.InputJobs)\n",
    "        else:\n",
    "            print('Unkown constructive solution method: ' + solutionMethod + '.')\n",
    "\n",
    "        self.SolutionPool.AddSolution(solution) #这里的定语solution Pool属于solutionPool类，因此可用该类的成员函数"
   ]
  },
  {
   "cell_type": "markdown",
   "metadata": {},
   "source": [
    "Alle bisherigen Elemente werden in einer Solver-Klasse zusammengeführt:"
   ]
  },
  {
   "cell_type": "code",
   "execution_count": 24,
   "metadata": {},
   "outputs": [],
   "source": [
    "class Solver:\n",
    "    def __init__(self, inputData, seed):\n",
    "        self.InputData = inputData\n",
    "        self.Seed = seed\n",
    "        self.RNG = numpy.random.default_rng(seed)  #随机数生成器\n",
    "\n",
    "        self.EvaluationLogic = EvaluationLogic(inputData) # 定语是El对象，可以调用类中的方法？？\n",
    "        self.SolutionPool = SolutionPool() # 该构造方法没有必选参数\n",
    "        \n",
    "        self.ConstructiveHeuristic = ConstructiveHeuristics(self.EvaluationLogic, self.SolutionPool)  # \n",
    "\n",
    "    def ConstructionPhase(self, constructiveSolutionMethod):\n",
    "        self.ConstructiveHeuristic.Run(self.InputData, constructiveSolutionMethod) #ConstructiveHeuristic实际上就是一个solution，并把这个solution加入到pool中\n",
    "\n",
    "        bestInitalSolution = self.SolutionPool.GetLowestMakespanSolution() # solutionPool中，最短时长即为最优解 -->每次调用这个成员函数，SP中只有一个SOlution？\n",
    "\n",
    "        print(\"Constructive solution found.\")\n",
    "        print(bestInitalSolution)\n",
    "\n",
    "        return bestInitalSolution"
   ]
  },
  {
   "cell_type": "markdown",
   "metadata": {},
   "source": [
    "---\n",
    "## 2. Ausführen des Solvers 导包\n",
    "---\n",
    "\n",
    "Damit können wir die konstruktiven Lösungen ROS, FCFS, LPT, SPT Lösung wie vorher erzeugen:"
   ]
  },
  {
   "cell_type": "code",
   "execution_count": 25,
   "metadata": {},
   "outputs": [
    {
     "name": "stdout",
     "output_type": "stream",
     "text": [
      "Generating an initial solution according to FCFS.\n",
      "Constructive solution found.\n",
      "The permutation [0, 1, 2, 3, 4, 5, 6, 7, 8, 9, 10] results in a Makespan of 9298\n",
      "Generating an initial solution according to NEH.\n",
      "Constructive solution found.\n",
      "The permutation [7, 0, 4, 8, 2, 10, 3, 6, 5, 1, 9] results in a Makespan of 7038\n",
      "Generating an initial solution according to LPT.\n",
      "Constructive solution found.\n",
      "The permutation [7, 0, 4, 8, 2, 10, 3, 6, 5, 1, 9] results in a Makespan of 7038\n",
      "The permutation [7, 0, 4, 8, 2, 10, 3, 6, 5, 1, 9] results in a Makespan of 7038\n"
     ]
    }
   ],
   "source": [
    "# 这里我从外部导包\n",
    "from Solver import *\n",
    "\n",
    "# 实例化输入数据\n",
    "data  = InputData(\"InputFlowshopSIST.json\")\n",
    "\n",
    "# 实例化Solver类\n",
    "solver  = Solver(data, 2048) #创建一个solver对象\n",
    "\n",
    "# 用Solver对象调用ConstructionPhase\n",
    "solver.ConstructionPhase('FCFS')\n",
    "solver.ConstructionPhase('NEH')\n",
    "solver.ConstructionPhase('LPT')\n",
    "\n",
    "print(solver.SolutionPool.GetLowestMakespanSolution())\n"
   ]
  },
  {
   "cell_type": "markdown",
   "metadata": {},
   "source": [
    "---\n",
    "## 3. Nachbarschaften und Tausche\n",
    "---\n",
    "#### Wiederholung aus der Theorie\n",
    "Nachbarschaften beinhalten eine oder mehrere Lösungen (Nachbarschaftslösungen), die von einer gegebenen Lösung aus mit einem Tausch erreichbar sind.\n",
    "\n",
    "#### Beispiel \n",
    "Gegebene FCFS-Lösung:"
   ]
  },
  {
   "cell_type": "code",
   "execution_count": 26,
   "metadata": {},
   "outputs": [
    {
     "name": "stdout",
     "output_type": "stream",
     "text": [
      "The permutation [0, 1, 2, 3, 4, 5, 6, 7, 8, 9, 10] results in a Makespan of 9298\n"
     ]
    }
   ],
   "source": [
    "permutationFCFS = [0, 1, 2, 3, 4, 5, 6, 7, 8, 9, 10]\n",
    "solutionFCFS = Solution(data.InputJobs, permutationFCFS)\n",
    "\n",
    "# 这里能用solver是因为前面已经创建了一个Solver对象\n",
    "solver.EvaluationLogic.DefineStartEnd(solutionFCFS)\n",
    "\n",
    "print(solutionFCFS)"
   ]
  },
  {
   "cell_type": "code",
   "execution_count": 27,
   "metadata": {},
   "outputs": [
    {
     "name": "stdout",
     "output_type": "stream",
     "text": [
      "The permutation [0, 1, 2, 3, 4, 5, 6, 7, 8, 9, 10] results in a Makespan of 9298\n"
     ]
    }
   ],
   "source": [
    "permutationFCFS = [0, 1, 2, 3, 4, 5, 6, 7, 8, 9, 10]\n",
    "solutionFCFS_1 = Solution(data.InputJobs, permutationFCFS)\n",
    "\n",
    "# 注意，现在的EvaluationLogic类已经修改，不再是原来那样不需要必选参数了\n",
    "EvaluationLogic(data.InputJobs).DefineStartEnd(solutionFCFS_1)\n",
    "print(solutionFCFS_1)"
   ]
  },
  {
   "cell_type": "markdown",
   "metadata": {},
   "source": [
    "Nun führen wir einen Swap Tausch (= Move) der Elemente 0 und 1 durch. Das Ergebnis eines Tausches ist nichts anderes als ein neuer Lösungskandidat."
   ]
  },
  {
   "cell_type": "code",
   "execution_count": 28,
   "metadata": {},
   "outputs": [],
   "source": [
    "# swapMovePermutation = permutationFCFS\n",
    "# swapMovePermutation[0]=permutationFCFS[1]"
   ]
  },
  {
   "cell_type": "code",
   "execution_count": 29,
   "metadata": {},
   "outputs": [
    {
     "data": {
      "text/plain": [
       "[0, 1, 2, 3, 4, 5, 6, 7, 8, 9, 10]"
      ]
     },
     "execution_count": 29,
     "metadata": {},
     "output_type": "execute_result"
    }
   ],
   "source": [
    "permutationFCFS"
   ]
  },
  {
   "cell_type": "code",
   "execution_count": 30,
   "metadata": {},
   "outputs": [
    {
     "name": "stdout",
     "output_type": "stream",
     "text": [
      "The permutation [1, 0, 2, 3, 4, 5, 6, 7, 8, 9, 10] results in a Makespan of 8935\n"
     ]
    }
   ],
   "source": [
    "swapMovePermutation = list(permutationFCFS) #create a copy of the permutation\n",
    "swapMovePermutation[0] = permutationFCFS[1]  # 交换顺序可以通过元素的赋值来实现,这点在讲NEH插入的时候用到过\n",
    "swapMovePermutation[1] = permutationFCFS[0]\n",
    "\n",
    "swapMoveSolution = Solution(data.InputJobs, swapMovePermutation)\n",
    "\n",
    "\n",
    "solver.EvaluationLogic.DefineStartEnd(swapMoveSolution)\n",
    "print(swapMoveSolution)"
   ]
  },
  {
   "cell_type": "markdown",
   "metadata": {},
   "source": [
    "Dieser eine Tausch in der Swap Nachbarschaft hat bereits zu einer Verbesserung geführt. Um weitere Verbesserungen zu finden ist es nötig die Nachbarschaft weitgehender zu erkunden. Es werden nun alle Tausche in der Swap-Nachbarschaft der Ausgangslösung erstellt und bewertet. Dazu wird die neue Klasse `SwapMove` angelegt.\n",
    "\n",
    "Formal: $M(\\text{swap}, s, i, j)$."
   ]
  },
  {
   "cell_type": "code",
   "execution_count": 31,
   "metadata": {},
   "outputs": [],
   "source": [
    "\"\"\" Represents the swap of the element at IndexA with the element at IndexB for a given permutation (= solution). \"\"\"\n",
    "class SwapMove: # 跟上一个单元格原理类似，列表元素的互换\n",
    "    def __init__(self, initialPermutation, indexA, indexB):\n",
    "        self.Permutation = list(initialPermutation) # create a copy of the permutation\n",
    "        self.IndexA = indexA\n",
    "        self.IndexB = indexB    #先初始化成员变量（定语），这是面向对象必须的一步\n",
    "\n",
    "        # 对成员变量进行修改，因此不需要返回值\n",
    "        self.Permutation[indexA] = initialPermutation[indexB]\n",
    "        self.Permutation[indexB] = initialPermutation[indexA]"
   ]
  },
  {
   "cell_type": "code",
   "execution_count": 32,
   "metadata": {},
   "outputs": [],
   "source": [
    "class SwapMove:  # 注意这个类中的数据类型，swapMove对象有个Permutation属性，我们实际上交换的也正是这个属性。后面调用的时候会用到\n",
    "    def __init__(self, initialPermutation, indexA, indexB):\n",
    "        self.Permutation = list(initialPermutation)\n",
    "        self.IndexA = indexA\n",
    "        self.IndexB = indexB\n",
    "\n",
    "        self.Permutation[indexA] = initialPermutation[indexB]\n",
    "        self.Permutation[indexB] = initialPermutation[indexA]\n",
    "        "
   ]
  },
  {
   "cell_type": "markdown",
   "metadata": {},
   "source": [
    "Nun erstellen wir alle Tausche der Nachbarschaft zur Initiallösung.\n",
    "\n",
    "Formal: $N(\\text{swap}, s) = \\bigcup\\limits_{i, j, i < j} M(\\text{swap}, s, i, j)$"
   ]
  },
  {
   "cell_type": "code",
   "execution_count": 33,
   "metadata": {},
   "outputs": [],
   "source": [
    "swapMoves = []  \n",
    "for i in range(len(permutationFCFS)):\n",
    "    for j in range(len(permutationFCFS)):\n",
    "        if i < j: #neighborhood is symmetric\n",
    "            swapMove = SwapMove(permutationFCFS, i, j)\n",
    "            swapMoves.append(swapMove)"
   ]
  },
  {
   "cell_type": "code",
   "execution_count": 34,
   "metadata": {},
   "outputs": [
    {
     "name": "stdout",
     "output_type": "stream",
     "text": [
      "55\n",
      "[<__main__.SwapMove object at 0x0000023F4A0F9310>, <__main__.SwapMove object at 0x0000023F4A0F9190>, <__main__.SwapMove object at 0x0000023F4B5B0A00>, <__main__.SwapMove object at 0x0000023F4B5B09A0>, <__main__.SwapMove object at 0x0000023F4B5B0B50>, <__main__.SwapMove object at 0x0000023F4B5B0BE0>, <__main__.SwapMove object at 0x0000023F4B5B0C10>, <__main__.SwapMove object at 0x0000023F4B5B0D30>, <__main__.SwapMove object at 0x0000023F4B5B0DF0>, <__main__.SwapMove object at 0x0000023F4B5B0E50>, <__main__.SwapMove object at 0x0000023F4B5B0FA0>, <__main__.SwapMove object at 0x0000023F4B5B0B20>, <__main__.SwapMove object at 0x0000023F4B5B0FD0>, <__main__.SwapMove object at 0x0000023F4B5B0C70>, <__main__.SwapMove object at 0x0000023F4B5B0F10>, <__main__.SwapMove object at 0x0000023F4B5B0D60>, <__main__.SwapMove object at 0x0000023F4B5B0D00>, <__main__.SwapMove object at 0x0000023F4B5CA280>, <__main__.SwapMove object at 0x0000023F4A0F4190>, <__main__.SwapMove object at 0x0000023F4A0F40D0>, <__main__.SwapMove object at 0x0000023F4B5B8B20>, <__main__.SwapMove object at 0x0000023F4B5B8D30>, <__main__.SwapMove object at 0x0000023F4B5B8C10>, <__main__.SwapMove object at 0x0000023F4B5B8C70>, <__main__.SwapMove object at 0x0000023F4B5B8DF0>, <__main__.SwapMove object at 0x0000023F4B5B8040>, <__main__.SwapMove object at 0x0000023F4B5B80A0>, <__main__.SwapMove object at 0x0000023F4B5B8100>, <__main__.SwapMove object at 0x0000023F4B5B8160>, <__main__.SwapMove object at 0x0000023F4B5B81C0>, <__main__.SwapMove object at 0x0000023F4B5B8220>, <__main__.SwapMove object at 0x0000023F4B5B8280>, <__main__.SwapMove object at 0x0000023F4B5B82E0>, <__main__.SwapMove object at 0x0000023F4B5B8340>, <__main__.SwapMove object at 0x0000023F4B5B83A0>, <__main__.SwapMove object at 0x0000023F4B5B8400>, <__main__.SwapMove object at 0x0000023F4B5B8460>, <__main__.SwapMove object at 0x0000023F4B5B84C0>, <__main__.SwapMove object at 0x0000023F4B5B8520>, <__main__.SwapMove object at 0x0000023F4B5B8580>, <__main__.SwapMove object at 0x0000023F4B5B85E0>, <__main__.SwapMove object at 0x0000023F4B5B8640>, <__main__.SwapMove object at 0x0000023F4B5B86A0>, <__main__.SwapMove object at 0x0000023F4B5B8700>, <__main__.SwapMove object at 0x0000023F4B5B8790>, <__main__.SwapMove object at 0x0000023F4B5B87C0>, <__main__.SwapMove object at 0x0000023F4B5B8820>, <__main__.SwapMove object at 0x0000023F4B5B8880>, <__main__.SwapMove object at 0x0000023F4B5B88E0>, <__main__.SwapMove object at 0x0000023F4B5B8940>, <__main__.SwapMove object at 0x0000023F4B5B89A0>, <__main__.SwapMove object at 0x0000023F4B5B8A00>, <__main__.SwapMove object at 0x0000023F4B5B8A90>, <__main__.SwapMove object at 0x0000023F4B5B8AC0>, <__main__.SwapMove object at 0x0000023F4B7021F0>]\n"
     ]
    }
   ],
   "source": [
    "swapMoves = []\n",
    "for i in range(len(permutationFCFS)):\n",
    "    for j in range(len(permutationFCFS)):\n",
    "        if i < j:\n",
    "            swapMove = SwapMove(permutationFCFS, i, j)\n",
    "            swapMoves.append(swapMove)\n",
    "\n",
    "print(len(swapMoves)) # 输出共有多少种交换的情况\n",
    "print(swapMoves)"
   ]
  },
  {
   "cell_type": "markdown",
   "metadata": {},
   "source": [
    "Aus der Theorie wissen wir, dass die Swap-Nachbarschaft symmetrisch ist und eine Komplexität/Größe von $\\binom{n}{2}$ hat, wobei $n$ die Anzahl an Jobs ist. Bei 11 Jobs ist also zu erwarten, dass die Nachbarschaft $\\binom{11}{2} = 55$ Tausche enthält."
   ]
  },
  {
   "cell_type": "code",
   "execution_count": 35,
   "metadata": {},
   "outputs": [
    {
     "name": "stdout",
     "output_type": "stream",
     "text": [
      "there schould exist 55 moves , and this is True\n"
     ]
    }
   ],
   "source": [
    "import math # 这一步的目的是输出一共有几次换位\n",
    "\n",
    "expectedNumberOfMoves = math.comb(len(data.InputJobs), 2) #binomial coefficient \"n choose k\" 直接输出换位几次\n",
    "actualNumberOfMoves = len(swapMoves) #swapMoves中容纳了所有换位的可能情况\n",
    "\n",
    "print(f'there schould exist {expectedNumberOfMoves} moves , and this is {actualNumberOfMoves == expectedNumberOfMoves}')"
   ]
  },
  {
   "cell_type": "markdown",
   "metadata": {},
   "source": [
    "Die neuen Tausche wurden erstellt und damit gibt es 55 neue potenzielle Lösungskandidaten (= Permutationen). Die neuen Lösungskandidaten müssen nun bewertet werden um festzustellen, ob mindestens einer davon zu einer Verbesserung geführt hat. Die Lösungen speichern wir in einer Liste ab, um später darauf zugreifen zu können und den besten gefundenen Lösungskandidaten zu ermitteln.\n",
    "看看新执行的换位能否对原有解决方案进行优化，若可以，则加进列表中，以供将来的使用"
   ]
  },
  {
   "cell_type": "code",
   "execution_count": 36,
   "metadata": {},
   "outputs": [
    {
     "name": "stdout",
     "output_type": "stream",
     "text": [
      "initial solution: [0, 1, 2, 3, 4, 5, 6, 7, 8, 9, 10]\n",
      "The permutation [1, 0, 2, 3, 4, 5, 6, 7, 8, 9, 10] results in a Makespan of 8935\n",
      "The permutation [2, 1, 0, 3, 4, 5, 6, 7, 8, 9, 10] results in a Makespan of 8661\n",
      "The permutation [3, 1, 2, 0, 4, 5, 6, 7, 8, 9, 10] results in a Makespan of 8584\n",
      "The permutation [4, 1, 2, 3, 0, 5, 6, 7, 8, 9, 10] results in a Makespan of 8804\n",
      "The permutation [5, 1, 2, 3, 4, 0, 6, 7, 8, 9, 10] results in a Makespan of 9229\n",
      "The permutation [6, 1, 2, 3, 4, 5, 0, 7, 8, 9, 10] results in a Makespan of 8636\n",
      "The permutation [7, 1, 2, 3, 4, 5, 6, 0, 8, 9, 10] results in a Makespan of 8473\n",
      "The permutation [8, 1, 2, 3, 4, 5, 6, 7, 0, 9, 10] results in a Makespan of 9129\n",
      "The permutation [9, 1, 2, 3, 4, 5, 6, 7, 8, 0, 10] results in a Makespan of 10236\n",
      "The permutation [10, 1, 2, 3, 4, 5, 6, 7, 8, 9, 0] results in a Makespan of 8879\n",
      "The permutation [0, 2, 1, 3, 4, 5, 6, 7, 8, 9, 10] results in a Makespan of 8894\n",
      "The permutation [0, 3, 2, 1, 4, 5, 6, 7, 8, 9, 10] results in a Makespan of 9361\n",
      "The permutation [0, 4, 2, 3, 1, 5, 6, 7, 8, 9, 10] results in a Makespan of 8812\n",
      "The permutation [0, 5, 2, 3, 4, 1, 6, 7, 8, 9, 10] results in a Makespan of 9381\n",
      "The permutation [0, 6, 2, 3, 4, 5, 1, 7, 8, 9, 10] results in a Makespan of 8692\n",
      "The permutation [0, 7, 2, 3, 4, 5, 6, 1, 8, 9, 10] results in a Makespan of 8397\n",
      "The permutation [0, 8, 2, 3, 4, 5, 6, 7, 1, 9, 10] results in a Makespan of 8933\n",
      "The permutation [0, 9, 2, 3, 4, 5, 6, 7, 8, 1, 10] results in a Makespan of 10145\n",
      "The permutation [0, 10, 2, 3, 4, 5, 6, 7, 8, 9, 1] results in a Makespan of 8458\n",
      "The permutation [0, 1, 3, 2, 4, 5, 6, 7, 8, 9, 10] results in a Makespan of 8907\n",
      "The permutation [0, 1, 4, 3, 2, 5, 6, 7, 8, 9, 10] results in a Makespan of 8767\n",
      "The permutation [0, 1, 5, 3, 4, 2, 6, 7, 8, 9, 10] results in a Makespan of 8996\n",
      "The permutation [0, 1, 6, 3, 4, 5, 2, 7, 8, 9, 10] results in a Makespan of 8989\n",
      "The permutation [0, 1, 7, 3, 4, 5, 6, 2, 8, 9, 10] results in a Makespan of 8823\n",
      "The permutation [0, 1, 8, 3, 4, 5, 6, 7, 2, 9, 10] results in a Makespan of 9693\n",
      "The permutation [0, 1, 9, 3, 4, 5, 6, 7, 8, 2, 10] results in a Makespan of 10268\n",
      "The permutation [0, 1, 10, 3, 4, 5, 6, 7, 8, 9, 2] results in a Makespan of 8916\n",
      "The permutation [0, 1, 2, 4, 3, 5, 6, 7, 8, 9, 10] results in a Makespan of 8880\n",
      "The permutation [0, 1, 2, 5, 4, 3, 6, 7, 8, 9, 10] results in a Makespan of 9001\n",
      "The permutation [0, 1, 2, 6, 4, 5, 3, 7, 8, 9, 10] results in a Makespan of 8572\n",
      "The permutation [0, 1, 2, 7, 4, 5, 6, 3, 8, 9, 10] results in a Makespan of 8381\n",
      "The permutation [0, 1, 2, 8, 4, 5, 6, 7, 3, 9, 10] results in a Makespan of 9549\n",
      "The permutation [0, 1, 2, 9, 4, 5, 6, 7, 8, 3, 10] results in a Makespan of 9583\n",
      "The permutation [0, 1, 2, 10, 4, 5, 6, 7, 8, 9, 3] results in a Makespan of 8547\n",
      "The permutation [0, 1, 2, 3, 5, 4, 6, 7, 8, 9, 10] results in a Makespan of 9298\n",
      "The permutation [0, 1, 2, 3, 6, 5, 4, 7, 8, 9, 10] results in a Makespan of 8982\n",
      "The permutation [0, 1, 2, 3, 7, 5, 6, 4, 8, 9, 10] results in a Makespan of 8846\n",
      "The permutation [0, 1, 2, 3, 8, 5, 6, 7, 4, 9, 10] results in a Makespan of 9802\n",
      "The permutation [0, 1, 2, 3, 9, 5, 6, 7, 8, 4, 10] results in a Makespan of 9867\n",
      "The permutation [0, 1, 2, 3, 10, 5, 6, 7, 8, 9, 4] results in a Makespan of 9021\n",
      "The permutation [0, 1, 2, 3, 4, 6, 5, 7, 8, 9, 10] results in a Makespan of 9041\n",
      "The permutation [0, 1, 2, 3, 4, 7, 6, 5, 8, 9, 10] results in a Makespan of 8799\n",
      "The permutation [0, 1, 2, 3, 4, 8, 6, 7, 5, 9, 10] results in a Makespan of 9310\n",
      "The permutation [0, 1, 2, 3, 4, 9, 6, 7, 8, 5, 10] results in a Makespan of 8799\n",
      "The permutation [0, 1, 2, 3, 4, 10, 6, 7, 8, 9, 5] results in a Makespan of 8525\n",
      "The permutation [0, 1, 2, 3, 4, 5, 7, 6, 8, 9, 10] results in a Makespan of 8856\n",
      "The permutation [0, 1, 2, 3, 4, 5, 8, 7, 6, 9, 10] results in a Makespan of 9238\n",
      "The permutation [0, 1, 2, 3, 4, 5, 9, 7, 8, 6, 10] results in a Makespan of 9194\n",
      "The permutation [0, 1, 2, 3, 4, 5, 10, 7, 8, 9, 6] results in a Makespan of 9034\n",
      "The permutation [0, 1, 2, 3, 4, 5, 6, 8, 7, 9, 10] results in a Makespan of 9207\n",
      "The permutation [0, 1, 2, 3, 4, 5, 6, 9, 8, 7, 10] results in a Makespan of 9207\n",
      "The permutation [0, 1, 2, 3, 4, 5, 6, 10, 8, 9, 7] results in a Makespan of 9520\n",
      "The permutation [0, 1, 2, 3, 4, 5, 6, 7, 9, 8, 10] results in a Makespan of 9298\n",
      "The permutation [0, 1, 2, 3, 4, 5, 6, 7, 10, 9, 8] results in a Makespan of 9298\n",
      "The permutation [0, 1, 2, 3, 4, 5, 6, 7, 8, 10, 9] results in a Makespan of 9298\n"
     ]
    }
   ],
   "source": [
    "# 把交换后的解决方案放进列表中并输出55个方案及其总时长\n",
    "swapMoveSolutions = []\n",
    "for move in swapMoves:\n",
    "\n",
    "    # 使用SwapMove类的Permutation属性来构建Solution对象\n",
    "    swapMoveSolution = Solution(data.InputJobs, move.Permutation)\n",
    "    solver.EvaluationLogic.DefineStartEnd(swapMoveSolution)\n",
    "    \n",
    "    swapMoveSolutions.append(swapMoveSolution)\n",
    "\n",
    "print('initial solution: ' + str(permutationFCFS))\n",
    "\n",
    "for solution in swapMoveSolutions:\n",
    "    print(solution)"
   ]
  },
  {
   "cell_type": "code",
   "execution_count": 37,
   "metadata": {},
   "outputs": [
    {
     "name": "stdout",
     "output_type": "stream",
     "text": [
      "initial solution: The permutation [0, 1, 2, 3, 4, 5, 6, 7, 8, 9, 10] results in a Makespan of 9298\n",
      "The permutation [1, 0, 2, 3, 4, 5, 6, 7, 8, 9, 10] results in a Makespan of 8935\n",
      "The permutation [2, 1, 0, 3, 4, 5, 6, 7, 8, 9, 10] results in a Makespan of 8661\n",
      "The permutation [3, 1, 2, 0, 4, 5, 6, 7, 8, 9, 10] results in a Makespan of 8584\n",
      "The permutation [4, 1, 2, 3, 0, 5, 6, 7, 8, 9, 10] results in a Makespan of 8804\n",
      "The permutation [5, 1, 2, 3, 4, 0, 6, 7, 8, 9, 10] results in a Makespan of 9229\n",
      "The permutation [6, 1, 2, 3, 4, 5, 0, 7, 8, 9, 10] results in a Makespan of 8636\n",
      "The permutation [7, 1, 2, 3, 4, 5, 6, 0, 8, 9, 10] results in a Makespan of 8473\n",
      "The permutation [8, 1, 2, 3, 4, 5, 6, 7, 0, 9, 10] results in a Makespan of 9129\n",
      "The permutation [9, 1, 2, 3, 4, 5, 6, 7, 8, 0, 10] results in a Makespan of 10236\n",
      "The permutation [10, 1, 2, 3, 4, 5, 6, 7, 8, 9, 0] results in a Makespan of 8879\n",
      "The permutation [0, 2, 1, 3, 4, 5, 6, 7, 8, 9, 10] results in a Makespan of 8894\n",
      "The permutation [0, 3, 2, 1, 4, 5, 6, 7, 8, 9, 10] results in a Makespan of 9361\n",
      "The permutation [0, 4, 2, 3, 1, 5, 6, 7, 8, 9, 10] results in a Makespan of 8812\n",
      "The permutation [0, 5, 2, 3, 4, 1, 6, 7, 8, 9, 10] results in a Makespan of 9381\n",
      "The permutation [0, 6, 2, 3, 4, 5, 1, 7, 8, 9, 10] results in a Makespan of 8692\n",
      "The permutation [0, 7, 2, 3, 4, 5, 6, 1, 8, 9, 10] results in a Makespan of 8397\n",
      "The permutation [0, 8, 2, 3, 4, 5, 6, 7, 1, 9, 10] results in a Makespan of 8933\n",
      "The permutation [0, 9, 2, 3, 4, 5, 6, 7, 8, 1, 10] results in a Makespan of 10145\n",
      "The permutation [0, 10, 2, 3, 4, 5, 6, 7, 8, 9, 1] results in a Makespan of 8458\n",
      "The permutation [0, 1, 3, 2, 4, 5, 6, 7, 8, 9, 10] results in a Makespan of 8907\n",
      "The permutation [0, 1, 4, 3, 2, 5, 6, 7, 8, 9, 10] results in a Makespan of 8767\n",
      "The permutation [0, 1, 5, 3, 4, 2, 6, 7, 8, 9, 10] results in a Makespan of 8996\n",
      "The permutation [0, 1, 6, 3, 4, 5, 2, 7, 8, 9, 10] results in a Makespan of 8989\n",
      "The permutation [0, 1, 7, 3, 4, 5, 6, 2, 8, 9, 10] results in a Makespan of 8823\n",
      "The permutation [0, 1, 8, 3, 4, 5, 6, 7, 2, 9, 10] results in a Makespan of 9693\n",
      "The permutation [0, 1, 9, 3, 4, 5, 6, 7, 8, 2, 10] results in a Makespan of 10268\n",
      "The permutation [0, 1, 10, 3, 4, 5, 6, 7, 8, 9, 2] results in a Makespan of 8916\n",
      "The permutation [0, 1, 2, 4, 3, 5, 6, 7, 8, 9, 10] results in a Makespan of 8880\n",
      "The permutation [0, 1, 2, 5, 4, 3, 6, 7, 8, 9, 10] results in a Makespan of 9001\n",
      "The permutation [0, 1, 2, 6, 4, 5, 3, 7, 8, 9, 10] results in a Makespan of 8572\n",
      "The permutation [0, 1, 2, 7, 4, 5, 6, 3, 8, 9, 10] results in a Makespan of 8381\n",
      "The permutation [0, 1, 2, 8, 4, 5, 6, 7, 3, 9, 10] results in a Makespan of 9549\n",
      "The permutation [0, 1, 2, 9, 4, 5, 6, 7, 8, 3, 10] results in a Makespan of 9583\n",
      "The permutation [0, 1, 2, 10, 4, 5, 6, 7, 8, 9, 3] results in a Makespan of 8547\n",
      "The permutation [0, 1, 2, 3, 5, 4, 6, 7, 8, 9, 10] results in a Makespan of 9298\n",
      "The permutation [0, 1, 2, 3, 6, 5, 4, 7, 8, 9, 10] results in a Makespan of 8982\n",
      "The permutation [0, 1, 2, 3, 7, 5, 6, 4, 8, 9, 10] results in a Makespan of 8846\n",
      "The permutation [0, 1, 2, 3, 8, 5, 6, 7, 4, 9, 10] results in a Makespan of 9802\n",
      "The permutation [0, 1, 2, 3, 9, 5, 6, 7, 8, 4, 10] results in a Makespan of 9867\n",
      "The permutation [0, 1, 2, 3, 10, 5, 6, 7, 8, 9, 4] results in a Makespan of 9021\n",
      "The permutation [0, 1, 2, 3, 4, 6, 5, 7, 8, 9, 10] results in a Makespan of 9041\n",
      "The permutation [0, 1, 2, 3, 4, 7, 6, 5, 8, 9, 10] results in a Makespan of 8799\n",
      "The permutation [0, 1, 2, 3, 4, 8, 6, 7, 5, 9, 10] results in a Makespan of 9310\n",
      "The permutation [0, 1, 2, 3, 4, 9, 6, 7, 8, 5, 10] results in a Makespan of 8799\n",
      "The permutation [0, 1, 2, 3, 4, 10, 6, 7, 8, 9, 5] results in a Makespan of 8525\n",
      "The permutation [0, 1, 2, 3, 4, 5, 7, 6, 8, 9, 10] results in a Makespan of 8856\n",
      "The permutation [0, 1, 2, 3, 4, 5, 8, 7, 6, 9, 10] results in a Makespan of 9238\n",
      "The permutation [0, 1, 2, 3, 4, 5, 9, 7, 8, 6, 10] results in a Makespan of 9194\n",
      "The permutation [0, 1, 2, 3, 4, 5, 10, 7, 8, 9, 6] results in a Makespan of 9034\n",
      "The permutation [0, 1, 2, 3, 4, 5, 6, 8, 7, 9, 10] results in a Makespan of 9207\n",
      "The permutation [0, 1, 2, 3, 4, 5, 6, 9, 8, 7, 10] results in a Makespan of 9207\n",
      "The permutation [0, 1, 2, 3, 4, 5, 6, 10, 8, 9, 7] results in a Makespan of 9520\n",
      "The permutation [0, 1, 2, 3, 4, 5, 6, 7, 9, 8, 10] results in a Makespan of 9298\n",
      "The permutation [0, 1, 2, 3, 4, 5, 6, 7, 10, 9, 8] results in a Makespan of 9298\n",
      "The permutation [0, 1, 2, 3, 4, 5, 6, 7, 8, 10, 9] results in a Makespan of 9298\n"
     ]
    }
   ],
   "source": [
    "swapMoveSolutions = []\n",
    "for move in swapMoves:\n",
    "    swapMoveSolution = Solution(data.InputJobs, move.Permutation)\n",
    "\n",
    "    solver.EvaluationLogic.DefineStartEnd(swapMoveSolution)\n",
    "    swapMoveSolutions.append(swapMoveSolution)\n",
    "\n",
    "print(f'initial solution: {solutionFCFS}')\n",
    "\n",
    "for solution in swapMoveSolutions:\n",
    "    print(solution)\n"
   ]
  },
  {
   "cell_type": "markdown",
   "metadata": {},
   "source": [
    "Wir bestimmen die beste gefundene Lösung und überprüfen, ob diese besser ist als die FCFS-Lösung."
   ]
  },
  {
   "cell_type": "code",
   "execution_count": 38,
   "metadata": {},
   "outputs": [
    {
     "name": "stdout",
     "output_type": "stream",
     "text": [
      "The permutation [0, 1, 2, 7, 4, 5, 6, 3, 8, 9, 10] results in a Makespan of 8381\n",
      "The permutation [0, 1, 2, 3, 4, 5, 6, 7, 8, 9, 10] results in a Makespan of 9298\n"
     ]
    }
   ],
   "source": [
    "swapMoveSolutions.sort(key = lambda solution: solution.Makespan) #sort alternative solutions acconding to makespan\n",
    "bestCurrentSolution = swapMoveSolutions[0]\n",
    "print(bestCurrentSolution) \n",
    "print(solutionFCFS)"
   ]
  },
  {
   "cell_type": "code",
   "execution_count": 39,
   "metadata": {},
   "outputs": [
    {
     "name": "stdout",
     "output_type": "stream",
     "text": [
      "The permutation [0, 1, 2, 7, 4, 5, 6, 3, 8, 9, 10] results in a Makespan of 8381\n",
      "The permutation [0, 1, 2, 3, 4, 5, 6, 7, 8, 9, 10] results in a Makespan of 9298\n"
     ]
    }
   ],
   "source": [
    "swapMoveSolutions.sort(key = lambda x: x.Makespan)  #按照Makespan递增的顺序进行排序，且直接在原本list中进行操作\n",
    "print(swapMoveSolutions[0])\n",
    "print(solutionFCFS)"
   ]
  },
  {
   "cell_type": "markdown",
   "metadata": {},
   "source": [
    "#### Kurze Programmieraufgabe\n",
    "\n",
    "Es wurde eine bessere Lösung gefunden als die bisherige! Welcher Tausch wurde ausgeführt? Schreiben Sie eine Funktion die das $i$ und $j$ des ausgeführten Tausches $M(\\text{swap}, s, i, j)$ ermittelt.\n",
    "\n",
    "这个思想很重要，学会如何判断FCFS方案和优化后的方案有何区别以及如何输出这些排列的区别。"
   ]
  },
  {
   "cell_type": "code",
   "execution_count": 40,
   "metadata": {},
   "outputs": [
    {
     "name": "stdout",
     "output_type": "stream",
     "text": [
      "3\n",
      "7\n"
     ]
    }
   ],
   "source": [
    "for index in range(len(permutationFCFS)):\n",
    "    if permutationFCFS[index] != bestCurrentSolution.Permutation[index]:\n",
    "        print(index)\n"
   ]
  },
  {
   "cell_type": "code",
   "execution_count": 41,
   "metadata": {},
   "outputs": [
    {
     "name": "stdout",
     "output_type": "stream",
     "text": [
      "3\n",
      "7\n"
     ]
    }
   ],
   "source": [
    "for index in range(len(permutationFCFS)):\n",
    "    if permutationFCFS[index] != bestCurrentSolution.Permutation[index]:\n",
    "        print (index)"
   ]
  },
  {
   "cell_type": "markdown",
   "metadata": {},
   "source": [
    "Diese Logik gießen wir nun in eine übergeordnete `SwapNeighborhood` Klasse, welche eine Nachbarschaft $N(\\text{swap}, s)$ repräsentiert. Wie würden Sie vorgehen? Was sind die einzelnen Bestandteile der Klasse `SwapNeighborhood`? Welche logischen Schritte müssen ausgeführt werden?"
   ]
  },
  {
   "cell_type": "code",
   "execution_count": 42,
   "metadata": {},
   "outputs": [],
   "source": [
    "\"\"\" Contains all $n choose 2$ swap moves for a given permutation (= solution). \"\"\"\n",
    "class SwapNeighborhood:\n",
    "    def __init__(self, inputData, initialPermutation, evaluationLogic, solutionPool):\n",
    "        self.InputData = inputData\n",
    "        self.Permutation = initialPermutation\n",
    "        self.EvaluationLogic = evaluationLogic\n",
    "        self.SolutionPool = solutionPool\n",
    "\n",
    "        self.Moves = []\n",
    "        self.SwapMoveSolutions = []\n",
    "\n",
    "    \"\"\" Generate all $n choose 2$ moves. \"\"\"\n",
    "    def DiscoverMoves(self): # 用于生成所有可能的换位（moves）\n",
    "        for i in range(len(self.Permutation)):\n",
    "            for j in range(len(self.Permutation)):\n",
    "                if i < j:\n",
    "                    swapMove = SwapMove(self.Permutation, i, j)\n",
    "                    self.Moves.append(swapMove)\n",
    "\n",
    "    \"\"\" Evaluate all moves. \"\"\"\n",
    "    def EvaluateMovesBestImprovement(self): # 评估每种换位方案的总时长\n",
    "        for move in self.Moves:\n",
    "            swapMoveSolution = Solution(self.InputData.InputJobs, move.Permutation)\n",
    "\n",
    "            self.EvaluationLogic.DefineStartEnd(swapMoveSolution) # solution都需要经过这一步才能写入列表\n",
    "\n",
    "            self.SwapMoveSolutions.append(swapMoveSolution)\n",
    "\n",
    "    \"\"\" Evaluate all moves until the first one is found that improves the best solution found so far. \"\"\"\n",
    "    def EvaluateMovesFirstImprovement(self):\n",
    "        bestObjective = self.SolutionPool.GetLowestMakespanSolution().Makespan\n",
    "\n",
    "        for move in self.Moves:\n",
    "            swapMoveSolution = Solution(self.InputData.InputJobs, move.Permutation)\n",
    "\n",
    "            self.EvaluationLogic.DefineStartEnd(swapMoveSolution)\n",
    "            self.SwapMoveSolutions.append(swapMoveSolution)\n",
    "\n",
    "            if swapMoveSolution.Makespan < bestObjective:\n",
    "                # abort neighborhood evaluation because an improvement has been found\n",
    "                return\n",
    "\n",
    "    def EvaluateMoves(self, evaluationStrategy):  # 上面两个函数属于评估方案，实际使用中可以根据情况来选择合适的方案：我们需要最优解还是最先发现的优化方案？\n",
    "        if evaluationStrategy == 'BestImprovement':\n",
    "            self.EvaluateMovesBestImprovement()\n",
    "        elif evaluationStrategy == 'FirstImprovement':\n",
    "            self.EvaluateMovesFirstImprovement()\n",
    "        else:\n",
    "            print(f'Evaluation strategy {evaluationStrategy} not implemented.')\n",
    "\n",
    "    def MakeBestMove(self): # 两种评估方案都有各自的SwapMoveSolutions，但是都能通过MakeBestMove来输出最优解\n",
    "        self.SwapMoveSolutions.sort(key = lambda solution: solution.Makespan) # sort solutions according to makespan\n",
    "\n",
    "        bestNeighborhoodSolution = self.SwapMoveSolutions[0]\n",
    "\n",
    "        return bestNeighborhoodSolution\n",
    "\n",
    "    def Update(self, permutation):\n",
    "        self.Permutation = permutation\n",
    "\n",
    "        self.Moves.clear()\n",
    "        self.SwapMoveSolutions.clear() # clear用于清空列表等容器\n",
    "\n",
    "    def LocalSearch(self, neighborhoodEvaluationStrategy, solution):\n",
    "        hasSolutionImproved = True\n",
    "\n",
    "        while hasSolutionImproved:\n",
    "            self.Update(solution.Permutation)\n",
    "            self.DiscoverMoves()\n",
    "            self.EvaluateMoves(neighborhoodEvaluationStrategy)\n",
    "\n",
    "            bestNeighborhoodSolution = self.MakeBestMove()\n",
    "\n",
    "            if bestNeighborhoodSolution.Makespan < solution.Makespan:\n",
    "                print(\"New best solution has been found!\")\n",
    "                print(bestNeighborhoodSolution)\n",
    "\n",
    "                self.SolutionPool.AddSolution(bestNeighborhoodSolution)\n",
    "\n",
    "                solution.Permutation = bestNeighborhoodSolution.Permutation\n",
    "                solution.Makespan = bestNeighborhoodSolution.Makespan\n",
    "            else:\n",
    "                print(f\"Reached local optimum of {self.Type} neighborhood. Stop local search.\")\n",
    "                hasSolutionImproved = False       \n"
   ]
  },
  {
   "cell_type": "markdown",
   "metadata": {},
   "source": [
    "---\n",
    "## 4. Ablauflogik der Verbesserungsverfahren\n",
    "---\n",
    "\n",
    "Wir lagern die Logik in das Modul `Neighborhood.py` aus und betten die Nachbarschaften in eine Klasse `ImprovementAlgorithm` ein, welche die Logik des Verbesserungsverfahren steuert."
   ]
  },
  {
   "cell_type": "code",
   "execution_count": 43,
   "metadata": {},
   "outputs": [],
   "source": [
    "\"\"\" Base class for several types of improvement algorithms. \"\"\" \n",
    "class ImprovementAlgorithm:\n",
    "    def __init__(self, inputData, neighborhoodEvaluationStrategy = 'BestImprovement', neighborhoodTypes = ['Swap']):\n",
    "        self.InputData = inputData  # 实际有两种neighborhood，另一种是Insertion，这里只是简单初始化\n",
    "\n",
    "        self.EvaluationLogic = None\n",
    "        self.SolutionPool = None\n",
    "        self.RNG = None # 随机数\n",
    "\n",
    "        self.NeighborhoodEvaluationStrategy = neighborhoodEvaluationStrategy\n",
    "        self.NeighborhoodTypes = neighborhoodTypes\n",
    "        self.Neighborhoods = {} # 数据类型是字典！！！！\n",
    "\n",
    "    def Initialize(self, evaluationLogic, solutionPool, rng = None):\n",
    "        self.EvaluationLogic = evaluationLogic\n",
    "        self.SolutionPool = solutionPool\n",
    "        self.RNG = rng\n",
    "\n",
    "    def InitializeNeighborhoods(self, solution): # 字典Neighborhood中，可能有两个键Insertion和Swap，添加新数据时，需要用到相应的构造器\n",
    "        self.Neighborhoods['Swap'] = SwapNeighborhood(self.InputData, solution.Permutation, self.EvaluationLogic, self.SolutionPool)\n",
    "        # add further neighborhoods 详见class ImprovementAlgorithm文件"
   ]
  },
  {
   "cell_type": "markdown",
   "metadata": {},
   "source": [
    "Die Klasse `ImprovementAlgorithm` enthält nun alle grundlegenden Komponenten für nachbarschaftsbasierte Verbesserungsverfahren. Diese können in verschiedenen Algorithmen verwendet werden. Hier erstellen wir eine Klasse `IterativeImprovement`, bei der die Lösung iterativ durch eine (sequentielle) lokale Suche verbessert wird."
   ]
  },
  {
   "cell_type": "code",
   "execution_count": 44,
   "metadata": {},
   "outputs": [],
   "source": [
    "\"\"\" Iterative improvement algorithm through sequential variable neighborhood descent. \"\"\"\n",
    "class IterativeImprovement(ImprovementAlgorithm): # einzelne Nachbaren\n",
    "    def __init__(self, inputData, neighborhoodEvaluationStrategy = 'BestImprovement', neighborhoodTypes = ['Swap']):\n",
    "        super().__init__(inputData, neighborhoodEvaluationStrategy, neighborhoodTypes)\n",
    "\n",
    "    def Run(self, solution): #startSolution ,老师打错了吗？\n",
    "        self.InitializeNeighborhoods(solution)  # 初始化即构造对象  \n",
    "\n",
    "        # According to \"Hansen et al. (2017): Variable neighorhood search\", this is equivalent to the \n",
    "        # sequential variable neighborhood descent with a pipe neighborhood change step.\n",
    "        for neighborhoodType in self.NeighborhoodTypes:\n",
    "            neighborhood = self.Neighborhoods[neighborhoodType]\n",
    "\n",
    "            neighborhood.LocalSearch(self.NeighborhoodEvaluationStrategy, solution)\n",
    "        \n",
    "        return solution"
   ]
  },
  {
   "cell_type": "markdown",
   "metadata": {},
   "source": [
    "Die Klasse `Solver` wird um die Methoden `ImprovementPhase()` und `RunLocalSearch()` erweitert."
   ]
  },
  {
   "cell_type": "code",
   "execution_count": 45,
   "metadata": {},
   "outputs": [],
   "source": [
    "class Solver:\n",
    "    def __init__(self, inputData, seed):\n",
    "        \n",
    "        self.InputData = inputData\n",
    "        self.Seed = seed\n",
    "        self.RNG = numpy.random.default_rng(seed)  #随机数生成器\n",
    "\n",
    "        self.EvaluationLogic = EvaluationLogic(inputData) # 定语是El对象，可以调用类中的方法\n",
    "        self.SolutionPool = SolutionPool()\n",
    "        \n",
    "        self.ConstructiveHeuristic = ConstructiveHeuristics(self.EvaluationLogic, self.SolutionPool)\n",
    "\n",
    "    def ConstructionPhase(self, constructiveSolutionMethod):\n",
    "        self.ConstructiveHeuristic.Run(self.InputData, constructiveSolutionMethod)\n",
    "\n",
    "        bestInitalSolution = self.SolutionPool.GetLowestMakespanSolution()\n",
    "\n",
    "        print(\"Constructive solution found.\")\n",
    "        print(bestInitalSolution)\n",
    "\n",
    "        return bestInitalSolution\n",
    "\n",
    "\n",
    "    def ImprovementPhase(self, startSolution, algorithm):\n",
    "        algorithm.Initialize(self.EvaluationLogic, self.SolutionPool, self.RNG)\n",
    "        bestSolution = algorithm.Run(startSolution)\n",
    "\n",
    "        print(\"Best found Solution.\")\n",
    "        print(bestSolution)\n",
    "\n",
    "    def RunLocalSearch(self, constructiveSolutionMethod, algorithm):\n",
    "        startSolution = self.ConstructionPhase(constructiveSolutionMethod)\n",
    "\n",
    "        self.ImprovementPhase(startSolution, algorithm)"
   ]
  },
  {
   "cell_type": "code",
   "execution_count": 46,
   "metadata": {},
   "outputs": [
    {
     "name": "stdout",
     "output_type": "stream",
     "text": [
      "Generating an initial solution according to FCFS.\n",
      "Constructive solution found.\n",
      "The permutation [0, 1, 2, 3, 4, 5, 6, 7, 8, 9, 10] results in a Makespan of 9298\n",
      "The permutation [0, 1, 2, 7, 4, 5, 6, 3, 8, 9, 10] results in a Makespan of 8381\n",
      "The permutation [7, 1, 2, 0, 4, 5, 6, 3, 8, 9, 10] results in a Makespan of 7954\n",
      "The permutation [7, 10, 2, 0, 4, 5, 6, 3, 8, 9, 1] results in a Makespan of 7472\n",
      "The permutation [7, 2, 10, 0, 4, 5, 6, 3, 8, 9, 1] results in a Makespan of 7184\n",
      "The permutation [7, 2, 10, 0, 4, 1, 6, 3, 8, 9, 5] results in a Makespan of 7175\n",
      "The permutation [7, 2, 0, 10, 4, 1, 6, 3, 8, 9, 5] results in a Makespan of 7038\n",
      "Reached local optimum of Swap neighborhood. Stop local search.\n",
      "Best found Solution.\n",
      "The permutation [7, 2, 0, 10, 4, 1, 6, 3, 8, 9, 5] results in a Makespan of 7038\n",
      "Generating an initial solution according to NEH.\n",
      "Constructive solution found.\n",
      "The permutation [7, 2, 0, 10, 4, 1, 6, 3, 8, 9, 5] results in a Makespan of 7038\n",
      "Reached local optimum of Swap neighborhood. Stop local search.\n",
      "Best found Solution.\n",
      "The permutation [7, 2, 0, 10, 4, 1, 6, 3, 8, 9, 5] results in a Makespan of 7038\n"
     ]
    }
   ],
   "source": [
    "from Solver import *\n",
    "\n",
    "data = InputData('InputFlowshopSIST.json')\n",
    "\n",
    "solver = Solver(data, 2048)\n",
    "\n",
    "improvementAlgorithm = IterativeImprovement(data)\n",
    "\n",
    "\n",
    "solver.RunLocalSearch('FCFS', improvementAlgorithm)\n",
    "solver.RunLocalSearch('NEH', improvementAlgorithm)\n"
   ]
  },
  {
   "cell_type": "markdown",
   "metadata": {},
   "source": [
    "---\n",
    "## 5. Wiederholung: gemeinsames Debuggen des Solvers\n",
    "---"
   ]
  },
  {
   "cell_type": "markdown",
   "metadata": {},
   "source": [
    "### 两种评估方式的总结\n",
    "\n",
    "Bisher haben wir zwei Nachbarschaftbewertungsstrategien kennengelernt:\n",
    "- Best Improvement (extensive Suche): alle Tausche einer Nachbarschaft werden ausgewertet. Der Tausch mit der größten Verbesserung wird ausgeführt.\n",
    "- First Improvement (selektive Suche): die Tausche einer Nachbarschaft werden solange ausgewertet, bis eine Verbesserung gefunden wird. Sobald eine Verbesserung gefunden wurde, wird die Auswertung abgebrochen und der gefundene Tausch sofort durchgeführt. Bessere Tausche können somit \"übersehen\" werden.\n",
    "\n",
    "#### Frage\n",
    "Was denken Sie, mit welcher Bewertungsstrategie werden bessere Ergebnisse erzielt? Was sind Vor- und Nachteile der ein oder anderen Bewertungsstrategie? Begründen Sie ihre Antwort."
   ]
  },
  {
   "cell_type": "code",
   "execution_count": 47,
   "metadata": {},
   "outputs": [
    {
     "name": "stdout",
     "output_type": "stream",
     "text": [
      "Generating an initial solution according to FCFS.\n",
      "Constructive solution found.\n",
      "The permutation [0, 1, 2, 3, 4, 5, 6, 7, 8, 9, 10] results in a Makespan of 9298\n",
      "The permutation [0, 1, 2, 7, 4, 5, 6, 3, 8, 9, 10] results in a Makespan of 8381\n",
      "The permutation [7, 1, 2, 0, 4, 5, 6, 3, 8, 9, 10] results in a Makespan of 7954\n",
      "The permutation [7, 10, 2, 0, 4, 5, 6, 3, 8, 9, 1] results in a Makespan of 7472\n",
      "The permutation [7, 2, 10, 0, 4, 5, 6, 3, 8, 9, 1] results in a Makespan of 7184\n",
      "The permutation [7, 2, 10, 0, 4, 1, 6, 3, 8, 9, 5] results in a Makespan of 7175\n",
      "The permutation [7, 2, 0, 10, 4, 1, 6, 3, 8, 9, 5] results in a Makespan of 7038\n",
      "Reached local optimum of Swap neighborhood. Stop local search.\n",
      "Best found Solution.\n",
      "The permutation [7, 2, 0, 10, 4, 1, 6, 3, 8, 9, 5] results in a Makespan of 7038\n",
      "Generating an initial solution according to FCFS.\n",
      "Constructive solution found.\n",
      "The permutation [0, 1, 2, 3, 4, 5, 6, 7, 8, 9, 10] results in a Makespan of 9298\n",
      "The permutation [1, 0, 2, 3, 4, 5, 6, 7, 8, 9, 10] results in a Makespan of 8935\n",
      "The permutation [2, 0, 1, 3, 4, 5, 6, 7, 8, 9, 10] results in a Makespan of 8650\n",
      "The permutation [7, 0, 1, 3, 4, 5, 6, 2, 8, 9, 10] results in a Makespan of 8623\n",
      "The permutation [1, 0, 7, 3, 4, 5, 6, 2, 8, 9, 10] results in a Makespan of 8590\n",
      "The permutation [3, 0, 7, 1, 4, 5, 6, 2, 8, 9, 10] results in a Makespan of 8560\n",
      "The permutation [4, 0, 7, 1, 3, 5, 6, 2, 8, 9, 10] results in a Makespan of 8422\n",
      "The permutation [6, 0, 7, 1, 3, 5, 4, 2, 8, 9, 10] results in a Makespan of 8344\n",
      "The permutation [7, 0, 6, 1, 3, 5, 4, 2, 8, 9, 10] results in a Makespan of 8305\n",
      "The permutation [7, 1, 6, 0, 3, 5, 4, 2, 8, 9, 10] results in a Makespan of 8293\n",
      "The permutation [7, 2, 6, 0, 3, 5, 4, 1, 8, 9, 10] results in a Makespan of 7954\n",
      "The permutation [7, 2, 10, 0, 3, 5, 4, 1, 8, 9, 6] results in a Makespan of 7519\n",
      "The permutation [7, 2, 10, 6, 3, 5, 4, 1, 8, 9, 0] results in a Makespan of 7175\n",
      "Reached local optimum of Swap neighborhood. Stop local search.\n",
      "Best found Solution.\n",
      "The permutation [7, 2, 10, 6, 3, 5, 4, 1, 8, 9, 0] results in a Makespan of 7175\n",
      "Best improvement makespan: 7038\n",
      "First improvement makespan: 7175\n",
      "The best improvement strategy achieves a lower makespan: True\n"
     ]
    }
   ],
   "source": [
    "from Solver import *\n",
    "\n",
    "data = InputData(\"InputFlowshopSIST.json\")\n",
    "\n",
    "constructiveSolutionMethod = 'FCFS'  #\"SPT\"....都可以，但是名字一定要跟函数定义中的名字一致\n",
    "\n",
    "# 找出最优解\n",
    "solverBestImprovement = Solver(data, 2048)\n",
    "bestImprovementAlgorithm = IterativeImprovement(data, 'BestImprovement')\n",
    "solverBestImprovement.RunLocalSearch(constructiveSolutionMethod, bestImprovementAlgorithm)\n",
    "\n",
    "# 找出第一个优化方案\n",
    "solverFirstImprovement = Solver(data, 2048)\n",
    "bestImprovementAlgorithm = IterativeImprovement(data, 'FirstImprovement')\n",
    "solverFirstImprovement.RunLocalSearch(constructiveSolutionMethod, bestImprovementAlgorithm)\n",
    "\n",
    "localOptimumBestImprovement = solverBestImprovement.SolutionPool.GetLowestMakespanSolution()\n",
    "localOptimumFirstImprovement = solverFirstImprovement.SolutionPool.GetLowestMakespanSolution()\n",
    "\n",
    "print(f\"Best improvement makespan: {localOptimumBestImprovement.Makespan}\")\n",
    "print(f\"First improvement makespan: {localOptimumFirstImprovement.Makespan}\")\n",
    "\n",
    "isBestImprovementMakespanLower = localOptimumBestImprovement.Makespan < localOptimumFirstImprovement.Makespan\n",
    "\n",
    "print(f\"The best improvement strategy achieves a lower makespan: {isBestImprovementMakespanLower}\")"
   ]
  },
  {
   "cell_type": "markdown",
   "metadata": {},
   "source": [
    "---\n",
    "## 6. Anwendung: selbständiges Programmieren\n",
    "---\n",
    "\n",
    "### Eine neue Nachbarschaft\n",
    "- Überlegen Sie vorab welche Größe die Insertion Nachbarschaft hat\n",
    "- Erweitern Sie den Solver um eine Insertion-Nachbarschaft\n",
    "- Überprüfen Sie, ob Ihre implemtierte Nachbarschaft auch die erwartete Größe aufweist"
   ]
  },
  {
   "cell_type": "code",
   "execution_count": 48,
   "metadata": {},
   "outputs": [
    {
     "name": "stdout",
     "output_type": "stream",
     "text": [
      "Generating an initial solution according to LPT.\n",
      "Constructive solution found.\n",
      "The permutation [9, 5, 1, 6, 10, 4, 3, 0, 8, 7, 2] results in a Makespan of 10649\n",
      "The permutation [7, 5, 1, 6, 10, 4, 3, 0, 8, 9, 2] results in a Makespan of 9241\n",
      "The permutation [7, 2, 1, 6, 10, 4, 3, 0, 8, 9, 5] results in a Makespan of 8171\n",
      "The permutation [7, 2, 10, 6, 1, 4, 3, 0, 8, 9, 5] results in a Makespan of 7175\n",
      "The permutation [7, 4, 10, 6, 1, 2, 3, 0, 8, 9, 5] results in a Makespan of 7057\n",
      "Reached local optimum of Swap neighborhood. Stop local search.\n"
     ]
    },
    {
     "ename": "IndexError",
     "evalue": "list index out of range",
     "output_type": "error",
     "traceback": [
      "\u001b[1;31m---------------------------------------------------------------------------\u001b[0m",
      "\u001b[1;31mIndexError\u001b[0m                                Traceback (most recent call last)",
      "\u001b[1;32mg:\\6.Semester\\Prescriptive Analytics\\Seminar 4\\Lesson_04_ImprovementHeuristics.ipynb Cell 51'\u001b[0m in \u001b[0;36m<cell line: 9>\u001b[1;34m()\u001b[0m\n\u001b[0;32m      <a href='vscode-notebook-cell:/g%3A/6.Semester/Prescriptive%20Analytics/Seminar%204/Lesson_04_ImprovementHeuristics.ipynb#ch0000050?line=4'>5</a>\u001b[0m improvementAlgorithm \u001b[39m=\u001b[39m IterativeImprovement(data, \u001b[39m'\u001b[39m\u001b[39mBestImprovement\u001b[39m\u001b[39m'\u001b[39m, [\u001b[39m'\u001b[39m\u001b[39mSwap\u001b[39m\u001b[39m'\u001b[39m, \u001b[39m'\u001b[39m\u001b[39mInsertion\u001b[39m\u001b[39m'\u001b[39m])\n\u001b[0;32m      <a href='vscode-notebook-cell:/g%3A/6.Semester/Prescriptive%20Analytics/Seminar%204/Lesson_04_ImprovementHeuristics.ipynb#ch0000050?line=6'>7</a>\u001b[0m solver \u001b[39m=\u001b[39m Solver(data, \u001b[39m1024\u001b[39m)\n\u001b[1;32m----> <a href='vscode-notebook-cell:/g%3A/6.Semester/Prescriptive%20Analytics/Seminar%204/Lesson_04_ImprovementHeuristics.ipynb#ch0000050?line=8'>9</a>\u001b[0m solver\u001b[39m.\u001b[39;49mRunLocalSearch(\u001b[39m'\u001b[39;49m\u001b[39mLPT\u001b[39;49m\u001b[39m'\u001b[39;49m, improvementAlgorithm)\n",
      "File \u001b[1;32mg:\\6.Semester\\Prescriptive Analytics\\Seminar 4\\Solver.py:42\u001b[0m, in \u001b[0;36mSolver.RunLocalSearch\u001b[1;34m(self, constructiveSolutionMethod, algorithm)\u001b[0m\n\u001b[0;32m     <a href='file:///g%3A/6.Semester/Prescriptive%20Analytics/Seminar%204/Solver.py?line=38'>39</a>\u001b[0m \u001b[39mdef\u001b[39;00m \u001b[39mRunLocalSearch\u001b[39m(\u001b[39mself\u001b[39m, constructiveSolutionMethod, algorithm):\n\u001b[0;32m     <a href='file:///g%3A/6.Semester/Prescriptive%20Analytics/Seminar%204/Solver.py?line=39'>40</a>\u001b[0m     startSolution \u001b[39m=\u001b[39m \u001b[39mself\u001b[39m\u001b[39m.\u001b[39mConstructionPhase(constructiveSolutionMethod)\n\u001b[1;32m---> <a href='file:///g%3A/6.Semester/Prescriptive%20Analytics/Seminar%204/Solver.py?line=41'>42</a>\u001b[0m     \u001b[39mself\u001b[39;49m\u001b[39m.\u001b[39;49mImprovementPhase(startSolution, algorithm)\n",
      "File \u001b[1;32mg:\\6.Semester\\Prescriptive Analytics\\Seminar 4\\Solver.py:34\u001b[0m, in \u001b[0;36mSolver.ImprovementPhase\u001b[1;34m(self, startSolution, algorithm)\u001b[0m\n\u001b[0;32m     <a href='file:///g%3A/6.Semester/Prescriptive%20Analytics/Seminar%204/Solver.py?line=31'>32</a>\u001b[0m \u001b[39mdef\u001b[39;00m \u001b[39mImprovementPhase\u001b[39m(\u001b[39mself\u001b[39m, startSolution, algorithm):\n\u001b[0;32m     <a href='file:///g%3A/6.Semester/Prescriptive%20Analytics/Seminar%204/Solver.py?line=32'>33</a>\u001b[0m     algorithm\u001b[39m.\u001b[39mInitialize(\u001b[39mself\u001b[39m\u001b[39m.\u001b[39mEvaluationLogic, \u001b[39mself\u001b[39m\u001b[39m.\u001b[39mSolutionPool, \u001b[39mself\u001b[39m\u001b[39m.\u001b[39mRNG)\n\u001b[1;32m---> <a href='file:///g%3A/6.Semester/Prescriptive%20Analytics/Seminar%204/Solver.py?line=33'>34</a>\u001b[0m     bestSolution \u001b[39m=\u001b[39m algorithm\u001b[39m.\u001b[39;49mRun(startSolution)\n\u001b[0;32m     <a href='file:///g%3A/6.Semester/Prescriptive%20Analytics/Seminar%204/Solver.py?line=35'>36</a>\u001b[0m     \u001b[39mprint\u001b[39m(\u001b[39m\"\u001b[39m\u001b[39mBest found Solution.\u001b[39m\u001b[39m\"\u001b[39m)\n\u001b[0;32m     <a href='file:///g%3A/6.Semester/Prescriptive%20Analytics/Seminar%204/Solver.py?line=36'>37</a>\u001b[0m     \u001b[39mprint\u001b[39m(bestSolution)\n",
      "File \u001b[1;32mg:\\6.Semester\\Prescriptive Analytics\\Seminar 4\\ImprovementAlgorithm.py:51\u001b[0m, in \u001b[0;36mIterativeImprovement.Run\u001b[1;34m(self, solution)\u001b[0m\n\u001b[0;32m     <a href='file:///g%3A/6.Semester/Prescriptive%20Analytics/Seminar%204/ImprovementAlgorithm.py?line=47'>48</a>\u001b[0m \u001b[39mfor\u001b[39;00m neighborhoodType \u001b[39min\u001b[39;00m \u001b[39mself\u001b[39m\u001b[39m.\u001b[39mNeighborhoodTypes:\n\u001b[0;32m     <a href='file:///g%3A/6.Semester/Prescriptive%20Analytics/Seminar%204/ImprovementAlgorithm.py?line=48'>49</a>\u001b[0m     neighborhood \u001b[39m=\u001b[39m \u001b[39mself\u001b[39m\u001b[39m.\u001b[39mNeighborhoods[neighborhoodType]\n\u001b[1;32m---> <a href='file:///g%3A/6.Semester/Prescriptive%20Analytics/Seminar%204/ImprovementAlgorithm.py?line=50'>51</a>\u001b[0m     neighborhood\u001b[39m.\u001b[39;49mLocalSearch(\u001b[39mself\u001b[39;49m\u001b[39m.\u001b[39;49mNeighborhoodEvaluationStrategy, solution)\n\u001b[0;32m     <a href='file:///g%3A/6.Semester/Prescriptive%20Analytics/Seminar%204/ImprovementAlgorithm.py?line=52'>53</a>\u001b[0m \u001b[39mreturn\u001b[39;00m solution\n",
      "File \u001b[1;32mg:\\6.Semester\\Prescriptive Analytics\\Seminar 4\\Neighborhood.py:74\u001b[0m, in \u001b[0;36mBaseNeighborhood.LocalSearch\u001b[1;34m(self, neighborhoodEvaluationStrategy, solution)\u001b[0m\n\u001b[0;32m     <a href='file:///g%3A/6.Semester/Prescriptive%20Analytics/Seminar%204/Neighborhood.py?line=70'>71</a>\u001b[0m \u001b[39mself\u001b[39m\u001b[39m.\u001b[39mDiscoverMoves()\n\u001b[0;32m     <a href='file:///g%3A/6.Semester/Prescriptive%20Analytics/Seminar%204/Neighborhood.py?line=71'>72</a>\u001b[0m \u001b[39mself\u001b[39m\u001b[39m.\u001b[39mEvaluateMoves(neighborhoodEvaluationStrategy)\n\u001b[1;32m---> <a href='file:///g%3A/6.Semester/Prescriptive%20Analytics/Seminar%204/Neighborhood.py?line=73'>74</a>\u001b[0m bestNeighborhoodSolution \u001b[39m=\u001b[39m \u001b[39mself\u001b[39;49m\u001b[39m.\u001b[39;49mMakeBestMove()\n\u001b[0;32m     <a href='file:///g%3A/6.Semester/Prescriptive%20Analytics/Seminar%204/Neighborhood.py?line=75'>76</a>\u001b[0m \u001b[39mif\u001b[39;00m bestNeighborhoodSolution\u001b[39m.\u001b[39mMakespan \u001b[39m<\u001b[39m solution\u001b[39m.\u001b[39mMakespan:\n\u001b[0;32m     <a href='file:///g%3A/6.Semester/Prescriptive%20Analytics/Seminar%204/Neighborhood.py?line=76'>77</a>\u001b[0m     \u001b[39m# print(\"New best solution has been found!\")\u001b[39;00m\n\u001b[0;32m     <a href='file:///g%3A/6.Semester/Prescriptive%20Analytics/Seminar%204/Neighborhood.py?line=77'>78</a>\u001b[0m     \u001b[39mprint\u001b[39m(bestNeighborhoodSolution)\n",
      "File \u001b[1;32mg:\\6.Semester\\Prescriptive Analytics\\Seminar 4\\Neighborhood.py:56\u001b[0m, in \u001b[0;36mBaseNeighborhood.MakeBestMove\u001b[1;34m(self)\u001b[0m\n\u001b[0;32m     <a href='file:///g%3A/6.Semester/Prescriptive%20Analytics/Seminar%204/Neighborhood.py?line=52'>53</a>\u001b[0m \u001b[39mdef\u001b[39;00m \u001b[39mMakeBestMove\u001b[39m(\u001b[39mself\u001b[39m):\n\u001b[0;32m     <a href='file:///g%3A/6.Semester/Prescriptive%20Analytics/Seminar%204/Neighborhood.py?line=53'>54</a>\u001b[0m     \u001b[39mself\u001b[39m\u001b[39m.\u001b[39mMoveSolutions\u001b[39m.\u001b[39msort(key \u001b[39m=\u001b[39m \u001b[39mlambda\u001b[39;00m solution: solution\u001b[39m.\u001b[39mMakespan) \u001b[39m# sort solutions according to makespan\u001b[39;00m\n\u001b[1;32m---> <a href='file:///g%3A/6.Semester/Prescriptive%20Analytics/Seminar%204/Neighborhood.py?line=55'>56</a>\u001b[0m     bestNeighborhoodSolution \u001b[39m=\u001b[39m \u001b[39mself\u001b[39;49m\u001b[39m.\u001b[39;49mMoveSolutions[\u001b[39m0\u001b[39;49m]\n\u001b[0;32m     <a href='file:///g%3A/6.Semester/Prescriptive%20Analytics/Seminar%204/Neighborhood.py?line=57'>58</a>\u001b[0m     \u001b[39mreturn\u001b[39;00m bestNeighborhoodSolution\n",
      "\u001b[1;31mIndexError\u001b[0m: list index out of range"
     ]
    }
   ],
   "source": [
    "from Solver import *\n",
    "\n",
    "data = InputData(\"InputFlowshopSIST.json\")\n",
    "\n",
    "improvementAlgorithm = IterativeImprovement(data, 'BestImprovement', ['Swap', 'Insertion'])\n",
    "\n",
    "solver = Solver(data, 1024)\n",
    "\n",
    "solver.RunLocalSearch('LPT', improvementAlgorithm)"
   ]
  },
  {
   "cell_type": "code",
   "execution_count": null,
   "metadata": {},
   "outputs": [
    {
     "name": "stdout",
     "output_type": "stream",
     "text": [
      "Generating an initial solution according to LPT.\n",
      "Constructive solution found.\n",
      "The permutation [9, 5, 1, 6, 10, 4, 3, 0, 8, 7, 2] results in a Makespan of 10649\n",
      "The permutation [7, 5, 1, 6, 10, 4, 3, 0, 8, 9, 2] results in a Makespan of 9241\n",
      "The permutation [7, 2, 1, 6, 10, 4, 3, 0, 8, 9, 5] results in a Makespan of 8171\n",
      "The permutation [7, 2, 10, 6, 1, 4, 3, 0, 8, 9, 5] results in a Makespan of 7175\n",
      "The permutation [7, 4, 10, 6, 1, 2, 3, 0, 8, 9, 5] results in a Makespan of 7057\n",
      "Reached local optimum of Swap neighborhood. Stop local search.\n"
     ]
    },
    {
     "ename": "IndexError",
     "evalue": "list index out of range",
     "output_type": "error",
     "traceback": [
      "\u001b[1;31m---------------------------------------------------------------------------\u001b[0m",
      "\u001b[1;31mIndexError\u001b[0m                                Traceback (most recent call last)",
      "\u001b[1;32mg:\\6.Semester\\Prescriptive Analytics\\Seminar 4\\Lesson_04_ImprovementHeuristics.ipynb Cell 45'\u001b[0m in \u001b[0;36m<cell line: 10>\u001b[1;34m()\u001b[0m\n\u001b[0;32m      <a href='vscode-notebook-cell:/g%3A/6.Semester/Prescriptive%20Analytics/Seminar%204/Lesson_04_ImprovementHeuristics.ipynb#ch0000042?line=4'>5</a>\u001b[0m improvementAlgorithm \u001b[39m=\u001b[39m IterativeImprovement(data, \u001b[39m'\u001b[39m\u001b[39mBestImprovement\u001b[39m\u001b[39m'\u001b[39m, [\u001b[39m'\u001b[39m\u001b[39mSwap\u001b[39m\u001b[39m'\u001b[39m, \u001b[39m'\u001b[39m\u001b[39mInsertion\u001b[39m\u001b[39m'\u001b[39m])  \u001b[39m# 参数表要写全\u001b[39;00m\n\u001b[0;32m      <a href='vscode-notebook-cell:/g%3A/6.Semester/Prescriptive%20Analytics/Seminar%204/Lesson_04_ImprovementHeuristics.ipynb#ch0000042?line=7'>8</a>\u001b[0m solver \u001b[39m=\u001b[39m Solver(data, \u001b[39m1024\u001b[39m)\n\u001b[1;32m---> <a href='vscode-notebook-cell:/g%3A/6.Semester/Prescriptive%20Analytics/Seminar%204/Lesson_04_ImprovementHeuristics.ipynb#ch0000042?line=9'>10</a>\u001b[0m solver\u001b[39m.\u001b[39;49mRunLocalSearch(\u001b[39m'\u001b[39;49m\u001b[39mLPT\u001b[39;49m\u001b[39m'\u001b[39;49m, improvementAlgorithm)\n",
      "File \u001b[1;32mg:\\6.Semester\\Prescriptive Analytics\\Seminar 4\\Solver.py:42\u001b[0m, in \u001b[0;36mSolver.RunLocalSearch\u001b[1;34m(self, constructiveSolutionMethod, algorithm)\u001b[0m\n\u001b[0;32m     <a href='file:///g%3A/6.Semester/Prescriptive%20Analytics/Seminar%204/Solver.py?line=38'>39</a>\u001b[0m \u001b[39mdef\u001b[39;00m \u001b[39mRunLocalSearch\u001b[39m(\u001b[39mself\u001b[39m, constructiveSolutionMethod, algorithm):\n\u001b[0;32m     <a href='file:///g%3A/6.Semester/Prescriptive%20Analytics/Seminar%204/Solver.py?line=39'>40</a>\u001b[0m     startSolution \u001b[39m=\u001b[39m \u001b[39mself\u001b[39m\u001b[39m.\u001b[39mConstructionPhase(constructiveSolutionMethod)\n\u001b[1;32m---> <a href='file:///g%3A/6.Semester/Prescriptive%20Analytics/Seminar%204/Solver.py?line=41'>42</a>\u001b[0m     \u001b[39mself\u001b[39;49m\u001b[39m.\u001b[39;49mImprovementPhase(startSolution, algorithm)\n",
      "File \u001b[1;32mg:\\6.Semester\\Prescriptive Analytics\\Seminar 4\\Solver.py:34\u001b[0m, in \u001b[0;36mSolver.ImprovementPhase\u001b[1;34m(self, startSolution, algorithm)\u001b[0m\n\u001b[0;32m     <a href='file:///g%3A/6.Semester/Prescriptive%20Analytics/Seminar%204/Solver.py?line=31'>32</a>\u001b[0m \u001b[39mdef\u001b[39;00m \u001b[39mImprovementPhase\u001b[39m(\u001b[39mself\u001b[39m, startSolution, algorithm):\n\u001b[0;32m     <a href='file:///g%3A/6.Semester/Prescriptive%20Analytics/Seminar%204/Solver.py?line=32'>33</a>\u001b[0m     algorithm\u001b[39m.\u001b[39mInitialize(\u001b[39mself\u001b[39m\u001b[39m.\u001b[39mEvaluationLogic, \u001b[39mself\u001b[39m\u001b[39m.\u001b[39mSolutionPool, \u001b[39mself\u001b[39m\u001b[39m.\u001b[39mRNG)\n\u001b[1;32m---> <a href='file:///g%3A/6.Semester/Prescriptive%20Analytics/Seminar%204/Solver.py?line=33'>34</a>\u001b[0m     bestSolution \u001b[39m=\u001b[39m algorithm\u001b[39m.\u001b[39;49mRun(startSolution)\n\u001b[0;32m     <a href='file:///g%3A/6.Semester/Prescriptive%20Analytics/Seminar%204/Solver.py?line=35'>36</a>\u001b[0m     \u001b[39mprint\u001b[39m(\u001b[39m\"\u001b[39m\u001b[39mBest found Solution.\u001b[39m\u001b[39m\"\u001b[39m)\n\u001b[0;32m     <a href='file:///g%3A/6.Semester/Prescriptive%20Analytics/Seminar%204/Solver.py?line=36'>37</a>\u001b[0m     \u001b[39mprint\u001b[39m(bestSolution)\n",
      "File \u001b[1;32mg:\\6.Semester\\Prescriptive Analytics\\Seminar 4\\ImprovementAlgorithm.py:51\u001b[0m, in \u001b[0;36mIterativeImprovement.Run\u001b[1;34m(self, solution)\u001b[0m\n\u001b[0;32m     <a href='file:///g%3A/6.Semester/Prescriptive%20Analytics/Seminar%204/ImprovementAlgorithm.py?line=47'>48</a>\u001b[0m \u001b[39mfor\u001b[39;00m neighborhoodType \u001b[39min\u001b[39;00m \u001b[39mself\u001b[39m\u001b[39m.\u001b[39mNeighborhoodTypes:\n\u001b[0;32m     <a href='file:///g%3A/6.Semester/Prescriptive%20Analytics/Seminar%204/ImprovementAlgorithm.py?line=48'>49</a>\u001b[0m     neighborhood \u001b[39m=\u001b[39m \u001b[39mself\u001b[39m\u001b[39m.\u001b[39mNeighborhoods[neighborhoodType]\n\u001b[1;32m---> <a href='file:///g%3A/6.Semester/Prescriptive%20Analytics/Seminar%204/ImprovementAlgorithm.py?line=50'>51</a>\u001b[0m     neighborhood\u001b[39m.\u001b[39;49mLocalSearch(\u001b[39mself\u001b[39;49m\u001b[39m.\u001b[39;49mNeighborhoodEvaluationStrategy, solution)\n\u001b[0;32m     <a href='file:///g%3A/6.Semester/Prescriptive%20Analytics/Seminar%204/ImprovementAlgorithm.py?line=52'>53</a>\u001b[0m \u001b[39mreturn\u001b[39;00m solution\n",
      "File \u001b[1;32mg:\\6.Semester\\Prescriptive Analytics\\Seminar 4\\Neighborhood.py:74\u001b[0m, in \u001b[0;36mBaseNeighborhood.LocalSearch\u001b[1;34m(self, neighborhoodEvaluationStrategy, solution)\u001b[0m\n\u001b[0;32m     <a href='file:///g%3A/6.Semester/Prescriptive%20Analytics/Seminar%204/Neighborhood.py?line=70'>71</a>\u001b[0m \u001b[39mself\u001b[39m\u001b[39m.\u001b[39mDiscoverMoves()\n\u001b[0;32m     <a href='file:///g%3A/6.Semester/Prescriptive%20Analytics/Seminar%204/Neighborhood.py?line=71'>72</a>\u001b[0m \u001b[39mself\u001b[39m\u001b[39m.\u001b[39mEvaluateMoves(neighborhoodEvaluationStrategy)\n\u001b[1;32m---> <a href='file:///g%3A/6.Semester/Prescriptive%20Analytics/Seminar%204/Neighborhood.py?line=73'>74</a>\u001b[0m bestNeighborhoodSolution \u001b[39m=\u001b[39m \u001b[39mself\u001b[39;49m\u001b[39m.\u001b[39;49mMakeBestMove()\n\u001b[0;32m     <a href='file:///g%3A/6.Semester/Prescriptive%20Analytics/Seminar%204/Neighborhood.py?line=75'>76</a>\u001b[0m \u001b[39mif\u001b[39;00m bestNeighborhoodSolution\u001b[39m.\u001b[39mMakespan \u001b[39m<\u001b[39m solution\u001b[39m.\u001b[39mMakespan:\n\u001b[0;32m     <a href='file:///g%3A/6.Semester/Prescriptive%20Analytics/Seminar%204/Neighborhood.py?line=76'>77</a>\u001b[0m     \u001b[39m# print(\"New best solution has been found!\")\u001b[39;00m\n\u001b[0;32m     <a href='file:///g%3A/6.Semester/Prescriptive%20Analytics/Seminar%204/Neighborhood.py?line=77'>78</a>\u001b[0m     \u001b[39mprint\u001b[39m(bestNeighborhoodSolution)\n",
      "File \u001b[1;32mg:\\6.Semester\\Prescriptive Analytics\\Seminar 4\\Neighborhood.py:56\u001b[0m, in \u001b[0;36mBaseNeighborhood.MakeBestMove\u001b[1;34m(self)\u001b[0m\n\u001b[0;32m     <a href='file:///g%3A/6.Semester/Prescriptive%20Analytics/Seminar%204/Neighborhood.py?line=52'>53</a>\u001b[0m \u001b[39mdef\u001b[39;00m \u001b[39mMakeBestMove\u001b[39m(\u001b[39mself\u001b[39m):\n\u001b[0;32m     <a href='file:///g%3A/6.Semester/Prescriptive%20Analytics/Seminar%204/Neighborhood.py?line=53'>54</a>\u001b[0m     \u001b[39mself\u001b[39m\u001b[39m.\u001b[39mMoveSolutions\u001b[39m.\u001b[39msort(key \u001b[39m=\u001b[39m \u001b[39mlambda\u001b[39;00m solution: solution\u001b[39m.\u001b[39mMakespan) \u001b[39m# sort solutions according to makespan\u001b[39;00m\n\u001b[1;32m---> <a href='file:///g%3A/6.Semester/Prescriptive%20Analytics/Seminar%204/Neighborhood.py?line=55'>56</a>\u001b[0m     bestNeighborhoodSolution \u001b[39m=\u001b[39m \u001b[39mself\u001b[39;49m\u001b[39m.\u001b[39;49mMoveSolutions[\u001b[39m0\u001b[39;49m]\n\u001b[0;32m     <a href='file:///g%3A/6.Semester/Prescriptive%20Analytics/Seminar%204/Neighborhood.py?line=57'>58</a>\u001b[0m     \u001b[39mreturn\u001b[39;00m bestNeighborhoodSolution\n",
      "\u001b[1;31mIndexError\u001b[0m: list index out of range"
     ]
    }
   ],
   "source": [
    "from Solver import *\n",
    "\n",
    "data = InputData(\"InputFlowshopSIST.json\")  # debug, step out的作用\n",
    "\n",
    "improvementAlgorithm = IterativeImprovement(data, 'BestImprovement', ['Swap', 'Insertion'])  # 参数表要写全\n",
    "\n",
    "\n",
    "solver = Solver(data, 1024)\n",
    "\n",
    "solver.RunLocalSearch('LPT', improvementAlgorithm)"
   ]
  },
  {
   "cell_type": "code",
   "execution_count": null,
   "metadata": {},
   "outputs": [
    {
     "name": "stdout",
     "output_type": "stream",
     "text": [
      "Generating an initial solution according to FCFS.\n",
      "Constructive solution found.\n",
      "The permutation [0, 1, 2, 3, 4, 5, 6, 7, 8, 9, 10] results in a Makespan of 9298\n",
      "The permutation [0, 1, 2, 7, 4, 5, 6, 3, 8, 9, 10] results in a Makespan of 8381\n",
      "The permutation [7, 1, 2, 0, 4, 5, 6, 3, 8, 9, 10] results in a Makespan of 7954\n",
      "The permutation [7, 10, 2, 0, 4, 5, 6, 3, 8, 9, 1] results in a Makespan of 7472\n",
      "The permutation [7, 2, 10, 0, 4, 5, 6, 3, 8, 9, 1] results in a Makespan of 7184\n",
      "The permutation [7, 2, 10, 0, 4, 1, 6, 3, 8, 9, 5] results in a Makespan of 7175\n",
      "The permutation [7, 2, 0, 10, 4, 1, 6, 3, 8, 9, 5] results in a Makespan of 7038\n",
      "Reached local optimum of Swap neighborhood. Stop local search.\n",
      "Best found Solution.\n",
      "The permutation [7, 2, 0, 10, 4, 1, 6, 3, 8, 9, 5] results in a Makespan of 7038\n"
     ]
    }
   ],
   "source": [
    "from Solver import *\n",
    "from ImprovementAlgorithm import *\n",
    "\n",
    "data = InputData(\"InputFlowshopSIST.JSON\")\n",
    "\n",
    "solver = Solver(data, 2048)\n",
    "\n",
    "improvementAlgorithm = IterativeImprovement(data)\n",
    "\n",
    "solver.RunLocalSearch('FCFS', improvementAlgorithm)"
   ]
  },
  {
   "cell_type": "markdown",
   "metadata": {},
   "source": [
    "### Zusatz \n",
    "Nun existieren mehrere Nachbarschaften. Überlegen Sie wie man einen sinnvollen Wechsel zwischen den Nachbarschaften steuern kann. Momentan ist in der Intesivierungsphase ein Sequential Variable Neighborhood Descent mit einem Pipe Neighborhood Change Step implementiert. Vollziehen Sie die Richtigkeit dieser Aussage nach.\n",
    "\n",
    "- Implementieren Sie einen der anderen vorgestellten Neighborhood Change Steps: \"Basic\"\n",
    "- Welche Vor- und Nachteile erwarten Sie dadurch?\n",
    "- Welche Schwierigkeit erwarten Sie bei der Umsetzung eines \"Cyclic\" Neighborhood Change Steps?"
   ]
  }
 ],
 "metadata": {
  "interpreter": {
   "hash": "e42634819b8c191a5d07eaf23810ff32516dd8d3875f28ec3e488928fbd3c187"
  },
  "kernelspec": {
   "display_name": "Python 3.8.8 ('base')",
   "language": "python",
   "name": "python3"
  },
  "language_info": {
   "codemirror_mode": {
    "name": "ipython",
    "version": 3
   },
   "file_extension": ".py",
   "mimetype": "text/x-python",
   "name": "python",
   "nbconvert_exporter": "python",
   "pygments_lexer": "ipython3",
   "version": "3.8.8"
  },
  "orig_nbformat": 2
 },
 "nbformat": 4,
 "nbformat_minor": 2
}
