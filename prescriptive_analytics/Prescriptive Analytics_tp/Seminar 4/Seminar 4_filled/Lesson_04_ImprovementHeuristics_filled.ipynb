{
 "cells": [
  {
   "cell_type": "markdown",
   "metadata": {},
   "source": [
    "---\n",
    "# Praxisteil 3 - Software Architektur des Heuristischen Solvers\n",
    "---"
   ]
  },
  {
   "cell_type": "markdown",
   "metadata": {},
   "source": [
    "---\n",
    "## 1. Zusammenführen der Klassen aus vorherigen Veranstaltungen \n",
    "---"
   ]
  },
  {
   "cell_type": "markdown",
   "metadata": {},
   "source": [
    "Angestrebte Solverarchitektur:\n",
    "\n",
    "![Solverarchitektur](SolverArchitektur.PNG)"
   ]
  },
  {
   "cell_type": "markdown",
   "metadata": {},
   "source": [
    "Speichern von allen gefundenen Lösungen in der Klasse `SolutionPool`:"
   ]
  },
  {
   "cell_type": "code",
   "execution_count": 2,
   "metadata": {},
   "outputs": [],
   "source": [
    "class SolutionPool:\n",
    "    def __init__(self):\n",
    "        self.Solutions = []\n",
    "\n",
    "    def AddSolution(self, newSolution):\n",
    "        self.Solutions.append(newSolution)\n",
    "\n",
    "    def GetLowestMakespanSolution(self):\n",
    "        self.Solutions.sort(key = lambda solution: solution.Makespan) # sort solutions according to makespan\n",
    "\n",
    "        return self.Solutions[0]"
   ]
  },
  {
   "cell_type": "markdown",
   "metadata": {},
   "source": [
    "Alle konstruktiven Verfahren werden in der Klasse `ConstructiveHeuristics` zusammengeführt:"
   ]
  },
  {
   "cell_type": "code",
   "execution_count": 3,
   "metadata": {},
   "outputs": [],
   "source": [
    "class ConstructiveHeuristics:\n",
    "    def __init__(self, evaluationLogic, solutionPool):\n",
    "        self.RandomSeed = 2021\n",
    "        self.RandomRetries = 10\n",
    "        self.EvaluationLogic = evaluationLogic\n",
    "        self.SolutionPool = solutionPool\n",
    "\n",
    "    def FirstComeFirstServe(self, jobList):\n",
    "        tmpPermutation = [*range(len(jobList))]\n",
    "\n",
    "        tmpSolution = Solution(jobList, tmpPermutation)\n",
    "        self.EvaluationLogic.DefineStartEnd(tmpSolution)\n",
    "\n",
    "        return tmpSolution\n",
    "\n",
    "    # other constructive algorithms\n",
    "\n",
    "    def Run(self, inputData, solutionMethod):\n",
    "        print('Generating an initial solution according to ' + solutionMethod + '.')\n",
    "\n",
    "        solution = None\n",
    "\n",
    "        if solutionMethod == 'FCFS':\n",
    "            solution = self.FirstComeFirstServe(inputData.InputJobs)\n",
    "        elif solutionMethod == 'SPT':\n",
    "            solution = self.ShortestProcessingTime(inputData.InputJobs)\n",
    "        elif solutionMethod == 'LPT':\n",
    "            solution = self.LeastProcessingTime(inputData.InputJobs)\n",
    "        elif solutionMethod == 'ROS':\n",
    "            solution = self.ROS(inputData.InputJobs, self.RandomRetries, self.RandomSeed)\n",
    "        elif solutionMethod == 'NEH':\n",
    "            solution = self.NEH(inputData.InputJobs)\n",
    "        else:\n",
    "            print('Unkown constructive solution method: ' + solutionMethod + '.')\n",
    "\n",
    "        self.SolutionPool.AddSolution(solution)"
   ]
  },
  {
   "cell_type": "markdown",
   "metadata": {},
   "source": [
    "Alle bisherigen Elemente werden in einer Solver-Klasse zusammengeführt:"
   ]
  },
  {
   "cell_type": "code",
   "execution_count": 4,
   "metadata": {},
   "outputs": [],
   "source": [
    "class Solver:\n",
    "    def __init__(self, inputData, seed):\n",
    "        self.InputData = inputData\n",
    "        self.Seed = seed\n",
    "        self.RNG = numpy.random.default_rng(seed)\n",
    "\n",
    "        self.EvaluationLogic = EvaluationLogic(inputData)\n",
    "        self.SolutionPool = SolutionPool()\n",
    "        \n",
    "        self.ConstructiveHeuristic = ConstructiveHeuristics(self.EvaluationLogic, self.SolutionPool)   \n",
    "\n",
    "    def ConstructionPhase(self, constructiveSolutionMethod):\n",
    "        self.ConstructiveHeuristic.Run(self.InputData, constructiveSolutionMethod)\n",
    "\n",
    "        bestInitalSolution = self.SolutionPool.GetLowestMakespanSolution()\n",
    "\n",
    "        print(\"Constructive solution found.\")\n",
    "        print(bestInitalSolution)\n",
    "\n",
    "        return bestInitalSolution"
   ]
  },
  {
   "cell_type": "markdown",
   "metadata": {},
   "source": [
    "---\n",
    "## 2. Ausführen des Solvers\n",
    "---\n",
    "\n",
    "Damit können wir die konstruktiven Lösungen ROS, FCFS, LPT, SPT Lösung wie vorher erzeugen:"
   ]
  },
  {
   "cell_type": "code",
   "execution_count": 5,
   "metadata": {},
   "outputs": [
    {
     "name": "stdout",
     "output_type": "stream",
     "text": [
      "Generating an initial solution according to ROS.\n",
      "Constructive solution found.\n",
      "The permutation [ 3  0  4  2  5  1  7 10  9  6  8] results in a Makespan of 7812\n"
     ]
    },
    {
     "data": {
      "text/plain": [
       "<OutputData.Solution at 0x1d04bbad580>"
      ]
     },
     "execution_count": 5,
     "metadata": {},
     "output_type": "execute_result"
    }
   ],
   "source": [
    "from Solver import *\n",
    "\n",
    "data = InputData(\"InputFlowshopSIST.json\")\n",
    "\n",
    "solver = Solver(data, 2048)\n",
    "\n",
    "solver.ConstructionPhase('ROS')"
   ]
  },
  {
   "cell_type": "markdown",
   "metadata": {},
   "source": [
    "---\n",
    "## 3. Nachbarschaften und Tausche\n",
    "---\n",
    "#### Wiederholung aus der Theorie\n",
    "Nachbarschaften beinhalten eine oder mehrere Lösungen (Nachbarschaftslösungen), die von einer gegebenen Lösung aus mit einem Tausch erreichbar sind.\n",
    "\n",
    "#### Beispiel \n",
    "Gegebene FCFS-Lösung:"
   ]
  },
  {
   "cell_type": "code",
   "execution_count": 6,
   "metadata": {},
   "outputs": [
    {
     "name": "stdout",
     "output_type": "stream",
     "text": [
      "The permutation [0, 1, 2, 3, 4, 5, 6, 7, 8, 9, 10] results in a Makespan of 9298\n"
     ]
    }
   ],
   "source": [
    "permutationFCFS = [0, 1, 2, 3, 4, 5, 6, 7, 8, 9, 10]\n",
    "solutionFCFS = Solution(data.InputJobs, permutationFCFS)\n",
    "\n",
    "solver.EvaluationLogic.DefineStartEnd(solutionFCFS)\n",
    "\n",
    "print(solutionFCFS)"
   ]
  },
  {
   "cell_type": "markdown",
   "metadata": {},
   "source": [
    "Nun führen wir einen Swap Tausch (= Move) der Elemente 0 und 1 durch. Das Ergebnis eines Tausches ist nichts anderes als ein neuer Lösungskandidat."
   ]
  },
  {
   "cell_type": "code",
   "execution_count": 7,
   "metadata": {},
   "outputs": [
    {
     "name": "stdout",
     "output_type": "stream",
     "text": [
      "The permutation [1, 0, 2, 3, 4, 5, 6, 7, 8, 9, 10] results in a Makespan of 8935\n"
     ]
    }
   ],
   "source": [
    "swapMovePermutation = list(permutationFCFS) # create a copy of the permutation\n",
    "swapMovePermutation[0] = permutationFCFS[1]\n",
    "swapMovePermutation[1] = permutationFCFS[0]\n",
    "\n",
    "swapMoveSolution = Solution(data.InputJobs, swapMovePermutation)\n",
    "\n",
    "solver.EvaluationLogic.DefineStartEnd(swapMoveSolution)\n",
    "\n",
    "print(swapMoveSolution)"
   ]
  },
  {
   "cell_type": "markdown",
   "metadata": {},
   "source": [
    "Dieser eine Tausch in der Swap Nachbarschaft hat bereits zu einer Verbesserung geführt. Um weitere Verbesserungen zu finden ist es nötig die Nachbarschaft weitgehender zu erkunden. Es werden nun alle Tausche in der Swap-Nachbarschaft der Ausgangslösung erstellt und bewertet. Dazu wird die neue Klasse `SwapMove` angelegt.\n",
    "\n",
    "Formal: $M(\\text{swap}, s, i, j)$."
   ]
  },
  {
   "cell_type": "code",
   "execution_count": 8,
   "metadata": {},
   "outputs": [],
   "source": [
    "\"\"\" Represents the swap of the element at IndexA with the element at IndexB for a given permutation (= solution). \"\"\"\n",
    "class SwapMove:\n",
    "    def __init__(self, initialPermutation, indexA, indexB):\n",
    "        self.Permutation = list(initialPermutation) # create a copy of the permutation\n",
    "        self.IndexA = indexA\n",
    "        self.IndexB = indexB\n",
    "\n",
    "        self.Permutation[indexA] = initialPermutation[indexB]\n",
    "        self.Permutation[indexB] = initialPermutation[indexA]"
   ]
  },
  {
   "cell_type": "markdown",
   "metadata": {},
   "source": [
    "Nun erstellen wir alle Tausche der Nachbarschaft zur Initiallösung.\n",
    "\n",
    "Formal: $N(\\text{swap}, s) = \\bigcup\\limits_{i, j, i < j} M(\\text{swap}, s, i, j)$"
   ]
  },
  {
   "cell_type": "code",
   "execution_count": 9,
   "metadata": {},
   "outputs": [],
   "source": [
    "swapMoves = []\n",
    "for i in range(len(permutationFCFS)):\n",
    "    for j in range(len(permutationFCFS)):\n",
    "        if i < j: # neighborhood is symmetric\n",
    "            swapMove = SwapMove(permutationFCFS, i, j)\n",
    "            swapMoves.append(swapMove)"
   ]
  },
  {
   "cell_type": "markdown",
   "metadata": {},
   "source": [
    "Aus der Theorie wissen wir, dass die Swap-Nachbarschaft symmetrisch ist und eine Komplexität/Größe von $\\binom{n}{2}$ hat, wobei $n$ die Anzahl an Jobs ist. Bei 11 Jobs ist also zu erwarten, dass die Nachbarschaft $\\binom{11}{2} = 55$ Tausche enthält."
   ]
  },
  {
   "cell_type": "code",
   "execution_count": 10,
   "metadata": {},
   "outputs": [
    {
     "name": "stdout",
     "output_type": "stream",
     "text": [
      "There should exist 55 moves, and this is True.\n"
     ]
    }
   ],
   "source": [
    "import math\n",
    "\n",
    "expectedNumberOfMoves = math.comb(len(data.InputJobs), 2) # binomial coefficient \"n choose k\"\n",
    "actualNumberOfMoves = len(swapMoves)\n",
    "\n",
    "print(f\"There should exist {expectedNumberOfMoves} moves, and this is {actualNumberOfMoves == expectedNumberOfMoves}.\")"
   ]
  },
  {
   "cell_type": "markdown",
   "metadata": {},
   "source": [
    "Die neuen Tausche wurden erstellt und damit gibt es 55 neue potenzielle Lösungskandidaten (= Permutationen). Die neuen Lösungskandidaten müssen nun bewertet werden um festzustellen, ob mindestens einer davon zu einer Verbesserung geführt hat. Die Lösungen speichern wir in einer Liste ab, um später darauf zugreifen zu können und den besten gefundenen Lösungskandidaten zu ermitteln."
   ]
  },
  {
   "cell_type": "code",
   "execution_count": 11,
   "metadata": {},
   "outputs": [
    {
     "name": "stdout",
     "output_type": "stream",
     "text": [
      "Initial Solution:[0, 1, 2, 3, 4, 5, 6, 7, 8, 9, 10]\n",
      "The permutation [1, 0, 2, 3, 4, 5, 6, 7, 8, 9, 10] results in a Makespan of 8935\n",
      "The permutation [2, 1, 0, 3, 4, 5, 6, 7, 8, 9, 10] results in a Makespan of 8661\n",
      "The permutation [3, 1, 2, 0, 4, 5, 6, 7, 8, 9, 10] results in a Makespan of 8584\n",
      "The permutation [4, 1, 2, 3, 0, 5, 6, 7, 8, 9, 10] results in a Makespan of 8804\n",
      "The permutation [5, 1, 2, 3, 4, 0, 6, 7, 8, 9, 10] results in a Makespan of 9229\n",
      "The permutation [6, 1, 2, 3, 4, 5, 0, 7, 8, 9, 10] results in a Makespan of 8636\n",
      "The permutation [7, 1, 2, 3, 4, 5, 6, 0, 8, 9, 10] results in a Makespan of 8473\n",
      "The permutation [8, 1, 2, 3, 4, 5, 6, 7, 0, 9, 10] results in a Makespan of 9129\n",
      "The permutation [9, 1, 2, 3, 4, 5, 6, 7, 8, 0, 10] results in a Makespan of 10236\n",
      "The permutation [10, 1, 2, 3, 4, 5, 6, 7, 8, 9, 0] results in a Makespan of 8879\n",
      "The permutation [0, 2, 1, 3, 4, 5, 6, 7, 8, 9, 10] results in a Makespan of 8894\n",
      "The permutation [0, 3, 2, 1, 4, 5, 6, 7, 8, 9, 10] results in a Makespan of 9361\n",
      "The permutation [0, 4, 2, 3, 1, 5, 6, 7, 8, 9, 10] results in a Makespan of 8812\n",
      "The permutation [0, 5, 2, 3, 4, 1, 6, 7, 8, 9, 10] results in a Makespan of 9381\n",
      "The permutation [0, 6, 2, 3, 4, 5, 1, 7, 8, 9, 10] results in a Makespan of 8692\n",
      "The permutation [0, 7, 2, 3, 4, 5, 6, 1, 8, 9, 10] results in a Makespan of 8397\n",
      "The permutation [0, 8, 2, 3, 4, 5, 6, 7, 1, 9, 10] results in a Makespan of 8933\n",
      "The permutation [0, 9, 2, 3, 4, 5, 6, 7, 8, 1, 10] results in a Makespan of 10145\n",
      "The permutation [0, 10, 2, 3, 4, 5, 6, 7, 8, 9, 1] results in a Makespan of 8458\n",
      "The permutation [0, 1, 3, 2, 4, 5, 6, 7, 8, 9, 10] results in a Makespan of 8907\n",
      "The permutation [0, 1, 4, 3, 2, 5, 6, 7, 8, 9, 10] results in a Makespan of 8767\n",
      "The permutation [0, 1, 5, 3, 4, 2, 6, 7, 8, 9, 10] results in a Makespan of 8996\n",
      "The permutation [0, 1, 6, 3, 4, 5, 2, 7, 8, 9, 10] results in a Makespan of 8989\n",
      "The permutation [0, 1, 7, 3, 4, 5, 6, 2, 8, 9, 10] results in a Makespan of 8823\n",
      "The permutation [0, 1, 8, 3, 4, 5, 6, 7, 2, 9, 10] results in a Makespan of 9693\n",
      "The permutation [0, 1, 9, 3, 4, 5, 6, 7, 8, 2, 10] results in a Makespan of 10268\n",
      "The permutation [0, 1, 10, 3, 4, 5, 6, 7, 8, 9, 2] results in a Makespan of 8916\n",
      "The permutation [0, 1, 2, 4, 3, 5, 6, 7, 8, 9, 10] results in a Makespan of 8880\n",
      "The permutation [0, 1, 2, 5, 4, 3, 6, 7, 8, 9, 10] results in a Makespan of 9001\n",
      "The permutation [0, 1, 2, 6, 4, 5, 3, 7, 8, 9, 10] results in a Makespan of 8572\n",
      "The permutation [0, 1, 2, 7, 4, 5, 6, 3, 8, 9, 10] results in a Makespan of 8381\n",
      "The permutation [0, 1, 2, 8, 4, 5, 6, 7, 3, 9, 10] results in a Makespan of 9549\n",
      "The permutation [0, 1, 2, 9, 4, 5, 6, 7, 8, 3, 10] results in a Makespan of 9583\n",
      "The permutation [0, 1, 2, 10, 4, 5, 6, 7, 8, 9, 3] results in a Makespan of 8547\n",
      "The permutation [0, 1, 2, 3, 5, 4, 6, 7, 8, 9, 10] results in a Makespan of 9298\n",
      "The permutation [0, 1, 2, 3, 6, 5, 4, 7, 8, 9, 10] results in a Makespan of 8982\n",
      "The permutation [0, 1, 2, 3, 7, 5, 6, 4, 8, 9, 10] results in a Makespan of 8846\n",
      "The permutation [0, 1, 2, 3, 8, 5, 6, 7, 4, 9, 10] results in a Makespan of 9802\n",
      "The permutation [0, 1, 2, 3, 9, 5, 6, 7, 8, 4, 10] results in a Makespan of 9867\n",
      "The permutation [0, 1, 2, 3, 10, 5, 6, 7, 8, 9, 4] results in a Makespan of 9021\n",
      "The permutation [0, 1, 2, 3, 4, 6, 5, 7, 8, 9, 10] results in a Makespan of 9041\n",
      "The permutation [0, 1, 2, 3, 4, 7, 6, 5, 8, 9, 10] results in a Makespan of 8799\n",
      "The permutation [0, 1, 2, 3, 4, 8, 6, 7, 5, 9, 10] results in a Makespan of 9310\n",
      "The permutation [0, 1, 2, 3, 4, 9, 6, 7, 8, 5, 10] results in a Makespan of 8799\n",
      "The permutation [0, 1, 2, 3, 4, 10, 6, 7, 8, 9, 5] results in a Makespan of 8525\n",
      "The permutation [0, 1, 2, 3, 4, 5, 7, 6, 8, 9, 10] results in a Makespan of 8856\n",
      "The permutation [0, 1, 2, 3, 4, 5, 8, 7, 6, 9, 10] results in a Makespan of 9238\n",
      "The permutation [0, 1, 2, 3, 4, 5, 9, 7, 8, 6, 10] results in a Makespan of 9194\n",
      "The permutation [0, 1, 2, 3, 4, 5, 10, 7, 8, 9, 6] results in a Makespan of 9034\n",
      "The permutation [0, 1, 2, 3, 4, 5, 6, 8, 7, 9, 10] results in a Makespan of 9207\n",
      "The permutation [0, 1, 2, 3, 4, 5, 6, 9, 8, 7, 10] results in a Makespan of 9207\n",
      "The permutation [0, 1, 2, 3, 4, 5, 6, 10, 8, 9, 7] results in a Makespan of 9520\n",
      "The permutation [0, 1, 2, 3, 4, 5, 6, 7, 9, 8, 10] results in a Makespan of 9298\n",
      "The permutation [0, 1, 2, 3, 4, 5, 6, 7, 10, 9, 8] results in a Makespan of 9298\n",
      "The permutation [0, 1, 2, 3, 4, 5, 6, 7, 8, 10, 9] results in a Makespan of 9298\n"
     ]
    }
   ],
   "source": [
    "swapMoveSolutions = []\n",
    "for move in swapMoves:\n",
    "    swapMoveSolution = Solution(data.InputJobs, move.Permutation)\n",
    "\n",
    "    solver.EvaluationLogic.DefineStartEnd(swapMoveSolution)\n",
    "\n",
    "    swapMoveSolutions.append(swapMoveSolution)\n",
    "\n",
    "print(\"Initial Solution:\" + str(permutationFCFS))\n",
    "for solution in swapMoveSolutions:\n",
    "    print(solution)"
   ]
  },
  {
   "cell_type": "markdown",
   "metadata": {},
   "source": [
    "Wir bestimmen die beste gefundene Lösung und überprüfen, ob diese besser ist als die FCFS-Lösung."
   ]
  },
  {
   "cell_type": "code",
   "execution_count": 12,
   "metadata": {},
   "outputs": [
    {
     "name": "stdout",
     "output_type": "stream",
     "text": [
      "New solution: The permutation [0, 1, 2, 7, 4, 5, 6, 3, 8, 9, 10] results in a Makespan of 8381\n",
      "FCFS solution: The permutation [0, 1, 2, 3, 4, 5, 6, 7, 8, 9, 10] results in a Makespan of 9298\n",
      "\n",
      "The new solution has a makespan that is lower than that of the FCFS solution: True\n"
     ]
    }
   ],
   "source": [
    "swapMoveSolutions.sort(key = lambda solution: solution.Makespan) # sort candidate solutions according to makespan\n",
    "\n",
    "bestCurrentSolution = swapMoveSolutions[0]\n",
    "\n",
    "print(f\"New solution: {bestCurrentSolution}\")\n",
    "print(f\"FCFS solution: {solutionFCFS}\\n\")\n",
    "\n",
    "print(f\"The new solution has a makespan that is lower than that of the FCFS solution: {bestCurrentSolution.Makespan < solutionFCFS.Makespan}\")"
   ]
  },
  {
   "cell_type": "markdown",
   "metadata": {},
   "source": [
    "#### Kurze Programmieraufgabe\n",
    "\n",
    "Es wurde eine bessere Lösung gefunden als die bisherige! Welcher Tausch wurde ausgeführt? Schreiben Sie eine Funktion die das $i$ und $j$ des ausgeführten Tausches $M(\\text{swap}, s, i, j)$ ermittelt."
   ]
  },
  {
   "cell_type": "code",
   "execution_count": 13,
   "metadata": {},
   "outputs": [
    {
     "name": "stdout",
     "output_type": "stream",
     "text": [
      "3\n",
      "7\n"
     ]
    }
   ],
   "source": [
    "for index in range(len(permutationFCFS)):\n",
    "    if permutationFCFS[index] != bestCurrentSolution.Permutation[index]:\n",
    "        print(index)"
   ]
  },
  {
   "cell_type": "markdown",
   "metadata": {},
   "source": [
    "Diese Logik gießen wir nun in eine übergeordnete `SwapNeighborhood` Klasse, welche eine Nachbarschaft $N(\\text{swap}, s)$ repräsentiert. Wie würden Sie vorgehen? Was sind die einzelnen Bestandteile der Klasse `SwapNeighborhood`? Welche logischen Schritte müssen ausgeführt werden?"
   ]
  },
  {
   "cell_type": "code",
   "execution_count": 14,
   "metadata": {},
   "outputs": [],
   "source": [
    "\"\"\" Contains all $n choose 2$ swap moves for a given permutation (= solution). \"\"\"\n",
    "class SwapNeighborhood:\n",
    "    def __init__(self, inputData, initialPermutation, evaluationLogic, solutionPool):\n",
    "        self.InputData = inputData\n",
    "        self.Permutation = initialPermutation\n",
    "        self.EvaluationLogic = evaluationLogic\n",
    "        self.SolutionPool = solutionPool\n",
    "\n",
    "        self.Moves = []\n",
    "        self.SwapMoveSolutions = []\n",
    "\n",
    "    \"\"\" Generate all $n choose 2$ moves. \"\"\"\n",
    "    def DiscoverMoves(self):\n",
    "        for i in range(len(self.Permutation)):\n",
    "            for j in range(len(self.Permutation)):\n",
    "                if i < j:\n",
    "                    swapMove = SwapMove(self.Permutation, i, j)\n",
    "                    self.Moves.append(swapMove)\n",
    "\n",
    "    \"\"\" Evaluate all moves. \"\"\"\n",
    "    def EvaluateMovesBestImprovement(self):\n",
    "        for move in self.Moves:\n",
    "            swapMoveSolution = Solution(self.InputData.InputJobs, move.Permutation)\n",
    "\n",
    "            self.EvaluationLogic.DefineStartEnd(swapMoveSolution)\n",
    "\n",
    "            self.SwapMoveSolutions.append(swapMoveSolution)\n",
    "\n",
    "    \"\"\" Evaluate all moves until the first one is found that improves the best solution found so far. \"\"\"\n",
    "    def EvaluateMovesFirstImprovement(self):\n",
    "        bestObjective = self.SolutionPool.GetLowestMakespanSolution().Makespan\n",
    "\n",
    "        for move in self.Moves:\n",
    "            swapMoveSolution = Solution(self.InputData.InputJobs, move.Permutation)\n",
    "\n",
    "            self.EvaluationLogic.DefineStartEnd(swapMoveSolution)\n",
    "            self.SwapMoveSolutions.append(swapMoveSolution)\n",
    "\n",
    "            if swapMoveSolution.Makespan < bestObjective:\n",
    "                # abort neighborhood evaluation because an improvement has been found\n",
    "                return\n",
    "\n",
    "    def EvaluateMoves(self, evaluationStrategy):\n",
    "        if evaluationStrategy == 'BestImprovement':\n",
    "            self.EvaluateMovesBestImprovement()\n",
    "        elif evaluationStrategy == 'FirstImprovement':\n",
    "            self.EvaluateMovesFirstImprovement()\n",
    "        else:\n",
    "            print(f'Evaluation strategy {evaluationStrategy} not implemented.')\n",
    "\n",
    "    def MakeBestMove(self):\n",
    "        self.SwapMoveSolutions.sort(key = lambda solution: solution.Makespan) # sort solutions according to makespan\n",
    "\n",
    "        bestNeighborhoodSolution = self.SwapMoveSolutions[0]\n",
    "\n",
    "        return bestNeighborhoodSolution\n",
    "\n",
    "    def Update(self, permutation):\n",
    "        self.Permutation = permutation\n",
    "\n",
    "        self.Moves.clear()\n",
    "        self.SwapMoveSolutions.clear()\n",
    "\n",
    "    def LocalSearch(self, neighborhoodEvaluationStrategy, solution):\n",
    "        hasSolutionImproved = True\n",
    "\n",
    "        while hasSolutionImproved:\n",
    "            self.Update(solution.Permutation)\n",
    "            self.DiscoverMoves()\n",
    "            self.EvaluateMoves(neighborhoodEvaluationStrategy)\n",
    "\n",
    "            bestNeighborhoodSolution = self.MakeBestMove()\n",
    "\n",
    "            if bestNeighborhoodSolution.Makespan < solution.Makespan:\n",
    "                print(\"New best solution has been found!\")\n",
    "                print(bestNeighborhoodSolution)\n",
    "\n",
    "                self.SolutionPool.AddSolution(bestNeighborhoodSolution)\n",
    "\n",
    "                solution.Permutation = bestNeighborhoodSolution.Permutation\n",
    "                solution.Makespan = bestNeighborhoodSolution.Makespan\n",
    "            else:\n",
    "                print(f\"Reached local optimum of {self.Type} neighborhood. Stop local search.\")\n",
    "                hasSolutionImproved = False       \n"
   ]
  },
  {
   "cell_type": "code",
   "execution_count": 21,
   "metadata": {},
   "outputs": [],
   "source": [
    "\"\"\"这个类包括了所有从n个订单中选两个的可能排列\"\"\"\n",
    "class SwapNeighborhood:\n",
    "    def __init__(self, inputData, initialPermutation, evaluationLogic, solutionPool):\n",
    "        self.InputData = inputData\n",
    "        self.Permutation = initialPermutation\n",
    "        self.EvaluationLogic = evaluationLogic\n",
    "        self.SolutionPool = solutionPool  ## 跟下面的SwapMoveSolutions区分开！！！！！！\n",
    "\n",
    "        self.Moves = []\n",
    "        self.SwapMoveSolutions = []\n",
    "\n",
    "    \"\"\"生成所有可能的交换排列\"\"\"\n",
    "    def DiscoverMoves(self):\n",
    "        for i in range(len(self.Permutation)):\n",
    "            for j in range(len(self.Permutation)):\n",
    "                if i < j:\n",
    "                    swapMove = SwapMove(self.Permutation, i, j)\n",
    "                    self.Moves.append(swapMove)  # Self.Moves列表，里面装的是SwapMove对象\n",
    "\n",
    "    \"\"\"把生成的所有排列self.Moves中的每次交换，都进行实例化后评估。这里注意SwapMove类的属性。找出总时长最短\"\"\"\n",
    "    def EvaluateMovesBestImprovement(self):\n",
    "        for move in self.Moves:\n",
    "            swapMoveSolution = Solution(self.InputData.InputJobs, move.Permutation)\n",
    "            self.EvaluationLogic.DefineStartEnd(swapMoveSolution)\n",
    "\n",
    "            self.SwapMoveSolutions.append(swapMoveSolution)\n",
    "\n",
    "\n",
    "    \"\"\"另一种评估方式：只评估到第一个优化现有方案的交换排列\"\"\"\n",
    "    def EvaluateMovesFirstImprovement(self):\n",
    "        bestObjective = self.SolutionPool.GetLowestMakespanSolution().Makespan\n",
    "\n",
    "        for move in self.Moves:\n",
    "            swapMoveSolution = Solution(self.InputData.InputJobs, move.Permutation)\n",
    "\n",
    "            self.EvaluationLogic.DefineStartEnd(swapMoveSolution)\n",
    "            self.SwapMoveSolutions.append(swapMoveSolution)\n",
    "\n",
    "            if swapMoveSolution.Makespan < bestObjective:\n",
    "                # 终止邻域评估，因为已经找到了第一个优化的结果：比pool中的最优结果还要好\n",
    "                return\n",
    "\n",
    "    \"\"\"定义了两个评估函数，现在还需要定义一个接口，利用这个接口去调用两个评估函数\"\"\"\n",
    "    def EvaluateMoves(self, evaluationStrategy):\n",
    "        if evaluationStrategy == 'BestImprovement':\n",
    "            self.EvaluateMovesBestImprovement()\n",
    "        elif evaluationStrategy == 'FirstImprovement':\n",
    "            self.EvaluateMovesFirstImprovement()\n",
    "        else:\n",
    "            print(f'Evaluation strategy {evaluationStrategy} not implemented! ')\n",
    "            # 这个函数不涉及赋值操作，也不用返回。每次调用这个函数，要么调用其他函数，要么打印提示。因此用print就行不用return\n",
    "\n",
    "\n",
    "    \"\"\"两种评估方案各自产生的结果都被存放在self.SwapMoveSolutions中。现在要通过MakeBestMove函数来输出最优解\"\"\"\n",
    "    def MakeBestMove(self):\n",
    "        self.SwapMoveSolutions.sort(key = lambda solution: solution.Makespan) # 这里的solution是可以直接调用Makespan的，因为在两个评估方案中都是用了EvaluationLogic\n",
    "        bestNeighborhoodSolution = self.SwapMoveSolutions[0]\n",
    "\n",
    "        return bestNeighborhoodSolution\n",
    "\n",
    "    \"\"\"使用clear函数清空列表等容器。猜想：如果我们更换另一种排列方式，那么之前保存的moves和SwapMoveSolutions就没用了\"\"\"\n",
    "    def Update(self, permutation):\n",
    "\n",
    "            self.Permutation = permutation # 修改类的属性，修改后前面的函数执行都会改变，因此要清空两个列表属性\n",
    "\n",
    "            self.Moves.clear()\n",
    "            self.SwapMoveSolutions.clear()\n",
    "\n",
    "\n",
    "    \"\"\"进行本地搜索locaksearch，用手头现有的解决方案去跟经过交换的方案进行比较，默认交换后会有更好的方案（True）\"\"\"\n",
    "    def LocalSearch(self, neighborhoodEvaluationStrategy, solution):\n",
    "        hasSolutionImproved = True\n",
    "\n",
    "        while hasSolutionImproved:\n",
    "            self.Update(solution.Permutation)  # 清空两个列表\n",
    "            self.DiscoverMoves() # 填充Moves列表\n",
    "            self.EvaluateMoves(neighborhoodEvaluationStrategy) # 填充SwapMoveSolutions列表\n",
    "\n",
    "            bestNeighborhoodSolution = self.MakeBestMove()\n",
    "\n",
    "            if bestNeighborhoodSolution.Makespan < solution.Makespan:\n",
    "                print('New best solution has been found!!!')\n",
    "                print(bestNeighborhoodSolution)  # 对Solution类的对象执行print，会执行__str__\n",
    "\n",
    "                self.SolutionPool.AddSolution(bestNeighborhoodSolution)\n",
    "\n",
    "                solution.Permutation = bestNeighborhoodSolution.Permutation\n",
    "                solution.Makespan = bestNeighborhoodSolution.Makespan\n",
    "\n",
    "            else:\n",
    "                print(f'Reached local optimum of {self.Type} neighborhood. Stop local search. ')\n",
    "                hasSolutionImproved = False\n"
   ]
  },
  {
   "cell_type": "markdown",
   "metadata": {},
   "source": [
    "---\n",
    "## 4. Ablauflogik der Verbesserungsverfahren\n",
    "---\n",
    "\n",
    "Wir lagern die Logik in das Modul `Neighborhood.py` aus und betten die Nachbarschaften in eine Klasse `ImprovementAlgorithm` ein, welche die Logik des Verbesserungsverfahren steuert."
   ]
  },
  {
   "cell_type": "code",
   "execution_count": 15,
   "metadata": {},
   "outputs": [],
   "source": [
    "\"\"\" Base class for several types of improvement algorithms. \"\"\" \n",
    "class ImprovementAlgorithm:\n",
    "    def __init__(self, inputData, neighborhoodEvaluationStrategy = 'BestImprovement', neighborhoodTypes = ['Swap']):\n",
    "        self.InputData = inputData\n",
    "\n",
    "        self.EvaluationLogic = None\n",
    "        self.SolutionPool = None\n",
    "        self.RNG = None\n",
    "\n",
    "        self.NeighborhoodEvaluationStrategy = neighborhoodEvaluationStrategy\n",
    "        self.NeighborhoodTypes = neighborhoodTypes\n",
    "        self.Neighborhoods = {}\n",
    "\n",
    "    def Initialize(self, evaluationLogic, solutionPool, rng = None):\n",
    "        self.EvaluationLogic = evaluationLogic\n",
    "        self.SolutionPool = solutionPool\n",
    "        self.RNG = rng\n",
    "\n",
    "    def InitializeNeighborhoods(self, solution):\n",
    "        self.Neighborhoods['Swap'] = SwapNeighborhood(self.InputData, solution.Permutation, self.EvaluationLogic, self.SolutionPool)\n",
    "        # add further neighborhoods"
   ]
  },
  {
   "cell_type": "code",
   "execution_count": null,
   "metadata": {},
   "outputs": [],
   "source": [
    "\"\"\"这是多种不同优化算法的基本类，特定的优化算法可以继承这个基本类\"\"\"\n",
    "class ImprovementAlgorithmus:\n",
    "    def __init__(self, inputData, neighborhoodEvaluationStrategy = 'BestImprovement', neighborhoodTypes = ['Swap']):\n",
    "        self.InputData = inputData  # neighborhoodTypes实际上有多种，也可以是Insertion，TwoEdgeExchange。。。\n",
    "        self.EvaluationLogic = None\n",
    "        self.SolutionPool = None\n",
    "        self.RNG = None # 表示随机数\n",
    "\n",
    "        self.NeighborhoodEvaluationStrategy = neighborhoodEvaluationStrategy\n",
    "        self.NeighborhoodTypes = neighborhoodTypes\n",
    "        self.Neighborhoods = {}\n",
    "\n",
    "    def Initialize(self, evaluationLogic, solutionPool, rng = None):\n",
    "        self.EvaluationLogic = evaluationLogic\n",
    "        self.SolutionPool = solutionPool\n",
    "        self.RNG = rng\n",
    "\n",
    "    def InitializeNeighborhoods(self, solution): # 字典Neighborhood中，可能有两个键Insertion和Swap，添加新数据时，需要用到相应的构造器\n",
    "        self.Neighborhoods['Swap'] = SwapNeighborhood(self.InputData, solution.Permutation, self.EvaluationLogic, self.SolutionPool)\n",
    "        # add further neighborhoods 详见class ImprovementAlgorithm文件"
   ]
  },
  {
   "cell_type": "markdown",
   "metadata": {},
   "source": [
    "Die Klasse `ImprovementAlgorithm` enthält nun alle grundlegenden Komponenten für nachbarschaftsbasierte Verbesserungsverfahren. Diese können in verschiedenen Algorithmen verwendet werden. Hier erstellen wir eine Klasse `IterativeImprovement`, bei der die Lösung iterativ durch eine (sequentielle) lokale Suche verbessert wird."
   ]
  },
  {
   "cell_type": "code",
   "execution_count": 16,
   "metadata": {},
   "outputs": [],
   "source": [
    "\"\"\" Iterative improvement algorithm through sequential variable neighborhood descent. \"\"\"\n",
    "class IterativeImprovement(ImprovementAlgorithm):\n",
    "    def __init__(self, inputData, neighborhoodEvaluationStrategy = 'BestImprovement', neighborhoodTypes = ['Swap']):\n",
    "        super().__init__(inputData, neighborhoodEvaluationStrategy, neighborhoodTypes)\n",
    "\n",
    "    def Run(self, startSolution):\n",
    "        self.InitializeNeighborhoods(solution)    \n",
    "\n",
    "        # According to \"Hansen et al. (2017): Variable neighorhood search\", this is equivalent to the \n",
    "        # sequential variable neighborhood descent with a pipe neighborhood change step.\n",
    "        for neighborhoodType in self.NeighborhoodTypes:\n",
    "            neighborhood = self.Neighborhoods[neighborhoodType]\n",
    "\n",
    "            neighborhood.LocalSearch(self.NeighborhoodEvaluationStrategy, solution)\n",
    "        \n",
    "        return solution"
   ]
  },
  {
   "cell_type": "code",
   "execution_count": null,
   "metadata": {},
   "outputs": [],
   "source": []
  },
  {
   "cell_type": "markdown",
   "metadata": {},
   "source": [
    "Die Klasse `Solver` wird um die Methoden `ImprovementPhase()` und `RunLocalSearch()` erweitert."
   ]
  },
  {
   "cell_type": "code",
   "execution_count": 17,
   "metadata": {},
   "outputs": [],
   "source": [
    "class Solver:\n",
    "    def __init__(self, inputData, seed):\n",
    "        # same as before\n",
    "        pass\n",
    "\n",
    "    def ConstructionPhase(self, constructiveSolutionMethod):\n",
    "        # same as before\n",
    "        pass\n",
    "\n",
    "\n",
    "    def ImprovementPhase(self, startSolution, algorithm):\n",
    "        algorithm.Initialize(self.EvaluationLogic, self.SolutionPool, self.RNG)\n",
    "        bestSolution = algorithm.Run(startSolution)\n",
    "\n",
    "        print(\"Best found Solution.\")\n",
    "        print(bestSolution)\n",
    "\n",
    "    def RunLocalSearch(self, constructiveSolutionMethod, algorithm):\n",
    "        startSolution = self.ConstructionPhase(constructiveSolutionMethod)\n",
    "\n",
    "        self.ImprovementPhase(startSolution, algorithm)"
   ]
  },
  {
   "cell_type": "code",
   "execution_count": 22,
   "metadata": {},
   "outputs": [
    {
     "name": "stdout",
     "output_type": "stream",
     "text": [
      "Generating an initial solution according to FCFS.\n",
      "Constructive solution found.\n",
      "The permutation [0, 1, 2, 3, 4, 5, 6, 7, 8, 9, 10] results in a Makespan of 9298\n",
      "The permutation [0, 1, 2, 7, 4, 5, 6, 3, 8, 9, 10] results in a Makespan of 8381\n",
      "The permutation [7, 1, 2, 0, 4, 5, 6, 3, 8, 9, 10] results in a Makespan of 7954\n",
      "The permutation [7, 10, 2, 0, 4, 5, 6, 3, 8, 9, 1] results in a Makespan of 7472\n",
      "The permutation [7, 2, 10, 0, 4, 5, 6, 3, 8, 9, 1] results in a Makespan of 7184\n",
      "The permutation [7, 2, 10, 0, 4, 1, 6, 3, 8, 9, 5] results in a Makespan of 7175\n",
      "The permutation [7, 2, 0, 10, 4, 1, 6, 3, 8, 9, 5] results in a Makespan of 7038\n",
      "Reached local optimum of Swap neighborhood. Stop local search.\n",
      "Best found Solution.\n",
      "The permutation [7, 2, 0, 10, 4, 1, 6, 3, 8, 9, 5] results in a Makespan of 7038\n"
     ]
    }
   ],
   "source": [
    "from Solver import *\n",
    "from ImprovementAlgorithm import *\n",
    "\n",
    "data = InputData(\"InputFlowshopSIST.JSON\")\n",
    "\n",
    "solver = Solver(data, 2048)\n",
    "\n",
    "improvementAlgorithm = IterativeImprovement(data)\n",
    "\n",
    "solver.RunLocalSearch('FCFS', improvementAlgorithm)"
   ]
  },
  {
   "cell_type": "markdown",
   "metadata": {},
   "source": [
    "#### Frage\n",
    "Bisher haben wir zwei Nachbarschaftbewertungsstrategien kennengelernt:\n",
    "- Best Improvement (extensive Suche): alle Tausche einer Nachbarschaft werden ausgewertet. Der Tausch mit der größten Verbesserung wird ausgeführt.\n",
    "- First Improvement (selektive Suche): die Tausche einer Nachbarschaft werden solange ausgewertet, bis eine Verbesserung gefunden wird. Sobald eine Verbesserung gefunden wurde, wird die Auswertung abgebrochen und der gefundene Tausch sofort durchgeführt. Bessere Tausche können somit \"übersehen\" werden.\n",
    "\n",
    "Was denken Sie, mit welcher Bewertungsstrategie werden bessere Ergebnisse erzielt? Was sind Vor- und Nachteile der ein oder anderen Bewertungsstrategie? Begründen Sie ihre Antwort."
   ]
  },
  {
   "cell_type": "code",
   "execution_count": 23,
   "metadata": {},
   "outputs": [
    {
     "name": "stdout",
     "output_type": "stream",
     "text": [
      "Generating an initial solution according to FCFS.\n",
      "Constructive solution found.\n",
      "The permutation [0, 1, 2, 3, 4, 5, 6, 7, 8, 9, 10] results in a Makespan of 9298\n",
      "The permutation [0, 1, 2, 7, 4, 5, 6, 3, 8, 9, 10] results in a Makespan of 8381\n",
      "The permutation [7, 1, 2, 0, 4, 5, 6, 3, 8, 9, 10] results in a Makespan of 7954\n",
      "The permutation [7, 10, 2, 0, 4, 5, 6, 3, 8, 9, 1] results in a Makespan of 7472\n",
      "The permutation [7, 2, 10, 0, 4, 5, 6, 3, 8, 9, 1] results in a Makespan of 7184\n",
      "The permutation [7, 2, 10, 0, 4, 1, 6, 3, 8, 9, 5] results in a Makespan of 7175\n",
      "The permutation [7, 2, 0, 10, 4, 1, 6, 3, 8, 9, 5] results in a Makespan of 7038\n",
      "Reached local optimum of Swap neighborhood. Stop local search.\n",
      "Best found Solution.\n",
      "The permutation [7, 2, 0, 10, 4, 1, 6, 3, 8, 9, 5] results in a Makespan of 7038\n",
      "Generating an initial solution according to FCFS.\n",
      "Constructive solution found.\n",
      "The permutation [0, 1, 2, 3, 4, 5, 6, 7, 8, 9, 10] results in a Makespan of 9298\n",
      "The permutation [1, 0, 2, 3, 4, 5, 6, 7, 8, 9, 10] results in a Makespan of 8935\n",
      "The permutation [2, 0, 1, 3, 4, 5, 6, 7, 8, 9, 10] results in a Makespan of 8650\n",
      "The permutation [7, 0, 1, 3, 4, 5, 6, 2, 8, 9, 10] results in a Makespan of 8623\n",
      "The permutation [1, 0, 7, 3, 4, 5, 6, 2, 8, 9, 10] results in a Makespan of 8590\n",
      "The permutation [3, 0, 7, 1, 4, 5, 6, 2, 8, 9, 10] results in a Makespan of 8560\n",
      "The permutation [4, 0, 7, 1, 3, 5, 6, 2, 8, 9, 10] results in a Makespan of 8422\n",
      "The permutation [6, 0, 7, 1, 3, 5, 4, 2, 8, 9, 10] results in a Makespan of 8344\n",
      "The permutation [7, 0, 6, 1, 3, 5, 4, 2, 8, 9, 10] results in a Makespan of 8305\n",
      "The permutation [7, 1, 6, 0, 3, 5, 4, 2, 8, 9, 10] results in a Makespan of 8293\n",
      "The permutation [7, 2, 6, 0, 3, 5, 4, 1, 8, 9, 10] results in a Makespan of 7954\n",
      "The permutation [7, 2, 10, 0, 3, 5, 4, 1, 8, 9, 6] results in a Makespan of 7519\n",
      "The permutation [7, 2, 10, 6, 3, 5, 4, 1, 8, 9, 0] results in a Makespan of 7175\n",
      "Reached local optimum of Swap neighborhood. Stop local search.\n",
      "Best found Solution.\n",
      "The permutation [7, 2, 10, 6, 3, 5, 4, 1, 8, 9, 0] results in a Makespan of 7175\n",
      "Best improvement makespan: 7038\n",
      "First improvement makespan: 7175\n",
      "The best improvement strategy achieves a lower makespan: True\n"
     ]
    }
   ],
   "source": [
    "from Solver import *\n",
    "\n",
    "data = InputData(\"InputFlowshopSIST.json\")\n",
    "\n",
    "constructiveSolutionMethod = 'FCFS'\n",
    "\n",
    "solverBestImprovement = Solver(data, 2048)\n",
    "bestImprovementAlgorithm = IterativeImprovement(data, 'BestImprovement')\n",
    "solverBestImprovement.RunLocalSearch(constructiveSolutionMethod, bestImprovementAlgorithm)\n",
    "\n",
    "solverFirstImprovement = Solver(data, 2048)\n",
    "bestImprovementAlgorithm = IterativeImprovement(data, 'FirstImprovement')\n",
    "solverFirstImprovement.RunLocalSearch(constructiveSolutionMethod, bestImprovementAlgorithm)\n",
    "\n",
    "localOptimumBestImprovement = solverBestImprovement.SolutionPool.GetLowestMakespanSolution()\n",
    "localOptimumFirstImprovement = solverFirstImprovement.SolutionPool.GetLowestMakespanSolution()\n",
    "\n",
    "print(f\"Best improvement makespan: {localOptimumBestImprovement.Makespan}\")\n",
    "print(f\"First improvement makespan: {localOptimumFirstImprovement.Makespan}\")\n",
    "\n",
    "isBestImprovementMakespanLower = localOptimumBestImprovement.Makespan < localOptimumFirstImprovement.Makespan\n",
    "\n",
    "print(f\"The best improvement strategy achieves a lower makespan: {isBestImprovementMakespanLower}\")"
   ]
  },
  {
   "cell_type": "markdown",
   "metadata": {},
   "source": [
    "---\n",
    "## 5. Wiederholung: gemeinsames Debuggen des Solvers\n",
    "---"
   ]
  },
  {
   "cell_type": "markdown",
   "metadata": {},
   "source": [
    "---\n",
    "## 6. Anwendung: selbständiges Programmieren\n",
    "---\n",
    "\n",
    "### Eine neue Nachbarschaft\n",
    "- Überlegen Sie vorab welche Größe die Insertion Nachbarschaft hat\n",
    "- Erweitern Sie den Solver um eine Insertion-Nachbarschaft\n",
    "- Überprüfen Sie, ob Ihre implemtierte Nachbarschaft auch die erwartete Größe aufweist"
   ]
  },
  {
   "cell_type": "code",
   "execution_count": 24,
   "metadata": {},
   "outputs": [
    {
     "name": "stdout",
     "output_type": "stream",
     "text": [
      "Generating an initial solution according to LPT.\n",
      "Constructive solution found.\n",
      "The permutation [9, 5, 1, 6, 10, 4, 3, 0, 8, 7, 2] results in a Makespan of 10649\n",
      "The permutation [7, 5, 1, 6, 10, 4, 3, 0, 8, 9, 2] results in a Makespan of 9241\n",
      "The permutation [7, 2, 1, 6, 10, 4, 3, 0, 8, 9, 5] results in a Makespan of 8171\n",
      "The permutation [7, 2, 10, 6, 1, 4, 3, 0, 8, 9, 5] results in a Makespan of 7175\n",
      "The permutation [7, 4, 10, 6, 1, 2, 3, 0, 8, 9, 5] results in a Makespan of 7057\n",
      "Reached local optimum of Swap neighborhood. Stop local search.\n",
      "The permutation [7, 2, 4, 10, 6, 1, 3, 0, 8, 9, 5] results in a Makespan of 7038\n",
      "Reached local optimum of Insertion neighborhood. Stop local search.\n",
      "Best found Solution.\n",
      "The permutation [7, 2, 4, 10, 6, 1, 3, 0, 8, 9, 5] results in a Makespan of 7038\n"
     ]
    }
   ],
   "source": [
    "from Solver import *\n",
    "\n",
    "data = InputData(\"InputFlowshopSIST.json\")\n",
    "\n",
    "improvementAlgorithm = IterativeImprovement(data, 'BestImprovement', ['Swap', 'Insertion'])\n",
    "\n",
    "solver = Solver(data, 1024)\n",
    "\n",
    "solver.RunLocalSearch('LPT', improvementAlgorithm)"
   ]
  },
  {
   "cell_type": "markdown",
   "metadata": {},
   "source": [
    "### Zusatz \n",
    "Nun existieren mehrere Nachbarschaften. Überlegen Sie wie man einen sinnvollen Wechsel zwischen den Nachbarschaften steuern kann. Momentan ist in der Intesivierungsphase ein Sequential Variable Neighborhood Descent mit einem Pipe Neighborhood Change Step implementiert. Vollziehen Sie die Richtigkeit dieser Aussage nach.\n",
    "\n",
    "- Implementieren Sie einen der anderen vorgestellten Neighborhood Change Steps: \"Basic\"\n",
    "- Welche Vor- und Nachteile erwarten Sie dadurch?\n",
    "- Welche Schwierigkeit erwarten Sie bei der Umsetzung eines \"Cyclic\" Neighborhood Change Steps?"
   ]
  }
 ],
 "metadata": {
  "interpreter": {
   "hash": "e42634819b8c191a5d07eaf23810ff32516dd8d3875f28ec3e488928fbd3c187"
  },
  "kernelspec": {
   "display_name": "Python 3.8.8 ('base')",
   "language": "python",
   "name": "python3"
  },
  "language_info": {
   "codemirror_mode": {
    "name": "ipython",
    "version": 3
   },
   "file_extension": ".py",
   "mimetype": "text/x-python",
   "name": "python",
   "nbconvert_exporter": "python",
   "pygments_lexer": "ipython3",
   "version": "3.8.8"
  },
  "orig_nbformat": 2
 },
 "nbformat": 4,
 "nbformat_minor": 2
}
