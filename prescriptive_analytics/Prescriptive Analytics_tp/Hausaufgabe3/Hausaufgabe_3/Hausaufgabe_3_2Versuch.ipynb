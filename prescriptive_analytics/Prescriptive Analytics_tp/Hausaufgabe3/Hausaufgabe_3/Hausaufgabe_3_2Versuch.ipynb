{
 "cells": [
  {
   "cell_type": "markdown",
   "metadata": {},
   "source": [
    "---\n",
    "## Hausaufgabe 3 - Verbesserungsverfahren\n",
    "---\n",
    "\n",
    "### Achtung: Bitte überprüfen Sie vor Abgabe der Hausaufgabe, ob das Notebook richtig gespeichert wurde. \n",
    "Die Speicherung von Notebooks funktioniert die Menüleiste oder über die Shortcuts Strg + S (Win) und CMD + S (MAC)."
   ]
  },
  {
   "cell_type": "markdown",
   "metadata": {},
   "source": [
    "---\n",
    "## Bewertung\n",
    "---\n",
    "\n",
    "#### Erreichbare Punkte: 25\n",
    "---\n",
    "#### Erreichte Punkte:   -\n",
    "---\n",
    "---\n",
    "Aufgabe 1:<br>\n",
    "<br>\n",
    "Aufgabe 2:<br>\n",
    "<br>\n",
    "Aufgabe 3:<br>"
   ]
  },
  {
   "cell_type": "markdown",
   "metadata": {},
   "source": [
    "#### Aufgabe 1 - Theorie I: TwoEdgeExchange Move (2 Punkte)\n",
    "\n",
    "Der 2-opt Algorithmus ist ein sehr bekanntes Verbesserungverfahren aus der Tourenplanung. Im Kern werden jeweils zwei **nicht-benachbarte** Kanten entfernt und die so entstandenen Teilsequenzen neu verbunden. Ein Beispiel ist in dem folgenden Bild dargestellt:\n",
    "\n",
    "<img src=\"2-opt.png\" alt=\"Drawing\" style=\"width: 300px;\"/>\n",
    "\n",
    "Dieses Konzept kann auch auf das Scheduling angewandt werden. Dabei werden in einer Auftragsreihenfolge nicht nur die Aufträge als einzelne Elemente betrachtet, sondern auch deren Verbindungen. Wenn Auftrag $i$ direkt auf Auftrag $j$ folgt, so sind diese beiden Aufträge über eine Verbindungen, bzw. \"Kante\", $(i,j)$ verbunden. Somit lässt sich der sog. TwoEdgeExchange Move wie folgt definieren:\n",
    "\n",
    "Ein TwoEdgeExchange Move $M(\\text{2-EdgeExchange}, s, i, j)$ beschreibt den Austausch der Verbindungen zweier Auftragspaare $(i,i+1)$ und $(j,j+1)$. Dabei dürfen die Verbindungen **nicht-benachbart** sein und es werden **nur** die Verbindungen $(i,i+1)$ und $(j,j+1)$ entfernt und die Aufträge neu zu $(i,j)$ und $(i+1,j+1)$ zusammengefügt. \n",
    "\n",
    "Es ist folgende Auftragsreihenfolge gegeben `s=[0,1,2,3,4,5,6]`. Führen Sie (händisch) folgenden TwoEdgeExchange-Move durch $M(\\text{2-EdgeExchange}, s, 1, 4)$.\n",
    "\n",
    "**Hinweis:** Das erste Element steht an der Position 0."
   ]
  },
  {
   "cell_type": "markdown",
   "metadata": {},
   "source": [
    "$M(\\text{2-EdgeExchange}, s, 1, 4) = ??$ \n",
    "[0, 1, 4, 3, 2, 5, 6]"
   ]
  },
  {
   "cell_type": "markdown",
   "metadata": {},
   "source": [
    "#### Aufgabe 2 - Theorie II: TwoEdgeExchange Move (5 Punkte)\n",
    "\n",
    "**a)** In der Abbildung in Aufgabe 1 werden die Verbindungen zwischen den Auftragspaaren (0,1) und (2,3) ausgewählt. Nach den Autoren Kirlik und Oguz lässt sich jedoch der TwoEdgeExchange Move weiter einschränken, indem sich die Positionen $i$ und $j$ um mindestens 3 Position $\\left(|j-i|\\geq 3\\right)$ unterscheiden müssen. Was könnte der Grund für diese weitere Einschränkung sein. \n",
    "\n",
    "**Hinweis:** Beachten Sie dabei die bereits umgesetzten Nachbarschaften.\n",
    "\n",
    "**Literaturverweis** (in OPAL vorhanden): Kirlik, G., & Oguz, C. (2012). A variable neighborhood search for minimizing total weighted tardiness with sequence dependent setup times on a single machine. Computers & Operations Research, 39(7), 1506-1520."
   ]
  },
  {
   "cell_type": "markdown",
   "metadata": {},
   "source": [
    "Dadurch wird zum einen die Laufzeit des Rechners reduziert, um die Effizienz der Erzielung einer lokal optimalen Lösung zu verbessern. Andererseits teilt der Ansatz der Autoren die ursprünglichen (n-1) Kanten in zwei Gruppen auf, wobei die erste Gruppe die ersten drei Kanten und die andere Gruppe die hinter liegenden (n-1-3) Kanten umfasst. Dadurch wird sichergestellt, dass beide Kanten in der Solution sowohl vorwärts als auch rückwärts angeordnet sind. Dies reicht aus, um die lokal optimale Lösung zu finden, da wir bei der Suche nach der lokal optimalen Lösung das Gleichgewicht zwischen der Rechenzeit und der Perfektion des Ergebnisses berücksichtigen müssen.\n"
   ]
  },
  {
   "cell_type": "markdown",
   "metadata": {},
   "source": [
    "**b)** Bestimmen Sie die Komplexität der TwoEdgeExchange-Move Nachbarschaft. Nehmen Sie an, dass eine Lösung durch eine Permutation der Länge $n$ repräsentiert ist und $|j-i|\\geq 3$ gilt.\n",
    "\n",
    "**Hinweise:** Geben Sie die Komplexität in Abhängigkeit von $n$ an.\n",
    "\n",
    "**Tipp:**\n",
    "<details>\n",
    "\n",
    "Wie viele Kanten sind in einer Sequenz enthalten? Wie viele Kanten können getauscht werden, dass eine neue Lösung erzielt wird? Wieviele Dopplungen/Symmetrien gibt es?\n",
    "</details>"
   ]
  },
  {
   "cell_type": "markdown",
   "metadata": {},
   "source": [
    "$ |N(\\text{2-EdgeExchange}, s)| = ??$\n",
    "1/2 * (n-4)*(n-3)"
   ]
  },
  {
   "cell_type": "markdown",
   "metadata": {},
   "source": [
    "#### Aufgabe 3 - Implementierung: TwoEdgeExchange-Move (18 Punkte)\n",
    "\n",
    "Erweitern Sie den in der Lehrveranstaltung erstellten Solver um eine TwoEdgeExchange-Move Nachbarschaft. Erstellen Sie die Klassen `TwoEdgeExchangeMove` und `TwoEdgeExchangeNeighborhood`.\n",
    "\n",
    "\n",
    "\n",
    "**Hinweise:** \n",
    "\n",
    "Implementieren Sie ihre Lösung in den bereitgestellten `.py` Dateien aus der Veranstaltung, nicht hier im Notebook. Bitte kopieren Sie der Übersichtlichkeit wegen trotzdem Ihre in der `.py`-Datei implementierten TwoEdgeExchange-Move Komponenten hier ins Notebook. Geben Sie alle zum fehlerfreien Ausführen notwendigen Dateien an.\n",
    "\n",
    "\n",
    "Testen Sie die Nachbarschaft auf dem Datensatz `InputFlowshopSIST20.json`. Verwenden Sie die BestImprovement-Strategie und die FCFS-Startlösung. Mögliches erwartetes Ergebnis:\n"
   ]
  },
  {
   "cell_type": "code",
   "execution_count": 33,
   "metadata": {},
   "outputs": [
    {
     "name": "stdout",
     "output_type": "stream",
     "text": [
      "[1, 2, 3, 11, 22, 33, 111, 222, 333]\n",
      "[1, 2, 3]\n",
      "[1, 2, 3]\n"
     ]
    }
   ],
   "source": [
    "list1 = [1,2,3]\n",
    "list2 = [11,22,33]\n",
    "list3 = [111,222,333]\n",
    "\n",
    "# print(list1.extend(list2).extend(list3))\n",
    "\n",
    "list1.extend(list2)\n",
    "list1.extend(list3)\n",
    "print(list1)\n",
    "print(list1[:3])\n",
    "print(list1[0:3])"
   ]
  },
  {
   "cell_type": "code",
   "execution_count": 1,
   "metadata": {},
   "outputs": [
    {
     "name": "stdout",
     "output_type": "stream",
     "text": [
      "Generating an initial solution according to FCFS.\n",
      "Constructive solution found.\n",
      "The permutation [0, 1, 2, 3, 4, 5, 6, 7, 8, 9, 10, 11, 12, 13, 14, 15, 16, 17, 18, 19] results in a Makespan of 1482\n"
     ]
    },
    {
     "ename": "TypeError",
     "evalue": "'NoneType' object is not iterable",
     "output_type": "error",
     "traceback": [
      "\u001b[1;31m---------------------------------------------------------------------------\u001b[0m",
      "\u001b[1;31mTypeError\u001b[0m                                 Traceback (most recent call last)",
      "\u001b[1;32mg:\\6.Semester\\Prescriptive Analytics\\Hausaufgabe3\\Hausaufgabe_3\\Hausaufgabe_3.ipynb Cell 11'\u001b[0m in \u001b[0;36m<cell line: 10>\u001b[1;34m()\u001b[0m\n\u001b[0;32m      <a href='vscode-notebook-cell:/g%3A/6.Semester/Prescriptive%20Analytics/Hausaufgabe3/Hausaufgabe_3/Hausaufgabe_3.ipynb#ch0000010?line=5'>6</a>\u001b[0m localSearch \u001b[39m=\u001b[39m IterativeImprovement(data, \u001b[39m'\u001b[39m\u001b[39mBestImprovement\u001b[39m\u001b[39m'\u001b[39m, [\u001b[39m'\u001b[39m\u001b[39mTwoEdgeExchange\u001b[39m\u001b[39m'\u001b[39m])\n\u001b[0;32m      <a href='vscode-notebook-cell:/g%3A/6.Semester/Prescriptive%20Analytics/Hausaufgabe3/Hausaufgabe_3/Hausaufgabe_3.ipynb#ch0000010?line=7'>8</a>\u001b[0m solver \u001b[39m=\u001b[39m Solver(data, \u001b[39m1008\u001b[39m)\n\u001b[1;32m---> <a href='vscode-notebook-cell:/g%3A/6.Semester/Prescriptive%20Analytics/Hausaufgabe3/Hausaufgabe_3/Hausaufgabe_3.ipynb#ch0000010?line=9'>10</a>\u001b[0m solver\u001b[39m.\u001b[39;49mRunLocalSearch(constructiveSolutionMethod\u001b[39m=\u001b[39;49m\u001b[39m'\u001b[39;49m\u001b[39mFCFS\u001b[39;49m\u001b[39m'\u001b[39;49m, algorithm\u001b[39m=\u001b[39;49mlocalSearch)\n",
      "File \u001b[1;32mg:\\6.Semester\\Prescriptive Analytics\\Hausaufgabe3\\Hausaufgabe_3\\Solver.py:42\u001b[0m, in \u001b[0;36mSolver.RunLocalSearch\u001b[1;34m(self, constructiveSolutionMethod, algorithm)\u001b[0m\n\u001b[0;32m     <a href='file:///g%3A/6.Semester/Prescriptive%20Analytics/Hausaufgabe3/Hausaufgabe_3/Solver.py?line=38'>39</a>\u001b[0m \u001b[39mdef\u001b[39;00m \u001b[39mRunLocalSearch\u001b[39m(\u001b[39mself\u001b[39m, constructiveSolutionMethod, algorithm):\n\u001b[0;32m     <a href='file:///g%3A/6.Semester/Prescriptive%20Analytics/Hausaufgabe3/Hausaufgabe_3/Solver.py?line=39'>40</a>\u001b[0m     startSolution \u001b[39m=\u001b[39m \u001b[39mself\u001b[39m\u001b[39m.\u001b[39mConstructionPhase(constructiveSolutionMethod)\n\u001b[1;32m---> <a href='file:///g%3A/6.Semester/Prescriptive%20Analytics/Hausaufgabe3/Hausaufgabe_3/Solver.py?line=41'>42</a>\u001b[0m     \u001b[39mself\u001b[39;49m\u001b[39m.\u001b[39;49mImprovementPhase(startSolution, algorithm)\n",
      "File \u001b[1;32mg:\\6.Semester\\Prescriptive Analytics\\Hausaufgabe3\\Hausaufgabe_3\\Solver.py:34\u001b[0m, in \u001b[0;36mSolver.ImprovementPhase\u001b[1;34m(self, startSolution, algorithm)\u001b[0m\n\u001b[0;32m     <a href='file:///g%3A/6.Semester/Prescriptive%20Analytics/Hausaufgabe3/Hausaufgabe_3/Solver.py?line=31'>32</a>\u001b[0m \u001b[39mdef\u001b[39;00m \u001b[39mImprovementPhase\u001b[39m(\u001b[39mself\u001b[39m, startSolution, algorithm):\n\u001b[0;32m     <a href='file:///g%3A/6.Semester/Prescriptive%20Analytics/Hausaufgabe3/Hausaufgabe_3/Solver.py?line=32'>33</a>\u001b[0m     algorithm\u001b[39m.\u001b[39mInitialize(\u001b[39mself\u001b[39m\u001b[39m.\u001b[39mEvaluationLogic, \u001b[39mself\u001b[39m\u001b[39m.\u001b[39mSolutionPool, \u001b[39mself\u001b[39m\u001b[39m.\u001b[39mRNG)\n\u001b[1;32m---> <a href='file:///g%3A/6.Semester/Prescriptive%20Analytics/Hausaufgabe3/Hausaufgabe_3/Solver.py?line=33'>34</a>\u001b[0m     bestSolution \u001b[39m=\u001b[39m algorithm\u001b[39m.\u001b[39;49mRun(startSolution)\n\u001b[0;32m     <a href='file:///g%3A/6.Semester/Prescriptive%20Analytics/Hausaufgabe3/Hausaufgabe_3/Solver.py?line=35'>36</a>\u001b[0m     \u001b[39mprint\u001b[39m(\u001b[39m\"\u001b[39m\u001b[39mBest found Solution.\u001b[39m\u001b[39m\"\u001b[39m)\n\u001b[0;32m     <a href='file:///g%3A/6.Semester/Prescriptive%20Analytics/Hausaufgabe3/Hausaufgabe_3/Solver.py?line=36'>37</a>\u001b[0m     \u001b[39mprint\u001b[39m(bestSolution)\n",
      "File \u001b[1;32mg:\\6.Semester\\Prescriptive Analytics\\Hausaufgabe3\\Hausaufgabe_3\\ImprovementAlgorithm.py:53\u001b[0m, in \u001b[0;36mIterativeImprovement.Run\u001b[1;34m(self, solution)\u001b[0m\n\u001b[0;32m     <a href='file:///g%3A/6.Semester/Prescriptive%20Analytics/Hausaufgabe3/Hausaufgabe_3/ImprovementAlgorithm.py?line=49'>50</a>\u001b[0m \u001b[39mfor\u001b[39;00m neighborhoodType \u001b[39min\u001b[39;00m \u001b[39mself\u001b[39m\u001b[39m.\u001b[39mNeighborhoodTypes:\n\u001b[0;32m     <a href='file:///g%3A/6.Semester/Prescriptive%20Analytics/Hausaufgabe3/Hausaufgabe_3/ImprovementAlgorithm.py?line=50'>51</a>\u001b[0m     neighborhood \u001b[39m=\u001b[39m \u001b[39mself\u001b[39m\u001b[39m.\u001b[39mNeighborhoods[neighborhoodType]\n\u001b[1;32m---> <a href='file:///g%3A/6.Semester/Prescriptive%20Analytics/Hausaufgabe3/Hausaufgabe_3/ImprovementAlgorithm.py?line=52'>53</a>\u001b[0m     neighborhood\u001b[39m.\u001b[39;49mLocalSearch(\u001b[39mself\u001b[39;49m\u001b[39m.\u001b[39;49mNeighborhoodEvaluationStrategy, solution)\n\u001b[0;32m     <a href='file:///g%3A/6.Semester/Prescriptive%20Analytics/Hausaufgabe3/Hausaufgabe_3/ImprovementAlgorithm.py?line=54'>55</a>\u001b[0m \u001b[39mreturn\u001b[39;00m solution\n",
      "File \u001b[1;32mg:\\6.Semester\\Prescriptive Analytics\\Hausaufgabe3\\Hausaufgabe_3\\Neighborhood.py:71\u001b[0m, in \u001b[0;36mBaseNeighborhood.LocalSearch\u001b[1;34m(self, neighborhoodEvaluationStrategy, solution)\u001b[0m\n\u001b[0;32m     <a href='file:///g%3A/6.Semester/Prescriptive%20Analytics/Hausaufgabe3/Hausaufgabe_3/Neighborhood.py?line=68'>69</a>\u001b[0m \u001b[39mwhile\u001b[39;00m hasSolutionImproved:\n\u001b[0;32m     <a href='file:///g%3A/6.Semester/Prescriptive%20Analytics/Hausaufgabe3/Hausaufgabe_3/Neighborhood.py?line=69'>70</a>\u001b[0m     \u001b[39mself\u001b[39m\u001b[39m.\u001b[39mUpdate(solution\u001b[39m.\u001b[39mPermutation)\n\u001b[1;32m---> <a href='file:///g%3A/6.Semester/Prescriptive%20Analytics/Hausaufgabe3/Hausaufgabe_3/Neighborhood.py?line=70'>71</a>\u001b[0m     \u001b[39mself\u001b[39;49m\u001b[39m.\u001b[39;49mDiscoverMoves()\n\u001b[0;32m     <a href='file:///g%3A/6.Semester/Prescriptive%20Analytics/Hausaufgabe3/Hausaufgabe_3/Neighborhood.py?line=71'>72</a>\u001b[0m     \u001b[39mself\u001b[39m\u001b[39m.\u001b[39mEvaluateMoves(neighborhoodEvaluationStrategy)\n\u001b[0;32m     <a href='file:///g%3A/6.Semester/Prescriptive%20Analytics/Hausaufgabe3/Hausaufgabe_3/Neighborhood.py?line=73'>74</a>\u001b[0m     bestNeighborhoodSolution \u001b[39m=\u001b[39m \u001b[39mself\u001b[39m\u001b[39m.\u001b[39mMakeBestMove()\n",
      "File \u001b[1;32mg:\\6.Semester\\Prescriptive Analytics\\Hausaufgabe3\\Hausaufgabe_3\\Neighborhood.py:197\u001b[0m, in \u001b[0;36mTwoEdgeExchangeNeighborhood.DiscoverMoves\u001b[1;34m(self)\u001b[0m\n\u001b[0;32m    <a href='file:///g%3A/6.Semester/Prescriptive%20Analytics/Hausaufgabe3/Hausaufgabe_3/Neighborhood.py?line=193'>194</a>\u001b[0m \u001b[39mfor\u001b[39;00m i \u001b[39min\u001b[39;00m \u001b[39mrange\u001b[39m(\u001b[39m0\u001b[39m, \u001b[39mlen\u001b[39m(\u001b[39mself\u001b[39m\u001b[39m.\u001b[39mPermutation)\u001b[39m-\u001b[39m\u001b[39m4\u001b[39m):\n\u001b[0;32m    <a href='file:///g%3A/6.Semester/Prescriptive%20Analytics/Hausaufgabe3/Hausaufgabe_3/Neighborhood.py?line=194'>195</a>\u001b[0m     \u001b[39mfor\u001b[39;00m j \u001b[39min\u001b[39;00m \u001b[39mrange\u001b[39m(i\u001b[39m+\u001b[39m\u001b[39m3\u001b[39m, \u001b[39mlen\u001b[39m(\u001b[39mself\u001b[39m\u001b[39m.\u001b[39mPermutation)\u001b[39m-\u001b[39m\u001b[39m1\u001b[39m):\n\u001b[1;32m--> <a href='file:///g%3A/6.Semester/Prescriptive%20Analytics/Hausaufgabe3/Hausaufgabe_3/Neighborhood.py?line=196'>197</a>\u001b[0m         twoEdgeExchangeMove \u001b[39m=\u001b[39m TwoEdgeExchangeMove(\u001b[39mself\u001b[39;49m\u001b[39m.\u001b[39;49mPermutation, i, j)\n\u001b[0;32m    <a href='file:///g%3A/6.Semester/Prescriptive%20Analytics/Hausaufgabe3/Hausaufgabe_3/Neighborhood.py?line=198'>199</a>\u001b[0m         \u001b[39mself\u001b[39m\u001b[39m.\u001b[39mMoves\u001b[39m.\u001b[39mappend(twoEdgeExchangeMove)\n",
      "File \u001b[1;32mg:\\6.Semester\\Prescriptive Analytics\\Hausaufgabe3\\Hausaufgabe_3\\Neighborhood.py:184\u001b[0m, in \u001b[0;36mTwoEdgeExchangeMove.__init__\u001b[1;34m(self, initialPermutation, indexA, indexB)\u001b[0m\n\u001b[0;32m    <a href='file:///g%3A/6.Semester/Prescriptive%20Analytics/Hausaufgabe3/Hausaufgabe_3/Neighborhood.py?line=180'>181</a>\u001b[0m list_mid \u001b[39m=\u001b[39m initialPermutation[indexA\u001b[39m+\u001b[39m\u001b[39m1\u001b[39m: indexB\u001b[39m+\u001b[39m\u001b[39m1\u001b[39m]\u001b[39m.\u001b[39mreverse()\n\u001b[0;32m    <a href='file:///g%3A/6.Semester/Prescriptive%20Analytics/Hausaufgabe3/Hausaufgabe_3/Neighborhood.py?line=181'>182</a>\u001b[0m list_right \u001b[39m=\u001b[39m initialPermutation[indexB\u001b[39m+\u001b[39m\u001b[39m1\u001b[39m: ]\n\u001b[1;32m--> <a href='file:///g%3A/6.Semester/Prescriptive%20Analytics/Hausaufgabe3/Hausaufgabe_3/Neighborhood.py?line=183'>184</a>\u001b[0m list_left\u001b[39m.\u001b[39;49mextend(list_mid)\n\u001b[0;32m    <a href='file:///g%3A/6.Semester/Prescriptive%20Analytics/Hausaufgabe3/Hausaufgabe_3/Neighborhood.py?line=184'>185</a>\u001b[0m list_left\u001b[39m.\u001b[39mextend(list_right)\n\u001b[0;32m    <a href='file:///g%3A/6.Semester/Prescriptive%20Analytics/Hausaufgabe3/Hausaufgabe_3/Neighborhood.py?line=185'>186</a>\u001b[0m \u001b[39mself\u001b[39m\u001b[39m.\u001b[39mPermutation \u001b[39m=\u001b[39m list_left\n",
      "\u001b[1;31mTypeError\u001b[0m: 'NoneType' object is not iterable"
     ]
    }
   ],
   "source": [
    "from Solver import *\n",
    "\n",
    "\n",
    "data = InputData(\"InputFlowshopSIST20.json\")\n",
    "\n",
    "localSearch = IterativeImprovement(data, 'BestImprovement', ['TwoEdgeExchange'])\n",
    "\n",
    "solver = Solver(data, 1008)\n",
    "\n",
    "solver.RunLocalSearch(constructiveSolutionMethod='FCFS', algorithm=localSearch)"
   ]
  },
  {
   "cell_type": "markdown",
   "metadata": {},
   "source": [
    "          Generating an initial solution according to FCFS.\n",
    "          Constructive solution found.\n",
    "          The permutation [0, 1, 2, 3, 4, 5, 6, 7, 8, 9, 10, 11, 12, 13, 14, 15, 16, 17, 18, 19] results in a Makespan of 1482\n",
    "          The permutation [0, 1, 10, 9, 8, 7, 6, 5, 4, 3, 2, 11, 12, 13, 14, 15, 16, 17, 18, 19] results in a Makespan of 1375\n",
    "          The permutation [8, 9, 10, 1, 0, 7, 6, 5, 4, 3, 2, 11, 12, 13, 14, 15, 16, 17, 18, 19] results in a Makespan of 1360\n",
    "          The permutation [8, 9, 10, 1, 0, 7, 6, 5, 4, 3, 2, 11, 12, 13, 14, 16, 15, 17, 18, 19] results in a Makespan of 1341\n",
    "          The permutation [9, 8, 10, 1, 0, 7, 6, 5, 4, 3, 2, 11, 12, 13, 14, 16, 15, 17, 18, 19] results in a Makespan of 1340\n",
    "          The permutation [9, 8, 10, 1, 0, 7, 6, 5, 4, 3, 2, 11, 12, 13, 14, 16, 17, 15, 18, 19] results in a Makespan of 1334\n",
    "          The permutation [9, 8, 10, 1, 0, 7, 6, 5, 4, 12, 11, 2, 3, 13, 14, 16, 17, 15, 18, 19] results in a Makespan of 1312\n",
    "          The permutation [9, 8, 10, 1, 0, 7, 6, 5, 4, 12, 17, 16, 14, 13, 3, 2, 11, 15, 18, 19] results in a Makespan of 1265\n",
    "          The permutation [9, 1, 10, 8, 0, 7, 6, 5, 4, 12, 17, 16, 14, 13, 3, 2, 11, 15, 18, 19] results in a Makespan of 1256\n",
    "          Reached local optimum of TwoEdgeExchange neighborhood. Stop local search.\n",
    "          Best found Solution.\n",
    "          The permutation [9, 1, 10, 8, 0, 7, 6, 5, 4, 12, 17, 16, 14, 13, 3, 2, 11, 15, 18, 19] results in a Makespan of 1256"
   ]
  }
 ],
 "metadata": {
  "interpreter": {
   "hash": "e42634819b8c191a5d07eaf23810ff32516dd8d3875f28ec3e488928fbd3c187"
  },
  "kernelspec": {
   "display_name": "Python 3.8.8 ('base')",
   "language": "python",
   "name": "python3"
  },
  "language_info": {
   "codemirror_mode": {
    "name": "ipython",
    "version": 3
   },
   "file_extension": ".py",
   "mimetype": "text/x-python",
   "name": "python",
   "nbconvert_exporter": "python",
   "pygments_lexer": "ipython3",
   "version": "3.8.8"
  },
  "orig_nbformat": 2
 },
 "nbformat": 4,
 "nbformat_minor": 2
}
