{
 "cells": [
  {
   "cell_type": "markdown",
   "metadata": {},
   "source": [
    "---\n",
    "## Hausaufgabe 3 - Verbesserungsverfahren\n",
    "---\n",
    "\n",
    "### Achtung: Bitte überprüfen Sie vor Abgabe der Hausaufgabe, ob das Notebook richtig gespeichert wurde. \n",
    "Die Speicherung von Notebooks funktioniert die Menüleiste oder über die Shortcuts Strg + S (Win) und CMD + S (MAC)."
   ]
  },
  {
   "cell_type": "markdown",
   "metadata": {},
   "source": [
    "---\n",
    "## Bewertung\n",
    "---\n",
    "\n",
    "#### Erreichbare Punkte: 25\n",
    "---\n",
    "#### Erreichte Punkte:   24\n",
    "---\n",
    "---\n",
    "Aufgabe 1: 2<br>\n",
    "<br>\n",
    "Aufgabe 2: 4<br>\n",
    "<br>\n",
    "Aufgabe 3: 18<br>"
   ]
  },
  {
   "cell_type": "markdown",
   "metadata": {},
   "source": [
    "#### Aufgabe 1 - Theorie I: TwoEdgeExchange Move (2 Punkte)\n",
    "\n",
    "Der 2-opt Algorithmus ist ein sehr bekanntes Verbesserungverfahren aus der Tourenplanung. Im Kern werden jeweils zwei **nicht-benachbarte** Kanten entfernt und die so entstandenen Teilsequenzen neu verbunden. Ein Beispiel ist in dem folgenden Bild dargestellt:\n",
    "\n",
    "<img src=\"2-opt.png\" alt=\"Drawing\" style=\"width: 300px;\"/>\n",
    "\n",
    "Dieses Konzept kann auch auf das Scheduling angewandt werden. Dabei werden in einer Auftragsreihenfolge nicht nur die Aufträge als einzelne Elemente betrachtet, sondern auch deren Verbindungen. Wenn Auftrag $i$ direkt auf Auftrag $j$ folgt, so sind diese beiden Aufträge über eine Verbindungen, bzw. \"Kante\", $(i,j)$ verbunden. Somit lässt sich der sog. TwoEdgeExchange Move wie folgt definieren:\n",
    "\n",
    "Ein TwoEdgeExchange Move $M(\\text{2-EdgeExchange}, s, i, j)$ beschreibt den Austausch der Verbindungen zweier Auftragspaare $(i,i+1)$ und $(j,j+1)$. Dabei dürfen die Verbindungen **nicht-benachbart** sein und es werden **nur** die Verbindungen $(i,i+1)$ und $(j,j+1)$ entfernt und die Aufträge neu zu $(i,j)$ und $(i+1,j+1)$ zusammengefügt. \n",
    "\n",
    "Es ist folgende Auftragsreihenfolge gegeben `s=[0,1,2,3,4,5,6]`. Führen Sie (händisch) folgenden TwoEdgeExchange-Move durch $M(\\text{2-EdgeExchange}, s, 1, 4)$.\n",
    "\n",
    "**Hinweis:** Das erste Element steht an der Position 0."
   ]
  },
  {
   "cell_type": "markdown",
   "metadata": {},
   "source": [
    "$M(\\text{2-EdgeExchange}, s, 1, 4) = [0, 1, 4, 3, 2, 5, 6]$"
   ]
  },
  {
   "cell_type": "markdown",
   "metadata": {},
   "source": [
    "#### Aufgabe 2 - Theorie II: TwoEdgeExchange Move (5 Punkte)\n",
    "\n",
    "**a)** In der Abbildung in Aufgabe 1 werden die Verbindungen zwischen den Auftragspaaren (0,1) und (2,3) ausgewählt. Nach den Autoren Kirlik und Oguz lässt sich jedoch der TwoEdgeExchange Move weiter einschränken, indem sich die Positionen $i$ und $j$ um mindestens 3 Position $\\left(|j-i|\\geq 3\\right)$ unterscheiden müssen. Was könnte der Grund für diese weitere Einschränkung sein. \n",
    "\n",
    "**Hinweis:** Beachten Sie dabei die bereits umgesetzten Nachbarschaften.\n",
    "\n",
    "**Literaturverweis** (in OPAL vorhanden): Kirlik, G., & Oguz, C. (2012). A variable neighborhood search for minimizing total weighted tardiness with sequence dependent setup times on a single machine. Computers & Operations Research, 39(7), 1506-1520."
   ]
  },
  {
   "cell_type": "markdown",
   "metadata": {},
   "source": [
    "## Antwort\n",
    "Wenn i und j nur 1 unterscheiden, haben wir i+1 gleich j. Dann verändert die Sequenz nicht, es macht keinen Sinn. Bei heiristischen Verfahren möchten wir die Rechenzeit reduzieren.\n",
    "Wenn i und j 2 unterscheiden, gibt es keine weitere Kanten zwischen i+1 und j. Die Auswirkung sieht gleich aus, wie wir einfach j und i+1 austauschen. Es macht weniger Sinn.\n",
    "Deshalb beginnen wir mit abs(j-i) >= 3\n"
   ]
  },
  {
   "cell_type": "markdown",
   "metadata": {},
   "source": [
    "<font color=red>\n",
    "Korrektur</font> \n",
    "\n",
    "Wenn abs(j-i) = 2 gilt, gibt es die Kanten (i,i+1) und (j=i+2,j+1). Dieser Tausch erzeugt jedoch nur ein Vertauschen von i+1 und +2 (siehe Abbildung oben). Da dieser Tausch auch durch Swap oder Insertion erzeugt werden kann, kann dieser Tausch bei TwoEdgeExchange ausgeschlossen werden.\n",
    "\n",
    "1 / 2 Punkte"
   ]
  },
  {
   "cell_type": "markdown",
   "metadata": {},
   "source": [
    "**b)** Bestimmen Sie die Komplexität der TwoEdgeExchange-Move Nachbarschaft. Nehmen Sie an, dass eine Lösung durch eine Permutation der Länge $n$ repräsentiert ist und $|j-i|\\geq 3$ gilt.\n",
    "\n",
    "**Hinweise:** Geben Sie die Komplexität in Abhängigkeit von $n$ an.\n",
    "\n",
    "**Tipp:**\n",
    "<details>\n",
    "\n",
    "Wie viele Kanten sind in einer Sequenz enthalten? Wie viele Kanten können getauscht werden, dass eine neue Lösung erzielt wird? Wieviele Dopplungen/Symmetrien gibt es?\n",
    "</details>"
   ]
  },
  {
   "cell_type": "markdown",
   "metadata": {},
   "source": [
    "## Antwort\n",
    "$ |N(\\text{2-EdgeExchange}, s)| = 1/2 * (n-4) * (n-3)$\n",
    "\n",
    "Es gibt n Knoten, d.h. wir haben insgesamt n-1 Kanten.\n",
    "Wir lassen zuerst i = 0, dann j beginnt erst mit j = 3. In diesem Fall haben wir noch (n-1)-3 = n-4 Möglichkeiten.\n",
    "Wenn i = 1, haben wir noch (n-1)-1-3 = n-5 Möglichkeiten.\n",
    "...\n",
    "Am Ende haben wir nur 1 Möglichkeit. Wir brauchen wegen Symmetrie die Fälle von j < i nicht zu berucksichtigen.\n",
    "Summieren: 1+2+3+...+(n-4)= 1/2 * (n-4) * (n-3)"
   ]
  },
  {
   "cell_type": "markdown",
   "metadata": {},
   "source": [
    "<font color=red>\n",
    "Korrektur</font> \n",
    "\n",
    "Sehr knapp, aber richtig hergeleitet -> 3/3 Punkte"
   ]
  },
  {
   "cell_type": "markdown",
   "metadata": {},
   "source": [
    "#### Aufgabe 3 - Implementierung: TwoEdgeExchange-Move (18 Punkte)\n",
    "\n",
    "Erweitern Sie den in der Lehrveranstaltung erstellten Solver um eine TwoEdgeExchange-Move Nachbarschaft. Erstellen Sie die Klassen `TwoEdgeExchangeMove` und `TwoEdgeExchangeNeighborhood`.\n",
    "\n",
    "\n",
    "\n",
    "**Hinweise:** \n",
    "\n",
    "Implementieren Sie ihre Lösung in den bereitgestellten `.py` Dateien aus der Veranstaltung, nicht hier im Notebook. Bitte kopieren Sie der Übersichtlichkeit wegen trotzdem Ihre in der `.py`-Datei implementierten TwoEdgeExchange-Move Komponenten hier ins Notebook. Geben Sie alle zum fehlerfreien Ausführen notwendigen Dateien an.\n",
    "\n",
    "\n",
    "Testen Sie die Nachbarschaft auf dem Datensatz `InputFlowshopSIST20.json`. Verwenden Sie die BestImprovement-Strategie und die FCFS-Startlösung. Mögliches erwartetes Ergebnis:\n"
   ]
  },
  {
   "cell_type": "code",
   "execution_count": null,
   "metadata": {},
   "outputs": [],
   "source": [
    "# 2 Klassen in Datei Neighborhood\n",
    "class TwoEdgeExchangeMove:\n",
    "    def __init__(self, initialPermutation, indexA, indexB):\n",
    "        self.Permutation = list(initialPermutation)\n",
    "        self.IndexA = indexA\n",
    "        self.IndexB = indexB\n",
    "\n",
    "        list_left = initialPermutation[0: indexA+1]\n",
    "        list_mid = reversed(initialPermutation[indexA+1: indexB+1])\n",
    "        list_right = initialPermutation[indexB+1: ]\n",
    "\n",
    "        self.Permutation = list_left+list(list_mid)+list_right\n",
    "\n",
    "class TwoEdgeExchangeNeighborhood(BaseNeighborhood):\n",
    "    def __init__(self, inputData, initialPermutation, evaluationLogic, solutionPool):\n",
    "        super().__init__(inputData, initialPermutation, evaluationLogic, solutionPool)\n",
    "        self.Type = 'TwoEdgeExchange'\n",
    "\n",
    "    def DiscoverMoves(self):\n",
    "        for i in range(0, len(self.Permutation)-4):\n",
    "            for j in range(i+3, len(self.Permutation)-1):\n",
    "                \n",
    "                twoEdgeExchangeMove = TwoEdgeExchangeMove(self.Permutation, i, j)\n",
    "\n",
    "                self.Moves.append(twoEdgeExchangeMove)\n",
    "\n",
    "# ImprovementAlgorithm.py\n",
    "def CreateNeighborhood(self, neighborhoodType, bestCurrentSolution):\n",
    "    if neighborhoodType == 'Swap':\n",
    "        return SwapNeighborhood(self.InputData, bestCurrentSolution.Permutation, self.EvaluationLogic, self.SolutionPool)\n",
    "    elif neighborhoodType == 'Insertion':\n",
    "        return InsertionNeighborhood(self.InputData, bestCurrentSolution.Permutation, self.EvaluationLogic, self.SolutionPool)\n",
    "    elif neighborhoodType == 'TwoEdgeExchange':\n",
    "        return TwoEdgeExchangeNeighborhood(self.InputData, bestCurrentSolution.Permutation, self.EvaluationLogic, self.SolutionPool)\n",
    "    else:\n",
    "        raise Exception(f\"Neighborhood type {neighborhoodType} not defined.\")"
   ]
  },
  {
   "cell_type": "markdown",
   "metadata": {},
   "source": [
    "<font color=red>\n",
    "Korrektur</font> \n",
    "\n",
    "Alles richtig umgesetzt!"
   ]
  },
  {
   "cell_type": "code",
   "execution_count": 1,
   "metadata": {},
   "outputs": [
    {
     "name": "stdout",
     "output_type": "stream",
     "text": [
      "Generating an initial solution according to FCFS.\n",
      "Constructive solution found.\n",
      "The permutation [0, 1, 2, 3, 4, 5, 6, 7, 8, 9, 10, 11, 12, 13, 14, 15, 16, 17, 18, 19] results in a Makespan of 1482\n",
      "The permutation [0, 1, 10, 9, 8, 7, 6, 5, 4, 3, 2, 11, 12, 13, 14, 15, 16, 17, 18, 19] results in a Makespan of 1375\n",
      "The permutation [0, 1, 10, 9, 8, 7, 6, 5, 4, 18, 17, 16, 15, 14, 13, 12, 11, 2, 3, 19] results in a Makespan of 1331\n",
      "The permutation [0, 1, 10, 9, 8, 7, 6, 5, 4, 18, 17, 16, 15, 14, 13, 3, 2, 11, 12, 19] results in a Makespan of 1275\n",
      "The permutation [0, 1, 10, 9, 8, 7, 6, 5, 4, 18, 15, 16, 17, 14, 13, 3, 2, 11, 12, 19] results in a Makespan of 1269\n",
      "The permutation [0, 1, 10, 9, 8, 7, 15, 18, 4, 5, 6, 16, 17, 14, 13, 3, 2, 11, 12, 19] results in a Makespan of 1268\n",
      "Reached local optimum of TwoEdgeExchange neighborhood. Stop local search.\n",
      "Best found Solution.\n",
      "The permutation [0, 1, 10, 9, 8, 7, 15, 18, 4, 5, 6, 16, 17, 14, 13, 3, 2, 11, 12, 19] results in a Makespan of 1268\n"
     ]
    }
   ],
   "source": [
    "from Solver import *\n",
    "\n",
    "\n",
    "data = InputData(\"InputFlowshopSIST20.json\")\n",
    "\n",
    "localSearch = IterativeImprovement(data, 'BestImprovement', ['TwoEdgeExchange'])\n",
    "\n",
    "solver = Solver(data, 1008)\n",
    "\n",
    "solver.RunLocalSearch(\n",
    "    constructiveSolutionMethod='FCFS',\n",
    "    algorithm=localSearch)"
   ]
  },
  {
   "cell_type": "markdown",
   "metadata": {},
   "source": [
    "          Generating an initial solution according to FCFS.\n",
    "          Constructive solution found.\n",
    "          The permutation [0, 1, 2, 3, 4, 5, 6, 7, 8, 9, 10, 11, 12, 13, 14, 15, 16, 17, 18, 19] results in a Makespan of 1482\n",
    "          The permutation [0, 1, 10, 9, 8, 7, 6, 5, 4, 3, 2, 11, 12, 13, 14, 15, 16, 17, 18, 19] results in a Makespan of 1375\n",
    "          The permutation [8, 9, 10, 1, 0, 7, 6, 5, 4, 3, 2, 11, 12, 13, 14, 15, 16, 17, 18, 19] results in a Makespan of 1360\n",
    "          The permutation [8, 9, 10, 1, 0, 7, 6, 5, 4, 3, 2, 11, 12, 13, 14, 16, 15, 17, 18, 19] results in a Makespan of 1341\n",
    "          The permutation [9, 8, 10, 1, 0, 7, 6, 5, 4, 3, 2, 11, 12, 13, 14, 16, 15, 17, 18, 19] results in a Makespan of 1340\n",
    "          The permutation [9, 8, 10, 1, 0, 7, 6, 5, 4, 3, 2, 11, 12, 13, 14, 16, 17, 15, 18, 19] results in a Makespan of 1334\n",
    "          The permutation [9, 8, 10, 1, 0, 7, 6, 5, 4, 12, 11, 2, 3, 13, 14, 16, 17, 15, 18, 19] results in a Makespan of 1312\n",
    "          The permutation [9, 8, 10, 1, 0, 7, 6, 5, 4, 12, 17, 16, 14, 13, 3, 2, 11, 15, 18, 19] results in a Makespan of 1265\n",
    "          The permutation [9, 1, 10, 8, 0, 7, 6, 5, 4, 12, 17, 16, 14, 13, 3, 2, 11, 15, 18, 19] results in a Makespan of 1256\n",
    "          Reached local optimum of TwoEdgeExchange neighborhood. Stop local search.\n",
    "          Best found Solution.\n",
    "          The permutation [9, 1, 10, 8, 0, 7, 6, 5, 4, 12, 17, 16, 14, 13, 3, 2, 11, 15, 18, 19] results in a Makespan of 1256"
   ]
  }
 ],
 "metadata": {
  "interpreter": {
   "hash": "e42634819b8c191a5d07eaf23810ff32516dd8d3875f28ec3e488928fbd3c187"
  },
  "kernelspec": {
   "display_name": "Python 3.8.8 ('base')",
   "language": "python",
   "name": "python3"
  },
  "language_info": {
   "codemirror_mode": {
    "name": "ipython",
    "version": 3
   },
   "file_extension": ".py",
   "mimetype": "text/x-python",
   "name": "python",
   "nbconvert_exporter": "python",
   "pygments_lexer": "ipython3",
   "version": "3.8.8"
  },
  "orig_nbformat": 2
 },
 "nbformat": 4,
 "nbformat_minor": 2
}
