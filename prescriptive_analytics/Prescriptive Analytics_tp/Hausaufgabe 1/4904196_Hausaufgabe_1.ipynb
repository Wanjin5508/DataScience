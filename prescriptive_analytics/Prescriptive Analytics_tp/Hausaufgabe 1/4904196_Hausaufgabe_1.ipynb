{
 "cells": [
  {
   "cell_type": "markdown",
   "metadata": {},
   "source": [
    "---\n",
    "## Hausaufgabe 1 - Grundlagen Python & Objektorientierung\n",
    "---\n",
    "\n",
    "### Achtung: Überprüfen Sie vor Abgabe der Hausaufgabe, ob das Notebook richtig gespeichert wurde. \n",
    "Die Speicherung von Notebooks funktioniert über das \"Disketten\"-Symbol im Notebook oder über die Shortcuts Strg + S (Win) und CMD + S (MAC)."
   ]
  },
  {
   "cell_type": "markdown",
   "metadata": {},
   "source": [
    "---\n",
    "## Bewertung\n",
    "---\n",
    "\n",
    "#### Erreichbare Punkte: 25\n",
    "---\n",
    "#### Erreichte Punkte:   -\n",
    "---\n",
    "---\n",
    "Aufgabe 1:<br>\n",
    "<br>\n",
    "Aufgabe 2:<br>\n",
    "<br>\n",
    "Aufgabe 3:<br>"
   ]
  },
  {
   "cell_type": "markdown",
   "metadata": {},
   "source": [
    "### Aufgabe 1 - Listen & Sortierungen (6 Punkte)\n",
    "\n",
    "Ihnen ist die folgende Liste gegeben.\n"
   ]
  },
  {
   "cell_type": "code",
   "execution_count": 1,
   "metadata": {},
   "outputs": [],
   "source": [
    "thisList = ['Otto', 'Level', 'Leseesel', [1, 2, 3], 'Kajak', 'Mueller', 'Retter', 'Rotor', [5, 6, 7], 'Effe', 'Meier']"
   ]
  },
  {
   "cell_type": "markdown",
   "metadata": {},
   "source": [
    "#### a.) \n",
    "#### (2 Punkte)\n",
    "\n",
    "Erzeugen Sie eine zweite Liste *thisList2*, die die Einträge von *thisList* übernimmt. Jedoch sollen alle Elemente in der neuen Liste umgekehrt sein.\n",
    "Informieren Sie sich dazu über die Möglichkeiten des Index-Operators und nutzen Sie diesen, um die gewünschte Ausgabe zu erzeugen."
   ]
  },
  {
   "cell_type": "code",
   "execution_count": 2,
   "metadata": {},
   "outputs": [
    {
     "name": "stdout",
     "output_type": "stream",
     "text": [
      "['ottO', 'leveL', 'leseeseL', [3, 2, 1], 'kajaK', 'relleuM', 'retteR', 'rotoR', [7, 6, 5], 'effE', 'reieM']\n"
     ]
    }
   ],
   "source": [
    "### Ergänzen Sie hier Ihren Code, um die gewünschte Ausgabe zu erzielen. ###\n",
    "thisList2 = []\n",
    "for item in thisList:\n",
    "    length = len(item) - 1\n",
    "    if type(item) == str:\n",
    "        item2 = ''\n",
    "        while length >= 0:\n",
    "            item2 += item[length]\n",
    "            length -= 1\n",
    "    else:\n",
    "        item2 = []\n",
    "        while length >= 0:\n",
    "            item2.append(item[length])\n",
    "            length -= 1\n",
    "    thisList2.append(item2)\n",
    "\n",
    "\n",
    "\n",
    "\n",
    "### Führen Sie anschließend nachfolgenden Programmcode aus, um Ihre Lösung zu überprüfen ###\n",
    "\n",
    "print(thisList2)"
   ]
  },
  {
   "cell_type": "markdown",
   "metadata": {},
   "source": [
    "Erwarteter Output:\n",
    "    \n",
    "    '['ottO', 'leveL', 'leseeseL', [3, 2, 1], 'kajaK', 'relleuM', 'retteR', 'rotoR', [7, 6, 5], 'effE', 'reieM']'\n",
    "\n",
    "\n",
    "\n"
   ]
  },
  {
   "cell_type": "markdown",
   "metadata": {},
   "source": [
    "#### b.)\n",
    "#### (1 Punkte)\n",
    "\n",
    "Erzeugen Sie eine dritte Liste *thisList3*, die nur diejenigen Einträge aus *thisList* übernimmt, die den Datentype `str` aufweisen."
   ]
  },
  {
   "cell_type": "code",
   "execution_count": 3,
   "metadata": {},
   "outputs": [
    {
     "name": "stdout",
     "output_type": "stream",
     "text": [
      "['Otto', 'Level', 'Leseesel', 'Kajak', 'Mueller', 'Retter', 'Rotor', 'Effe', 'Meier']\n"
     ]
    }
   ],
   "source": [
    "### Ergänzen Sie hier Ihren Code, um die gewünschte Ausgabe zu erzielen. ###\n",
    "thisList3 = []\n",
    "\n",
    "for item in thisList:\n",
    "    if type(item) == str:\n",
    "        thisList3.append(item)\n",
    "\n",
    "### Führen Sie anschließend nachfolgenden Programmcode aus, um Ihre Lösung zu überprüfen ###\n",
    "\n",
    "print(thisList3)"
   ]
  },
  {
   "cell_type": "markdown",
   "metadata": {},
   "source": [
    "Erwarteter Output:\n",
    "    \n",
    "    '['Otto', 'Level', 'Leseesel', 'Kajak', 'Mueller', 'Retter', 'Rotor', 'Effe', 'Meier']'"
   ]
  },
  {
   "cell_type": "markdown",
   "metadata": {},
   "source": [
    "#### c.)\n",
    "#### (2 Punkte)\n",
    "\n",
    "In der Liste *evaluations* finden Sie die bereits bekannten Einträge aus *thisList3* zusammen mit weiteren Werten in Tupeln. Sortieren Sie die Einträge von *evaluations* absteigend anhand der **Summe** der Zahleneinträge eines jeden Tupels mithilfe einer `lambda`-Funktion. Geben Sie anschließend das Tupel mit der höchsten Summe aus."
   ]
  },
  {
   "cell_type": "code",
   "execution_count": 4,
   "metadata": {},
   "outputs": [
    {
     "name": "stdout",
     "output_type": "stream",
     "text": [
      "('Meier', 5.956, 2.554, 4.622)\n"
     ]
    }
   ],
   "source": [
    "#import random\n",
    "evaluations = [('Otto', 3.779, 1.238, 0.49), ('Level', 3.961, 5.725, 0.233), ('Leseesel', 3.935, 1.482, 2.41), ('Kajak', 1.989, 2.66, 0.656), ('Mueller', 2.024, 1.427, 3.013), ('Retter', 3.297, 2.36, 3.179), ('Rotor', 1.733, 4.218, 4.972), ('Effe', 3.311, 3.197, 3.991), ('Meier', 5.956, 2.554, 4.622)]\n",
    "\n",
    "### Bitte ergänzen Sie hier Ihren Code ###\n",
    "\n",
    "eva_desc = sorted(evaluations, key = lambda x: sum(x[1: ]), reverse = True)\n",
    "print(eva_desc[0])"
   ]
  },
  {
   "cell_type": "markdown",
   "metadata": {},
   "source": [
    "Erwarteter Output:\n",
    "\n",
    "    ('Meier', 5.956, 2.554, 4.622)"
   ]
  },
  {
   "cell_type": "markdown",
   "metadata": {},
   "source": [
    "#### d.)\n",
    "#### (1 Punkte)\n",
    "\n",
    "Oh nein! Leider wurde die Liste leicht beschädigt, sodass nun zusätzliche Listen innerhalb der eigentlichen Listen entstanden sind. Bitte führen Sie die Liste *thisList3Corrupted* mit einem **Python-Ausdruck** wieder in den Ursprungszustand zurück."
   ]
  },
  {
   "cell_type": "code",
   "execution_count": 5,
   "metadata": {},
   "outputs": [
    {
     "name": "stdout",
     "output_type": "stream",
     "text": [
      "['Otto', 'Level', 'Leseesel', 'Kajak', 'Mueller', 'Retter', 'Rotor', 'Effe', 'Meier']\n"
     ]
    }
   ],
   "source": [
    "thisList3Corrupted = ['Otto', ['Level', 'Leseesel', 'Kajak'], ['Mueller'], 'Retter', 'Rotor', ['Effe', 'Meier']]\n",
    "\n",
    "### Bitte ergänzen Sie hier Ihren Code ###\n",
    "thisList3Repaired = []\n",
    "for item in thisList3Corrupted:\n",
    "    if type(item) == str:\n",
    "        thisList3Repaired.append(item)\n",
    "    else: \n",
    "        for element in item:\n",
    "            thisList3Repaired.append(element)\n",
    "\n",
    "### Führen Sie anschließend nachfolgenden Programmcode aus, um Ihre Lösung zu überprüfen ###\n",
    "\n",
    "print(thisList3Repaired)"
   ]
  },
  {
   "cell_type": "markdown",
   "metadata": {},
   "source": [
    "Erwarteter Output:\n",
    "\n",
    "    ['Otto', 'Level', 'Leseesel', 'Kajak', 'Mueller', 'Retter', 'Rotor', 'Effe', 'Meier']"
   ]
  },
  {
   "cell_type": "markdown",
   "metadata": {},
   "source": [
    "### Aufgabe 2 - Einfache Funktionen (7 Punkte)\n",
    "\n",
    "#### a.)\n",
    "#### (4 Punkte)\n",
    "\n",
    "Sie haben gemerkt, dass manche Einträge der Liste *thisList* eine besondere Eigenschaft besitzen. Es handelt sich bei einigen Einträgen um Palindrome, die rückwärts gelesen genau denselben Text ergeben, wie in der eigentlichen Leserichtung.\n",
    "\n",
    "Um nun möglichst schnell herauszufinden, welche Einträge einer Liste Palindrome darstellen, schreiben Sie bitte eine Funktion `CheckForPalindroms`, der eine **Liste** übergeben wird. Als Rückgabewert soll die Funktion anschließend in einer Liste die Indices der Elemente zurückgeben, die als Palindrom identifiziert wurden.\n",
    "\n",
    "**Tipp:**\n",
    "<details>\n",
    "\n",
    "Achten Sie darauf, dass gilt: 'a' != 'A'. Finden Sie also zunächst eine Funktion, um die Strings zu formatieren.\n",
    "</details>"
   ]
  },
  {
   "cell_type": "code",
   "execution_count": 6,
   "metadata": {},
   "outputs": [
    {
     "data": {
      "text/plain": [
       "[0, 1, 2, 4, 6, 7, 9]"
      ]
     },
     "execution_count": 6,
     "metadata": {},
     "output_type": "execute_result"
    }
   ],
   "source": [
    "thisList = ['Otto', 'Level', 'Leseesel', [1, 2, 3], 'Kajak', 'Mueller', 'Retter', 'Rotor', [5, 6, 7], 'Effe', 'Meier']\n",
    "\n",
    "### Bitte ergänzen Sie hier Ihren Programmcode ###\n",
    "def CheckForPalindroms(list):\n",
    "    ind_list = []\n",
    "    for i in range(len(list)):\n",
    "        if type(list[i]) == str:\n",
    "            low=list[i].lower()\n",
    "            \n",
    "            if low[::-1] == low:\n",
    "                ind_list.append(i)\n",
    "    return ind_list\n",
    "\n",
    "        \n",
    "\n",
    "\n",
    "### Führen Sie anschließend nachfolgenden Programmcode aus, um Ihre Lösung zu überprüfen ###\n",
    "\n",
    "CheckForPalindroms(thisList)"
   ]
  },
  {
   "cell_type": "markdown",
   "metadata": {},
   "source": [
    "Erwarteter Output:\n",
    "\n",
    "    \n",
    "    [0, 1, 2, 4, 6, 7, 9]\n",
    "\n",
    "\n",
    "\n",
    "\n",
    "\n",
    "\n"
   ]
  },
  {
   "cell_type": "markdown",
   "metadata": {},
   "source": [
    "#### b.)\n",
    "#### (3 Punkte)\n",
    "\n",
    "Schreiben Sie eine Funktion ``splitNumber``, die eine ihr übergebene Gleitkommazahl in deren ganzzahligen Teil und den Dezimal-Teil aufteilt und beides zusammen als Tupel ausgibt. Nutzen Sie dafür **ausschließlich die Ihnen bekannten Operatoren** und **keine built-in-Funktionen**.\n",
    "\n",
    "Für den Fall, dass keine Zahl übergeben wird, soll eine `Exception` als `TypeError` ausgegeben werden. Informieren Sie sich dazu zum Konstrukt *try-except* und wenden dieses an."
   ]
  },
  {
   "cell_type": "code",
   "execution_count": 7,
   "metadata": {},
   "outputs": [
    {
     "name": "stdout",
     "output_type": "stream",
     "text": [
      "(3, 0.56)\n",
      "invalid literal for int() with base 10: 'Hallo'\n",
      "TypeError: Input has wrong type!\n",
      "None\n"
     ]
    }
   ],
   "source": [
    "### Bitte ergänzen Sie hier Ihren Programmcode ###\n",
    "def splitNumber(num):\n",
    "    try:\n",
    "        num_ganz = int(num)\n",
    "        num_dez = num-num_ganz\n",
    "        return (num_ganz, num_dez)\n",
    "\n",
    "\n",
    "    except ValueError as e:\n",
    "        print(e)\n",
    "        print(\"TypeError: Input has wrong type!\")\n",
    "\n",
    "### Führen Sie anschließend nachfolgenden Programmcode aus, um Ihre Lösung zu überprüfen ###\n",
    "\n",
    "print(splitNumber(3.56))\n",
    "print(splitNumber(\"Hallo\"))"
   ]
  },
  {
   "cell_type": "markdown",
   "metadata": {},
   "source": [
    "Erwarteter Output:\n",
    "\n",
    "    (3, 0.56)\n",
    "    \n",
    "    ...(Hier steht eine Fehlerbeschreibung)...\n",
    "\n",
    "    TypeError: Input has wrong type!"
   ]
  },
  {
   "cell_type": "markdown",
   "metadata": {},
   "source": [
    "### Aufgabe 3 - Klassendefinition & Weitere Funktionen (12 Punkte)\n",
    "\n",
    "#### a.) Die Rechteck-Klasse\n",
    "#### (8 Punkte)\n",
    "\n",
    "Erstellen Sie eine Klasse *Rechteck*, die als Parameter eine Id *id*, eine Breite *width* und eine Höhe *height* entgegennimmt. Die Methode `DetermineArea()` soll die Fläche des Rechtecks berechnen. Diese Methode soll direkt in der `__init__()`-Methode aufgerufen werden. Zusätzlich soll die `__str__()`-Methode für eine entsprechende Ausgabe sorgen.\n",
    "\n",
    "Anschließend definieren Sie eine Funktion `Load` (diese ist nicht Teil der Klasse *Rechteck*), welche die Datei `Rectangulars.json` einliest, aus den enthaltenen Informationen Objekte der Klasse *Rechteck* erzeugt und alle Objekte in einer Liste ausgibt."
   ]
  },
  {
   "cell_type": "code",
   "execution_count": 8,
   "metadata": {},
   "outputs": [
    {
     "name": "stdout",
     "output_type": "stream",
     "text": [
      "Recteck 0 mit Breite 6, Höhe 6, Fläche 36\n",
      "Recteck 1 mit Breite 7, Höhe 10, Fläche 70\n",
      "Recteck 2 mit Breite 9, Höhe 6, Fläche 54\n",
      "Recteck 3 mit Breite 7, Höhe 10, Fläche 70\n",
      "Recteck 4 mit Breite 5, Höhe 11, Fläche 55\n",
      "Recteck 5 mit Breite 10, Höhe 10, Fläche 100\n",
      "Recteck 6 mit Breite 10, Höhe 13, Fläche 130\n",
      "Recteck 7 mit Breite 8, Höhe 6, Fläche 48\n",
      "Recteck 8 mit Breite 8, Höhe 7, Fläche 56\n",
      "Recteck 9 mit Breite 9, Höhe 10, Fläche 90\n"
     ]
    }
   ],
   "source": [
    "import json\n",
    "### Bitte ergänzen Sie hier Ihren Programmcode ###\n",
    "class Rechteck():\n",
    "\n",
    "    def __init__(self, id, width, height):\n",
    "        self.id = id\n",
    "        self.width = width\n",
    "        self.height = height\n",
    "        self.area = self.DetermineArea()\n",
    "\n",
    "    def DetermineArea(self):\n",
    "        return self.width * self.height\n",
    "\n",
    "    def __str__(self):\n",
    "        return f'Recteck {self.id} mit Breite {self.width}, Höhe {self.height}, Fläche {self.area}'\n",
    "    \n",
    "def Load(name):\n",
    "    rec_list = []\n",
    "    with open(name) as file:\n",
    "        data = json.load(file)\n",
    "        for id in data.keys():\n",
    "            rec = Rechteck(id, data[id][\"width\"], data[id][\"height\"])\n",
    "            rec_list.append(rec)\n",
    "\n",
    "    return rec_list\n",
    "\n",
    "\n",
    "\n",
    "### Führen Sie anschließend nachfolgenden Programmcode aus, um Ihre Lösung zu überprüfen ###\n",
    "\n",
    "rectangulars = Load('Rectangulars.json')\n",
    "\n",
    "for rec in rectangulars:\n",
    "    print(rec)\n"
   ]
  },
  {
   "cell_type": "markdown",
   "metadata": {},
   "source": [
    "Erwarteter Output:\n",
    "\n",
    "    Rechteck 0 mit Breite 6, Höhe 6, Fläche 36\n",
    "    Rechteck 1 mit Breite 7, Höhe 10, Fläche 70\n",
    "    Rechteck 2 mit Breite 9, Höhe 6, Fläche 54\n",
    "    Rechteck 3 mit Breite 7, Höhe 10, Fläche 70\n",
    "    Rechteck 4 mit Breite 5, Höhe 11, Fläche 55\n",
    "    Rechteck 5 mit Breite 10, Höhe 10, Fläche 100\n",
    "    Rechteck 6 mit Breite 10, Höhe 13, Fläche 130\n",
    "    Rechteck 7 mit Breite 8, Höhe 6, Fläche 48\n",
    "    Rechteck 8 mit Breite 8, Höhe 7, Fläche 56\n",
    "    Rechteck 9 mit Breite 9, Höhe 10, Fläche 90"
   ]
  },
  {
   "cell_type": "markdown",
   "metadata": {},
   "source": [
    "#### b.) Eine letzte Nachricht\n",
    "#### (4 Punkte)\n",
    "\n",
    "Ihnen wurde eine mysteriöse Nachricht zugeschickt. Zusätzlich zu dieser Nachricht standen auf einem weiteren Zettel nur die Worte \"Veni, vidi, vici.\" und der Hinweis \"Schlüssel ist die 20\".\n",
    "\n",
    "Schreiben Sie eine Funktion `Decrypt`, die die verschlüsselte Nachricht decodieren kann. Achten Sie dabei auf Leerzeichen sowie Sonderzeichen.\n",
    "\n",
    "**Tipp 1:**\n",
    "<details>\n",
    "\n",
    "Informieren Sie sich über die Cäsar-Verschlüsselung und deren Funktionsweise!\n",
    "</details>\n",
    "\n",
    "**Tipp 2:**\n",
    "<details>\n",
    "\n",
    "Informieren Sie sich über die Funktion ``ord(x)`` und achten Sie auf Groß- und Kleinschreibung. Des Weiteren ist auch die Funktion ``.isalpha()`` hilfreich. Letztere lässt sich auf Strings anwenden. \n",
    "</details>"
   ]
  },
  {
   "cell_type": "code",
   "execution_count": 9,
   "metadata": {},
   "outputs": [
    {
     "data": {
      "text/plain": [
       "'Erste Hausaufgabe geschafft! Yippie :)'"
      ]
     },
     "execution_count": 9,
     "metadata": {},
     "output_type": "execute_result"
    }
   ],
   "source": [
    "verschluesselteNachricht = \"Ylmny Buomuozauvy aymwbuzzn! Scjjcy :)\"\n",
    "schluessel = 20\n",
    "\n",
    "### Bitte ergänzen Sie hier Ihren Programmcode ###\n",
    "def Decrypt(text, key):\n",
    "    klartext = ''\n",
    "    for sign in text:\n",
    "        if sign >= 'A' and sign <= \"Z\":\n",
    "            klartext += chr(ord(\"A\")+((ord(sign)-ord(\"A\"))-key) % 26)\n",
    "\n",
    "        elif sign >= 'a' and sign <= \"z\":\n",
    "            klartext += chr(ord(\"a\")+((ord(sign)-ord(\"a\"))-key) % 26)\n",
    "\n",
    "        else:\n",
    "            klartext += sign\n",
    "    return klartext\n",
    "            \n",
    "\n",
    "\n",
    "\n",
    "### Führen Sie anschließend nachfolgenden Programmcode aus, um Ihre Lösung zu überprüfen ###\n",
    "\n",
    "Decrypt(verschluesselteNachricht, schluessel)"
   ]
  }
 ],
 "metadata": {
  "interpreter": {
   "hash": "57baa5815c940fdaff4d14510622de9616cae602444507ba5d0b6727c008cbd6"
  },
  "kernelspec": {
   "display_name": "Python 3.8.5 64-bit ('base': conda)",
   "language": "python",
   "name": "python3"
  },
  "language_info": {
   "codemirror_mode": {
    "name": "ipython",
    "version": 3
   },
   "file_extension": ".py",
   "mimetype": "text/x-python",
   "name": "python",
   "nbconvert_exporter": "python",
   "pygments_lexer": "ipython3",
   "version": "3.8.8"
  },
  "orig_nbformat": 2
 },
 "nbformat": 4,
 "nbformat_minor": 2
}
