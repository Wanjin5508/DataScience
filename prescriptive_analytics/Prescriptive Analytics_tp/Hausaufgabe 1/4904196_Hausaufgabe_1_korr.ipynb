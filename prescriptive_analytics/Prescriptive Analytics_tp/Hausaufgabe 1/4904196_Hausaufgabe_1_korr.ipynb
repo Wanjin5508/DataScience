{
 "cells": [
  {
   "cell_type": "markdown",
   "metadata": {},
   "source": [
    "---\n",
    "## Hausaufgabe 1 - Grundlagen Python & Objektorientierung\n",
    "---\n",
    "\n",
    "### Achtung: Überprüfen Sie vor Abgabe der Hausaufgabe, ob das Notebook richtig gespeichert wurde. \n",
    "Die Speicherung von Notebooks funktioniert über das \"Disketten\"-Symbol im Notebook oder über die Shortcuts Strg + S (Win) und CMD + S (MAC)."
   ]
  },
  {
   "cell_type": "markdown",
   "metadata": {},
   "source": [
    "---\n",
    "## Bewertung\n",
    "---\n",
    "\n",
    "#### Erreichbare Punkte: 25\n",
    "---\n",
    "#### Erreichte Punkte:   24,5\n",
    "---\n",
    "---\n",
    "Aufgabe 1: 6 <br>\n",
    "<br>\n",
    "Aufgabe 2: 6,5 <br>\n",
    "<br>\n",
    "Aufgabe 3: 12 <br>"
   ]
  },
  {
   "cell_type": "markdown",
   "metadata": {},
   "source": [
    "### Aufgabe 1 - Listen & Sortierungen (6 Punkte)\n",
    "\n",
    "Ihnen ist die folgende Liste gegeben.\n"
   ]
  },
  {
   "cell_type": "code",
   "execution_count": 1,
   "metadata": {},
   "outputs": [],
   "source": [
    "thisList = ['Otto', 'Level', 'Leseesel', [1, 2, 3], 'Kajak', 'Mueller', 'Retter', 'Rotor', [5, 6, 7], 'Effe', 'Meier']"
   ]
  },
  {
   "cell_type": "markdown",
   "metadata": {},
   "source": [
    "#### a.) \n",
    "#### (2 Punkte)\n",
    "\n",
    "Erzeugen Sie eine zweite Liste *thisList2*, die die Einträge von *thisList* übernimmt. Jedoch sollen alle Elemente in der neuen Liste umgekehrt sein.\n",
    "Informieren Sie sich dazu über die Möglichkeiten des Index-Operators und nutzen Sie diesen, um die gewünschte Ausgabe zu erzeugen."
   ]
  },
  {
   "cell_type": "code",
   "execution_count": 2,
   "metadata": {},
   "outputs": [
    {
     "name": "stdout",
     "output_type": "stream",
     "text": [
      "['ottO', 'leveL', 'leseeseL', [3, 2, 1], 'kajaK', 'relleuM', 'retteR', 'rotoR', [7, 6, 5], 'effE', 'reieM']\n"
     ]
    }
   ],
   "source": [
    "### Ergänzen Sie hier Ihren Code, um die gewünschte Ausgabe zu erzielen. ###\n",
    "thisList2 = []\n",
    "for item in thisList:\n",
    "    length = len(item) - 1\n",
    "    if type(item) == str:\n",
    "        item2 = ''\n",
    "        while length >= 0:\n",
    "            item2 += item[length]\n",
    "            length -= 1\n",
    "    else:\n",
    "        item2 = []\n",
    "        while length >= 0:\n",
    "            item2.append(item[length])\n",
    "            length -= 1\n",
    "    thisList2.append(item2)\n",
    "\n",
    "\n",
    "\n",
    "\n",
    "### Führen Sie anschließend nachfolgenden Programmcode aus, um Ihre Lösung zu überprüfen ###\n",
    "\n",
    "print(thisList2)\n",
    "\n",
    "## Richtig: 2 Punkte\n",
    "## Sehr umständlich gelöst. Gleiches Ergebnis wird erzielt durch thisList2 = [x[::-1] for x in thisList]"
   ]
  },
  {
   "cell_type": "code",
   "execution_count": 3,
   "metadata": {},
   "outputs": [
    {
     "name": "stdout",
     "output_type": "stream",
     "text": [
      "['ottO', 'leveL', 'leseeseL', [3, 2, 1], 'kajaK', 'relleuM', 'retteR', 'rotoR', [7, 6, 5], 'effE', 'reieM']\n"
     ]
    }
   ],
   "source": [
    "thisList = ['Otto', 'Level', 'Leseesel', [1, 2, 3], 'Kajak', 'Mueller', 'Retter', 'Rotor', [5, 6, 7], 'Effe', 'Meier']\n",
    "\n",
    "\n",
    "thisList2 = [x[::-1] for x in thisList]\n",
    "print(thisList2)\n"
   ]
  },
  {
   "cell_type": "code",
   "execution_count": 8,
   "metadata": {},
   "outputs": [
    {
     "name": "stdout",
     "output_type": "stream",
     "text": [
      "[0, 1, 2, 3, 4]\n",
      "[0, 1, 2, 3, 4]\n",
      "[0, 2, 4]\n"
     ]
    }
   ],
   "source": [
    "a = [0, 1, 2, 3, 4]\n",
    "\n",
    "print(a[0:5])\n",
    "print(a[0: ])\n",
    "print(a[0:5:2])"
   ]
  },
  {
   "cell_type": "markdown",
   "metadata": {},
   "source": [
    "**解析*\n",
    "一般情况下，a[i: j: s] 表示取列表a的第i项到第j-1项，按照步长为s。表示列表的中括号中可以有两个冒号，使用的时候注意冒号的位置。\n",
    "\n",
    "\n",
    "步长s的取值分正负两种情况：\n",
    "当s为正数时：把列表从左到右，按照步长为s进行选取,例如 print(a[0: 5: 2])输出的结果是[0, 2, 4]\n",
    "i的值在默认情况下是0，i总是被包含在输出结果中，例如a[0:5] == a[ :5]\n",
    "j的值在默认情况下是len(a)，也就是列表的长度(5)。j的值不包含在输出结果中，因此a[0: ] 即a[0: 5]可用于输出列表所有元素，因为列表的最大的索引等于列表长度-1。\n",
    "步长s默认是1，也就是在不指定s的值的情况下，s=1。这也符合我们日常的用法。\n",
    "\n",
    "当s为负数时：把列表从右往左按照s进行逆序输出。由于方向改变，i的值默认为 -1，也就是最后一个元素；j默认为 -len(a)。\n",
    "\n",
    "因此采用 a[: : -1]的形式实际上是从列表的最后一个元素向左按照步长s进行选取，也就是逆向输出列表中的每个元素。\n",
    "\n",
    "回到本例中，我们需要生成一个元素顺序颠倒的列表，因此我们还要在外面套一个中括号（list comprehension）用于生成列表。"
   ]
  },
  {
   "cell_type": "markdown",
   "metadata": {},
   "source": [
    "Erwarteter Output:\n",
    "    \n",
    "    '['ottO', 'leveL', 'leseeseL', [3, 2, 1], 'kajaK', 'relleuM', 'retteR', 'rotoR', [7, 6, 5], 'effE', 'reieM']'\n",
    "\n",
    "\n",
    "\n"
   ]
  },
  {
   "cell_type": "markdown",
   "metadata": {},
   "source": [
    "#### b.)\n",
    "#### (1 Punkte)\n",
    "\n",
    "Erzeugen Sie eine dritte Liste *thisList3*, die nur diejenigen Einträge aus *thisList* übernimmt, die den Datentype `str` aufweisen."
   ]
  },
  {
   "cell_type": "code",
   "execution_count": 3,
   "metadata": {},
   "outputs": [
    {
     "name": "stdout",
     "output_type": "stream",
     "text": [
      "['Otto', 'Level', 'Leseesel', 'Kajak', 'Mueller', 'Retter', 'Rotor', 'Effe', 'Meier']\n"
     ]
    }
   ],
   "source": [
    "### Ergänzen Sie hier Ihren Code, um die gewünschte Ausgabe zu erzielen. ###\n",
    "thisList3 = []\n",
    "\n",
    "for item in thisList:\n",
    "    if type(item) == str:\n",
    "        thisList3.append(item)\n",
    "\n",
    "### Führen Sie anschließend nachfolgenden Programmcode aus, um Ihre Lösung zu überprüfen ###\n",
    "\n",
    "print(thisList3)\n",
    "\n",
    "## Richtig: 1 Punkt"
   ]
  },
  {
   "cell_type": "code",
   "execution_count": 10,
   "metadata": {},
   "outputs": [
    {
     "name": "stdout",
     "output_type": "stream",
     "text": [
      "['Otto', 'Level', 'Leseesel', 'Kajak', 'Mueller', 'Retter', 'Rotor', 'Effe', 'Meier']\n"
     ]
    }
   ],
   "source": [
    "thisList3 = []\n",
    "\n",
    "for item in thisList:\n",
    "    if type(item) == str:\n",
    "        thisList3.append(item)\n",
    "\n",
    "print(thisList3)"
   ]
  },
  {
   "cell_type": "markdown",
   "metadata": {},
   "source": [
    "函数\t说明\n",
    "type()\t返回数据结构类型（list、dict、numpy.ndarray 等）\n",
    "dtype()\t\n",
    "返回数据元素的数据类型（int、float等）\n",
    "\n",
    "备注：1）由于 list、dict 等可以包含不同的数据类型，因此不可调用dtype()函数\n",
    "\n",
    "2）np.array 中要求所有元素属于同一数据类型，因此可调用dtype()函数\n",
    "\n",
    "astype()\t\n",
    "改变np.array中所有数据元素的数据类型。\n",
    "\n",
    "备注：能用dtype() 才能用 astype()"
   ]
  },
  {
   "cell_type": "markdown",
   "metadata": {},
   "source": [
    "Erwarteter Output:\n",
    "    \n",
    "    '['Otto', 'Level', 'Leseesel', 'Kajak', 'Mueller', 'Retter', 'Rotor', 'Effe', 'Meier']'"
   ]
  },
  {
   "cell_type": "markdown",
   "metadata": {},
   "source": [
    "#### c.)\n",
    "#### (2 Punkte)\n",
    "\n",
    "In der Liste *evaluations* finden Sie die bereits bekannten Einträge aus *thisList3* zusammen mit weiteren Werten in Tupeln. Sortieren Sie die Einträge von *evaluations* absteigend anhand der **Summe** der Zahleneinträge eines jeden Tupels mithilfe einer `lambda`-Funktion. Geben Sie anschließend das Tupel mit der höchsten Summe aus."
   ]
  },
  {
   "cell_type": "code",
   "execution_count": 4,
   "metadata": {},
   "outputs": [
    {
     "name": "stdout",
     "output_type": "stream",
     "text": [
      "('Meier', 5.956, 2.554, 4.622)\n"
     ]
    }
   ],
   "source": [
    "#import random\n",
    "evaluations = [('Otto', 3.779, 1.238, 0.49), ('Level', 3.961, 5.725, 0.233), ('Leseesel', 3.935, 1.482, 2.41), ('Kajak', 1.989, 2.66, 0.656), ('Mueller', 2.024, 1.427, 3.013), ('Retter', 3.297, 2.36, 3.179), ('Rotor', 1.733, 4.218, 4.972), ('Effe', 3.311, 3.197, 3.991), ('Meier', 5.956, 2.554, 4.622)]\n",
    "\n",
    "### Bitte ergänzen Sie hier Ihren Code ###\n",
    "\n",
    "eva_desc = sorted(evaluations, key = lambda x: sum(x[1: ]), reverse = True)\n",
    "print(eva_desc[0])\n",
    "\n",
    "## Richtig: 2 Punkte"
   ]
  },
  {
   "cell_type": "code",
   "execution_count": 13,
   "metadata": {},
   "outputs": [
    {
     "name": "stdout",
     "output_type": "stream",
     "text": [
      "[('Meier', 5.956, 2.554, 4.622), ('Rotor', 1.733, 4.218, 4.972), ('Effe', 3.311, 3.197, 3.991), ('Level', 3.961, 5.725, 0.233), ('Retter', 3.297, 2.36, 3.179), ('Leseesel', 3.935, 1.482, 2.41), ('Mueller', 2.024, 1.427, 3.013), ('Otto', 3.779, 1.238, 0.49), ('Kajak', 1.989, 2.66, 0.656)]\n",
      "('Meier', 5.956, 2.554, 4.622)\n"
     ]
    }
   ],
   "source": [
    "evaluations = [('Otto', 3.779, 1.238, 0.49), ('Level', 3.961, 5.725, 0.233), ('Leseesel', 3.935, 1.482, 2.41), ('Kajak', 1.989, 2.66, 0.656), ('Mueller', 2.024, 1.427, 3.013), ('Retter', 3.297, 2.36, 3.179), ('Rotor', 1.733, 4.218, 4.972), ('Effe', 3.311, 3.197, 3.991), ('Meier', 5.956, 2.554, 4.622)]\n",
    "\n",
    "sortEva = sorted(evaluations, key = lambda x: sum(x[1: ]), reverse=True)\n",
    "\n",
    "print(sortEva)\n",
    "print(sortEva[0])"
   ]
  },
  {
   "cell_type": "markdown",
   "metadata": {},
   "source": [
    "Erwarteter Output:\n",
    "\n",
    "    ('Meier', 5.956, 2.554, 4.622)"
   ]
  },
  {
   "cell_type": "markdown",
   "metadata": {},
   "source": [
    "#### d.)\n",
    "#### (1 Punkte)\n",
    "\n",
    "Oh nein! Leider wurde die Liste leicht beschädigt, sodass nun zusätzliche Listen innerhalb der eigentlichen Listen entstanden sind. Bitte führen Sie die Liste *thisList3Corrupted* mit einem **Python-Ausdruck** wieder in den Ursprungszustand zurück."
   ]
  },
  {
   "cell_type": "code",
   "execution_count": 5,
   "metadata": {},
   "outputs": [
    {
     "name": "stdout",
     "output_type": "stream",
     "text": [
      "['Otto', 'Level', 'Leseesel', 'Kajak', 'Mueller', 'Retter', 'Rotor', 'Effe', 'Meier']\n"
     ]
    }
   ],
   "source": [
    "thisList3Corrupted = ['Otto', ['Level', 'Leseesel', 'Kajak'], ['Mueller'], 'Retter', 'Rotor', ['Effe', 'Meier']]\n",
    "\n",
    "### Bitte ergänzen Sie hier Ihren Code ###\n",
    "thisList3Repaired = []\n",
    "for item in thisList3Corrupted:\n",
    "    if type(item) == str:\n",
    "        thisList3Repaired.append(item)\n",
    "    else: \n",
    "        for element in item:\n",
    "            thisList3Repaired.append(element)\n",
    "\n",
    "### Führen Sie anschließend nachfolgenden Programmcode aus, um Ihre Lösung zu überprüfen ###\n",
    "\n",
    "print(thisList3Repaired)\n",
    "## Richtig: 1 Punkt"
   ]
  },
  {
   "cell_type": "code",
   "execution_count": 14,
   "metadata": {},
   "outputs": [
    {
     "name": "stdout",
     "output_type": "stream",
     "text": [
      "['Otto', 'Level', 'Leseesel', 'Kajak', 'Mueller', 'Retter', 'Rotor', 'Effe', 'Meier']\n"
     ]
    }
   ],
   "source": [
    "thisList3Corrupted = ['Otto', ['Level', 'Leseesel', 'Kajak'], ['Mueller'], 'Retter', 'Rotor', ['Effe', 'Meier']]\n",
    "\n",
    "thisList3Repaired = []\n",
    "\n",
    "for item in thisList3Corrupted:\n",
    "    if type(item) == str:\n",
    "        thisList3Repaired.append(item)\n",
    "    else:\n",
    "        for i in item:\n",
    "            thisList3Repaired.append(i)\n",
    "\n",
    "print(thisList3Repaired) "
   ]
  },
  {
   "cell_type": "code",
   "execution_count": 18,
   "metadata": {},
   "outputs": [
    {
     "name": "stdout",
     "output_type": "stream",
     "text": [
      "['Otto', 'Level', 'Leseesel', 'Kajak', 'Mueller', 'Retter', 'Rotor', 'Effe', 'Meier']\n"
     ]
    }
   ],
   "source": [
    "thisList3Corrupted = ['Otto', ['Level', 'Leseesel', 'Kajak'], ['Mueller'], 'Retter', 'Rotor', ['Effe', 'Meier']]\n",
    "\n",
    "thisList3Repaired = []\n",
    "\n",
    "for item in thisList3Corrupted:\n",
    "    if type(item) == str:\n",
    "        thisList3Repaired.append(item)\n",
    "    else:\n",
    "        thisList3Repaired.extend(item)\n",
    "\n",
    "print(thisList3Repaired) "
   ]
  },
  {
   "cell_type": "markdown",
   "metadata": {},
   "source": [
    "Erwarteter Output:\n",
    "\n",
    "    ['Otto', 'Level', 'Leseesel', 'Kajak', 'Mueller', 'Retter', 'Rotor', 'Effe', 'Meier']"
   ]
  },
  {
   "cell_type": "markdown",
   "metadata": {},
   "source": [
    "### Aufgabe 2 - Einfache Funktionen (7 Punkte)\n",
    "\n",
    "#### a.)\n",
    "#### (4 Punkte)\n",
    "\n",
    "Sie haben gemerkt, dass manche Einträge der Liste *thisList* eine besondere Eigenschaft besitzen. Es handelt sich bei einigen Einträgen um Palindrome, die rückwärts gelesen genau denselben Text ergeben, wie in der eigentlichen Leserichtung.\n",
    "\n",
    "Um nun möglichst schnell herauszufinden, welche Einträge einer Liste Palindrome darstellen, schreiben Sie bitte eine Funktion `CheckForPalindroms`, der eine **Liste** übergeben wird. Als Rückgabewert soll die Funktion anschließend in einer Liste die Indices der Elemente zurückgeben, die als Palindrom identifiziert wurden.\n",
    "\n",
    "**Tipp:**\n",
    "<details>\n",
    "\n",
    "Achten Sie darauf, dass gilt: 'a' != 'A'. Finden Sie also zunächst eine Funktion, um die Strings zu formatieren.\n",
    "</details>"
   ]
  },
  {
   "cell_type": "code",
   "execution_count": 6,
   "metadata": {},
   "outputs": [
    {
     "data": {
      "text/plain": [
       "[0, 1, 2, 4, 6, 7, 9]"
      ]
     },
     "execution_count": 6,
     "metadata": {},
     "output_type": "execute_result"
    }
   ],
   "source": [
    "thisList = ['Otto', 'Level', 'Leseesel', [1, 2, 3], 'Kajak', 'Mueller', 'Retter', 'Rotor', [5, 6, 7], 'Effe', 'Meier']\n",
    "\n",
    "### Bitte ergänzen Sie hier Ihren Programmcode ###\n",
    "def CheckForPalindroms(list):\n",
    "    ind_list = []\n",
    "    for i in range(len(list)):\n",
    "        if type(list[i]) == str:\n",
    "            low=list[i].lower()\n",
    "            \n",
    "            if low[::-1] == low:\n",
    "                ind_list.append(i)\n",
    "    return ind_list\n",
    "\n",
    "        \n",
    "\n",
    "\n",
    "### Führen Sie anschließend nachfolgenden Programmcode aus, um Ihre Lösung zu überprüfen ###\n",
    "\n",
    "CheckForPalindroms(thisList)\n",
    "\n",
    "## Richtig: 4 Punkte"
   ]
  },
  {
   "cell_type": "code",
   "execution_count": 19,
   "metadata": {},
   "outputs": [
    {
     "data": {
      "text/plain": [
       "[0, 1, 2, 4, 6, 7, 9]"
      ]
     },
     "execution_count": 19,
     "metadata": {},
     "output_type": "execute_result"
    }
   ],
   "source": [
    "thisList = ['Otto', 'Level', 'Leseesel', [1, 2, 3], 'Kajak', 'Mueller', 'Retter', 'Rotor', [5, 6, 7], 'Effe', 'Meier']\n",
    "\n",
    "def CheckForPalindroms(list):\n",
    "    index_list = []\n",
    "    for i in range(len(list)):\n",
    "        if type(list[i]) == str:\n",
    "            element = list[i].upper()\n",
    "            if element == element[::-1]:\n",
    "                index_list.append(i)\n",
    "        else:\n",
    "            if list[i] == list[i][::-1]:\n",
    "                index_list.append(i)\n",
    "\n",
    "    return index_list\n",
    "\n",
    "CheckForPalindroms(thisList)"
   ]
  },
  {
   "cell_type": "markdown",
   "metadata": {},
   "source": [
    "Erwarteter Output:\n",
    "\n",
    "    \n",
    "    [0, 1, 2, 4, 6, 7, 9]\n",
    "\n",
    "\n",
    "\n",
    "\n",
    "\n",
    "\n"
   ]
  },
  {
   "cell_type": "markdown",
   "metadata": {},
   "source": [
    "#### b.)\n",
    "#### (3 Punkte)\n",
    "\n",
    "Schreiben Sie eine Funktion ``splitNumber``, die eine ihr übergebene Gleitkommazahl in deren ganzzahligen Teil und den Dezimal-Teil aufteilt und beides zusammen als Tupel ausgibt. Nutzen Sie dafür **ausschließlich die Ihnen bekannten Operatoren** und **keine built-in-Funktionen**.\n",
    "\n",
    "Für den Fall, dass keine Zahl übergeben wird, soll eine `Exception` als `TypeError` ausgegeben werden. Informieren Sie sich dazu zum Konstrukt *try-except* und wenden dieses an."
   ]
  },
  {
   "cell_type": "code",
   "execution_count": 11,
   "metadata": {},
   "outputs": [
    {
     "name": "stdout",
     "output_type": "stream",
     "text": [
      "(3, 0.56)\n",
      "invalid literal for int() with base 10: 'Hallo'\n",
      "TypeError: Input has wrong type!\n",
      "None\n"
     ]
    }
   ],
   "source": [
    "### Bitte ergänzen Sie hier Ihren Programmcode ###\n",
    "def splitNumber(num):\n",
    "    try:\n",
    "        num_ganz = int(num)\n",
    "        num_dez = num-num_ganz\n",
    "        return (num_ganz, num_dez)\n",
    "\n",
    "\n",
    "    except ValueError as e:\n",
    "        print(e)\n",
    "        print(\"TypeError: Input has wrong type!\")\n",
    "\n",
    "### Führen Sie anschließend nachfolgenden Programmcode aus, um Ihre Lösung zu überprüfen ###\n",
    "\n",
    "print(splitNumber(3.56))\n",
    "print(splitNumber(\"Hallo\"))\n",
    "\n",
    "## Richtig: 2,5 Punkte\n",
    "## 0,5 Punkte Abzug, da ValueError statt TypeError genutzt"
   ]
  },
  {
   "cell_type": "code",
   "execution_count": 25,
   "metadata": {},
   "outputs": [
    {
     "name": "stdout",
     "output_type": "stream",
     "text": [
      "(3, 0.56)\n",
      "TypeError: Input has wrong type!\n",
      "None\n"
     ]
    }
   ],
   "source": [
    "def splitNumber(num):\n",
    "    try:\n",
    "        int_num = int(num)\n",
    "        dec_num = num - int_num\n",
    "        return(int_num, dec_num)\n",
    "\n",
    "    except ValueError :\n",
    "        print('TypeError: Input has wrong type!')\n",
    "\n",
    "print(splitNumber(3.56))\n",
    "print(splitNumber('Hello'))"
   ]
  },
  {
   "cell_type": "markdown",
   "metadata": {},
   "source": [
    "Erwarteter Output:\n",
    "\n",
    "    (3, 0.56)\n",
    "    \n",
    "    ...(Hier steht eine Fehlerbeschreibung)...\n",
    "\n",
    "    TypeError: Input has wrong type!"
   ]
  },
  {
   "cell_type": "markdown",
   "metadata": {},
   "source": [
    "### Aufgabe 3 - Klassendefinition & Weitere Funktionen (12 Punkte)\n",
    "\n",
    "#### a.) Die Rechteck-Klasse\n",
    "#### (8 Punkte)\n",
    "\n",
    "Erstellen Sie eine Klasse *Rechteck*, die als Parameter eine Id *id*, eine Breite *width* und eine Höhe *height* entgegennimmt. Die Methode `DetermineArea()` soll die Fläche des Rechtecks berechnen. Diese Methode soll direkt in der `__init__()`-Methode aufgerufen werden. Zusätzlich soll die `__str__()`-Methode für eine entsprechende Ausgabe sorgen.\n",
    "\n",
    "Anschließend definieren Sie eine Funktion `Load` (diese ist nicht Teil der Klasse *Rechteck*), welche die Datei `Rectangulars.json` einliest, aus den enthaltenen Informationen Objekte der Klasse *Rechteck* erzeugt und alle Objekte in einer Liste ausgibt."
   ]
  },
  {
   "cell_type": "code",
   "execution_count": 26,
   "metadata": {},
   "outputs": [
    {
     "name": "stdout",
     "output_type": "stream",
     "text": [
      "[<__main__.Rechteck object at 0x000001B2F4F798B0>, <__main__.Rechteck object at 0x000001B2F4F79730>, <__main__.Rechteck object at 0x000001B2F4F79AC0>, <__main__.Rechteck object at 0x000001B2F4F79A00>, <__main__.Rechteck object at 0x000001B2F4F79520>, <__main__.Rechteck object at 0x000001B2F4F79940>, <__main__.Rechteck object at 0x000001B2F4F799A0>, <__main__.Rechteck object at 0x000001B2F4F79FA0>, <__main__.Rechteck object at 0x000001B2F4F79F40>, <__main__.Rechteck object at 0x000001B2F4F79E80>]\n"
     ]
    }
   ],
   "source": [
    "import json\n",
    "### Bitte ergänzen Sie hier Ihren Programmcode ###\n",
    "class Rechteck():\n",
    "\n",
    "    def __init__(self, id, width, height):\n",
    "        self.id = id\n",
    "        self.width = width\n",
    "        self.height = height\n",
    "        self.area = self.DetermineArea()\n",
    "\n",
    "    def DetermineArea(self):\n",
    "        return self.width * self.height\n",
    "\n",
    "    def __str__(self):\n",
    "        return f'Recteck {self.id} mit Breite {self.width}, Höhe {self.height}, Fläche {self.area}'\n",
    "    \n",
    "def Load(name):\n",
    "    rec_list = []\n",
    "    with open(name) as file:\n",
    "        data = json.load(file)\n",
    "        for id in data.keys():\n",
    "            rec = Rechteck(id, data[id][\"width\"], data[id][\"height\"])\n",
    "            rec_list.append(rec)\n",
    "\n",
    "    return rec_list\n",
    "\n",
    "\n",
    "\n",
    "### Führen Sie anschließend nachfolgenden Programmcode aus, um Ihre Lösung zu überprüfen ###\n",
    "\n",
    "rectangulars = Load('Rectangulars.json')\n",
    "\n",
    "# for rec in rectangulars:\n",
    "#     print(rec)\n",
    "print(rectangulars)  # 这个print作用于由对象组成的列表而不是对象，因此str函数不会调用\n",
    "## Richtig: 8 Punkte"
   ]
  },
  {
   "cell_type": "code",
   "execution_count": 30,
   "metadata": {},
   "outputs": [
    {
     "name": "stdout",
     "output_type": "stream",
     "text": [
      "[<__main__.Rectangle object at 0x000001B2F4F4AC10>, <__main__.Rectangle object at 0x000001B2F50F7BE0>, <__main__.Rectangle object at 0x000001B2F4F3C310>, <__main__.Rectangle object at 0x000001B2F4F3C6D0>, <__main__.Rectangle object at 0x000001B2F4F80130>, <__main__.Rectangle object at 0x000001B2F4F801C0>, <__main__.Rectangle object at 0x000001B2F4F80E50>, <__main__.Rectangle object at 0x000001B2F4F809A0>, <__main__.Rectangle object at 0x000001B2F4F80880>, <__main__.Rectangle object at 0x000001B2F4F80FA0>]\n",
      "Rectangle 0 with width 6, height 6, area 36\n",
      "Rectangle 1 with width 7, height 10, area 70\n",
      "Rectangle 2 with width 9, height 6, area 54\n",
      "Rectangle 3 with width 7, height 10, area 70\n",
      "Rectangle 4 with width 5, height 11, area 55\n",
      "Rectangle 5 with width 10, height 10, area 100\n",
      "Rectangle 6 with width 10, height 13, area 130\n",
      "Rectangle 7 with width 8, height 6, area 48\n",
      "Rectangle 8 with width 8, height 7, area 56\n",
      "Rectangle 9 with width 9, height 10, area 90\n"
     ]
    }
   ],
   "source": [
    "import json\n",
    "\n",
    "class Rectangle:\n",
    "    def __init__(self, id, width, height):\n",
    "        # 小写字母来自参数表，大写字母才是类的属性！！\n",
    "        # 想知道构造方法的参数表，可以看一下json文件，也就是我们手头有什么数据可以用于构造对象\n",
    "        self.ID = id\n",
    "        self.Width = width\n",
    "        self.Height = height\n",
    "\n",
    "        # 注意：面积虽然也是属性，但是我们不能把面积写到类的构造方法中去！！\n",
    "        self.Area = self.DetermineArea()\n",
    "\n",
    "    def DetermineArea(self):\n",
    "        area = self.Width * self.Height\n",
    "        return area\n",
    "        # return self.Width * self.Height\n",
    "\n",
    "    def __str__(self):\n",
    "        return f'Rectangle {self.ID} with width {self.Width}, height {self.Height}, area {self.Area}'\n",
    "        # 注意这里不能用print，不然会输出None\n",
    "\n",
    "    \n",
    "def Load(path):\n",
    "    recList = []\n",
    "\n",
    "    with open(path) as file:\n",
    "        data = json.load(file) # data 的类型是字典\n",
    "\n",
    "        for id in data.keys():\n",
    "            rec = Rectangle(id, data[id]['width'], data[id]['height'])\n",
    "            recList.append(rec)\n",
    "\n",
    "    return recList\n",
    "\n",
    "# 从文件中读入数据\n",
    "rectangles = Load(\"Rectangulars.json\")  # rectangles 的类型是list，元素是长方形对象\n",
    "\n",
    "# 打印由对象组成的列表，输出一个由对象地址组成的列表\n",
    "print(rectangles)\n",
    "\n",
    "# 遍历对象列表并打印，这样才能调用str函数，输出我们想要的信息\n",
    "for rec in rectangles:\n",
    "    print(rec)\n",
    "\n",
    "\n",
    "\n",
    "\n",
    "        "
   ]
  },
  {
   "cell_type": "markdown",
   "metadata": {},
   "source": [
    "Erwarteter Output:\n",
    "\n",
    "    Rechteck 0 mit Breite 6, Höhe 6, Fläche 36\n",
    "    Rechteck 1 mit Breite 7, Höhe 10, Fläche 70\n",
    "    Rechteck 2 mit Breite 9, Höhe 6, Fläche 54\n",
    "    Rechteck 3 mit Breite 7, Höhe 10, Fläche 70\n",
    "    Rechteck 4 mit Breite 5, Höhe 11, Fläche 55\n",
    "    Rechteck 5 mit Breite 10, Höhe 10, Fläche 100\n",
    "    Rechteck 6 mit Breite 10, Höhe 13, Fläche 130\n",
    "    Rechteck 7 mit Breite 8, Höhe 6, Fläche 48\n",
    "    Rechteck 8 mit Breite 8, Höhe 7, Fläche 56\n",
    "    Rechteck 9 mit Breite 9, Höhe 10, Fläche 90"
   ]
  },
  {
   "cell_type": "markdown",
   "metadata": {},
   "source": [
    "#### b.) Eine letzte Nachricht\n",
    "#### (4 Punkte)\n",
    "\n",
    "Ihnen wurde eine mysteriöse Nachricht zugeschickt. Zusätzlich zu dieser Nachricht standen auf einem weiteren Zettel nur die Worte \"Veni, vidi, vici.\" und der Hinweis \"Schlüssel ist die 20\".\n",
    "\n",
    "Schreiben Sie eine Funktion `Decrypt`, die die verschlüsselte Nachricht decodieren kann. Achten Sie dabei auf Leerzeichen sowie Sonderzeichen.\n",
    "\n",
    "**Tipp 1:**\n",
    "<details>\n",
    "\n",
    "Informieren Sie sich über die Cäsar-Verschlüsselung und deren Funktionsweise!\n",
    "</details>\n",
    "\n",
    "**Tipp 2:**\n",
    "<details>\n",
    "\n",
    "Informieren Sie sich über die Funktion ``ord(x)`` und achten Sie auf Groß- und Kleinschreibung. Des Weiteren ist auch die Funktion ``.isalpha()`` hilfreich. Letztere lässt sich auf Strings anwenden. \n",
    "</details>"
   ]
  },
  {
   "cell_type": "code",
   "execution_count": 13,
   "metadata": {},
   "outputs": [
    {
     "data": {
      "text/plain": [
       "'Erste Hausaufgabe geschafft! Yippie :)'"
      ]
     },
     "execution_count": 13,
     "metadata": {},
     "output_type": "execute_result"
    }
   ],
   "source": [
    "verschluesselteNachricht = \"Ylmny Buomuozauvy aymwbuzzn! Scjjcy :)\"\n",
    "schluessel = 20\n",
    "\n",
    "### Bitte ergänzen Sie hier Ihren Programmcode ###\n",
    "def Decrypt(text, key):\n",
    "    klartext = ''\n",
    "    for sign in text:\n",
    "        if sign >= 'A' and sign <= \"Z\":\n",
    "            klartext += chr(ord(\"A\")+((ord(sign)-ord(\"A\"))-key) % 26)\n",
    "\n",
    "        elif sign >= 'a' and sign <= \"z\":\n",
    "            klartext += chr(ord(\"a\")+((ord(sign)-ord(\"a\"))-key) % 26)\n",
    "\n",
    "        else:\n",
    "            klartext += sign\n",
    "    return klartext\n",
    "            \n",
    "\n",
    "\n",
    "\n",
    "### Führen Sie anschließend nachfolgenden Programmcode aus, um Ihre Lösung zu überprüfen ###\n",
    "\n",
    "Decrypt(verschluesselteNachricht, schluessel)\n",
    "\n",
    "## Richtig: 4 Punkte"
   ]
  },
  {
   "cell_type": "code",
   "execution_count": 31,
   "metadata": {},
   "outputs": [
    {
     "data": {
      "text/plain": [
       "'Erste Hausaufgabe geschafft! Yippie :)'"
      ]
     },
     "execution_count": 31,
     "metadata": {},
     "output_type": "execute_result"
    }
   ],
   "source": [
    "ciphertext = \"Ylmny Buomuozauvy aymwbuzzn! Scjjcy :)\"\n",
    "key = 20\n",
    "\n",
    "def Decrypt(text, key):\n",
    "    message = '' # 这里是明文，初始化为空字符。python中的str类型可以用加号连接也可以遍历\n",
    "\n",
    "    for sign in text:\n",
    "        if sign >= 'A' and sign <= 'Z':  # 判断sign是否位于大写字母A到Z之间\n",
    "            message += chr(ord('A') + ((ord(sign)-ord(\"A\"))-key) % 26)\n",
    "\n",
    "        elif sign >= 'a' and sign <= \"z\":\n",
    "            message += chr(ord(\"a\")+((ord(sign)-ord(\"a\"))-key) % 26)\n",
    "\n",
    "        else: # sign是特殊符号的情况\n",
    "            message += sign\n",
    "\n",
    "    return message\n",
    "\n",
    "Decrypt(ciphertext, key)\n"
   ]
  }
 ],
 "metadata": {
  "interpreter": {
   "hash": "7758e92e9a61d7a3490898707f7eeb937c85e9d1e8d4e877cc6c187218f226d5"
  },
  "kernelspec": {
   "display_name": "Python 3.9.12 ('base')",
   "language": "python",
   "name": "python3"
  },
  "language_info": {
   "codemirror_mode": {
    "name": "ipython",
    "version": 3
   },
   "file_extension": ".py",
   "mimetype": "text/x-python",
   "name": "python",
   "nbconvert_exporter": "python",
   "pygments_lexer": "ipython3",
   "version": "3.9.12"
  },
  "orig_nbformat": 2
 },
 "nbformat": 4,
 "nbformat_minor": 2
}
