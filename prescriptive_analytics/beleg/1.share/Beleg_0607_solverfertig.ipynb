version https://git-lfs.github.com/spec/v1
oid sha256:2f6efb768bc1db2fe8388ec50fe803e19e9ac668f90a70b92909e9e8deffba4f
size 595931
