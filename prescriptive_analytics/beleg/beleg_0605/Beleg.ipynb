version https://git-lfs.github.com/spec/v1
oid sha256:24f12c61ad6386664448c818ff3f3ba696b67997db44c0cd49d40615853e77e9
size 27173
