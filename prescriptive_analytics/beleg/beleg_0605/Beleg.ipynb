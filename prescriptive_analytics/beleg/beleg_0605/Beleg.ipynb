{
 "cells": [
  {
   "cell_type": "code",
   "execution_count": 78,
   "metadata": {},
   "outputs": [],
   "source": [
    "# 安装用到的库\n",
    "import json\n",
    "import numpy as np"
   ]
  },
  {
   "cell_type": "code",
   "execution_count": 79,
   "metadata": {},
   "outputs": [],
   "source": [
    "# 这个类的目的是把json文件读入成字典格式，该类把json文件中的size，A，D和M分别\n",
    "# 设置为类的四个属性。\n",
    "class InputData:\n",
    "    def __init__(self, path):\n",
    "        self.__path = path\n",
    "        self.DataLoad()\n",
    "\n",
    "    def DataLoad(self):\n",
    "        with open(self.__path, \"r\") as inputFile:\n",
    "            inputData = json.load(inputFile)\n",
    "\n",
    "        self.Size = inputData[\"Size\"]\n",
    "\n",
    "        # 使用数组是为了更加直观np.array()\n",
    "        self.Transport_Matrix = np.array(inputData['A']) # 运输数量矩阵，从设备 i 到设备 j\n",
    "        self.Distance_Matrix = np.array(inputData['D'])  # Station之间的距离矩阵，从k到l\n",
    "        self.Mind_Entfernung = np.array(inputData['M'])  # 设备Anlage i和j之间，至少应保持的距离\n",
    "\n",
    "    def __str__(self):\n",
    "        # str函数用于直接打印inputData对象时，输出这个json文件涉及多少个设备的排列问题\n",
    "        return f'Quadratic Assignment Problem von {self.Size} Anlagen. '\n",
    "\n",
    "\n"
   ]
  },
  {
   "cell_type": "code",
   "execution_count": 81,
   "metadata": {},
   "outputs": [
    {
     "name": "stdout",
     "output_type": "stream",
     "text": [
      "12\n",
      "Quadratic Assignment Problem von 12 Anlagen. \n",
      "[[0 1 2 3 1 2 3 4 2 3 4 5]\n",
      " [1 0 1 2 2 1 2 3 3 2 3 4]\n",
      " [2 1 0 1 3 2 1 2 4 3 2 3]\n",
      " [3 2 1 0 4 3 2 1 5 4 3 2]\n",
      " [1 2 3 4 0 1 2 3 1 2 3 4]\n",
      " [2 1 2 3 1 0 1 2 2 1 2 3]\n",
      " [3 2 1 2 2 1 0 1 3 2 1 2]\n",
      " [4 3 2 1 3 2 1 0 4 3 2 1]\n",
      " [2 3 4 5 1 2 3 4 0 1 2 3]\n",
      " [3 2 3 4 2 1 2 3 1 0 1 2]\n",
      " [4 3 2 3 3 2 1 2 2 1 0 1]\n",
      " [5 4 3 2 4 3 2 1 3 2 1 0]]\n",
      "<class 'numpy.ndarray'>\n",
      "1\n"
     ]
    }
   ],
   "source": [
    "data = InputData('scr12.json')\n",
    "print(data.Size)\n",
    "print(data)\n",
    "print(data.Distance_Matrix)\n",
    "print(type(data.Distance_Matrix))\n",
    "print(data.Distance_Matrix[0][1])"
   ]
  },
  {
   "cell_type": "code",
   "execution_count": 82,
   "metadata": {},
   "outputs": [],
   "source": [
    "data_15 = InputData(\"scr15.json\")\n",
    "data_20 = InputData(\"scr20.json\")\n",
    "data_25 = InputData(\"tai25b.json\")"
   ]
  },
  {
   "cell_type": "code",
   "execution_count": 26,
   "metadata": {},
   "outputs": [],
   "source": [
    "## 验证对称性\n",
    "def checkSymA(data):\n",
    "    result = 0\n",
    "    for i in range(data.Size):\n",
    "        for j in range(data.Size):\n",
    "            if data.Transport_Matrix[i][j] != data.Transport_Matrix[j][i]:\n",
    "                result += 1\n",
    "                \n",
    "            else:\n",
    "                result += 0\n",
    "\n",
    "    return result\n",
    "\n",
    "def checkSymD(data):\n",
    "    result = 0\n",
    "    for i in range(data.Size):\n",
    "        for j in range(data.Size):\n",
    "            if data.Distance_Matrix[i][j] != data.Distance_Matrix[j][i]:\n",
    "                result += 1\n",
    "                \n",
    "            else:\n",
    "                result += 0\n",
    "\n",
    "    return result\n",
    "\n",
    "def checkSymM(data):\n",
    "    result = 0\n",
    "    for i in range(data.Size):\n",
    "        # 因为矩阵的行数等于列数，也就是size\n",
    "        for j in range(data.Size):\n",
    "            if data.Mind_Entfernung[i][j] != data.Mind_Entfernung[j][i]:\n",
    "                result += 1\n",
    "                \n",
    "            else:\n",
    "                result += 0\n",
    "\n",
    "    return result"
   ]
  },
  {
   "cell_type": "code",
   "execution_count": 27,
   "metadata": {},
   "outputs": [
    {
     "name": "stdout",
     "output_type": "stream",
     "text": [
      "0\n",
      "0\n",
      "0\n",
      "0\n"
     ]
    }
   ],
   "source": [
    "# 经过下面三个单元格的输出可知，4个文件中的A矩阵都是对称的，\n",
    "# 25台设备的情况下，D矩阵和M矩阵不对称，D不对称是由单行线导致，M不对称可能是不同机器的对最近距离的要求不同。\n",
    "# scr12，15和20的情况下，三个矩阵都是对称的，解决问题时只需要考虑是否要将最近距离M考虑在内，可以用子类和父类来做\n",
    "# 父类是不考虑机器之间应保持的最近距离，只用A和D矩阵来做，而子类需要重写父类的运算过程，加一个if，判断\n",
    "# 对应位置的距离D和对应机器的最小距离M哪个更大，更大的那个用来做计算。这个计算过程不一定要一步一步算，可以先来\n",
    "# 构建一个用于计算的距离矩阵（这个矩阵包含D中和M中更大的那个值），然后用这个矩阵和A矩阵做矩阵相乘, 然后用.sum()\n",
    "print(checkSymA(data))\n",
    "print(checkSymA(data_15))\n",
    "print(checkSymA(data_20))\n",
    "print(checkSymA(data_25))"
   ]
  },
  {
   "cell_type": "code",
   "execution_count": 28,
   "metadata": {},
   "outputs": [
    {
     "name": "stdout",
     "output_type": "stream",
     "text": [
      "0\n",
      "0\n",
      "0\n",
      "498\n"
     ]
    }
   ],
   "source": [
    "print(checkSymD(data))\n",
    "print(checkSymD(data_15))\n",
    "print(checkSymD(data_20))\n",
    "print(checkSymD(data_25))"
   ]
  },
  {
   "cell_type": "code",
   "execution_count": 29,
   "metadata": {},
   "outputs": [
    {
     "name": "stdout",
     "output_type": "stream",
     "text": [
      "0\n",
      "0\n",
      "0\n",
      "36\n"
     ]
    }
   ],
   "source": [
    "print(checkSymM(data))\n",
    "print(checkSymM(data_15))\n",
    "print(checkSymM(data_20))\n",
    "print(checkSymM(data_25))"
   ]
  },
  {
   "cell_type": "code",
   "execution_count": 84,
   "metadata": {},
   "outputs": [
    {
     "name": "stdout",
     "output_type": "stream",
     "text": [
      "[[2 8]\n",
      " [3 6]]\n",
      "19\n",
      "[ 5 14]\n",
      "2\n",
      "2\n"
     ]
    }
   ],
   "source": [
    "# 矩阵或数组之间相乘，得到的结果是对应位置元素之间相乘的结果\n",
    "a = np.array([[1,2], [3,2]])\n",
    "b = np.array([[2,4], [1,3]])\n",
    "print(a*b)\n",
    "print((a*b).sum())\n",
    "print(sum(a*b))\n",
    "print(len(a))\n",
    "print(len(a*b))"
   ]
  },
  {
   "cell_type": "code",
   "execution_count": 31,
   "metadata": {},
   "outputs": [
    {
     "name": "stdout",
     "output_type": "stream",
     "text": [
      "[0, 1, 2, 3, 4, 5, 6, 7, 8, 9, 10, 11]\n"
     ]
    }
   ],
   "source": [
    "print(list(range(data.Size)))"
   ]
  },
  {
   "cell_type": "code",
   "execution_count": 32,
   "metadata": {},
   "outputs": [
    {
     "name": "stdout",
     "output_type": "stream",
     "text": [
      "50116\n",
      "[1180 8742 3208 9982 1755 2902 8129 2805 2790 4874  709 3040]\n"
     ]
    }
   ],
   "source": [
    "gesamt_12 = data.Distance_Matrix * data.Transport_Matrix\n",
    "print(gesamt_12.sum())\n",
    "print(sum(gesamt_12))"
   ]
  },
  {
   "cell_type": "code",
   "execution_count": 33,
   "metadata": {},
   "outputs": [
    {
     "name": "stdout",
     "output_type": "stream",
     "text": [
      "[1, 2, 3]\n"
     ]
    }
   ],
   "source": [
    "import copy\n",
    "robot=[1,2,3]\n",
    "see=[]\n",
    "see=copy.deepcopy(robot)\n",
    "print(see)"
   ]
  },
  {
   "cell_type": "code",
   "execution_count": 85,
   "metadata": {},
   "outputs": [
    {
     "name": "stdout",
     "output_type": "stream",
     "text": [
      "12\n",
      "OutputData: \n",
      "Quadratic Assignment Problem von 12 Anlagen, mit einer initiallen Transportleistung von 50116.\n",
      "OutputData: \n",
      "Quadratic Assignment Problem von 12 Anlagen, mit einer initiallen Transportleistung von 50998.\n",
      "[[0 1 2 3 1 2 3 4 2 3 4 5]\n",
      " [1 0 1 2 2 1 2 3 3 2 3 4]\n",
      " [2 1 0 1 3 2 1 2 4 3 2 3]\n",
      " [3 2 1 0 4 3 2 1 5 4 3 2]\n",
      " [1 2 3 4 0 1 2 3 1 2 3 4]\n",
      " [2 1 2 3 1 0 1 2 2 1 2 3]\n",
      " [3 2 1 2 2 1 0 1 3 2 1 2]\n",
      " [4 3 2 1 3 2 1 0 4 3 2 1]\n",
      " [2 3 4 5 1 2 3 4 0 1 2 3]\n",
      " [3 2 3 4 2 1 2 3 1 0 1 2]\n",
      " [4 3 2 3 3 2 1 2 2 1 0 1]\n",
      " [5 4 3 2 4 3 2 1 3 2 1 0]]\n"
     ]
    }
   ],
   "source": [
    "# 这个类是将输入的数据进行预处理，以输出gesamtTransportLeistung（分两种情况）作为属性。\n",
    "# 类似讲义中的ProcessingTime\n",
    "# 用inputData作为输入\n",
    "import copy\n",
    "class OutputData:\n",
    "    def __init__(self, inputData, withMinimumDistance = False):\n",
    "        self.InputData = inputData\n",
    "        self.Size = self.InputData.Size\n",
    "        self.A = self.InputData.Transport_Matrix\n",
    "        self.D = self.InputData.Distance_Matrix\n",
    "        self.M = self.InputData.Mind_Entfernung\n",
    "\n",
    "        # InitialPermutation 是对Station的排列，可理解为把这个Station送给某个机器  -->重新排列后的D矩阵在Solution类中做！！！！\n",
    "        self.InitialPermutation = list(range(self.InputData.Size)) # 这里输出的是初始排列，即fcfs。因此这里先不用考虑对Station的排列\n",
    "        self.WithMinimumDistance = withMinimumDistance\n",
    "        self.gesamtTransportLeistung = self.CalculateInitialTransport()\n",
    "        \n",
    "        \n",
    "\n",
    "    def CalculateInitialTransport(self):\n",
    "        if self.WithMinimumDistance == False:\n",
    "            total = (self.A * self.D).sum()\n",
    "        else:\n",
    "            # 当考虑设备间的最短距离时，需要比较D矩阵和M矩阵对应元素的大小，留下大的。\n",
    "            # 通过观察json中的D和M，M是个稀疏矩阵，因此我只需要创建一个D_copy，把M更大的元素赋给这个副本矩阵，，然后用副本矩阵跟A相乘\n",
    "            DistanceWithMin = copy.deepcopy(self.D)\n",
    "\n",
    "            # fcfs的情况下，0号设备放在0号Station，并以此类推，因此不用考虑对矩阵D的重新排列\n",
    "            # Solution中需要先把D按照Permutation排列好，然后再计算\n",
    "            for i in self.InitialPermutation:\n",
    "                for j in self.InitialPermutation:\n",
    "                    if self.D[i][j] < self.M[i][j]:\n",
    "                        DistanceWithMin[i][j] = self.M[i][j]\n",
    "            total = (self.A * DistanceWithMin).sum()\n",
    "        return total\n",
    "\n",
    "\n",
    "    def __str__(self):\n",
    "        return f'OutputData: \\nQuadratic Assignment Problem von {self.InputData.Size} Anlagen, mit einer initiallen Transportleistung von {self.gesamtTransportLeistung}.'\n",
    "        \n",
    "output_12 = OutputData(data)\n",
    "print(len(output_12.D))\n",
    "print(output_12)\n",
    "\n",
    "output_12_m = OutputData(data, True)\n",
    "print(output_12_m)\n",
    "\n",
    "print(output_12.D)\n"
   ]
  },
  {
   "cell_type": "code",
   "execution_count": 35,
   "metadata": {},
   "outputs": [
    {
     "name": "stdout",
     "output_type": "stream",
     "text": [
      "50998\n"
     ]
    }
   ],
   "source": [
    "D_c = np.array([[0,2,2,3,1,2,3,4,2,3,4,5],\n",
    "[2,0,1, 2, 2, 1, 2, 3, 3, 2, 3, 4], [2, 1, 0, 1, 3, 2, 1, 2, 4, 3, 2, 3], [3, 2, 1, 0, 4, 3, 2, 1, 5, 4, 3, 2], [1, 2, 3, 4, 0, 1, 2, 3, 1, 2, 3, 4],\n",
    "        [2, 1, 2, 3, 1, 0, 1, 2, 2, 1, 2, 3],\n",
    "        [3, 2, 1, 2, 2, 1, 0, 1, 3, 2, 1, 2],\n",
    "        [4, 3, 2, 1, 3, 2, 1, 0, 4, 3, 2, 1],\n",
    "        [2, 3, 4, 5, 1, 2, 3, 4, 0, 1, 2, 3],[3, 2, 3, 4, 2, 1, 2, 3, 1, 0, 2, 2],[4, 3, 2, 3, 3, 2, 1, 2, 2, 2, 0, 2],[5, 4, 3, 2, 4, 3, 2, 1, 3, 2, 2, 0]])\n",
    "\n",
    "\n",
    "print((D_c * data.Transport_Matrix).sum())"
   ]
  },
  {
   "cell_type": "code",
   "execution_count": 36,
   "metadata": {},
   "outputs": [
    {
     "name": "stdout",
     "output_type": "stream",
     "text": [
      "[[1 2 3]\n",
      " [4 5 6]\n",
      " [7 8 9]]\n",
      "[[7 8 9]\n",
      " [1 2 3]\n",
      " [4 5 6]]\n",
      "[[9 7 8]\n",
      " [3 1 2]\n",
      " [6 4 5]]\n"
     ]
    }
   ],
   "source": [
    "# 矩阵和二维数组：按照permutation重新排列行和列\n",
    "\n",
    "Dist= np.array([[1,2,3], [4,5,6],[7,8,9]])\n",
    "new_perm = [2,0,1]\n",
    "print(Dist)\n",
    "# new_perm = np.array(range(12)[::-1])\n",
    "# print(new_perm)\n",
    "dist_zeil = Dist[new_perm, :] # 先把Dist的行按照perm进行排列，\n",
    "print(dist_zeil)\n",
    "\n",
    "dist_zeil = dist_zeil[:, new_perm] # 再把列进行从新排列\n",
    "print(dist_zeil)\n"
   ]
  },
  {
   "cell_type": "code",
   "execution_count": 86,
   "metadata": {},
   "outputs": [
    {
     "name": "stdout",
     "output_type": "stream",
     "text": [
      "6\n",
      "[0, 1, 2, 3, 4, 5, 6, 7, 8, 9, 10, 11]\n"
     ]
    }
   ],
   "source": [
    "res = 0\n",
    "for i in range(12):\n",
    "    for j in range(12):\n",
    "        if output_12.D[i][j] < output_12.M[i][j]:\n",
    "            res += 1\n",
    "\n",
    "print(res)\n",
    "\n",
    "\n",
    "print(list(range(12)))"
   ]
  },
  {
   "cell_type": "code",
   "execution_count": 89,
   "metadata": {},
   "outputs": [
    {
     "name": "stdout",
     "output_type": "stream",
     "text": [
      "[[0 1 2 3 1 2 3 4 2 3 4 5]\n",
      " [1 0 1 2 2 1 2 3 3 2 3 4]\n",
      " [2 1 0 1 3 2 1 2 4 3 2 3]\n",
      " [3 2 1 0 4 3 2 1 5 4 3 2]\n",
      " [1 2 3 4 0 1 2 3 1 2 3 4]\n",
      " [2 1 2 3 1 0 1 2 2 1 2 3]\n",
      " [3 2 1 2 2 1 0 1 3 2 1 2]\n",
      " [4 3 2 1 3 2 1 0 4 3 2 1]\n",
      " [2 3 4 5 1 2 3 4 0 1 2 3]\n",
      " [3 2 3 4 2 1 2 3 1 0 1 2]\n",
      " [4 3 2 3 3 2 1 2 2 1 0 1]\n",
      " [5 4 3 2 4 3 2 1 3 2 1 0]]\n",
      "[[0 2 2 3 1 2 3 4 2 3 4 5]\n",
      " [2 0 1 2 2 1 2 3 3 2 3 4]\n",
      " [2 1 0 1 3 2 1 2 4 3 2 3]\n",
      " [3 2 1 0 4 3 2 1 5 4 3 2]\n",
      " [1 2 3 4 0 1 2 3 1 2 3 4]\n",
      " [2 1 2 3 1 0 1 2 2 1 2 3]\n",
      " [3 2 1 2 2 1 0 1 3 2 1 2]\n",
      " [4 3 2 1 3 2 1 0 4 3 2 1]\n",
      " [2 3 4 5 1 2 3 4 0 1 2 3]\n",
      " [3 2 3 4 2 1 2 3 1 0 2 2]\n",
      " [4 3 2 3 3 2 1 2 2 2 0 2]\n",
      " [5 4 3 2 4 3 2 1 3 2 2 0]]\n"
     ]
    }
   ],
   "source": [
    "# Permutation 是指station的排序；anlage矩阵不排序，默认从1（0）到n（n-1）排序。设备的排序也就相当于把这些设备分别安排在相应的Station中\n",
    "class Solution:\n",
    "\n",
    "    def __init__(self, outputData, permutation):\n",
    "        self.OutputData = outputData\n",
    "        self.Permutation = permutation\n",
    "        self.TransportMatrix = self.OutputData.A\n",
    "        self.ArrangedDMatrix = self.ArrangeDistanceMatrix() # 按照Permutation调整D矩阵的行列，得到Anlagen之间的距离，然后再与M矩阵直接比较\n",
    "        self.UpdatedDMatrix = self.UpdateDMatrix() # \n",
    "\n",
    "        self.TotalTransport = -1  # 需要用EvaluationLogic类来计算具体的值\n",
    "\n",
    "    def __str__(self):\n",
    "        return f'Die Permutation {self.Permutation} führt zu einer Transportleistung von {self.TotalTransport}'\n",
    "\n",
    "    def setPermutation(self, permutation):\n",
    "        self.Permutation = permutation\n",
    "\n",
    "    # 按照permutation重新排列D矩阵的行和列\n",
    "    def ArrangeDistanceMatrix(self):\n",
    "        arrangedDMatrix = self.OutputData.D[self.Permutation, :]\n",
    "        arrangedDMatrix = arrangedDMatrix[:, self.Permutation]\n",
    "\n",
    "        return arrangedDMatrix\n",
    "\n",
    "    # 通过比较当前D矩阵和最小距离M矩阵，把得出更新后的D矩阵\n",
    "    def UpdateDMatrix(self):\n",
    "        DistanceWithMin = copy.deepcopy(self.ArrangedDMatrix)\n",
    "        # res = 0\n",
    "        for i in range(self.OutputData.Size):\n",
    "            for j in range(self.OutputData.Size):\n",
    "                if self.ArrangedDMatrix[i][j] < self.OutputData.M[i][j]:\n",
    "                    DistanceWithMin[i][j] = self.OutputData.M[i][j]\n",
    "                    # res += 1\n",
    "        # print(res)\n",
    "        return DistanceWithMin\n",
    "        \n",
    "\n",
    "sol_1 = Solution(output_12, list(range(12))) \n",
    "print(sol_1.ArrangedDMatrix)\n",
    "print(sol_1.UpdatedDMatrix)\n",
    "\n",
    "\n",
    "# 得出结论，我自己随便找的一个排列，会导致fcfs中的6个不满足最近距离的元素变成4个\n",
    "\n",
    "\n",
    "\n",
    "\n"
   ]
  },
  {
   "cell_type": "code",
   "execution_count": 90,
   "metadata": {},
   "outputs": [
    {
     "name": "stdout",
     "output_type": "stream",
     "text": [
      "[[0 5 1 4 2 3 3 2 1 4 2 3]\n",
      " [5 0 4 1 3 2 2 3 4 1 3 2]\n",
      " [1 4 0 3 1 2 2 3 2 3 1 2]\n",
      " [4 1 3 0 2 1 3 2 3 2 2 1]\n",
      " [2 3 1 2 0 3 1 4 3 2 2 1]\n",
      " [3 2 2 1 3 0 4 1 2 3 1 2]\n",
      " [3 2 2 3 1 4 0 5 4 1 3 2]\n",
      " [2 3 3 2 4 1 5 0 1 4 2 3]\n",
      " [1 4 2 3 3 2 4 1 0 3 1 2]\n",
      " [4 1 3 2 2 3 1 4 3 0 2 1]\n",
      " [2 3 1 2 2 1 3 2 1 2 0 1]\n",
      " [3 2 2 1 1 2 2 3 2 1 1 0]]\n",
      "[[0 5 1 4 2 3 3 2 1 4 2 3]\n",
      " [5 0 4 1 3 2 2 3 4 1 3 2]\n",
      " [1 4 0 3 1 2 2 3 2 3 2 2]\n",
      " [4 1 3 0 2 1 3 2 3 2 2 1]\n",
      " [2 3 1 2 0 3 1 4 3 2 2 1]\n",
      " [3 2 2 1 3 0 4 1 2 3 1 2]\n",
      " [3 2 2 3 1 4 0 5 4 1 3 2]\n",
      " [2 3 3 2 4 1 5 0 1 4 2 3]\n",
      " [1 4 2 3 3 2 4 1 0 3 1 2]\n",
      " [4 1 3 2 2 3 1 4 3 0 2 1]\n",
      " [2 3 2 2 2 1 3 2 1 2 0 2]\n",
      " [3 2 2 1 1 2 2 3 2 1 2 0]]\n"
     ]
    }
   ],
   "source": [
    "# 把第11台设备放在了第一个Station     [0,11,1,10,2,9,3,8,4,7,5,6]\n",
    "sol_2 = Solution(output_12, [0,11,1,10,2,9,3,8,4,7,5,6])\n",
    "print(sol_2.ArrangedDMatrix)\n",
    "print(sol_2.UpdatedDMatrix)"
   ]
  },
  {
   "cell_type": "code",
   "execution_count": 91,
   "metadata": {},
   "outputs": [
    {
     "name": "stdout",
     "output_type": "stream",
     "text": [
      "[[0 2 1 3 2 4 5 3 4 2 3 1]\n",
      " [2 0 3 1 4 2 3 3 2 2 1 1]\n",
      " [1 3 0 2 1 3 4 2 3 1 4 2]\n",
      " [3 1 2 0 3 1 2 2 1 1 2 2]\n",
      " [2 4 1 3 0 2 3 1 4 2 5 3]\n",
      " [4 2 3 1 2 0 1 1 2 2 3 3]\n",
      " [5 3 4 2 3 1 0 2 1 3 2 4]\n",
      " [3 3 2 2 1 1 2 0 3 1 4 2]\n",
      " [4 2 3 1 4 2 1 3 0 2 1 3]\n",
      " [2 2 1 1 2 2 3 1 2 0 3 1]\n",
      " [3 1 4 2 5 3 2 4 1 3 0 2]\n",
      " [1 1 2 2 3 3 4 2 3 1 2 0]]\n",
      "[[0 2 1 3 2 4 5 3 4 2 3 1]\n",
      " [2 0 3 1 4 2 3 3 2 2 1 1]\n",
      " [1 3 0 2 1 3 4 2 3 2 4 2]\n",
      " [3 1 2 0 3 1 2 2 1 1 2 2]\n",
      " [2 4 1 3 0 2 3 1 4 2 5 3]\n",
      " [4 2 3 1 2 0 1 1 2 2 3 3]\n",
      " [5 3 4 2 3 1 0 2 1 3 2 4]\n",
      " [3 3 2 2 1 1 2 0 3 1 4 2]\n",
      " [4 2 3 1 4 2 1 3 0 2 1 3]\n",
      " [2 2 2 1 2 2 3 1 2 0 3 1]\n",
      " [3 1 4 2 5 3 2 4 1 3 0 2]\n",
      " [1 1 2 2 3 3 4 2 3 1 2 0]]\n"
     ]
    }
   ],
   "source": [
    "sol_3 = Solution(output_12, [0,2,4,6,8,10,11,9,7,5,3,1])\n",
    "print(sol_3.ArrangedDMatrix)\n",
    "print(sol_3.UpdatedDMatrix)"
   ]
  },
  {
   "cell_type": "code",
   "execution_count": 92,
   "metadata": {},
   "outputs": [],
   "source": [
    "class SolutionPool:\n",
    "    def __init__(self):\n",
    "        self.Solutions = []\n",
    "\n",
    "    def AddSolution(self, newSolution):\n",
    "        self.Solutions.append(newSolution)\n",
    "\n",
    "    def GetLowestTransport(self):\n",
    "        self.Solutions.sort(key = lambda solution: solution.TotalTransport)\n",
    "\n",
    "        return self.Solutions[0]"
   ]
  },
  {
   "cell_type": "code",
   "execution_count": 117,
   "metadata": {},
   "outputs": [
    {
     "name": "stdout",
     "output_type": "stream",
     "text": [
      "Die Permutation [0, 1, 2, 3, 4, 5, 6, 7, 8, 9, 10, 11] führt zu einer Transportleistung von 50116\n",
      "Die Permutation [0, 1, 2, 3, 4, 5, 6, 7, 8, 9, 10, 11] führt zu einer Transportleistung von 50998\n",
      "Die Permutation [0, 11, 1, 10, 2, 9, 3, 8, 4, 7, 5, 6] führt zu einer Transportleistung von 63118\n",
      "Die Permutation [0, 11, 1, 10, 2, 9, 3, 8, 4, 7, 5, 6] führt zu einer Transportleistung von 63568\n",
      "Die Permutation [0, 2, 4, 6, 8, 10, 11, 9, 7, 5, 3, 1] führt zu einer Transportleistung von 45322\n",
      "Die Permutation [0, 2, 4, 6, 8, 10, 11, 9, 7, 5, 3, 1] führt zu einer Transportleistung von 46102\n"
     ]
    }
   ],
   "source": [
    "class EvaluationLogic:\n",
    "    # def __init__(self, inputData):\n",
    "    #     self.InputData = inputData\n",
    "    #     self.TotalTransport = None\n",
    "\n",
    "    def DefineTotalTransport(self, currentSolution, withMinimumDistance = False):\n",
    "        # 这个函数需要再solver中调用，并且能同时输出考虑MinimumDistance和不考虑的结果\n",
    "        if withMinimumDistance == False:\n",
    "            totalTransport = (currentSolution.TransportMatrix * currentSolution.ArrangedDMatrix).sum()\n",
    "        else:\n",
    "            totalTransport = (currentSolution.TransportMatrix * currentSolution.UpdatedDMatrix).sum()\n",
    "        currentSolution.TotalTransport = totalTransport\n",
    "\n",
    "        return totalTransport\n",
    "\n",
    "\n",
    "\n",
    "\n",
    "el = EvaluationLogic()\n",
    "\n",
    "el.DefineTotalTransport(sol_1)\n",
    "print(sol_1)\n",
    "\n",
    "el.DefineTotalTransport(sol_1, True)\n",
    "print(sol_1)\n",
    "\n",
    "\n",
    "\n",
    "el.DefineTotalTransport(sol_2)\n",
    "print(sol_2)\n",
    "\n",
    "el.DefineTotalTransport(sol_2, True)\n",
    "print(sol_2)\n",
    "\n",
    "el.DefineTotalTransport(sol_3)\n",
    "print(sol_3)\n",
    "el.DefineTotalTransport(sol_3, True)\n",
    "print(sol_3)\n"
   ]
  },
  {
   "cell_type": "code",
   "execution_count": 94,
   "metadata": {},
   "outputs": [
    {
     "name": "stdout",
     "output_type": "stream",
     "text": [
      "[0, 1, 2, 3, 4, 5, 6, 7, 8, 9, 10, 11]\n",
      "[0, 1, 2, 3, 4, 5, 6, 7, 8, 9, 10, 11]\n"
     ]
    }
   ],
   "source": [
    "print([*range(len(output_12.D))])\n",
    "print(list(range(12)))"
   ]
  },
  {
   "cell_type": "code",
   "execution_count": 124,
   "metadata": {},
   "outputs": [],
   "source": [
    "# 到这里需要用启发式算法生成一个startSolution，这个方案要尽可能接近最优解\n",
    "# 我选择的方法是ROS，随机数，即设置一个随机数种子，然后生成多个随机排列，每个排列包含的元素个数等于Size\n",
    "# 首先尝试使用ROS\n",
    "\n",
    "# class ConstructiveHeuristics:\n",
    "#     def __init__(self, evaluationLogic, solutionPool):\n",
    "#         self.RandomSeed = 2022\n",
    "#         self.RandomRetiris = 10\n",
    "#         self.EvaluationLogic = evaluationLogic\n",
    "#         self.SolutionPool = solutionPool\n",
    "import numpy \n",
    "# from EvaluationLogic import *\n",
    "\n",
    "def ROS(outputData, iterations, seed):\n",
    "    numpy.random.seed(seed)\n",
    "    tmpSolution = Solution(outputData, outputData.InitialPermutation)\n",
    "    bestCmax = numpy.inf\n",
    "\n",
    "   \n",
    "    for i in range(iterations):\n",
    "        tmpPermutation = numpy.random.permutation(len(outputData.D))  # 随机排列能正常生成，\n",
    "        tmpSolution.setPermutation(tmpPermutation)\n",
    "        # tmpSolution.Permutation = tmpPermutation\n",
    "\n",
    "        el = EvaluationLogic()\n",
    "        el.DefineTotalTransport(tmpSolution, False)  # 这一行运行错误\n",
    "\n",
    "        if (tmpSolution.TotalTransport < bestCmax):\n",
    "            bestCmax = tmpSolution.TotalTransport\n",
    "            bestPerm = tmpPermutation\n",
    "     \n",
    "\n",
    "    bestSol = Solution(outputData, bestPerm)\n",
    "    el.DefineTotalTransport(bestSol, False)\n",
    "\n",
    "    return bestSol\n",
    "\n"
   ]
  },
  {
   "cell_type": "code",
   "execution_count": 125,
   "metadata": {},
   "outputs": [
    {
     "name": "stdout",
     "output_type": "stream",
     "text": [
      "[0, 1, 2, 3, 4, 5, 6, 7, 8, 9, 10, 11]\n",
      "[[0 1 2 3 1 2 3 4 2 3 4 5]\n",
      " [1 0 1 2 2 1 2 3 3 2 3 4]\n",
      " [2 1 0 1 3 2 1 2 4 3 2 3]\n",
      " [3 2 1 0 4 3 2 1 5 4 3 2]\n",
      " [1 2 3 4 0 1 2 3 1 2 3 4]\n",
      " [2 1 2 3 1 0 1 2 2 1 2 3]\n",
      " [3 2 1 2 2 1 0 1 3 2 1 2]\n",
      " [4 3 2 1 3 2 1 0 4 3 2 1]\n",
      " [2 3 4 5 1 2 3 4 0 1 2 3]\n",
      " [3 2 3 4 2 1 2 3 1 0 1 2]\n",
      " [4 3 2 3 3 2 1 2 2 1 0 1]\n",
      " [5 4 3 2 4 3 2 1 3 2 1 0]]\n",
      "12\n",
      "Die Permutation [0, 1, 2, 3, 4, 5, 6, 7, 8, 9, 10, 11] führt zu einer Transportleistung von 50116\n",
      "Die Permutation [ 3  5  9  4  6  2  8  7 11 10  1  0] führt zu einer Transportleistung von 63306\n"
     ]
    }
   ],
   "source": [
    "print(output_12.InitialPermutation)\n",
    "print(output_12.D)\n",
    "print(len(output_12.D))\n",
    "\n",
    "s = Solution(output_12, output_12.InitialPermutation)\n",
    "EvaluationLogic().DefineTotalTransport(s)\n",
    "print(s)\n",
    "\n",
    "print(ROS(output_12, 12, 2022))"
   ]
  },
  {
   "cell_type": "code",
   "execution_count": 77,
   "metadata": {},
   "outputs": [
    {
     "name": "stdout",
     "output_type": "stream",
     "text": [
      "[2 3 0 1 4]\n",
      "[4 2 3 0 1]\n",
      "[3 2 1 4 0]\n",
      "[4 0 2 3 1]\n",
      "[2 1 4 3 0]\n",
      "[3 4 1 2 0]\n",
      "[0 1 3 4 2]\n",
      "[3 4 1 0 2]\n",
      "[0 2 4 3 1]\n",
      "[1 3 2 0 4]\n"
     ]
    }
   ],
   "source": [
    "import numpy as np\n",
    "np.random.seed(2022)\n",
    "x = 0\n",
    "while x < 10:\n",
    "    perm = np.random.permutation(5)\n",
    "    print(perm)\n",
    "    x+=1"
   ]
  }
 ],
 "metadata": {
  "interpreter": {
   "hash": "7758e92e9a61d7a3490898707f7eeb937c85e9d1e8d4e877cc6c187218f226d5"
  },
  "kernelspec": {
   "display_name": "Python 3.9.12 ('base')",
   "language": "python",
   "name": "python3"
  },
  "language_info": {
   "codemirror_mode": {
    "name": "ipython",
    "version": 3
   },
   "file_extension": ".py",
   "mimetype": "text/x-python",
   "name": "python",
   "nbconvert_exporter": "python",
   "pygments_lexer": "ipython3",
   "version": "3.9.12"
  },
  "orig_nbformat": 4
 },
 "nbformat": 4,
 "nbformat_minor": 2
}
