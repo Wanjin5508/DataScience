{
 "cells": [
  {
   "cell_type": "code",
   "execution_count": 2,
   "metadata": {},
   "outputs": [],
   "source": [
    "import json\n",
    "import numpy as np"
   ]
  },
  {
   "cell_type": "code",
   "execution_count": 3,
   "metadata": {},
   "outputs": [],
   "source": [
    "class InputData:\n",
    "    def __init__(self, path):\n",
    "        self.__path = path\n",
    "        self.DataLoad()\n",
    "\n",
    "    def DataLoad(self):\n",
    "        with open(self.__path, \"r\") as inputFile:\n",
    "            inputData = json.load(inputFile)\n",
    "\n",
    "        self.Size = inputData[\"Size\"]\n",
    "\n",
    "        # 使用数组是为了更加直观np.array()\n",
    "        self.Transport_Matrix = inputData['A'] # 运输数量矩阵，从 i 到 j\n",
    "        self.Distance_Matrix = inputData['D']  # Station之间的距离矩阵，从k到l\n",
    "        self.Mind_Entfernung = inputData['M']  # 设备Anlage之间，至少应保持的距离\n",
    "\n",
    "    def __str__(self):\n",
    "        return f'Quadratic Assignment Problem von {self.Size} Anlagen. '\n",
    "\n",
    "\n"
   ]
  },
  {
   "cell_type": "code",
   "execution_count": 4,
   "metadata": {},
   "outputs": [
    {
     "name": "stdout",
     "output_type": "stream",
     "text": [
      "[[0, 1, 2, 3, 1, 2, 3, 4, 2, 3, 4, 5], [1, 0, 1, 2, 2, 1, 2, 3, 3, 2, 3, 4], [2, 1, 0, 1, 3, 2, 1, 2, 4, 3, 2, 3], [3, 2, 1, 0, 4, 3, 2, 1, 5, 4, 3, 2], [1, 2, 3, 4, 0, 1, 2, 3, 1, 2, 3, 4], [2, 1, 2, 3, 1, 0, 1, 2, 2, 1, 2, 3], [3, 2, 1, 2, 2, 1, 0, 1, 3, 2, 1, 2], [4, 3, 2, 1, 3, 2, 1, 0, 4, 3, 2, 1], [2, 3, 4, 5, 1, 2, 3, 4, 0, 1, 2, 3], [3, 2, 3, 4, 2, 1, 2, 3, 1, 0, 1, 2], [4, 3, 2, 3, 3, 2, 1, 2, 2, 1, 0, 1], [5, 4, 3, 2, 4, 3, 2, 1, 3, 2, 1, 0]]\n",
      "<class 'list'>\n",
      "1\n"
     ]
    }
   ],
   "source": [
    "data = InputData('scr12.json')\n",
    "data.Size\n",
    "\n",
    "print(data.Distance_Matrix)\n",
    "print(type(data.Distance_Matrix))\n",
    "print(data.Distance_Matrix[0][1])"
   ]
  },
  {
   "cell_type": "code",
   "execution_count": 5,
   "metadata": {},
   "outputs": [],
   "source": [
    "data_15 = InputData(\"scr15.json\")\n",
    "data_20 = InputData(\"scr20.json\")\n",
    "data_25 = InputData(\"tai25b.json\")"
   ]
  },
  {
   "cell_type": "code",
   "execution_count": 13,
   "metadata": {},
   "outputs": [],
   "source": [
    "## 验证对称性\n",
    "def checkSym(data):\n",
    "    for i in range(data.Size):\n",
    "        for j in range(data.Size):\n",
    "            if data.Transport_Matrix[i][j] != data.Transport_Matrix[j][i]:\n",
    "                return f'non symmetry at: {(i, j)}'\n",
    "            else:\n",
    "                return 0"
   ]
  },
  {
   "cell_type": "code",
   "execution_count": 15,
   "metadata": {},
   "outputs": [
    {
     "name": "stdout",
     "output_type": "stream",
     "text": [
      "0\n",
      "0\n",
      "0\n",
      "0\n"
     ]
    }
   ],
   "source": [
    "print(checkSym(data))\n",
    "print(checkSym(data_15))\n",
    "print(checkSym(data_20))\n",
    "print(checkSym(data_25))"
   ]
  },
  {
   "cell_type": "code",
   "execution_count": 16,
   "metadata": {},
   "outputs": [
    {
     "name": "stdout",
     "output_type": "stream",
     "text": [
      "[[ 2  8 18]\n",
      " [ 3  6  5]]\n",
      "42\n"
     ]
    }
   ],
   "source": [
    "a = np.array([[1,2,3], [3,2,1]])\n",
    "b = np.array([[2,4,6], [1,3,5]])\n",
    "print(a*b)\n",
    "print((a*b).sum())"
   ]
  },
  {
   "cell_type": "code",
   "execution_count": null,
   "metadata": {},
   "outputs": [],
   "source": [
    "# 这个类是将输入的数据进行预处理，以输出gesamtTransportLeistung（分两种情况）作为属性。\n",
    "# 类似讲义中的ProcessingTime\n",
    "# 用inputData作为输入\n",
    "class OutputData:\n",
    "    def __init__(self, inputData):\n",
    "        self.InputData = inputData\n",
    "\n",
    "        \n"
   ]
  },
  {
   "cell_type": "code",
   "execution_count": 13,
   "metadata": {},
   "outputs": [
    {
     "name": "stdout",
     "output_type": "stream",
     "text": [
      "1\n"
     ]
    }
   ],
   "source": [
    "# Permutation 是指设备的排序；Station矩阵不排序，默认从1（0）到n（n-1）排序。设备的排序也就相当于把这些设备分别安排在相应的Station中\n",
    "class Solution:\n",
    "\n",
    "    def __init__(self, inputData, permutation, mitAbstand = False):\n",
    "        self.Permutation = permutation\n",
    "\n",
    "        self.Cost = -1\n",
    "        for \n",
    "        \n",
    "\n",
    "\n",
    "\n",
    "\n",
    "\n",
    "\n",
    "\n",
    "\n",
    "\n",
    "\n",
    "\n",
    "\n"
   ]
  }
 ],
 "metadata": {
  "interpreter": {
   "hash": "7758e92e9a61d7a3490898707f7eeb937c85e9d1e8d4e877cc6c187218f226d5"
  },
  "kernelspec": {
   "display_name": "Python 3.9.12 ('base')",
   "language": "python",
   "name": "python3"
  },
  "language_info": {
   "codemirror_mode": {
    "name": "ipython",
    "version": 3
   },
   "file_extension": ".py",
   "mimetype": "text/x-python",
   "name": "python",
   "nbconvert_exporter": "python",
   "pygments_lexer": "ipython3",
   "version": "3.9.12"
  },
  "orig_nbformat": 4
 },
 "nbformat": 4,
 "nbformat_minor": 2
}
