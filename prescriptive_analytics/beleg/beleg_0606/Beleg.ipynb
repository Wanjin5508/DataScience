{
 "cells": [
  {
   "cell_type": "code",
   "execution_count": 1,
   "metadata": {},
   "outputs": [],
   "source": [
    "# 安装用到的库\n",
    "import json\n",
    "import numpy as np"
   ]
  },
  {
   "cell_type": "code",
   "execution_count": 2,
   "metadata": {},
   "outputs": [],
   "source": [
    "# 这个类的目的是把json文件读入成字典格式，该类把json文件中的size，A，D和M分别\n",
    "# 设置为类的四个属性。\n",
    "class InputData:\n",
    "    def __init__(self, path):\n",
    "        self.__path = path\n",
    "        self.DataLoad()\n",
    "\n",
    "    def DataLoad(self):\n",
    "        with open(self.__path, \"r\") as inputFile:\n",
    "            inputData = json.load(inputFile)\n",
    "\n",
    "        self.Size = inputData[\"Size\"]\n",
    "\n",
    "        # 使用数组是为了更加直观np.array()\n",
    "        self.Transport_Matrix = np.array(inputData['A']) # 运输数量矩阵，从设备 i 到设备 j\n",
    "        self.Distance_Matrix = np.array(inputData['D'])  # Station之间的距离矩阵，从k到l\n",
    "        self.Mind_Entfernung = np.array(inputData['M'])  # 设备Anlage i和j之间，至少应保持的距离\n",
    "\n",
    "    def __str__(self):\n",
    "        # str函数用于直接打印inputData对象时，输出这个json文件涉及多少个设备的排列问题\n",
    "        return f'Quadratic Assignment Problem von {self.Size} Anlagen. '\n",
    "\n",
    "\n"
   ]
  },
  {
   "cell_type": "code",
   "execution_count": 3,
   "metadata": {},
   "outputs": [
    {
     "name": "stdout",
     "output_type": "stream",
     "text": [
      "12\n",
      "Quadratic Assignment Problem von 12 Anlagen. \n",
      "[[0 1 2 3 1 2 3 4 2 3 4 5]\n",
      " [1 0 1 2 2 1 2 3 3 2 3 4]\n",
      " [2 1 0 1 3 2 1 2 4 3 2 3]\n",
      " [3 2 1 0 4 3 2 1 5 4 3 2]\n",
      " [1 2 3 4 0 1 2 3 1 2 3 4]\n",
      " [2 1 2 3 1 0 1 2 2 1 2 3]\n",
      " [3 2 1 2 2 1 0 1 3 2 1 2]\n",
      " [4 3 2 1 3 2 1 0 4 3 2 1]\n",
      " [2 3 4 5 1 2 3 4 0 1 2 3]\n",
      " [3 2 3 4 2 1 2 3 1 0 1 2]\n",
      " [4 3 2 3 3 2 1 2 2 1 0 1]\n",
      " [5 4 3 2 4 3 2 1 3 2 1 0]]\n",
      "<class 'numpy.ndarray'>\n",
      "1\n"
     ]
    }
   ],
   "source": [
    "data = InputData('scr12.json')\n",
    "print(data.Size)\n",
    "print(data)\n",
    "print(data.Distance_Matrix)\n",
    "print(type(data.Distance_Matrix))\n",
    "print(data.Distance_Matrix[0][1])"
   ]
  },
  {
   "cell_type": "code",
   "execution_count": 4,
   "metadata": {},
   "outputs": [],
   "source": [
    "data_15 = InputData(\"scr15.json\")\n",
    "data_20 = InputData(\"scr20.json\")\n",
    "data_25 = InputData(\"tai25b.json\")"
   ]
  },
  {
   "cell_type": "code",
   "execution_count": 5,
   "metadata": {},
   "outputs": [],
   "source": [
    "## 验证对称性\n",
    "def checkSymA(data):\n",
    "    result = 0\n",
    "    for i in range(data.Size):\n",
    "        for j in range(data.Size):\n",
    "            if data.Transport_Matrix[i][j] != data.Transport_Matrix[j][i]:\n",
    "                result += 1\n",
    "                \n",
    "            else:\n",
    "                result += 0\n",
    "\n",
    "    return result\n",
    "\n",
    "def checkSymD(data):\n",
    "    result = 0\n",
    "    for i in range(data.Size):\n",
    "        for j in range(data.Size):\n",
    "            if data.Distance_Matrix[i][j] != data.Distance_Matrix[j][i]:\n",
    "                result += 1\n",
    "                \n",
    "            else:\n",
    "                result += 0\n",
    "\n",
    "    return result\n",
    "\n",
    "def checkSymM(data):\n",
    "    result = 0\n",
    "    for i in range(data.Size):\n",
    "        # 因为矩阵的行数等于列数，也就是size\n",
    "        for j in range(data.Size):\n",
    "            if data.Mind_Entfernung[i][j] != data.Mind_Entfernung[j][i]:\n",
    "                result += 1\n",
    "                \n",
    "            else:\n",
    "                result += 0\n",
    "\n",
    "    return result"
   ]
  },
  {
   "cell_type": "code",
   "execution_count": 6,
   "metadata": {},
   "outputs": [
    {
     "name": "stdout",
     "output_type": "stream",
     "text": [
      "0\n",
      "0\n",
      "0\n",
      "0\n"
     ]
    }
   ],
   "source": [
    "# 经过下面三个单元格的输出可知，4个文件中的A矩阵都是对称的，\n",
    "# 25台设备的情况下，D矩阵和M矩阵不对称，D不对称是由单行线导致，M不对称可能是不同机器的对最近距离的要求不同。\n",
    "# scr12，15和20的情况下，三个矩阵都是对称的，解决问题时只需要考虑是否要将最近距离M考虑在内，可以用子类和父类来做\n",
    "# 父类是不考虑机器之间应保持的最近距离，只用A和D矩阵来做，而子类需要重写父类的运算过程，加一个if，判断\n",
    "# 对应位置的距离D和对应机器的最小距离M哪个更大，更大的那个用来做计算。这个计算过程不一定要一步一步算，可以先来\n",
    "# 构建一个用于计算的距离矩阵（这个矩阵包含D中和M中更大的那个值），然后用这个矩阵和A矩阵做矩阵相乘, 然后用.sum()\n",
    "print(checkSymA(data))\n",
    "print(checkSymA(data_15))\n",
    "print(checkSymA(data_20))\n",
    "print(checkSymA(data_25))"
   ]
  },
  {
   "cell_type": "code",
   "execution_count": 7,
   "metadata": {},
   "outputs": [
    {
     "name": "stdout",
     "output_type": "stream",
     "text": [
      "0\n",
      "0\n",
      "0\n",
      "498\n"
     ]
    }
   ],
   "source": [
    "print(checkSymD(data))\n",
    "print(checkSymD(data_15))\n",
    "print(checkSymD(data_20))\n",
    "print(checkSymD(data_25))"
   ]
  },
  {
   "cell_type": "code",
   "execution_count": 8,
   "metadata": {},
   "outputs": [
    {
     "name": "stdout",
     "output_type": "stream",
     "text": [
      "0\n",
      "0\n",
      "0\n",
      "36\n"
     ]
    }
   ],
   "source": [
    "print(checkSymM(data))\n",
    "print(checkSymM(data_15))\n",
    "print(checkSymM(data_20))\n",
    "print(checkSymM(data_25))"
   ]
  },
  {
   "cell_type": "code",
   "execution_count": 9,
   "metadata": {},
   "outputs": [
    {
     "name": "stdout",
     "output_type": "stream",
     "text": [
      "[[2 8]\n",
      " [3 6]]\n",
      "19\n",
      "[ 5 14]\n",
      "2\n",
      "2\n"
     ]
    }
   ],
   "source": [
    "# 矩阵或数组之间相乘，得到的结果是对应位置元素之间相乘的结果\n",
    "a = np.array([[1,2], [3,2]])\n",
    "b = np.array([[2,4], [1,3]])\n",
    "print(a*b)\n",
    "print((a*b).sum())\n",
    "print(sum(a*b))\n",
    "print(len(a))\n",
    "print(len(a*b))"
   ]
  },
  {
   "cell_type": "code",
   "execution_count": 10,
   "metadata": {},
   "outputs": [
    {
     "name": "stdout",
     "output_type": "stream",
     "text": [
      "[0, 1, 2, 3, 4, 5, 6, 7, 8, 9, 10, 11]\n"
     ]
    }
   ],
   "source": [
    "print(list(range(data.Size)))"
   ]
  },
  {
   "cell_type": "code",
   "execution_count": 11,
   "metadata": {},
   "outputs": [
    {
     "name": "stdout",
     "output_type": "stream",
     "text": [
      "50116\n",
      "[1180 8742 3208 9982 1755 2902 8129 2805 2790 4874  709 3040]\n"
     ]
    }
   ],
   "source": [
    "gesamt_12 = data.Distance_Matrix * data.Transport_Matrix\n",
    "print(gesamt_12.sum())\n",
    "print(sum(gesamt_12))"
   ]
  },
  {
   "cell_type": "code",
   "execution_count": 12,
   "metadata": {},
   "outputs": [
    {
     "name": "stdout",
     "output_type": "stream",
     "text": [
      "[1, 2, 3]\n"
     ]
    }
   ],
   "source": [
    "import copy\n",
    "robot=[1,2,3]\n",
    "see=[]\n",
    "see=copy.deepcopy(robot)\n",
    "print(see)"
   ]
  },
  {
   "cell_type": "code",
   "execution_count": 13,
   "metadata": {},
   "outputs": [
    {
     "name": "stdout",
     "output_type": "stream",
     "text": [
      "12\n",
      "OutputData: \n",
      "Quadratic Assignment Problem von 12 Anlagen, mit einer initiallen Transportleistung von 50116.\n",
      "OutputData: \n",
      "Quadratic Assignment Problem von 12 Anlagen, mit einer initiallen Transportleistung von 50998.\n",
      "[[0 1 2 3 1 2 3 4 2 3 4 5]\n",
      " [1 0 1 2 2 1 2 3 3 2 3 4]\n",
      " [2 1 0 1 3 2 1 2 4 3 2 3]\n",
      " [3 2 1 0 4 3 2 1 5 4 3 2]\n",
      " [1 2 3 4 0 1 2 3 1 2 3 4]\n",
      " [2 1 2 3 1 0 1 2 2 1 2 3]\n",
      " [3 2 1 2 2 1 0 1 3 2 1 2]\n",
      " [4 3 2 1 3 2 1 0 4 3 2 1]\n",
      " [2 3 4 5 1 2 3 4 0 1 2 3]\n",
      " [3 2 3 4 2 1 2 3 1 0 1 2]\n",
      " [4 3 2 3 3 2 1 2 2 1 0 1]\n",
      " [5 4 3 2 4 3 2 1 3 2 1 0]]\n"
     ]
    }
   ],
   "source": [
    "# 这个类是将输入的数据进行预处理，以输出gesamtTransportLeistung（分两种情况）作为属性。\n",
    "# 类似讲义中的ProcessingTime\n",
    "# 用inputData作为输入\n",
    "import copy\n",
    "class OutputData:\n",
    "    def __init__(self, inputData, withMinimumDistance = False):\n",
    "        self.InputData = inputData\n",
    "        self.Size = self.InputData.Size\n",
    "        self.A = self.InputData.Transport_Matrix\n",
    "        self.D = self.InputData.Distance_Matrix\n",
    "        self.M = self.InputData.Mind_Entfernung\n",
    "\n",
    "        # InitialPermutation 是对Station的排列，可理解为把这个Station送给某个机器  -->重新排列后的D矩阵在Solution类中做！！！！\n",
    "        self.InitialPermutation = list(range(self.InputData.Size)) # 这里输出的是初始排列，即fcfs。因此这里先不用考虑对Station的排列\n",
    "        self.WithMinimumDistance = withMinimumDistance\n",
    "        self.gesamtTransportLeistung = self.CalculateInitialTransport()\n",
    "        \n",
    "        \n",
    "\n",
    "    def CalculateInitialTransport(self):\n",
    "        if self.WithMinimumDistance == False:\n",
    "            total = (self.A * self.D).sum()\n",
    "        else:\n",
    "            # 当考虑设备间的最短距离时，需要比较D矩阵和M矩阵对应元素的大小，留下大的。\n",
    "            # 通过观察json中的D和M，M是个稀疏矩阵，因此我只需要创建一个D_copy，把M更大的元素赋给这个副本矩阵，，然后用副本矩阵跟A相乘\n",
    "            DistanceWithMin = copy.deepcopy(self.D)\n",
    "\n",
    "            # fcfs的情况下，0号设备放在0号Station，并以此类推，因此不用考虑对矩阵D的重新排列\n",
    "            # Solution中需要先把D按照Permutation排列好，然后再计算\n",
    "            for i in self.InitialPermutation:\n",
    "                for j in self.InitialPermutation:\n",
    "                    if self.D[i][j] < self.M[i][j]:\n",
    "                        DistanceWithMin[i][j] = self.M[i][j]\n",
    "            total = (self.A * DistanceWithMin).sum()\n",
    "        return total\n",
    "\n",
    "\n",
    "    def __str__(self):\n",
    "        return f'OutputData: \\nQuadratic Assignment Problem von {self.InputData.Size} Anlagen, mit einer initiallen Transportleistung von {self.gesamtTransportLeistung}.'\n",
    "        \n",
    "output_12 = OutputData(data)\n",
    "print(len(output_12.D))\n",
    "print(output_12)\n",
    "\n",
    "output_12_m = OutputData(data, True)\n",
    "print(output_12_m)\n",
    "\n",
    "print(output_12.D)\n"
   ]
  },
  {
   "cell_type": "code",
   "execution_count": 14,
   "metadata": {},
   "outputs": [],
   "source": [
    "output_15 = OutputData(data_15)\n",
    "output_20 = OutputData(data_20)"
   ]
  },
  {
   "cell_type": "code",
   "execution_count": 15,
   "metadata": {},
   "outputs": [
    {
     "name": "stdout",
     "output_type": "stream",
     "text": [
      "50998\n"
     ]
    }
   ],
   "source": [
    "D_c = np.array([[0,2,2,3,1,2,3,4,2,3,4,5],\n",
    "[2,0,1, 2, 2, 1, 2, 3, 3, 2, 3, 4], [2, 1, 0, 1, 3, 2, 1, 2, 4, 3, 2, 3], [3, 2, 1, 0, 4, 3, 2, 1, 5, 4, 3, 2], [1, 2, 3, 4, 0, 1, 2, 3, 1, 2, 3, 4],\n",
    "        [2, 1, 2, 3, 1, 0, 1, 2, 2, 1, 2, 3],\n",
    "        [3, 2, 1, 2, 2, 1, 0, 1, 3, 2, 1, 2],\n",
    "        [4, 3, 2, 1, 3, 2, 1, 0, 4, 3, 2, 1],\n",
    "        [2, 3, 4, 5, 1, 2, 3, 4, 0, 1, 2, 3],[3, 2, 3, 4, 2, 1, 2, 3, 1, 0, 2, 2],[4, 3, 2, 3, 3, 2, 1, 2, 2, 2, 0, 2],[5, 4, 3, 2, 4, 3, 2, 1, 3, 2, 2, 0]])\n",
    "\n",
    "\n",
    "print((D_c * data.Transport_Matrix).sum())"
   ]
  },
  {
   "cell_type": "code",
   "execution_count": 16,
   "metadata": {},
   "outputs": [
    {
     "name": "stdout",
     "output_type": "stream",
     "text": [
      "[[1 2 3]\n",
      " [4 5 6]\n",
      " [7 8 9]]\n",
      "[[7 8 9]\n",
      " [1 2 3]\n",
      " [4 5 6]]\n",
      "[[9 7 8]\n",
      " [3 1 2]\n",
      " [6 4 5]]\n"
     ]
    }
   ],
   "source": [
    "# 矩阵和二维数组：按照permutation重新排列行和列\n",
    "\n",
    "Dist= np.array([[1,2,3], [4,5,6],[7,8,9]])\n",
    "new_perm = [2,0,1]\n",
    "print(Dist)\n",
    "# new_perm = np.array(range(12)[::-1])\n",
    "# print(new_perm)\n",
    "dist_zeil = Dist[new_perm, :] # 先把Dist的行按照perm进行排列，\n",
    "print(dist_zeil)\n",
    "\n",
    "dist_zeil = dist_zeil[:, new_perm] # 再把列进行从新排列\n",
    "print(dist_zeil)\n"
   ]
  },
  {
   "cell_type": "code",
   "execution_count": 17,
   "metadata": {},
   "outputs": [
    {
     "name": "stdout",
     "output_type": "stream",
     "text": [
      "6\n",
      "[0, 1, 2, 3, 4, 5, 6, 7, 8, 9, 10, 11]\n"
     ]
    }
   ],
   "source": [
    "res = 0\n",
    "for i in range(12):\n",
    "    for j in range(12):\n",
    "        if output_12.D[i][j] < output_12.M[i][j]:\n",
    "            res += 1\n",
    "\n",
    "print(res)\n",
    "\n",
    "\n",
    "print(list(range(12)))"
   ]
  },
  {
   "cell_type": "code",
   "execution_count": 18,
   "metadata": {},
   "outputs": [
    {
     "name": "stdout",
     "output_type": "stream",
     "text": [
      "[[0 1 2 3 1 2 3 4 2 3 4 5]\n",
      " [1 0 1 2 2 1 2 3 3 2 3 4]\n",
      " [2 1 0 1 3 2 1 2 4 3 2 3]\n",
      " [3 2 1 0 4 3 2 1 5 4 3 2]\n",
      " [1 2 3 4 0 1 2 3 1 2 3 4]\n",
      " [2 1 2 3 1 0 1 2 2 1 2 3]\n",
      " [3 2 1 2 2 1 0 1 3 2 1 2]\n",
      " [4 3 2 1 3 2 1 0 4 3 2 1]\n",
      " [2 3 4 5 1 2 3 4 0 1 2 3]\n",
      " [3 2 3 4 2 1 2 3 1 0 1 2]\n",
      " [4 3 2 3 3 2 1 2 2 1 0 1]\n",
      " [5 4 3 2 4 3 2 1 3 2 1 0]]\n",
      "[[0 2 2 3 1 2 3 4 2 3 4 5]\n",
      " [2 0 1 2 2 1 2 3 3 2 3 4]\n",
      " [2 1 0 1 3 2 1 2 4 3 2 3]\n",
      " [3 2 1 0 4 3 2 1 5 4 3 2]\n",
      " [1 2 3 4 0 1 2 3 1 2 3 4]\n",
      " [2 1 2 3 1 0 1 2 2 1 2 3]\n",
      " [3 2 1 2 2 1 0 1 3 2 1 2]\n",
      " [4 3 2 1 3 2 1 0 4 3 2 1]\n",
      " [2 3 4 5 1 2 3 4 0 1 2 3]\n",
      " [3 2 3 4 2 1 2 3 1 0 2 2]\n",
      " [4 3 2 3 3 2 1 2 2 2 0 2]\n",
      " [5 4 3 2 4 3 2 1 3 2 2 0]]\n"
     ]
    }
   ],
   "source": [
    "# Permutation 是指station的排序；anlage矩阵不排序，默认从1（0）到n（n-1）排序。设备的排序也就相当于把这些设备分别安排在相应的Station中\n",
    "class Solution:\n",
    "\n",
    "    def __init__(self, outputData, permutation):\n",
    "        self.OutputData = outputData\n",
    "        self.Permutation = permutation\n",
    "        self.TransportMatrix = self.OutputData.A\n",
    "        self.ArrangedDMatrix = self.ArrangeDistanceMatrix() # 按照Permutation调整D矩阵的行列，得到Anlagen之间的距离，然后再与M矩阵直接比较\n",
    "        self.UpdatedDMatrix = self.UpdateDMatrix() # \n",
    "\n",
    "        self.TotalTransport = -1  # 需要用EvaluationLogic类来计算具体的值\n",
    "\n",
    "    def __str__(self):\n",
    "        return f'Die Permutation {self.Permutation} führt zu einer Transportleistung von {self.TotalTransport}'\n",
    "\n",
    "    def setPermutation(self, permutation):\n",
    "        self.Permutation = permutation\n",
    "\n",
    "    # 按照permutation重新排列D矩阵的行和列\n",
    "    def ArrangeDistanceMatrix(self):\n",
    "        arrangedDMatrix = self.OutputData.D[self.Permutation, :]\n",
    "        arrangedDMatrix = arrangedDMatrix[:, self.Permutation]\n",
    "\n",
    "        return arrangedDMatrix\n",
    "\n",
    "    # 通过比较当前D矩阵和最小距离M矩阵，把得出更新后的D矩阵\n",
    "    def UpdateDMatrix(self):\n",
    "        DistanceWithMin = copy.deepcopy(self.ArrangedDMatrix)\n",
    "        # res = 0\n",
    "        for i in range(self.OutputData.Size):\n",
    "            for j in range(self.OutputData.Size):\n",
    "                if self.ArrangedDMatrix[i][j] < self.OutputData.M[i][j]:\n",
    "                    DistanceWithMin[i][j] = self.OutputData.M[i][j]\n",
    "                    # res += 1\n",
    "        # print(res)\n",
    "        return DistanceWithMin\n",
    "        \n",
    "\n",
    "sol_1 = Solution(output_12, list(range(12))) \n",
    "print(sol_1.ArrangedDMatrix)\n",
    "print(sol_1.UpdatedDMatrix)\n",
    "\n",
    "\n",
    "# 得出结论，我自己随便找的一个排列，会导致fcfs中的6个不满足最近距离的元素变成4个\n",
    "\n",
    "\n",
    "\n",
    "\n"
   ]
  },
  {
   "cell_type": "code",
   "execution_count": 19,
   "metadata": {},
   "outputs": [
    {
     "name": "stdout",
     "output_type": "stream",
     "text": [
      "[[0 5 1 4 2 3 3 2 1 4 2 3]\n",
      " [5 0 4 1 3 2 2 3 4 1 3 2]\n",
      " [1 4 0 3 1 2 2 3 2 3 1 2]\n",
      " [4 1 3 0 2 1 3 2 3 2 2 1]\n",
      " [2 3 1 2 0 3 1 4 3 2 2 1]\n",
      " [3 2 2 1 3 0 4 1 2 3 1 2]\n",
      " [3 2 2 3 1 4 0 5 4 1 3 2]\n",
      " [2 3 3 2 4 1 5 0 1 4 2 3]\n",
      " [1 4 2 3 3 2 4 1 0 3 1 2]\n",
      " [4 1 3 2 2 3 1 4 3 0 2 1]\n",
      " [2 3 1 2 2 1 3 2 1 2 0 1]\n",
      " [3 2 2 1 1 2 2 3 2 1 1 0]]\n",
      "[[0 5 1 4 2 3 3 2 1 4 2 3]\n",
      " [5 0 4 1 3 2 2 3 4 1 3 2]\n",
      " [1 4 0 3 1 2 2 3 2 3 2 2]\n",
      " [4 1 3 0 2 1 3 2 3 2 2 1]\n",
      " [2 3 1 2 0 3 1 4 3 2 2 1]\n",
      " [3 2 2 1 3 0 4 1 2 3 1 2]\n",
      " [3 2 2 3 1 4 0 5 4 1 3 2]\n",
      " [2 3 3 2 4 1 5 0 1 4 2 3]\n",
      " [1 4 2 3 3 2 4 1 0 3 1 2]\n",
      " [4 1 3 2 2 3 1 4 3 0 2 1]\n",
      " [2 3 2 2 2 1 3 2 1 2 0 2]\n",
      " [3 2 2 1 1 2 2 3 2 1 2 0]]\n"
     ]
    }
   ],
   "source": [
    "# 把第11台设备放在了第一个Station     [0,11,1,10,2,9,3,8,4,7,5,6]\n",
    "sol_2 = Solution(output_12, [0,11,1,10,2,9,3,8,4,7,5,6])\n",
    "print(sol_2.ArrangedDMatrix)\n",
    "print(sol_2.UpdatedDMatrix)"
   ]
  },
  {
   "cell_type": "code",
   "execution_count": 20,
   "metadata": {},
   "outputs": [
    {
     "name": "stdout",
     "output_type": "stream",
     "text": [
      "[[0 2 1 3 2 4 5 3 4 2 3 1]\n",
      " [2 0 3 1 4 2 3 3 2 2 1 1]\n",
      " [1 3 0 2 1 3 4 2 3 1 4 2]\n",
      " [3 1 2 0 3 1 2 2 1 1 2 2]\n",
      " [2 4 1 3 0 2 3 1 4 2 5 3]\n",
      " [4 2 3 1 2 0 1 1 2 2 3 3]\n",
      " [5 3 4 2 3 1 0 2 1 3 2 4]\n",
      " [3 3 2 2 1 1 2 0 3 1 4 2]\n",
      " [4 2 3 1 4 2 1 3 0 2 1 3]\n",
      " [2 2 1 1 2 2 3 1 2 0 3 1]\n",
      " [3 1 4 2 5 3 2 4 1 3 0 2]\n",
      " [1 1 2 2 3 3 4 2 3 1 2 0]]\n",
      "[[0 2 1 3 2 4 5 3 4 2 3 1]\n",
      " [2 0 3 1 4 2 3 3 2 2 1 1]\n",
      " [1 3 0 2 1 3 4 2 3 2 4 2]\n",
      " [3 1 2 0 3 1 2 2 1 1 2 2]\n",
      " [2 4 1 3 0 2 3 1 4 2 5 3]\n",
      " [4 2 3 1 2 0 1 1 2 2 3 3]\n",
      " [5 3 4 2 3 1 0 2 1 3 2 4]\n",
      " [3 3 2 2 1 1 2 0 3 1 4 2]\n",
      " [4 2 3 1 4 2 1 3 0 2 1 3]\n",
      " [2 2 2 1 2 2 3 1 2 0 3 1]\n",
      " [3 1 4 2 5 3 2 4 1 3 0 2]\n",
      " [1 1 2 2 3 3 4 2 3 1 2 0]]\n"
     ]
    }
   ],
   "source": [
    "sol_3 = Solution(output_12, [0,2,4,6,8,10,11,9,7,5,3,1])\n",
    "print(sol_3.ArrangedDMatrix)\n",
    "print(sol_3.UpdatedDMatrix)"
   ]
  },
  {
   "cell_type": "code",
   "execution_count": 21,
   "metadata": {},
   "outputs": [],
   "source": [
    "class SolutionPool:\n",
    "    def __init__(self):\n",
    "        self.Solutions = []\n",
    "\n",
    "    def AddSolution(self, newSolution):\n",
    "        self.Solutions.append(newSolution)\n",
    "\n",
    "    def GetLowestTransport(self):\n",
    "        self.Solutions.sort(key = lambda solution: solution.TotalTransport) # 升序排列。选出位于首位的solution，就是总运输量最小的\n",
    "\n",
    "        return self.Solutions[0]"
   ]
  },
  {
   "cell_type": "code",
   "execution_count": 22,
   "metadata": {},
   "outputs": [],
   "source": [
    "class EvaluationLogic:\n",
    "    def __init__(self, withMinimumDistance = False):\n",
    "        # self.InputData = inputData\n",
    "        self.TotalTransport = None\n",
    "        self.WithMinimumDistance = withMinimumDistance\n",
    "\n",
    "    def DefineTotalTransport(self, currentSolution):\n",
    "        # 这个函数需要再solver中调用，并且能同时输出考虑MinimumDistance和不考虑的结果\n",
    "        if self.WithMinimumDistance == False:\n",
    "            totalTransport = (currentSolution.TransportMatrix * currentSolution.ArrangedDMatrix).sum()\n",
    "        else:\n",
    "            totalTransport = (currentSolution.TransportMatrix * currentSolution.UpdatedDMatrix).sum()\n",
    "        currentSolution.TotalTransport = totalTransport\n",
    "\n",
    "        return totalTransport\n"
   ]
  },
  {
   "cell_type": "code",
   "execution_count": 23,
   "metadata": {},
   "outputs": [
    {
     "name": "stdout",
     "output_type": "stream",
     "text": [
      "Die Permutation [0, 1, 2, 3, 4, 5, 6, 7, 8, 9, 10, 11] führt zu einer Transportleistung von 50116\n",
      "Die Permutation [0, 1, 2, 3, 4, 5, 6, 7, 8, 9, 10, 11] führt zu einer Transportleistung von 50998\n",
      "Die Permutation [0, 11, 1, 10, 2, 9, 3, 8, 4, 7, 5, 6] führt zu einer Transportleistung von 63118\n",
      "Die Permutation [0, 11, 1, 10, 2, 9, 3, 8, 4, 7, 5, 6] führt zu einer Transportleistung von 63568\n",
      "Die Permutation [0, 2, 4, 6, 8, 10, 11, 9, 7, 5, 3, 1] führt zu einer Transportleistung von 45322\n",
      "Die Permutation [0, 2, 4, 6, 8, 10, 11, 9, 7, 5, 3, 1] führt zu einer Transportleistung von 46102\n"
     ]
    }
   ],
   "source": [
    "el = EvaluationLogic() # 不考虑机器之间最小距离的情况下\n",
    "el2 = EvaluationLogic(True) # 考虑机器之间最小距离的情况\n",
    "\n",
    "el.DefineTotalTransport(sol_1)\n",
    "print(sol_1)\n",
    "\n",
    "el2.DefineTotalTransport(sol_1)\n",
    "print(sol_1)\n",
    "\n",
    "\n",
    "\n",
    "el.DefineTotalTransport(sol_2)\n",
    "print(sol_2)\n",
    "\n",
    "el2.DefineTotalTransport(sol_2)\n",
    "print(sol_2)\n",
    "\n",
    "el.DefineTotalTransport(sol_3)\n",
    "print(sol_3)\n",
    "el2.DefineTotalTransport(sol_3)\n",
    "print(sol_3)"
   ]
  },
  {
   "cell_type": "code",
   "execution_count": 24,
   "metadata": {},
   "outputs": [
    {
     "name": "stdout",
     "output_type": "stream",
     "text": [
      "[0, 1, 2, 3, 4, 5, 6, 7, 8, 9, 10, 11]\n",
      "[0, 1, 2, 3, 4, 5, 6, 7, 8, 9, 10, 11]\n"
     ]
    }
   ],
   "source": [
    "print([*range(len(output_12.D))])\n",
    "print(list(range(12)))"
   ]
  },
  {
   "cell_type": "code",
   "execution_count": 25,
   "metadata": {},
   "outputs": [
    {
     "name": "stdout",
     "output_type": "stream",
     "text": [
      "Die Permutation [0, 11, 1, 10, 2, 9, 3, 8, 4, 7, 5, 6] führt zu einer Transportleistung von 63568\n",
      "Die Permutation [0, 2, 4, 6, 8, 10, 11, 9, 7, 5, 3, 1] führt zu einer Transportleistung von 63118\n",
      "Die Permutation [0, 2, 4, 6, 8, 10, 11, 9, 7, 5, 3, 1] führt zu einer Transportleistung von 63118\n"
     ]
    }
   ],
   "source": [
    "print(sol_2)\n",
    "EvaluationLogic().DefineTotalTransport(sol_2) \n",
    "sol_2.setPermutation([0, 2, 4, 6, 8, 10, 11, 9, 7, 5, 3, 1])\n",
    "print(sol_2)\n",
    "EvaluationLogic().DefineTotalTransport(sol_2)    ######Solution对象的Permutation改变了，但是Transport没有！！\n",
    "print(sol_2)"
   ]
  },
  {
   "cell_type": "code",
   "execution_count": 26,
   "metadata": {},
   "outputs": [
    {
     "name": "stdout",
     "output_type": "stream",
     "text": [
      "Die Permutation [0, 2, 4, 6, 8, 10, 11, 9, 7, 5, 3, 1] führt zu einer Transportleistung von 63118\n",
      "[0, 2, 4, 6, 8, 10, 11, 9, 7, 5, 3, 1]\n",
      "Die Permutation [0, 2, 4, 6, 8, 10, 11, 9, 7, 5, 3, 1] führt zu einer Transportleistung von 45322\n"
     ]
    }
   ],
   "source": [
    "EvaluationLogic().DefineTotalTransport(sol_2) \n",
    "sol_2.setPermutation([0, 2, 4, 6, 8, 10, 11, 9, 7, 5, 3, 1])\n",
    "print(sol_2)\n",
    "print(sol_2.Permutation)\n",
    "sol_2.ArrangedDMatrix = sol_2.ArrangeDistanceMatrix()\n",
    "EvaluationLogic().DefineTotalTransport(sol_2)    ######Solution对象的Permutation改变了，但是Transport没有！！\n",
    "\n",
    "print(sol_2)  ## 在修改了Permutation之后，只有当ArrangedDMatrix之后，总运输量才会改变！！！！"
   ]
  },
  {
   "cell_type": "code",
   "execution_count": 27,
   "metadata": {},
   "outputs": [],
   "source": [
    "# 到这里需要用启发式算法生成一个startSolution，这个方案要尽可能接近最优解\n",
    "# 我选择的方法是ROS，随机数，即设置一个随机数种子，然后生成多个随机排列，每个排列包含的元素个数等于Size\n",
    "# 首先尝试使用ROS\n",
    "\n",
    "# from EvaluationLogic import *\n",
    "import numpy\n",
    "class ConstructiveHeuristics:\n",
    "    def __init__(self, evaluationLogic, solutionPool):  # EL类分两种情况，是否考虑最短距离M。在这个类中不用特定指出是哪种情况\n",
    "        self.RandomSeed = 999\n",
    "        self.RandomRetiris = 40000\n",
    "        self.EvaluationLogic = evaluationLogic\n",
    "        self.SolutionPool = solutionPool\n",
    "\n",
    "\n",
    "\n",
    "    def ROS(self, outputData, iterations, seed):\n",
    "        numpy.random.seed(seed)\n",
    "        tmpSolution = Solution(outputData, outputData.InitialPermutation)  # 使用默认的排序，即给出的文件中的D矩阵中的Station排列\n",
    "        bestCmax = numpy.inf\n",
    "\n",
    "\n",
    "        for i in range(iterations):\n",
    "            tmpPermutation = numpy.random.permutation(len(outputData.D))  # 随机排列能正常生成，\n",
    "            tmpSolution.setPermutation(tmpPermutation)\n",
    "            # tmpSolution.Permutation = tmpPermutation\n",
    "\n",
    "\n",
    "            # 修改Solution类的属性：（因为D矩阵的排列方式取决于我们随机生成的Permutation）\n",
    "            tmpSolution.ArrangedDMatrix = tmpSolution.ArrangeDistanceMatrix()\n",
    "            # self.EvaluationLogic = EvaluationLogic()\n",
    "            self.EvaluationLogic.DefineTotalTransport(tmpSolution)  # 这一行运行错误, 已解决！！\n",
    "\n",
    "            # tmpSolution.TotalTransport = (tmpSolution.TransportMatrix * tmpSolution.ArrangedDMatrix).sum()\n",
    "\n",
    "            if (tmpSolution.TotalTransport < bestCmax):\n",
    "                bestCmax = tmpSolution.TotalTransport\n",
    "                bestPerm = tmpPermutation\n",
    "            \n",
    "\n",
    "        bestSol = Solution(outputData, bestPerm)\n",
    "        self.EvaluationLogic.DefineTotalTransport(bestSol)\n",
    "\n",
    "        return bestSol\n",
    "\n",
    "    def Run(self, outPutData):\n",
    "        print('Generating an initial solution according to ROS. ')\n",
    "        solution = None\n",
    "\n",
    "        solution = self.ROS(outPutData, self.RandomRetiris, self.RandomSeed)\n",
    "        \n",
    "        self.SolutionPool.AddSolution(solution)\n"
   ]
  },
  {
   "cell_type": "markdown",
   "metadata": {},
   "source": [
    "# 这个单元格应该已经不能运行了，6月5日我在这里调试成功ROS的运行，\n",
    "# 但是没有把ConstructiveHeuristic做成一个类，也没有分类讨论是否需要考虑考虑M\n",
    "# 6日我在下面一个单元格进行了更新，在EvaluationLogic类的构造器中加入了WithMinimumDistance参数，\n",
    "# 这样这个参数会在solver中被传递给ConstructiveHeuristic\n",
    "print(output_12.InitialPermutation)\n",
    "print(output_12.D)\n",
    "print(len(output_12.D))\n",
    "\n",
    "s = Solution(output_12, output_12.InitialPermutation)\n",
    "EvaluationLogic().DefineTotalTransport(s)\n",
    "print(s)\n",
    "\n",
    "# print(ROS(output_12, 1900, 999))\n",
    "startSol = \n",
    "\n",
    "\n",
    "# 到这里为止，初始解决方案已经找到了，接下来开始进行优化Die Permutation [10  6  9  7  5  1  2  3 11  8  0  4] führt zu einer Transportleistung von 35540"
   ]
  },
  {
   "cell_type": "code",
   "execution_count": 28,
   "metadata": {},
   "outputs": [
    {
     "name": "stdout",
     "output_type": "stream",
     "text": [
      "Generating an initial solution according to ROS. \n",
      "Die Permutation [ 2  1  9  0 10  4  5  6  8  7  3 11] führt zu einer Transportleistung von 35280\n",
      "Generating an initial solution according to ROS. \n",
      "Die Permutation [ 4  2 10 11  6  7  3  9  8  1  5  0] führt zu einer Transportleistung von 60800\n"
     ]
    }
   ],
   "source": [
    "# 到这里为止，初始解决方案已经找到了，接下来开始进行优化\n",
    "# Die Permutation [10  6  9  7  5  1  2  3 11  8  0  4] führt zu einer Transportleistung von 35540\n",
    "construct_no_m = ConstructiveHeuristics(EvaluationLogic(False), SolutionPool())\n",
    "construct_with_m = ConstructiveHeuristics(EvaluationLogic(True), SolutionPool())\n",
    "\n",
    "construct_no_m.Run(output_12)\n",
    "print(construct_no_m.SolutionPool.GetLowestTransport())\n",
    "\n",
    "construct_with_m.Run(output_12)\n",
    "print(construct_with_m.SolutionPool.GetLowestTransport())\n",
    "\n",
    "\n",
    "\n",
    "# Generating an initial solution according to ROS. \n",
    "# Die Permutation [10  6  9  7  5  1  2  3 11  8  0  4] führt zu einer Transportleistung von 35540\n"
   ]
  },
  {
   "cell_type": "code",
   "execution_count": 29,
   "metadata": {},
   "outputs": [
    {
     "name": "stdout",
     "output_type": "stream",
     "text": [
      "[2 3 0 1 4]\n",
      "[4 2 3 0 1]\n",
      "[3 2 1 4 0]\n",
      "[4 0 2 3 1]\n",
      "[2 1 4 3 0]\n",
      "[3 4 1 2 0]\n",
      "[0 1 3 4 2]\n",
      "[3 4 1 0 2]\n",
      "[0 2 4 3 1]\n",
      "[1 3 2 0 4]\n",
      "<class 'numpy.ndarray'>\n"
     ]
    }
   ],
   "source": [
    "import numpy as np\n",
    "np.random.seed(2022)\n",
    "x = 0\n",
    "while x < 10:\n",
    "    perm = np.random.permutation(5)\n",
    "    print(perm)\n",
    "    x+=1\n",
    "\n",
    "print(type(perm))"
   ]
  },
  {
   "cell_type": "code",
   "execution_count": 30,
   "metadata": {},
   "outputs": [],
   "source": [
    "# 创建一个Solver类，有两个目的，\n",
    "# 第一，用solver对象把inputData读入，然后使用ConstructionPhase生成初始方案；\n",
    "# 第二，使用优化算法，把初始方案逐步进行优化\n",
    "class Solver:\n",
    "    def __init__(self, inputData, seed, withMinimumDistance = False): # 默认不考虑M矩阵\n",
    "        self.InputData = inputData\n",
    "        self.Seed = seed\n",
    "        self.RNG = numpy.random.default_rng(seed)\n",
    "        self.OutputData = OutputData(self.InputData)\n",
    "\n",
    "        self.EvaluationLogic = EvaluationLogic(withMinimumDistance)\n",
    "        self.SolutionPool = SolutionPool()\n",
    "\n",
    "        self.ConstructiveHeuristic = ConstructiveHeuristics(self.EvaluationLogic, self.SolutionPool)\n",
    "\n",
    "    # 这里返回的是当前借助ROS算法得到的最优解，可以作为优化算法的\n",
    "    def ConstructionPhase(self):\n",
    "        self.ConstructiveHeuristic.Run(self.OutputData)\n",
    "        bestInitialSol = self.SolutionPool.GetLowestTransport()\n",
    "        \n",
    "        print('Constructive Solution found. ')\n",
    "        # print(bestInitialSol)\n",
    "\n",
    "        return bestInitialSol\n",
    "\n",
    "\n",
    "\n",
    "\n"
   ]
  },
  {
   "cell_type": "code",
   "execution_count": 38,
   "metadata": {},
   "outputs": [
    {
     "name": "stdout",
     "output_type": "stream",
     "text": [
      "Generating an initial solution according to ROS. \n",
      "Constructive Solution found. \n",
      "Die Permutation [ 2  1  9  0 10  4  5  6  8  7  3 11] führt zu einer Transportleistung von 35280\n",
      "Generating an initial solution according to ROS. \n",
      "Constructive Solution found. \n",
      "Die Permutation [ 4  2 10 11  6  7  3  9  8  1  5  0] führt zu einer Transportleistung von 60800\n"
     ]
    }
   ],
   "source": [
    "solver = Solver(data, 999, False)\n",
    "print(solver.ConstructionPhase())\n",
    "\n",
    "\n",
    "\n",
    "solver_m = Solver(data, 999, True)\n",
    "print(solver_m.ConstructionPhase())"
   ]
  },
  {
   "cell_type": "code",
   "execution_count": 39,
   "metadata": {},
   "outputs": [
    {
     "name": "stdout",
     "output_type": "stream",
     "text": [
      "Generating an initial solution according to ROS. \n",
      "Constructive Solution found. \n",
      "<class 'numpy.ndarray'>\n",
      "[2, 1, 9, 0, 10, 4, 5, 6, 8, 7, 3, 11]\n"
     ]
    }
   ],
   "source": [
    "bestInitialSolution = solver.ConstructionPhase()\n",
    "print(type(bestInitialSolution.Permutation))\n",
    "\n",
    "print(list(bestInitialSolution.Permutation))"
   ]
  },
  {
   "cell_type": "markdown",
   "metadata": {},
   "source": [
    " Scr12  12    31410 (OPT)   (8,6,3,2,10,1,5,9,4,7,12,11)\n",
    "\n",
    " Scr15  15    51140 (OPT)   (15,7,11,8,1,4,3,2,12,6,13,5,14,10,9)\n",
    " \n",
    " Scr20  20   110030 (OPT)   (20,7,12,6,4,8,3,2,14,11,18,9,19,15,16,17,13,5,10,1)"
   ]
  },
  {
   "cell_type": "code",
   "execution_count": 40,
   "metadata": {},
   "outputs": [
    {
     "name": "stdout",
     "output_type": "stream",
     "text": [
      "Generating an initial solution according to ROS. \n",
      "Constructive Solution found. \n",
      "Die Permutation [11  0 10  4  7  6  2  3  8 13  1 12  5  9 14] führt zu einer Transportleistung von 62612\n",
      "Generating an initial solution according to ROS. \n",
      "Constructive Solution found. \n",
      "Die Permutation [11 17  4 13 19 12 18 15  1  3  0  8  9  2  7  5  6 16 10 14] führt zu einer Transportleistung von 155330\n"
     ]
    }
   ],
   "source": [
    "# 距离标准最优解还差很远\n",
    "solver_15 = Solver(data_15, 999, False)\n",
    "print(solver_15.ConstructionPhase())\n",
    "\n",
    "solver_20 = Solver(data_20, 999, False)\n",
    "print(solver_20.ConstructionPhase())"
   ]
  },
  {
   "cell_type": "code",
   "execution_count": 41,
   "metadata": {},
   "outputs": [
    {
     "name": "stdout",
     "output_type": "stream",
     "text": [
      "77278\n",
      "199318\n"
     ]
    }
   ],
   "source": [
    "# 12 和15 的情况下，各自的初始解 ----> 急需进行局部搜索优化，现在ROS已经进行了40000次随机排列，只能优化到这个程度\n",
    "print(output_15.CalculateInitialTransport())\n",
    "print(output_20.CalculateInitialTransport())"
   ]
  },
  {
   "cell_type": "code",
   "execution_count": 35,
   "metadata": {},
   "outputs": [],
   "source": [
    "# 现在进行ILS步骤，6月6日规划：\n",
    "# 1. 先创建Neighborhood类，通过SwapMove 和TwoEdgeExchange两种方式，在初始方案（ROS）中进行变换，得到邻域解，\n",
    "#    并评估全部邻域解！！ --> 注意继承关系\n",
    "# 2. 然后创建ImprovementAlgorithm类，ILS算法就在这个类中。这里注意看Solver类中的RunLocalSearch, ImprovementPhase\n",
    "class BaseNeighborhood():\n",
    "    def __init__(self, inputData, initialPermutation, evaluationLogic, solutionPool):\n",
    "        self.InputData = inputData\n",
    "        self.OutputData = OutputData(inputData)\n",
    "        self.Permutation = initialPermutation\n",
    "        self.EvaluationLogic = evaluationLogic\n",
    "        self.SolutionPool = solutionPool\n",
    "\n",
    "        self.Moves = []\n",
    "        self.MoveSolutions = []\n",
    "\n",
    "        self.Type = 'None'\n",
    "\n",
    "    def DiscoverMoves(self):\n",
    "        raise Exception('DiscoverMoves is implemented in the two child classes. ')\n",
    "\n",
    "    # 这个函数只是用EL类计算当前moveSolution的总运输量，并返回这个moveSolution。会在EvaluateMovesBestImprovement函数中进行调用，不需要单独调用\n",
    "    def EvaluateMove(self, move): \n",
    "        moveSolution = Solution(self.OutputData, move.Permutation)\n",
    "        self.EvaluationLogic.DefineTotalTransport(moveSolution)\n",
    "        return moveSolution\n",
    "\n",
    "    # 这个函数只是把由DiscoverMoves函数生成的moves列表进行遍历，然后构造成Solution对象，再把Solution对象加入到MoveSolutions列表中。\n",
    "    # 我们会在MakeBestMove函数中对moveSolution列表按照总运输量进行排序ASC，然后返回列表的第0个元素\n",
    "    def EvaluateMovesBestImprovement(self):\n",
    "        for move in self.Moves:\n",
    "            moveSolution = self.EvaluateMove(move)\n",
    "            self.MoveSolutions.append(moveSolution)\n",
    "\n",
    "    def MakeBestMove(self):\n",
    "        self.MoveSolutions.sort(key = lambda solution: solution.TotalTransport) # solution 的TotalTransport属性已经存在，因为EvaluateMove函数使用了EL\n",
    "        bestNeighborhoodSolution = self.MoveSolutions[0]\n",
    "        return bestNeighborhoodSolution\n",
    "\n",
    "    # 用于修改initialPermutation，也就是说初始解可能会变。但是Beleg中估计不会用到\n",
    "    def Update(self, permutation): \n",
    "        self.Permutation = permutation\n",
    "\n",
    "        self.Moves.clear()\n",
    "        self.MoveSolutions.clear()\n",
    "\n",
    "\n",
    "    def LocalSearch(self, solution):\n",
    "        hasSolutionImproved = True\n",
    "\n",
    "        self.Update(solution.Permutation)\n",
    "        self.DiscoverMoves()\n",
    "        self.EvaluateMovesBestImprovement()\n",
    "\n",
    "        bestNeighborhoodSolution = self.MakeBestMove()\n",
    "        if bestNeighborhoodSolution.TotalTransport < solution.TotalTransport:\n",
    "            print('New best Solution has been found! ')\n",
    "            print(bestNeighborhoodSolution)\n",
    "\n",
    "            self.SolutionPool.AddSolution(bestNeighborhoodSolution)\n",
    "            solution.Permutation = bestNeighborhoodSolution.Permutation\n",
    "            solution.TotalTransport = bestNeighborhoodSolution.TotalTransport # 这里的赋值是为了进入下一轮while循环，局部搜索bestNeighborhoodSol的邻域\n",
    "\n",
    "        else:\n",
    "            print(f'Reached local optimum of {self.Type} neighborhood. Stop local search. ')\n",
    "            hasSolutionImproved = False\n",
    "\n",
    "\n",
    "\n",
    "class SwapMove:\n",
    "    def __init__(self, initialPermutation, indexA, indexB):\n",
    "        self.Permutation = list(initialPermutation)\n",
    "        self.IndexA = indexA\n",
    "        self.IndexB = indexB\n",
    "\n",
    "        self.Permutation[indexA] = initialPermutation[indexB]\n",
    "        self.Permutation[indexB] = initialPermutation[indexA]\n",
    "\n",
    "\n",
    "class SwapNeighborhood(BaseNeighborhood):\n",
    "    def __init__(self, inputData, initialPermutation, evaluationLogic, solutionPool):\n",
    "        super().__init__(inputData, initialPermutation, evaluationLogic, solutionPool)\n",
    "\n",
    "        self.Type = 'Swap'\n",
    "\n",
    "    def DiscoverMoves(self):\n",
    "        for i in range(len(self.Permutation)):\n",
    "            for j in range(len(self.Permutation)):\n",
    "                if i < j:\n",
    "                    swapMove = SwapMove(self.Permutation, i, j)\n",
    "                    self.Moves.append(swapMove)\n",
    "\n",
    "\n",
    "class TwoEdgeExchangeMove:\n",
    "    def __init__(self, initialPermutation, indexA, indexB):\n",
    "        self.Permutation = []\n",
    "\n",
    "        self.Permutation.extend(initialPermutation[: indexA])\n",
    "        self.Permutation.extend(reversed(initialPermutation[indexA: indexB]))\n",
    "        self.Permutation.extend(initialPermutation[indexB: ])\n",
    "\n",
    "\n",
    "# 这个类用于构建由2 opt算法得出的邻域，也就是往self.Moves里面添加TwoEdgeExchangeMove的对象\n",
    "class TwoEdgeExchangeNeighborhood(BaseNeighborhood):\n",
    "    def __init__(self, inputData, initialPermutation, evaluationLogic, solutionPool):\n",
    "        super().__init__(inputData, initialPermutation, evaluationLogic, solutionPool)\n",
    "\n",
    "        self.Type = 'TwoEdgeExchange'\n",
    "\n",
    "    def DiscoverMoves(self):\n",
    "        for i in range(len(self.Permutation)):\n",
    "            for j in range(len(self.Permutation)):\n",
    "                if j < i + 1:\n",
    "                    continue\n",
    "                twoEdgeMove = TwoEdgeExchangeMove(self.Permutation, i, j)\n",
    "                self.Moves.append(twoEdgeMove)\n",
    "        \n",
    "\n"
   ]
  },
  {
   "cell_type": "code",
   "execution_count": 36,
   "metadata": {},
   "outputs": [],
   "source": [
    "class ImprovementAlgorithm:\n",
    "    def __init__(self, inputData, neighborhoodTypes = ['Swap']):\n",
    "        self.InputData = inputData\n",
    "\n",
    "        self.EvaluationLogic = {}\n",
    "        self.SolutionPool = {}\n",
    "        self.RNG = {}\n",
    "\n",
    "        self.NeighborhoodTypes = neighborhoodTypes\n",
    "        self.Neighborhoods = {}\n",
    "\n",
    "    def Initialize(self, evaluationLogic, solutionPool, rng = None):\n",
    "        self.EvaluationLogic = evaluationLogic\n",
    "        self.SolutionPool = solutionPool\n",
    "        self.RNG = rng\n",
    "\n",
    "\n",
    "    def CreateNeighborhood(self, neighborhoodType, bestCurrentSolution):\n",
    "        if neighborhoodType == 'Swap':\n",
    "            return SwapNeighborhood(self.InputData, bestCurrentSolution.Permutation, self.EvaluationLogic, self.SolutionPool)\n",
    "        elif neighborhoodType == 'TwoEdgeExchange':\n",
    "            return TwoEdgeExchangeNeighborhood(self.InputData, bestCurrentSolution.Permutation, self.EvaluationLogic, self.SolutionPool)\n",
    "\n",
    "        else:\n",
    "            raise Exception(f'Neighborhood type {neighborhoodType} not defined. ')\n",
    "\n",
    "    def InitializeNeighborhoods(self, solution):\n",
    "        for neighborhoodType in self.NeighborhoodTypes:\n",
    "            neighborhood = self.CreateNeighborhood(neighborhoodType, solution)\n",
    "            self.Neighborhoods[neighborhoodType] = neighborhood\n",
    "            \n",
    "\n",
    "\n",
    "\n",
    "\n",
    "\n",
    "\n",
    "\n"
   ]
  },
  {
   "cell_type": "code",
   "execution_count": 42,
   "metadata": {},
   "outputs": [
    {
     "name": "stdout",
     "output_type": "stream",
     "text": [
      "[]\n"
     ]
    }
   ],
   "source": [
    "swapNeighbor = SwapNeighborhood(data, bestInitialSolution.Permutation, EvaluationLogic(False), SolutionPool())\n",
    "print(swapNeighbor.Moves)"
   ]
  }
 ],
 "metadata": {
  "interpreter": {
   "hash": "7758e92e9a61d7a3490898707f7eeb937c85e9d1e8d4e877cc6c187218f226d5"
  },
  "kernelspec": {
   "display_name": "Python 3.9.12 ('base')",
   "language": "python",
   "name": "python3"
  },
  "language_info": {
   "codemirror_mode": {
    "name": "ipython",
    "version": 3
   },
   "file_extension": ".py",
   "mimetype": "text/x-python",
   "name": "python",
   "nbconvert_exporter": "python",
   "pygments_lexer": "ipython3",
   "version": "3.9.12"
  },
  "orig_nbformat": 4
 },
 "nbformat": 4,
 "nbformat_minor": 2
}
