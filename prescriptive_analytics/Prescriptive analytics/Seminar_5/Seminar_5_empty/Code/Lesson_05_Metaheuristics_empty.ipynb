{
 "cells": [
  {
   "cell_type": "markdown",
   "metadata": {},
   "source": [
    "---\n",
    "# Praxisteil 4 - Metaheuristiken\n",
    "---"
   ]
  },
  {
   "cell_type": "markdown",
   "metadata": {},
   "source": [
    "---\n",
    "## 1. Iterated Greedy\n",
    "---"
   ]
  },
  {
   "cell_type": "markdown",
   "metadata": {},
   "source": [
    "---\n",
    "### 1.1 Wiederholung allgemeiner Ablauf\n",
    "---"
   ]
  },
  {
   "cell_type": "markdown",
   "metadata": {},
   "source": [
    "Ablauf Iterated Greedy\n",
    "\n",
    "![AblaufIG](../DataFiles/IteratedGreedyAblauf.png)"
   ]
  },
  {
   "cell_type": "markdown",
   "metadata": {},
   "source": [
    "----\n",
    "### 1.2 Startlösung\n",
    "----\n",
    "NEH-Heuristik"
   ]
  },
  {
   "cell_type": "code",
   "execution_count": 2,
   "metadata": {},
   "outputs": [
    {
     "name": "stdout",
     "output_type": "stream",
     "text": [
      "Collecting deap\n",
      "  Using cached deap-1.3.1-cp39-cp39-win_amd64.whl (108 kB)\n",
      "Requirement already satisfied: numpy in e:\\anaconda\\lib\\site-packages (from deap) (1.21.5)\n",
      "Installing collected packages: deap\n"
     ]
    },
    {
     "name": "stderr",
     "output_type": "stream",
     "text": [
      "ERROR: Could not install packages due to an OSError: [WinError 5] 拒绝访问。: 'E:\\\\anaconda\\\\Lib\\\\site-packages\\\\deap'\n",
      "Consider using the `--user` option or check the permissions.\n",
      "\n"
     ]
    }
   ],
   "source": [
    "! pip install deap"
   ]
  },
  {
   "cell_type": "code",
   "execution_count": 3,
   "metadata": {},
   "outputs": [
    {
     "ename": "ModuleNotFoundError",
     "evalue": "No module named 'deap'",
     "output_type": "error",
     "traceback": [
      "\u001b[1;31m---------------------------------------------------------------------------\u001b[0m",
      "\u001b[1;31mModuleNotFoundError\u001b[0m                       Traceback (most recent call last)",
      "\u001b[1;32me:\\Prescriptive analytics\\Seminar_5\\Seminar_5_empty\\Code\\Lesson_05_Metaheuristics_empty.ipynb Cell 7'\u001b[0m in \u001b[0;36m<cell line: 1>\u001b[1;34m()\u001b[0m\n\u001b[1;32m----> <a href='vscode-notebook-cell:/e%3A/Prescriptive%20analytics/Seminar_5/Seminar_5_empty/Code/Lesson_05_Metaheuristics_empty.ipynb#ch0000006?line=0'>1</a>\u001b[0m \u001b[39mimport\u001b[39;00m \u001b[39mdeap\u001b[39;00m\n",
      "\u001b[1;31mModuleNotFoundError\u001b[0m: No module named 'deap'"
     ]
    }
   ],
   "source": [
    "import deap"
   ]
  },
  {
   "cell_type": "code",
   "execution_count": 1,
   "metadata": {},
   "outputs": [
    {
     "ename": "ModuleNotFoundError",
     "evalue": "No module named 'deap'",
     "output_type": "error",
     "traceback": [
      "\u001b[1;31m---------------------------------------------------------------------------\u001b[0m",
      "\u001b[1;31mModuleNotFoundError\u001b[0m                       Traceback (most recent call last)",
      "\u001b[1;32me:\\Prescriptive analytics\\Seminar_5\\Seminar_5_empty\\Code\\Lesson_05_Metaheuristics_empty.ipynb Cell 6'\u001b[0m in \u001b[0;36m<cell line: 1>\u001b[1;34m()\u001b[0m\n\u001b[1;32m----> <a href='vscode-notebook-cell:/e%3A/Prescriptive%20analytics/Seminar_5/Seminar_5_empty/Code/Lesson_05_Metaheuristics_empty.ipynb#ch0000005?line=0'>1</a>\u001b[0m \u001b[39mfrom\u001b[39;00m \u001b[39mSolver\u001b[39;00m \u001b[39mimport\u001b[39;00m \u001b[39m*\u001b[39m\n\u001b[0;32m      <a href='vscode-notebook-cell:/e%3A/Prescriptive%20analytics/Seminar_5/Seminar_5_empty/Code/Lesson_05_Metaheuristics_empty.ipynb#ch0000005?line=2'>3</a>\u001b[0m data \u001b[39m=\u001b[39m InputData(\u001b[39m\"\u001b[39m\u001b[39m../TestInstancesJson/Small/VFR10_5_5_SIST.json\u001b[39m\u001b[39m\"\u001b[39m)\n\u001b[0;32m      <a href='vscode-notebook-cell:/e%3A/Prescriptive%20analytics/Seminar_5/Seminar_5_empty/Code/Lesson_05_Metaheuristics_empty.ipynb#ch0000005?line=4'>5</a>\u001b[0m solver \u001b[39m=\u001b[39m Solver(data, \u001b[39m1060\u001b[39m) \u001b[39m#1014, 754 |  1060, 736\u001b[39;00m\n",
      "File \u001b[1;32me:\\Prescriptive analytics\\Seminar_5\\Seminar_5_empty\\Code\\Solver.py:8\u001b[0m, in \u001b[0;36m<module>\u001b[1;34m\u001b[0m\n\u001b[0;32m      <a href='file:///e%3A/Prescriptive%20analytics/Seminar_5/Seminar_5_empty/Code/Solver.py?line=4'>5</a>\u001b[0m \u001b[39mfrom\u001b[39;00m \u001b[39mEvaluationLogic\u001b[39;00m \u001b[39mimport\u001b[39;00m \u001b[39m*\u001b[39m\n\u001b[0;32m      <a href='file:///e%3A/Prescriptive%20analytics/Seminar_5/Seminar_5_empty/Code/Solver.py?line=6'>7</a>\u001b[0m \u001b[39mimport\u001b[39;00m \u001b[39mrandom\u001b[39;00m\n\u001b[1;32m----> <a href='file:///e%3A/Prescriptive%20analytics/Seminar_5/Seminar_5_empty/Code/Solver.py?line=7'>8</a>\u001b[0m \u001b[39mfrom\u001b[39;00m \u001b[39mdeap\u001b[39;00m \u001b[39mimport\u001b[39;00m algorithms\n\u001b[0;32m      <a href='file:///e%3A/Prescriptive%20analytics/Seminar_5/Seminar_5_empty/Code/Solver.py?line=8'>9</a>\u001b[0m \u001b[39mfrom\u001b[39;00m \u001b[39mdeap\u001b[39;00m \u001b[39mimport\u001b[39;00m base\n\u001b[0;32m     <a href='file:///e%3A/Prescriptive%20analytics/Seminar_5/Seminar_5_empty/Code/Solver.py?line=9'>10</a>\u001b[0m \u001b[39mfrom\u001b[39;00m \u001b[39mdeap\u001b[39;00m \u001b[39mimport\u001b[39;00m creator\n",
      "\u001b[1;31mModuleNotFoundError\u001b[0m: No module named 'deap'"
     ]
    }
   ],
   "source": [
    "from Solver import *\n",
    "\n",
    "data = InputData(\"../TestInstancesJson/Small/VFR10_5_5_SIST.json\")\n",
    "\n",
    "solver = Solver(data, 1060) #1014, 754 |  1060, 736\n",
    "\n",
    "startSolution = solver.ConstructionPhase(\"NEH\")\n",
    "\n",
    "currentSolution = deepcopy(startSolution)\n"
   ]
  },
  {
   "cell_type": "markdown",
   "metadata": {},
   "source": [
    "----\n",
    "### 1.3 Destruktion\n",
    "----\n",
    "Entferne zufällig _numberJobsToRemove_ Aufträge aus aktueller Lösung. Dabei ist _numberJobsToRemove_ ein Parameter des Iterated Greedy.\n",
    "Als Ergebnis ensteht die Menge entfernter Aufträge _removedJobs_ und eine unvollständige Lösung _partialPermutation_."
   ]
  },
  {
   "cell_type": "code",
   "execution_count": null,
   "metadata": {},
   "outputs": [],
   "source": [
    "numberJobsToRemove = 2 # 1st parameter\n",
    "\n"
   ]
  },
  {
   "cell_type": "markdown",
   "metadata": {},
   "source": [
    "----\n",
    "### 1.4 Konstruktion\n",
    "----\n",
    "Füge die _removedJobs_ unter Beachtung der Reihenfolge an der jeweils besten Position (NEH) wieder zu _partialPermutation_ hinzu und gib die neue vollständige Lösung zurück. "
   ]
  },
  {
   "cell_type": "code",
   "execution_count": null,
   "metadata": {},
   "outputs": [],
   "source": []
  },
  {
   "cell_type": "markdown",
   "metadata": {},
   "source": [
    "----\n",
    "### 1.5 Akzeptanz und Gedächtnis\n",
    "---- \n",
    "Akzeptiere neue Lösung als aktuelle Lösung, wenn\n",
    "* neue Lösung besser als aktuelle Lösung (immer)\n",
    "* Akzeptanzkriterium erfüllt (zufällig)\n",
    "\n",
    "Akzeptanzkriterium bei Ruiz/ Stützle:  $\\pi''$ - neue Lösung (_newSolution_), $\\pi$ - aktuelle Lösung (_currentSolution_)\n",
    "$$\n",
    "    \\begin{equation}\n",
    "    e^{- \\frac{C_{\\max}\\left( \\pi'' \\right) - C_{\\max}\\left( \\pi \\right)}{Temperature}} \\text{ mit } Temperature = T \\cdot \\frac{\\sum Bearbeitungszeiten}{n \\cdot m \\cdot 10}\n",
    "    \\end{equation}\n",
    "$$  \n",
    "$T$ ist der 2. Parameter des Iterated Greedy. Je höher $T$ ist, desto größer ist die Wahrscheinlichkeit, schlechtere Lösungen zu akzeptieren.\n",
    "\n",
    "Neue beste Lösung wird im _SolutionPool_ gespeichert."
   ]
  },
  {
   "cell_type": "code",
   "execution_count": null,
   "metadata": {},
   "outputs": [],
   "source": [
    "print(f'Solution before checking for acceptance: \\n{currentSolution}')\n",
    "\n",
    "baseTemperature = 1 # 2nd parameter\n",
    "\n",
    "        \n",
    "print(f'Solution after checking for acceptance: \\n{currentSolution}')"
   ]
  },
  {
   "cell_type": "markdown",
   "metadata": {},
   "source": [
    "Akzeptanzkriterium in Funktion für bessere Übersichtlichkeit"
   ]
  },
  {
   "cell_type": "code",
   "execution_count": null,
   "metadata": {},
   "outputs": [],
   "source": [
    "def AcceptWorseSolution(currentObjectiveValue, newObjectiveValue):  \n",
    "    temperature = baseTemperature * solver.InputData.TotalProcessingTime / (solver.InputData.n * solver.InputData.m * 10)\n",
    "    probability = math.exp(-(newObjectiveValue - currentObjectiveValue) / temperature)\n",
    "\n",
    "    return solver.RNG.random() <= probability"
   ]
  },
  {
   "cell_type": "markdown",
   "metadata": {},
   "source": [
    "----\n",
    "### 1.6 Lokale Suche\n",
    "----\n",
    "Verfahren der lokalen Suche können optional verwendet werden, um die aktuelle Lösung zu verbessern. Häufig wird __Iterative Improvement__ mit der Insertion-Nachbarschaft verwendet."
   ]
  },
  {
   "cell_type": "code",
   "execution_count": null,
   "metadata": {},
   "outputs": [],
   "source": [
    "print(f'Solution before Local Search:\\n{currentSolution}')\n",
    "\n",
    "\n",
    "\n",
    "print(f'Solution after nach Local Search\\n{currentSolution}')"
   ]
  },
  {
   "cell_type": "markdown",
   "metadata": {},
   "source": [
    "----\n",
    "### 1.7 Iterated Greedy als Steuerungsmechanismus der Komponenten\n",
    "----\n",
    "Iterated Greedy ist iterative Abfolge von Destruktion und Konstruktion $\\Rightarrow$ wird in Schleife immer wieder durchgeführt bis Stoppkriterium erreicht ist. \n",
    "\n",
    "Hier im Beispiel ist Stoppkriterium die Anzahl an Iterationen _maxIterations_, aber bspw. auch Zeitlimit oder Anzahl Iterationen ohne Verbesserungen möglich."
   ]
  },
  {
   "cell_type": "code",
   "execution_count": null,
   "metadata": {},
   "outputs": [],
   "source": [
    "maxIterations = 10 # stop criterion number of iterations\n"
   ]
  },
  {
   "cell_type": "markdown",
   "metadata": {},
   "source": [
    "Iterated Greedy ausführen"
   ]
  },
  {
   "cell_type": "code",
   "execution_count": null,
   "metadata": {},
   "outputs": [],
   "source": [
    "solver = Solver(data, 1060)\n",
    "\n",
    "startSolution = solver.ConstructionPhase(\"NEH\")\n",
    "\n",
    "bestSolution = Run(startSolution)\n",
    "\n",
    "print(f'Best solution found.\\n{bestSolution}')"
   ]
  },
  {
   "cell_type": "markdown",
   "metadata": {},
   "source": [
    "---\n",
    "## 2. Klasse für Iterated Greedy\n",
    "---"
   ]
  },
  {
   "cell_type": "markdown",
   "metadata": {},
   "source": [
    "Analog wie für den Algorithmus _IterativeImprovement_ soll jetzt auch für _IteratedGreedy_ eine eigene Klasse angelegt werden, damit eine Instanz der Klasse an den Solver übergeben werden kann.\n",
    "\n",
    "_Iterated Greedy_ soll wie _IterativeImprovement_ von _ImprovementAlgorithm_ erben.\n",
    "\n",
    "Notwendige __Parameter__ sind Attribute:\n",
    "* NumberJobsToRemove\n",
    "* BaseTemperature\n",
    "* MaxIterations\n",
    "* Instanz des Local Search Algorithmus\n",
    "\n",
    "EvaluationLogic, SolutionPool und random number generator werden von Solver an Algorithmus übergeben.\n",
    "\n",
    "__Programmieraufgabe:__ Ergänzen sie die Klasse _IteratedGreedy_, sodass sie an den Solver als Algorithmus übergeben werden kann.\n",
    "\n",
    "__Funktionen:__ Konstruktor, Initialize, Destruction, Construction, AcceptWorseSolution, Run"
   ]
  },
  {
   "cell_type": "code",
   "execution_count": null,
   "metadata": {},
   "outputs": [],
   "source": [
    "class IteratedGreedy(ImprovementAlgorithm):\n",
    "    def __init__(self, inputData, numberJobsToRemove, baseTemperature, maxIterations, localSearchAlgorithm=None):\n",
    "        super().__init__(inputData)\n",
    "\n",
    "  "
   ]
  },
  {
   "cell_type": "markdown",
   "metadata": {},
   "source": [
    "Der Algorithmus kann jetzt in _RunLocalSearch()_ an den Solver übergeben und ausgeführt werden."
   ]
  },
  {
   "cell_type": "code",
   "execution_count": null,
   "metadata": {},
   "outputs": [],
   "source": [
    "    data = InputData(\"../TestInstancesJson/Small/VFR10_5_5_SIST.json\") #\"../TestInstancesJson/Small/VFR40_10_3_SIST.json\"\n",
    "\n",
    "    insertion = IterativeImprovement(data, 'BestImprovement', ['Insertion'])\n",
    "    taillardInsertion = IterativeImprovement(data, 'BestImprovement', ['TaillardInsertion'])\n",
    "    iteratedGreedy = IteratedGreedy(\n",
    "        data, \n",
    "        numberJobsToRemove=2, \n",
    "        baseTemperature=1, \n",
    "        maxIterations=100)\n",
    "\n",
    "    solver = Solver(data, 1010)\n",
    "\n",
    "    solver.RunLocalSearch(\n",
    "        constructiveSolutionMethod='NEH',\n",
    "        algorithm=iteratedGreedy)"
   ]
  },
  {
   "cell_type": "markdown",
   "metadata": {},
   "source": [
    "----\n",
    "## 3. Exkurs: DEAP und Genetic Algorithms\n",
    "----\n",
    "\n",
    "Distributed Evolutionary Algorithms in Python ([DEAP](https://github.com/DEAP/deap)) ist ein Framework für Evolutionary Computation, mit u.a. den populationsbasierten Metaheuristiken Genetic Algorithms und Particle Swarm Optimization.\n",
    "\n",
    "![Metaheuristiken](../DataFiles/MH.png)\n",
    "\n",
    "### Wichtige Begriffe für Genetic Algorithms:\n",
    "* Individuum: Einzelne Lösung\n",
    "* Population: Sammlung von Individuen\n",
    "* Generation: Population in einer Iteration\n",
    "* Reproduktion: Erzeugung neuer Individuen aus bekannten Individuen\n",
    "* Selektion: Auswahl von Individuen für Reproduktion und neue Generation\n",
    "* Fitness: Bewertung eines Individuums (Zielfunktionswert)\n",
    "* Mutation: Zufällige Veränderung eines Individuums\n",
    "\n",
    "![GeneticAlgorithm](../DataFiles/GA.png)"
   ]
  },
  {
   "cell_type": "markdown",
   "metadata": {},
   "source": [
    "----\n",
    "### Beispiel DEAP\n",
    "----"
   ]
  },
  {
   "cell_type": "markdown",
   "metadata": {},
   "source": [
    "__Creator__\n",
    "\n",
    "Meta-Factory um Klassen zu erzeugen\n",
    "\n",
    "Parameters:\n",
    "* name – The name of the class to create.\n",
    "* base – A base class from which to inherit.\n",
    "* attribute – One or more attributes to add on instantiation of this class, optional.\n"
   ]
  },
  {
   "cell_type": "code",
   "execution_count": null,
   "metadata": {},
   "outputs": [],
   "source": [
    "from Solver import *\n",
    "\n",
    "from deap import algorithms\n",
    "from deap import base\n",
    "from deap import creator\n",
    "from deap import tools\n",
    "\n",
    "data = InputData(\"../TestInstancesJson/Small/VFR10_5_5_SIST.json\")\n",
    "\n",
    "solver = Solver(data, 1011)\n",
    "\n",
    "creator.create(\"FitnessMin\", base.Fitness, weights=[-1.0]) # minimization problem, weights as list\n",
    "creator.create(\"Individual\", list, fitness=creator.FitnessMin) # single individual stored in python list"
   ]
  },
  {
   "cell_type": "markdown",
   "metadata": {},
   "source": [
    "__Toolbox__\n",
    "\n",
    "Erzeugt Konfiguration des Algorithmus"
   ]
  },
  {
   "cell_type": "code",
   "execution_count": null,
   "metadata": {},
   "outputs": [],
   "source": [
    "toolbox = base.Toolbox() \n",
    "\n",
    "# Individual is a permutation of integer indices\n",
    "toolbox.register(\"indices\", solver.RNG.choice, range(solver.InputData.n), solver.InputData.n, replace=False)\n",
    "toolbox.register(\"individual\", tools.initIterate, creator.Individual, toolbox.indices)\n",
    "\n",
    "# Population is a collection of individuals\n",
    "toolbox.register(\"population\", tools.initRepeat, list, toolbox.individual)\n",
    "pop = toolbox.population(100) # 100 individuals in population\n",
    "\n",
    "# Operators\n",
    "toolbox.register(\"mate\", tools.cxPartialyMatched) # set crossover \n",
    "toolbox.register(\"mutate\", tools.mutShuffleIndexes, indpb=0.05) # set mutation\n",
    "toolbox.register(\"select\", tools.selTournament, tournsize=3) # set selection mechanism"
   ]
  },
  {
   "cell_type": "markdown",
   "metadata": {},
   "source": [
    "__Fitness-Funktion__\n",
    "\n",
    "Bewertung eines Indivduums"
   ]
  },
  {
   "cell_type": "code",
   "execution_count": null,
   "metadata": {},
   "outputs": [],
   "source": [
    "def EvalPFSP(solver, individual):\n",
    "    solution = Solution(solver.InputData.InputJobs, individual)\n",
    "    solver.EvaluationLogic.DefineStartEnd(solution)\n",
    "    return [solution.Makespan]\n",
    "\n",
    "toolbox.register(\"evaluate\", EvalPFSP, solver) # fitness function"
   ]
  },
  {
   "cell_type": "markdown",
   "metadata": {},
   "source": [
    "__Statistiken__\n",
    "\n",
    "Sammlung von Werten während Laufzeit des Algorithmus'"
   ]
  },
  {
   "cell_type": "code",
   "execution_count": null,
   "metadata": {},
   "outputs": [],
   "source": [
    "stats = tools.Statistics(lambda ind: ind.fitness.values)\n",
    "stats.register(\"avg\", numpy.mean)\n",
    "stats.register(\"std\", numpy.std)\n",
    "stats.register(\"min\", numpy.min)\n",
    "stats.register(\"max\", numpy.max)"
   ]
  },
  {
   "cell_type": "markdown",
   "metadata": {},
   "source": [
    "__Hall of fame__\n",
    "\n",
    "Gedächtnis zum Speichern der besten Lösungen; hier nur beste Lösung"
   ]
  },
  {
   "cell_type": "code",
   "execution_count": null,
   "metadata": {},
   "outputs": [],
   "source": [
    "hof = tools.HallOfFame(1)"
   ]
  },
  {
   "cell_type": "markdown",
   "metadata": {},
   "source": [
    "__Ausführen__"
   ]
  },
  {
   "cell_type": "code",
   "execution_count": null,
   "metadata": {},
   "outputs": [],
   "source": [
    "random.seed(solver.Seed)\n",
    "algorithms.eaSimple(population=pop, toolbox=toolbox, cxpb=0.8, mutpb=0.2, ngen=100, stats=stats, halloffame=hof)\n",
    "\n",
    "bestPermutation = hof[0]\n",
    "bestSolution = Solution(solver.InputData.InputJobs, bestPermutation)\n",
    "solver.EvaluationLogic.DefineStartEnd(bestSolution)\n",
    "print(f'Best found Solution.\\n {bestSolution}')"
   ]
  },
  {
   "cell_type": "markdown",
   "metadata": {},
   "source": [
    "----\n",
    "#### Funktion für Solver\n",
    "----\n",
    "\n",
    "Parameter als Argumente\n",
    "* Populationsgröße _populationSize_\n",
    "* Anzahl Generationen _generations_\n",
    "* Rekombinationswahrscheinlichkeit _matingProb_\n",
    "* Mutationswahrscheinlichkeit _mutationProb_"
   ]
  },
  {
   "cell_type": "code",
   "execution_count": null,
   "metadata": {},
   "outputs": [],
   "source": [
    "def EvalPFSP(self, individual):\n",
    "    solution = Solution(self.InputData.InputJobs, individual)\n",
    "    self.EvaluationLogic.DefineStartEnd(solution)\n",
    "    return [solution.Makespan]\n",
    "\n",
    "def RunGeneticAlgorithm(self, populationSize, generations, matingProb, mutationProb):\n",
    "    # Creator - meta-factory to create new classes\n",
    "    creator.create(\"FitnessMin\", base.Fitness, weights=[-1.0])\n",
    "    creator.create(\"Individual\", list, fitness=creator.FitnessMin)\n",
    "\n",
    "    toolbox = base.Toolbox() \n",
    "\n",
    "    # Individual is a permutation of integer indices\n",
    "    toolbox.register(\"indices\", solver.RNG.choice, range(self.InputData.n), self.InputData.n, replace=False)\n",
    "    toolbox.register(\"individual\", tools.initIterate, creator.Individual, toolbox.indices)\n",
    "\n",
    "    # Population is a collection of individuals\n",
    "    toolbox.register(\"population\", tools.initRepeat, list, toolbox.individual)\n",
    "    pop = toolbox.population(populationSize) # number of individuals in population\n",
    "\n",
    "    # Operators\n",
    "    toolbox.register(\"mate\", tools.cxPartialyMatched) # set crossover \n",
    "    toolbox.register(\"mutate\", tools.mutShuffleIndexes, indpb=0.05) # set mutation\n",
    "    toolbox.register(\"select\", tools.selTournament, tournsize=3) # set selection mechanism\n",
    "    \n",
    "    # Fitness function\n",
    "    toolbox.register(\"evaluate\", self.EvalPFSP) \n",
    "    \n",
    "    # Statistics during run time\n",
    "    stats = tools.Statistics(lambda ind: ind.fitness.values)\n",
    "    stats.register(\"avg\", numpy.mean)\n",
    "    stats.register(\"std\", numpy.std)\n",
    "    stats.register(\"min\", numpy.min)\n",
    "    stats.register(\"max\", numpy.max)\n",
    "            \n",
    "    # Hall of fame --> Best individual\n",
    "    hof = tools.HallOfFame(1)\n",
    "\n",
    "    random.seed(self.Seed)\n",
    "    algorithms.eaSimple(population=pop, toolbox=toolbox, cxpb=matingProb, mutpb=mutationProb, ngen=generations, stats=stats, halloffame=hof)\n",
    "\n",
    "    bestPermutation = hof[0]\n",
    "    bestSolution = Solution(self.InputData.InputJobs, bestPermutation)\n",
    "    self.EvaluationLogic.DefineStartEnd(bestSolution)\n",
    "    print(f'Best found Solution.\\n {bestSolution}')\n",
    "\n",
    "Solver.EvalPFSP = EvalPFSP\n",
    "Solver.RunGeneticAlgorithm = RunGeneticAlgorithm"
   ]
  },
  {
   "cell_type": "markdown",
   "metadata": {},
   "source": [
    "Vergleich Iterated Greedy und Genetic Algorithm"
   ]
  },
  {
   "cell_type": "code",
   "execution_count": null,
   "metadata": {
    "tags": [
     "outputPrepend"
    ]
   },
   "outputs": [],
   "source": [
    "data = InputData(\"../TestInstancesJson/Large/VFR100_20_1_SIST.json\") # TestInstances/Small/VFR40_10_3_SIST.txt \n",
    "\n",
    "taillardInsertion = IterativeImprovement(data, 'FirstImprovement', neighborhoodTypes=['TaillardInsertion'])\n",
    "iteratedGreedy = IteratedGreedy(\n",
    "    data, \n",
    "    numberJobsToRemove=2, \n",
    "    baseTemperature=1, \n",
    "    maxIterations=50, \n",
    "    localSearchAlgorithm=taillardInsertion)\n",
    "\n",
    "solver = Solver(data, 1010)\n",
    "\n",
    "solver.RunLocalSearch(\n",
    "    constructiveSolutionMethod='NEH',\n",
    "    algorithm=iteratedGreedy)\n",
    "    \n",
    "solver.RunGeneticAlgorithm(\n",
    "    populationSize=100, \n",
    "    generations=200, \n",
    "    matingProb=0.8, \n",
    "    mutationProb=0.2)\n"
   ]
  }
 ],
 "metadata": {
  "interpreter": {
   "hash": "7758e92e9a61d7a3490898707f7eeb937c85e9d1e8d4e877cc6c187218f226d5"
  },
  "kernelspec": {
   "display_name": "Python 3.9.12 ('base')",
   "language": "python",
   "name": "python3"
  },
  "language_info": {
   "codemirror_mode": {
    "name": "ipython",
    "version": 3
   },
   "file_extension": ".py",
   "mimetype": "text/x-python",
   "name": "python",
   "nbconvert_exporter": "python",
   "pygments_lexer": "ipython3",
   "version": "3.9.12"
  },
  "orig_nbformat": 2
 },
 "nbformat": 4,
 "nbformat_minor": 2
}
