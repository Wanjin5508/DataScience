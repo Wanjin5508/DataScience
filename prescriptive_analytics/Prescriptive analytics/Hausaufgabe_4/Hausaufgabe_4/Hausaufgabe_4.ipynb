{
 "cells": [
  {
   "cell_type": "markdown",
   "metadata": {},
   "source": [
    "---\n",
    "## Hausaufgabe 4 - Metaheuristiken\n",
    "---\n",
    "\n",
    "### Achtung: Bitte überprüfen Sie vor Abgabe der Hausaufgabe, ob das Notebook richtig gespeichert wurde. \n",
    "Die Speicherung von Notebooks funktioniert über das \"Disketten\"-Symbol im Notebook oder über die Shortcuts Strg + S (Win) und CMD + S (MAC)."
   ]
  },
  {
   "cell_type": "markdown",
   "metadata": {},
   "source": [
    "---\n",
    "## Bewertung\n",
    "---\n",
    "\n",
    "#### Erreichbare Punkte: 25\n",
    "---\n",
    "#### Erreichte Punkte:\n",
    "---\n",
    "---\n",
    "Aufgabe 1: <br>\n",
    "<br>\n",
    "Aufgabe 2: <br>\n",
    "<br>\n",
    "Aufgabe 3: <br>"
   ]
  },
  {
   "cell_type": "markdown",
   "metadata": {},
   "source": [
    "#### Aufgabe 1 - Zeitmessung (4 Punkte)\n",
    "\n",
    "Die Performance von Metaheuristiken wird neben der Lösungsqualität auch häufig über die benötigte Laufzeit gemessen. Implementieren Sie eine Zeitmessung für die Durchführung des Solver unter Benutzung des `default_timer` der Bibliothek `timeit`. Der Startpunkt der Messung ist direkt vor `RunLocalSearch` und der Endpunkt nach der Ausgabe der besten gefundenen Lösung. \n",
    "\n",
    "Ergänzen Sie den gegebenen Quellcode um die Zeitmessung.\n"
   ]
  },
  {
   "cell_type": "code",
   "execution_count": null,
   "metadata": {},
   "outputs": [],
   "source": [
    "from Solver import *\n",
    "\n",
    "data = InputData(\"VFR20_10_1_SIST.json\") \n",
    "solver = Solver(data, 1008)\n",
    "\n",
    "localSearch = IterativeImprovement(data, 'BestImprovement', ['Insertion'])\n",
    "iteratedGreedy = IteratedGreedy(\n",
    "    inputData = data, \n",
    "    numberJobsToRemove = 2, \n",
    "    baseTemperature = 0.8, \n",
    "    maxIterations = 10,\n",
    "    localSearchAlgorithm = localSearch)\n",
    "\n",
    "solver.RunLocalSearch(\n",
    "    constructiveSolutionMethod='NEH',\n",
    "    algorithm=iteratedGreedy)"
   ]
  },
  {
   "cell_type": "markdown",
   "metadata": {},
   "source": [
    "Mögliches erwartetes Ergebnis (Runtime kann abweichen):\n",
    "\n",
    "    Generating an initial solution according to NEH.\n",
    "    Constructive solution found.\n",
    "    The permutation [14, 5, 12, 10, 17, 8, 4, 11, 2, 15, 1, 18, 0, 16, 13, 19, 7, 3, 9, 6] results in a Makespan of 1665\n",
    "    New best solution in iteration 7: The permutation [14, 12, 8, 10, 2, 13, 18, 16, 0, 1, 11, 19, 7, 3, 6, 9, 17, 5, 15, 4] results in a Makespan of 1569\n",
    "    Best found Solution.\n",
    "    The permutation [14, 12, 8, 10, 2, 13, 18, 16, 0, 1, 11, 19, 7, 3, 6, 9, 17, 5, 15, 4] results in a Makespan of 1569\n",
    "    Runtime: 3.318953300000004 seconds"
   ]
  },
  {
   "cell_type": "markdown",
   "metadata": {},
   "source": [
    "#### Aufgabe 2: Stoppkriterium (6 Punkte)\n",
    "\n",
    "Neben der gesamten Anzahl an Iterationen wird häufig auch die Anzahl an Iterationen ohne Verbesserung der bisher besten gefunden Lösung als Stoppkriterium gewählt. Ergänzen Sie die Klasse `IteratedGreedy` in `ImprovementAlgorithm.py` so um einen Member `MaxIterationsWithoutImprovement`, dass dessen Wert analog zu `MaxIterations` im Konstruktur übergeben werden kann. \n",
    "\n",
    "Die While-Schleife in der Funktion `Run` soll abbrechen, wenn eins der beiden Stoppkriterien erreicht ist.\n",
    "\n",
    "**Tipp:**\n",
    "<details>\n",
    "\n",
    "Neben der Zählvariable `i` wird eine weitere Zählvariable benötigt. Diese wird erhöht, wenn keine beste Lösung gefunden wird und zurückgesetzt, wenn eine neue beste Lösung gefunden wird.\n",
    "</details>"
   ]
  },
  {
   "cell_type": "markdown",
   "metadata": {},
   "source": [
    "Ergänzen Sie untenstehenden Quellcode um Ihre neue Variante von Iterated Greedy. Nehmen Sie für Parameter `MaxIterationsWithoutImprovement` den Wert 2 an und für alle anderen die Werte aus Aufgabe 1. "
   ]
  },
  {
   "cell_type": "code",
   "execution_count": null,
   "metadata": {},
   "outputs": [],
   "source": [
    "from Solver import *\n",
    "\n",
    "data = InputData(\"VFR20_10_1_SIST.json\") \n",
    "solver = Solver(data, 1008)\n",
    "\n",
    "\n",
    "localSearch = IterativeImprovement(data, 'BestImprovement', ['Insertion'])\n",
    "iteratedGreedy = ...\n",
    "\n",
    "solver.RunLocalSearch(\n",
    "    constructiveSolutionMethod='NEH',\n",
    "    algorithm=iteratedGreedy)\n"
   ]
  },
  {
   "cell_type": "markdown",
   "metadata": {},
   "source": [
    "Mögliches erwartetes Ergebis:\n",
    "  \n",
    "    Generating an initial solution according to NEH.\n",
    "    Constructive solution found.\n",
    "    The permutation [14, 5, 12, 10, 17, 8, 4, 11, 2, 15, 1, 18, 0, 16, 13, 19, 7, 3, 9, 6] results in a Makespan of 1665\n",
    "    Best found Solution.\n",
    "    The permutation [14, 5, 12, 10, 17, 8, 2, 13, 1, 18, 0, 16, 11, 19, 7, 3, 9, 6, 15, 4] results in a Makespan of 1595"
   ]
  },
  {
   "cell_type": "markdown",
   "metadata": {},
   "source": [
    "#### Aufgabe 3: Rechenstudie (15 Punkte)\n",
    "\n",
    "Rechenstudien werden zur Bewertung von Algorithmen und zum Finden guter Parameterkombinationen durchgeführt. Im Folgenden sollen Sie eine kleine Rechenstudie mit der Instanz `VFR20_10_1_SIST.json` durchführen. Testen Sie __alle__ Kombinationen (vollfaktorieller Versuchsplan) der Parameter:\n",
    "\n",
    "- Lokale Suche mit `BestImprovement`: keine lokale Suche (keine Nachbarschaft), Insertion-Nachbarschaft, TaillardInsertion-Nachbarschaft \n",
    "- numberJobsToRemove: 2, 3, 4\n",
    "- baseTemperature: 0.5, 1\n",
    "- maxIterations 1, 10\n",
    "- maxIterationsWithoutImprovement soll keine Rolle spielen (bspw. einfach Wert > maxIterations).\n",
    "\n",
    "\n",
    "\n",
    "Da Iterated Greedy vom Zufall beeinflusst ist, führen Sie __jeweils__ 3 Iterationen mit unterschiedlichen Seeds für __jede__ Parameterkombinationen durch. Mit `iteration` als Laufvariable für die aktuelle Iteration, soll der Seed wie folgt berechnet werden:\n",
    "seed = `numberJobsToRemove`  x  `maxIterations`  x  `iteration`\n",
    "\n",
    "Speichern Sie für jede Iteration die folgenden Daten in einem Dictionary (https://docs.python.org/3/tutorial/datastructures.html#dictionaries):\n",
    "\n",
    "- Iteration (Key: Iteration)\n",
    "- Jeden Parameter, außer maxIterationsWithoutImprovement (siehe Aufzählung oben) als einzelner Eintrag (Keys: LocalSearch, NumberJobsToRemove, BaseTemperature, MaxIterations)\n",
    "- Seed (Key: Seed)\n",
    "- Makespan(Key: Makespan)\n",
    "- Laufzeit (Key: Runtime; vgl. Aufgabe 1)\n",
    "\n",
    "Fügen Sie dann das Dictionary einer Liste `rows` hinzu. Erzeugen Sie nach dem alle Versuche beendet sind aus `rows` einen pandas data frame `results` (https://stackoverflow.com/a/17496530). Bilden Sie mit der Funktion `groupby` den Mittelwert (https://pandas.pydata.org/docs/reference/api/pandas.core.groupby.GroupBy.mean.html) von `Makespan` und `Runtime` für die 4 Paramter `LocalSearch`, `NumberJobsToRemove`, `BaseTemperature`, `MaxIterations`.\n",
    "\n"
   ]
  },
  {
   "cell_type": "code",
   "execution_count": null,
   "metadata": {},
   "outputs": [],
   "source": []
  },
  {
   "cell_type": "markdown",
   "metadata": {},
   "source": [
    "Mögliches erwartetes Ergebnis in der Ausgabe:\n",
    "\n",
    "![Ausgabe](Ausgabe.PNG)"
   ]
  }
 ],
 "metadata": {
  "interpreter": {
   "hash": "e8dffe30f6934b3a58f5f6f8300f950cf671c3283b01a3ff726f274eccabc0a3"
  },
  "kernelspec": {
   "display_name": "Python 3.8.3 ('base')",
   "language": "python",
   "name": "python3"
  },
  "language_info": {
   "codemirror_mode": {
    "name": "ipython",
    "version": 3
   },
   "file_extension": ".py",
   "mimetype": "text/x-python",
   "name": "python",
   "nbconvert_exporter": "python",
   "pygments_lexer": "ipython3",
   "version": "3.7.8"
  },
  "orig_nbformat": 2
 },
 "nbformat": 4,
 "nbformat_minor": 2
}
