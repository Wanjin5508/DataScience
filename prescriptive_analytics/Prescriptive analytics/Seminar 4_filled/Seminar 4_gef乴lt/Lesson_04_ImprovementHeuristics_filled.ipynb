{
 "cells": [
  {
   "cell_type": "markdown",
   "metadata": {},
   "source": [
    "---\n",
    "# Praxisteil 3 - Software Architektur des Heuristischen Solvers\n",
    "---"
   ]
  },
  {
   "cell_type": "markdown",
   "metadata": {},
   "source": [
    "---\n",
    "## 1. Zusammenführen der Klassen aus vorherigen Veranstaltungen \n",
    "---"
   ]
  },
  {
   "cell_type": "markdown",
   "metadata": {},
   "source": [
    "Angestrebte Solverarchitektur:\n",
    "\n",
    "![Solverarchitektur](SolverArchitektur.PNG)"
   ]
  },
  {
   "cell_type": "markdown",
   "metadata": {},
   "source": [
    "Speichern von allen gefundenen Lösungen in der Klasse `SolutionPool`:"
   ]
  },
  {
   "cell_type": "code",
   "execution_count": null,
   "metadata": {},
   "outputs": [],
   "source": [
    "class SolutionPool:\n",
    "    def __init__(self):\n",
    "        self.Solutions = []\n",
    "\n",
    "    def AddSolution(self, newSolution):\n",
    "        self.Solutions.append(newSolution)\n",
    "\n",
    "    def GetLowestMakespanSolution(self):\n",
    "        self.Solutions.sort(key = lambda solution: solution.Makespan) # sort solutions according to makespan\n",
    "\n",
    "        return self.Solutions[0]"
   ]
  },
  {
   "cell_type": "markdown",
   "metadata": {},
   "source": [
    "Alle konstruktiven Verfahren werden in der Klasse `ConstructiveHeuristics` zusammengeführt:"
   ]
  },
  {
   "cell_type": "code",
   "execution_count": null,
   "metadata": {},
   "outputs": [],
   "source": [
    "class ConstructiveHeuristics:\n",
    "    def __init__(self, evaluationLogic, solutionPool):\n",
    "        self.RandomSeed = 2021\n",
    "        self.RandomRetries = 10\n",
    "        self.EvaluationLogic = evaluationLogic\n",
    "        self.SolutionPool = solutionPool\n",
    "\n",
    "    def FirstComeFirstServe(self, jobList):\n",
    "        tmpPermutation = [*range(len(jobList))]\n",
    "\n",
    "        tmpSolution = Solution(jobList, tmpPermutation)\n",
    "        self.EvaluationLogic.DefineStartEnd(tmpSolution)\n",
    "\n",
    "        return tmpSolution\n",
    "\n",
    "    # other constructive algorithms\n",
    "\n",
    "    def Run(self, inputData, solutionMethod):\n",
    "        print('Generating an initial solution according to ' + solutionMethod + '.')\n",
    "\n",
    "        solution = None\n",
    "\n",
    "        if solutionMethod == 'FCFS':\n",
    "            solution = self.FirstComeFirstServe(inputData.InputJobs)\n",
    "        elif solutionMethod == 'SPT':\n",
    "            solution = self.ShortestProcessingTime(inputData.InputJobs)\n",
    "        elif solutionMethod == 'LPT':\n",
    "            solution = self.LeastProcessingTime(inputData.InputJobs)\n",
    "        elif solutionMethod == 'ROS':\n",
    "            solution = self.ROS(inputData.InputJobs, self.RandomRetries, self.RandomSeed)\n",
    "        elif solutionMethod == 'NEH':\n",
    "            solution = self.NEH(inputData.InputJobs)\n",
    "        else:\n",
    "            print('Unkown constructive solution method: ' + solutionMethod + '.')\n",
    "\n",
    "        self.SolutionPool.AddSolution(solution)"
   ]
  },
  {
   "cell_type": "markdown",
   "metadata": {},
   "source": [
    "Alle bisherigen Elemente werden in einer Solver-Klasse zusammengeführt:"
   ]
  },
  {
   "cell_type": "code",
   "execution_count": null,
   "metadata": {},
   "outputs": [],
   "source": [
    "class Solver:\n",
    "    def __init__(self, inputData, seed):\n",
    "        self.InputData = inputData\n",
    "        self.Seed = seed\n",
    "        self.RNG = numpy.random.default_rng(seed)\n",
    "\n",
    "        self.EvaluationLogic = EvaluationLogic(inputData)\n",
    "        self.SolutionPool = SolutionPool()\n",
    "        \n",
    "        self.ConstructiveHeuristic = ConstructiveHeuristics(self.EvaluationLogic, self.SolutionPool)   \n",
    "\n",
    "    def ConstructionPhase(self, constructiveSolutionMethod):\n",
    "        self.ConstructiveHeuristic.Run(self.InputData, constructiveSolutionMethod)\n",
    "\n",
    "        bestInitalSolution = self.SolutionPool.GetLowestMakespanSolution()\n",
    "\n",
    "        print(\"Constructive solution found.\")\n",
    "        print(bestInitalSolution)\n",
    "\n",
    "        return bestInitalSolution"
   ]
  },
  {
   "cell_type": "markdown",
   "metadata": {},
   "source": [
    "---\n",
    "## 2. Ausführen des Solvers\n",
    "---\n",
    "\n",
    "Damit können wir die konstruktiven Lösungen ROS, FCFS, LPT, SPT Lösung wie vorher erzeugen:"
   ]
  },
  {
   "cell_type": "code",
   "execution_count": null,
   "metadata": {},
   "outputs": [],
   "source": [
    "from Solver import *\n",
    "\n",
    "data = InputData(\"InputFlowshopSIST.json\")\n",
    "\n",
    "solver = Solver(data, 2048)\n",
    "\n",
    "solver.ConstructionPhase('ROS')"
   ]
  },
  {
   "cell_type": "markdown",
   "metadata": {},
   "source": [
    "---\n",
    "## 3. Nachbarschaften und Tausche\n",
    "---\n",
    "#### Wiederholung aus der Theorie\n",
    "Nachbarschaften beinhalten eine oder mehrere Lösungen (Nachbarschaftslösungen), die von einer gegebenen Lösung aus mit einem Tausch erreichbar sind.\n",
    "\n",
    "#### Beispiel \n",
    "Gegebene FCFS-Lösung:"
   ]
  },
  {
   "cell_type": "code",
   "execution_count": null,
   "metadata": {},
   "outputs": [],
   "source": [
    "permutationFCFS = [0, 1, 2, 3, 4, 5, 6, 7, 8, 9, 10]\n",
    "solutionFCFS = Solution(data.InputJobs, permutationFCFS)\n",
    "\n",
    "solver.EvaluationLogic.DefineStartEnd(solutionFCFS)\n",
    "\n",
    "print(solutionFCFS)"
   ]
  },
  {
   "cell_type": "markdown",
   "metadata": {},
   "source": [
    "Nun führen wir einen Swap Tausch (= Move) der Elemente 0 und 1 durch. Das Ergebnis eines Tausches ist nichts anderes als ein neuer Lösungskandidat."
   ]
  },
  {
   "cell_type": "code",
   "execution_count": null,
   "metadata": {},
   "outputs": [],
   "source": [
    "swapMovePermutation = list(permutationFCFS) # create a copy of the permutation\n",
    "swapMovePermutation[0] = permutationFCFS[1]\n",
    "swapMovePermutation[1] = permutationFCFS[0]\n",
    "\n",
    "swapMoveSolution = Solution(data.InputJobs, swapMovePermutation)\n",
    "\n",
    "solver.EvaluationLogic.DefineStartEnd(swapMoveSolution)\n",
    "\n",
    "print(swapMoveSolution)"
   ]
  },
  {
   "cell_type": "markdown",
   "metadata": {},
   "source": [
    "Dieser eine Tausch in der Swap Nachbarschaft hat bereits zu einer Verbesserung geführt. Um weitere Verbesserungen zu finden ist es nötig die Nachbarschaft weitgehender zu erkunden. Es werden nun alle Tausche in der Swap-Nachbarschaft der Ausgangslösung erstellt und bewertet. Dazu wird die neue Klasse `SwapMove` angelegt.\n",
    "\n",
    "Formal: $M(\\text{swap}, s, i, j)$."
   ]
  },
  {
   "cell_type": "code",
   "execution_count": null,
   "metadata": {},
   "outputs": [],
   "source": [
    "\"\"\" Represents the swap of the element at IndexA with the element at IndexB for a given permutation (= solution). \"\"\"\n",
    "class SwapMove:\n",
    "    def __init__(self, initialPermutation, indexA, indexB):\n",
    "        self.Permutation = list(initialPermutation) # create a copy of the permutation\n",
    "        self.IndexA = indexA\n",
    "        self.IndexB = indexB\n",
    "\n",
    "        self.Permutation[indexA] = initialPermutation[indexB]\n",
    "        self.Permutation[indexB] = initialPermutation[indexA]"
   ]
  },
  {
   "cell_type": "markdown",
   "metadata": {},
   "source": [
    "Nun erstellen wir alle Tausche der Nachbarschaft zur Initiallösung.\n",
    "\n",
    "Formal: $N(\\text{swap}, s) = \\bigcup\\limits_{i, j, i < j} M(\\text{swap}, s, i, j)$"
   ]
  },
  {
   "cell_type": "code",
   "execution_count": null,
   "metadata": {},
   "outputs": [],
   "source": [
    "swapMoves = []\n",
    "for i in range(len(permutationFCFS)):\n",
    "    for j in range(len(permutationFCFS)):\n",
    "        if i < j: # neighborhood is symmetric\n",
    "            swapMove = SwapMove(permutationFCFS, i, j)\n",
    "            swapMoves.append(swapMove)"
   ]
  },
  {
   "cell_type": "markdown",
   "metadata": {},
   "source": [
    "Aus der Theorie wissen wir, dass die Swap-Nachbarschaft symmetrisch ist und eine Komplexität/Größe von $\\binom{n}{2}$ hat, wobei $n$ die Anzahl an Jobs ist. Bei 11 Jobs ist also zu erwarten, dass die Nachbarschaft $\\binom{11}{2} = 55$ Tausche enthält."
   ]
  },
  {
   "cell_type": "code",
   "execution_count": null,
   "metadata": {},
   "outputs": [],
   "source": [
    "import math\n",
    "\n",
    "expectedNumberOfMoves = math.comb(len(data.InputJobs), 2) # binomial coefficient \"n choose k\"\n",
    "actualNumberOfMoves = len(swapMoves)\n",
    "\n",
    "print(f\"There should exist {expectedNumberOfMoves} moves, and this is {actualNumberOfMoves == expectedNumberOfMoves}.\")"
   ]
  },
  {
   "cell_type": "markdown",
   "metadata": {},
   "source": [
    "Die neuen Tausche wurden erstellt und damit gibt es 55 neue potenzielle Lösungskandidaten (= Permutationen). Die neuen Lösungskandidaten müssen nun bewertet werden um festzustellen, ob mindestens einer davon zu einer Verbesserung geführt hat. Die Lösungen speichern wir in einer Liste ab, um später darauf zugreifen zu können und den besten gefundenen Lösungskandidaten zu ermitteln."
   ]
  },
  {
   "cell_type": "code",
   "execution_count": null,
   "metadata": {},
   "outputs": [],
   "source": [
    "swapMoveSolutions = []\n",
    "for move in swapMoves:\n",
    "    swapMoveSolution = Solution(data.InputJobs, move.Permutation)\n",
    "\n",
    "    solver.EvaluationLogic.DefineStartEnd(swapMoveSolution)\n",
    "\n",
    "    swapMoveSolutions.append(swapMoveSolution)\n",
    "\n",
    "print(\"Initial Solution:\" + str(permutationFCFS))\n",
    "for solution in swapMoveSolutions:\n",
    "    print(solution)"
   ]
  },
  {
   "cell_type": "markdown",
   "metadata": {},
   "source": [
    "Wir bestimmen die beste gefundene Lösung und überprüfen, ob diese besser ist als die FCFS-Lösung."
   ]
  },
  {
   "cell_type": "code",
   "execution_count": null,
   "metadata": {},
   "outputs": [],
   "source": [
    "swapMoveSolutions.sort(key = lambda solution: solution.Makespan) # sort candidate solutions according to makespan\n",
    "\n",
    "bestCurrentSolution = swapMoveSolutions[0]\n",
    "\n",
    "print(f\"New solution: {bestCurrentSolution}\")\n",
    "print(f\"FCFS solution: {solutionFCFS}\\n\")\n",
    "\n",
    "print(f\"The new solution has a makespan that is lower than that of the FCFS solution: {bestCurrentSolution.Makespan < solutionFCFS.Makespan}\")"
   ]
  },
  {
   "cell_type": "markdown",
   "metadata": {},
   "source": [
    "#### Kurze Programmieraufgabe\n",
    "\n",
    "Es wurde eine bessere Lösung gefunden als die bisherige! Welcher Tausch wurde ausgeführt? Schreiben Sie eine Funktion die das $i$ und $j$ des ausgeführten Tausches $M(\\text{swap}, s, i, j)$ ermittelt."
   ]
  },
  {
   "cell_type": "code",
   "execution_count": null,
   "metadata": {},
   "outputs": [],
   "source": [
    "for index in range(len(permutationFCFS)):\n",
    "    if permutationFCFS[index] != bestCurrentSolution.Permutation[index]:\n",
    "        print(index)"
   ]
  },
  {
   "cell_type": "markdown",
   "metadata": {},
   "source": [
    "Diese Logik gießen wir nun in eine übergeordnete `SwapNeighborhood` Klasse, welche eine Nachbarschaft $N(\\text{swap}, s)$ repräsentiert. Wie würden Sie vorgehen? Was sind die einzelnen Bestandteile der Klasse `SwapNeighborhood`? Welche logischen Schritte müssen ausgeführt werden?"
   ]
  },
  {
   "cell_type": "code",
   "execution_count": null,
   "metadata": {},
   "outputs": [],
   "source": [
    "\"\"\" Contains all $n choose 2$ swap moves for a given permutation (= solution). \"\"\"\n",
    "class SwapNeighborhood:\n",
    "    def __init__(self, inputData, initialPermutation, evaluationLogic, solutionPool):\n",
    "        self.InputData = inputData\n",
    "        self.Permutation = initialPermutation\n",
    "        self.EvaluationLogic = evaluationLogic\n",
    "        self.SolutionPool = solutionPool\n",
    "\n",
    "        self.Moves = []\n",
    "        self.SwapMoveSolutions = []\n",
    "\n",
    "    \"\"\" Generate all $n choose 2$ moves. \"\"\"\n",
    "    def DiscoverMoves(self):\n",
    "        for i in range(len(self.Permutation)):\n",
    "            for j in range(len(self.Permutation)):\n",
    "                if i < j:\n",
    "                    swapMove = SwapMove(self.Permutation, i, j)\n",
    "                    self.Moves.append(swapMove)\n",
    "\n",
    "    \"\"\" Evaluate all moves. \"\"\"\n",
    "    def EvaluateMovesBestImprovement(self):\n",
    "        for move in self.Moves:\n",
    "            swapMoveSolution = Solution(self.InputData.InputJobs, move.Permutation)\n",
    "\n",
    "            self.EvaluationLogic.DefineStartEnd(swapMoveSolution)\n",
    "\n",
    "            self.SwapMoveSolutions.append(swapMoveSolution)\n",
    "\n",
    "    \"\"\" Evaluate all moves until the first one is found that improves the best solution found so far. \"\"\"\n",
    "    def EvaluateMovesFirstImprovement(self):\n",
    "        bestObjective = self.SolutionPool.GetLowestMakespanSolution().Makespan\n",
    "\n",
    "        for move in self.Moves:\n",
    "            swapMoveSolution = Solution(self.InputData.InputJobs, move.Permutation)\n",
    "\n",
    "            self.EvaluationLogic.DefineStartEnd(swapMoveSolution)\n",
    "            self.SwapMoveSolutions.append(swapMoveSolution)\n",
    "\n",
    "            if swapMoveSolution.Makespan < bestObjective:\n",
    "                # abort neighborhood evaluation because an improvement has been found\n",
    "                return\n",
    "\n",
    "    def EvaluateMoves(self, evaluationStrategy):\n",
    "        if evaluationStrategy == 'BestImprovement':\n",
    "            self.EvaluateMovesBestImprovement()\n",
    "        elif evaluationStrategy == 'FirstImprovement':\n",
    "            self.EvaluateMovesFirstImprovement()\n",
    "        else:\n",
    "            print(f'Evaluation strategy {evaluationStrategy} not implemented.')\n",
    "\n",
    "    def MakeBestMove(self):\n",
    "        self.SwapMoveSolutions.sort(key = lambda solution: solution.Makespan) # sort solutions according to makespan\n",
    "\n",
    "        bestNeighborhoodSolution = self.SwapMoveSolutions[0]\n",
    "\n",
    "        return bestNeighborhoodSolution\n",
    "\n",
    "    def Update(self, permutation):\n",
    "        self.Permutation = permutation\n",
    "\n",
    "        self.Moves.clear()\n",
    "        self.SwapMoveSolutions.clear()\n",
    "\n",
    "    def LocalSearch(self, neighborhoodEvaluationStrategy, solution):\n",
    "        hasSolutionImproved = True\n",
    "\n",
    "        while hasSolutionImproved:\n",
    "            self.Update(solution.Permutation)\n",
    "            self.DiscoverMoves()\n",
    "            self.EvaluateMoves(neighborhoodEvaluationStrategy)\n",
    "\n",
    "            bestNeighborhoodSolution = self.MakeBestMove()\n",
    "\n",
    "            if bestNeighborhoodSolution.Makespan < solution.Makespan:\n",
    "                print(\"New best solution has been found!\")\n",
    "                print(bestNeighborhoodSolution)\n",
    "\n",
    "                self.SolutionPool.AddSolution(bestNeighborhoodSolution)\n",
    "\n",
    "                solution.Permutation = bestNeighborhoodSolution.Permutation\n",
    "                solution.Makespan = bestNeighborhoodSolution.Makespan\n",
    "            else:\n",
    "                print(f\"Reached local optimum of {self.Type} neighborhood. Stop local search.\")\n",
    "                hasSolutionImproved = False       \n"
   ]
  },
  {
   "cell_type": "markdown",
   "metadata": {},
   "source": [
    "---\n",
    "## 4. Ablauflogik der Verbesserungsverfahren\n",
    "---\n",
    "\n",
    "Wir lagern die Logik in das Modul `Neighborhood.py` aus und betten die Nachbarschaften in eine Klasse `ImprovementAlgorithm` ein, welche die Logik des Verbesserungsverfahren steuert."
   ]
  },
  {
   "cell_type": "code",
   "execution_count": null,
   "metadata": {},
   "outputs": [],
   "source": [
    "\"\"\" Base class for several types of improvement algorithms. \"\"\" \n",
    "class ImprovementAlgorithm:\n",
    "    def __init__(self, inputData, neighborhoodEvaluationStrategy = 'BestImprovement', neighborhoodTypes = ['Swap']):\n",
    "        self.InputData = inputData\n",
    "\n",
    "        self.EvaluationLogic = None\n",
    "        self.SolutionPool = None\n",
    "        self.RNG = None\n",
    "\n",
    "        self.NeighborhoodEvaluationStrategy = neighborhoodEvaluationStrategy\n",
    "        self.NeighborhoodTypes = neighborhoodTypes\n",
    "        self.Neighborhoods = {}\n",
    "\n",
    "    def Initialize(self, evaluationLogic, solutionPool, rng = None):\n",
    "        self.EvaluationLogic = evaluationLogic\n",
    "        self.SolutionPool = solutionPool\n",
    "        self.RNG = rng\n",
    "\n",
    "    def InitializeNeighborhoods(self, solution):\n",
    "        self.Neighborhoods['Swap'] = SwapNeighborhood(self.InputData, solution.Permutation, self.EvaluationLogic, self.SolutionPool)\n",
    "        # add further neighborhoods"
   ]
  },
  {
   "cell_type": "markdown",
   "metadata": {},
   "source": [
    "Die Klasse `ImprovementAlgorithm` enthält nun alle grundlegenden Komponenten für nachbarschaftsbasierte Verbesserungsverfahren. Diese können in verschiedenen Algorithmen verwendet werden. Hier erstellen wir eine Klasse `IterativeImprovement`, bei der die Lösung iterativ durch eine (sequentielle) lokale Suche verbessert wird."
   ]
  },
  {
   "cell_type": "code",
   "execution_count": null,
   "metadata": {},
   "outputs": [],
   "source": [
    "\"\"\" Iterative improvement algorithm through sequential variable neighborhood descent. \"\"\"\n",
    "class IterativeImprovement(ImprovementAlgorithm):\n",
    "    def __init__(self, inputData, neighborhoodEvaluationStrategy = 'BestImprovement', neighborhoodTypes = ['Swap']):\n",
    "        super().__init__(inputData, neighborhoodEvaluationStrategy, neighborhoodTypes)\n",
    "\n",
    "    def Run(self, startSolution):\n",
    "        self.InitializeNeighborhoods(solution)    \n",
    "\n",
    "        # According to \"Hansen et al. (2017): Variable neighorhood search\", this is equivalent to the \n",
    "        # sequential variable neighborhood descent with a pipe neighborhood change step.\n",
    "        for neighborhoodType in self.NeighborhoodTypes:\n",
    "            neighborhood = self.Neighborhoods[neighborhoodType]\n",
    "\n",
    "            neighborhood.LocalSearch(self.NeighborhoodEvaluationStrategy, solution)\n",
    "        \n",
    "        return solution"
   ]
  },
  {
   "cell_type": "markdown",
   "metadata": {},
   "source": [
    "Die Klasse `Solver` wird um die Methoden `ImprovementPhase()` und `RunLocalSearch()` erweitert."
   ]
  },
  {
   "cell_type": "code",
   "execution_count": null,
   "metadata": {},
   "outputs": [],
   "source": [
    "class Solver:\n",
    "    def __init__(self, inputData, seed):\n",
    "        # same as before\n",
    "        pass\n",
    "\n",
    "    def ConstructionPhase(self, constructiveSolutionMethod):\n",
    "        # same as before\n",
    "        pass\n",
    "\n",
    "\n",
    "    def ImprovementPhase(self, startSolution, algorithm):\n",
    "        algorithm.Initialize(self.EvaluationLogic, self.SolutionPool, self.RNG)\n",
    "        bestSolution = algorithm.Run(startSolution)\n",
    "\n",
    "        print(\"Best found Solution.\")\n",
    "        print(bestSolution)\n",
    "\n",
    "    def RunLocalSearch(self, constructiveSolutionMethod, algorithm):\n",
    "        startSolution = self.ConstructionPhase(constructiveSolutionMethod)\n",
    "\n",
    "        self.ImprovementPhase(startSolution, algorithm)"
   ]
  },
  {
   "cell_type": "code",
   "execution_count": null,
   "metadata": {},
   "outputs": [],
   "source": [
    "from Solver import *\n",
    "from ImprovementAlgorithm import *\n",
    "\n",
    "data = InputData(\"InputFlowshopSIST.JSON\")\n",
    "\n",
    "solver = Solver(data, 2048)\n",
    "\n",
    "improvementAlgorithm = IterativeImprovement(data)\n",
    "\n",
    "solver.RunLocalSearch('FCFS', improvementAlgorithm)"
   ]
  },
  {
   "cell_type": "markdown",
   "metadata": {},
   "source": [
    "#### Frage\n",
    "Bisher haben wir zwei Nachbarschaftbewertungsstrategien kennengelernt:\n",
    "- Best Improvement (extensive Suche): alle Tausche einer Nachbarschaft werden ausgewertet. Der Tausch mit der größten Verbesserung wird ausgeführt.\n",
    "- First Improvement (selektive Suche): die Tausche einer Nachbarschaft werden solange ausgewertet, bis eine Verbesserung gefunden wird. Sobald eine Verbesserung gefunden wurde, wird die Auswertung abgebrochen und der gefundene Tausch sofort durchgeführt. Bessere Tausche können somit \"übersehen\" werden.\n",
    "\n",
    "Was denken Sie, mit welcher Bewertungsstrategie werden bessere Ergebnisse erzielt? Was sind Vor- und Nachteile der ein oder anderen Bewertungsstrategie? Begründen Sie ihre Antwort."
   ]
  },
  {
   "cell_type": "code",
   "execution_count": null,
   "metadata": {},
   "outputs": [],
   "source": [
    "from Solver import *\n",
    "\n",
    "data = InputData(\"InputFlowshopSIST.json\")\n",
    "\n",
    "constructiveSolutionMethod = 'FCFS'\n",
    "\n",
    "solverBestImprovement = Solver(data, 2048)\n",
    "bestImprovementAlgorithm = IterativeImprovement(data, 'BestImprovement')\n",
    "solverBestImprovement.RunLocalSearch(constructiveSolutionMethod, bestImprovementAlgorithm)\n",
    "\n",
    "solverFirstImprovement = Solver(data, 2048)\n",
    "bestImprovementAlgorithm = IterativeImprovement(data, 'FirstImprovement')\n",
    "solverFirstImprovement.RunLocalSearch(constructiveSolutionMethod, bestImprovementAlgorithm)\n",
    "\n",
    "localOptimumBestImprovement = solverBestImprovement.SolutionPool.GetLowestMakespanSolution()\n",
    "localOptimumFirstImprovement = solverFirstImprovement.SolutionPool.GetLowestMakespanSolution()\n",
    "\n",
    "print(f\"Best improvement makespan: {localOptimumBestImprovement.Makespan}\")\n",
    "print(f\"First improvement makespan: {localOptimumFirstImprovement.Makespan}\")\n",
    "\n",
    "isBestImprovementMakespanLower = localOptimumBestImprovement.Makespan < localOptimumFirstImprovement.Makespan\n",
    "\n",
    "print(f\"The best improvement strategy achieves a lower makespan: {isBestImprovementMakespanLower}\")"
   ]
  },
  {
   "cell_type": "markdown",
   "metadata": {},
   "source": [
    "---\n",
    "## 5. Wiederholung: gemeinsames Debuggen des Solvers\n",
    "---"
   ]
  },
  {
   "cell_type": "markdown",
   "metadata": {},
   "source": [
    "---\n",
    "## 6. Anwendung: selbständiges Programmieren\n",
    "---\n",
    "\n",
    "### Eine neue Nachbarschaft\n",
    "- Überlegen Sie vorab welche Größe die Insertion Nachbarschaft hat\n",
    "- Erweitern Sie den Solver um eine Insertion-Nachbarschaft\n",
    "- Überprüfen Sie, ob Ihre implemtierte Nachbarschaft auch die erwartete Größe aufweist"
   ]
  },
  {
   "cell_type": "code",
   "execution_count": null,
   "metadata": {},
   "outputs": [],
   "source": [
    "from Solver import *\n",
    "\n",
    "data = InputData(\"InputFlowshopSIST.json\")\n",
    "\n",
    "improvementAlgorithm = IterativeImprovement(data, 'BestImprovement', ['Swap', 'Insertion'])\n",
    "\n",
    "solver = Solver(data, 1024)\n",
    "\n",
    "solver.RunLocalSearch('LPT', improvementAlgorithm)"
   ]
  },
  {
   "cell_type": "markdown",
   "metadata": {},
   "source": [
    "### Zusatz \n",
    "Nun existieren mehrere Nachbarschaften. Überlegen Sie wie man einen sinnvollen Wechsel zwischen den Nachbarschaften steuern kann. Momentan ist in der Intesivierungsphase ein Sequential Variable Neighborhood Descent mit einem Pipe Neighborhood Change Step implementiert. Vollziehen Sie die Richtigkeit dieser Aussage nach.\n",
    "\n",
    "- Implementieren Sie einen der anderen vorgestellten Neighborhood Change Steps: \"Basic\"\n",
    "- Welche Vor- und Nachteile erwarten Sie dadurch?\n",
    "- Welche Schwierigkeit erwarten Sie bei der Umsetzung eines \"Cyclic\" Neighborhood Change Steps?"
   ]
  }
 ],
 "metadata": {
  "interpreter": {
   "hash": "57baa5815c940fdaff4d14510622de9616cae602444507ba5d0b6727c008cbd6"
  },
  "kernelspec": {
   "display_name": "Python 3.8.5 64-bit ('dev': conda)",
   "language": "python",
   "name": "python3"
  },
  "language_info": {
   "codemirror_mode": {
    "name": "ipython",
    "version": 3
   },
   "file_extension": ".py",
   "mimetype": "text/x-python",
   "name": "python",
   "nbconvert_exporter": "python",
   "pygments_lexer": "ipython3",
   "version": "3.8.8"
  },
  "orig_nbformat": 2
 },
 "nbformat": 4,
 "nbformat_minor": 2
}
